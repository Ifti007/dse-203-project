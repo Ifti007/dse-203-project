{
 "cells": [
  {
   "cell_type": "markdown",
   "id": "02ef4b0a-b93b-46c8-a78a-5a668da64f87",
   "metadata": {},
   "source": [
    "# Neo4j Notes \n",
    "## Shell\n",
    "bin/cypher-shell -u neo4j -p password\n",
<<<<<<< HEAD
<<<<<<< HEAD
    "\n",
    "MATCH (t:Topic) <-[r:HAS_TOPIC]-(p:patent) <-[s:HAS_PATENT]-(o:Org) RETURN *;\n"
   ]
  },
  {
   "cell_type": "raw",
   "id": "8dc23cc8-f960-4dc0-9394-26a26edae925",
   "metadata": {},
   "source": [
    "MATCH (n)\n",
    "DETACH DELETE n;"
=======
=======
>>>>>>> 8d9a2fefe35a96e92835944419b6444fd771f4f3
    "### Import\n",
    "LOAD CSV WITH HEADERS FROM 'file:///employees.csv' AS row\n",
    "MERGE (e:Employee {employeeId: row.Id, email: row.Email})\n",
    "WITH e, row\n",
    "UNWIND split(row.Skills, ':') AS skill\n",
    "MERGE (s:Skill {name: skill})\n",
    "MERGE (e)-[r:HAS_EXPERIENCE]-&gt;(s)"
<<<<<<< HEAD
>>>>>>> 8d9a2fefe35a96e92835944419b6444fd771f4f3
=======
>>>>>>> 8d9a2fefe35a96e92835944419b6444fd771f4f3
   ]
  },
  {
   "cell_type": "raw",
   "id": "5536b056-9247-44de-8bea-287ab180515c",
   "metadata": {},
   "source": [
<<<<<<< HEAD
<<<<<<< HEAD
    ":auto USING PERIODIC COMMIT 500\n",
    "LOAD CSV WITH HEADERS FROM 'file:///df_gt_2017_patent_vb_sb_funded.csv' AS row\n",
=======
    ":auto USING PERIODIC COMMIT 500;\n",
    "LOAD CSV WITH HEADERS FROM 'file:///patents_topics_gt_2021.csv' AS row\n",
>>>>>>> 8d9a2fefe35a96e92835944419b6444fd771f4f3
=======
    ":auto USING PERIODIC COMMIT 500;\n",
    "LOAD CSV WITH HEADERS FROM 'file:///patents_topics_gt_2021.csv' AS row\n",
>>>>>>> 8d9a2fefe35a96e92835944419b6444fd771f4f3
    "MERGE (p:patent {patentId: row.id,  patentCountry: row.country, patentTitle:row.title})\n",
    "WITH p, row\n",
    "UNWIND row.organization AS org\n",
    "MERGE (o:Org {name:org, orgId:row.assignee_id})\n",
    "MERGE (o)-[s:HAS_PATENT]->(p);\n",
    "\n",
<<<<<<< HEAD
<<<<<<< HEAD
    "LOAD CSV WITH HEADERS FROM 'file:///df_gt_2017_patent_vb_sb_funded.csv' AS row\n",
=======
    "LOAD CSV WITH HEADERS FROM 'file:///patents_topics_gt_2021_100.csv' AS row\n",
>>>>>>> 8d9a2fefe35a96e92835944419b6444fd771f4f3
=======
    "LOAD CSV WITH HEADERS FROM 'file:///patents_topics_gt_2021_100.csv' AS row\n",
>>>>>>> 8d9a2fefe35a96e92835944419b6444fd771f4f3
    "MERGE (p:patent {patentId: row.id})\n",
    "WITH p, row\n",
    "UNWIND split(replace(replace(replace(row.top_topics,\"'\",\"\"), \"[\",\"\"), \"]\", \"\") ,',') AS topic\n",
    "// UNWIND split(row.top_topics,\",\") AS topic\n",
    "MERGE (t:Topic {name: topic})\n",
    "MERGE (p)-[r:HAS_TOPIC]->(t);\n"
   ]
  },
  {
   "cell_type": "code",
   "execution_count": null,
   "id": "aa320e44-fa92-45ed-a772-7e6893e90063",
   "metadata": {},
   "outputs": [],
   "source": [
    "LOAD CSV WITH HEADERS FROM 'file:///top_topics_gt_2021.csv' AS row\n",
    "MERGE (e:Employee {name:row.Name, employeeId: row.Id,  email: row.Email})\n",
    "WITH e, row\n",
    "UNWIND split(row.Skills, ':') AS skill\n",
    "MERGE (s:Skill {name: skill})\n",
    "MERGE (e)-[r:HAS_EXPERIENCE]->(s)"
   ]
  },
  {
   "cell_type": "raw",
   "id": "282b9020-9159-46d1-b597-1f659f2bac4c",
   "metadata": {},
   "source": [
    "companies.csv:\n",
    "Id,Name,Location,Email,BusinessType\n",
    "1,Neo4j,San Mateo,contact@neo4j.com,P\n",
    "2,AAA,,info@aaa.com,\n",
    "3,BBB,Chicago,,G"
   ]
  },
  {
   "cell_type": "raw",
   "id": "9dfd6f7e-3b88-497f-805e-c9e36221c19a",
   "metadata": {},
   "source": [
    "employees.csv:\n",
    "Id,Name,Skills,Email\n",
    "1,Joe Smith,Cypher:Java:JavaScript,joe@neo4j.com\n",
    "2,Mary Jones,Java,mary@neo4j.com\n",
    "3,Trevor Scott,Java:JavaScript,trevor@neo4j.com"
   ]
  }
 ],
 "metadata": {
  "kernelspec": {
   "display_name": "pytextrank",
   "language": "python",
   "name": "pytextrank"
  },
  "language_info": {
   "codemirror_mode": {
    "name": "ipython",
    "version": 3
   },
   "file_extension": ".py",
   "mimetype": "text/x-python",
   "name": "python",
   "nbconvert_exporter": "python",
   "pygments_lexer": "ipython3",
   "version": "3.9.7"
  }
 },
 "nbformat": 4,
 "nbformat_minor": 5
}
