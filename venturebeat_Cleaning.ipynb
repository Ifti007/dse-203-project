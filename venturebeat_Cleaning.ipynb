{
 "cells": [
  {
   "cell_type": "markdown",
   "id": "e5eb1531-cd31-419d-b93e-bfa7fbd2ad3e",
   "metadata": {},
   "source": [
    "# Jupyter Notebook: Patent Trends"
   ]
  },
  {
   "cell_type": "markdown",
   "id": "95392143-05f2-4a6d-99d6-64b4092e10d9",
   "metadata": {
    "tags": []
   },
   "source": [
    "## Cleaning Webscraped data from Venture Beat (https://venturebeat.com/)\n",
    "**This notebook imports the csv file produced by the Selenium webscraping script (venturebeat_script.py) for preprocessing** <br>\n",
    "Datasets Needed: venturebeat_results2.csv <br>\n",
    "Methods: <br>\n",
    "1.  Filter out illogical data <br>\n",
    "    * User defined function to ID foul observations, validate proper observations  <br>\n",
    "    * Regex functions to extract and keep only proper observations   <br>\n",
    "2.  Extract and transform funding found from website Headers;  <br>\n",
    "    * Regex functions to extract money: characters, abbreveations, and numbers  <br>\n",
    "    * Drop observations with no funding  <br>\n",
    "    * User defined functions to transform funding into numeric values  <br>\n",
    "3.  Leverage NLP to extract main topics from website abstracts <br>\n",
    "    * Spacy PyTextRank used to find top 3 topics <br>\n"
   ]
  },
  {
   "cell_type": "code",
   "execution_count": 1,
   "id": "0d740597-6960-4cf4-93d5-e0a40de32c6c",
   "metadata": {},
   "outputs": [],
   "source": [
    "import pandas as pd\n",
    "import numpy as np \n",
    "import pytextrank\n",
    "import spacy\n",
    "import re\n",
    "from datetime import datetime\n",
    "import locale \n",
    "from decimal import Decimal\n",
    "import warnings\n",
    "\n",
    "warnings.filterwarnings('ignore')\n",
    "# locale.setlocale(locale.LC_ALL, '')"
   ]
  },
  {
   "cell_type": "code",
   "execution_count": 2,
   "id": "7eff4fed-2742-4d0d-a8b1-16646c180d11",
   "metadata": {},
   "outputs": [],
   "source": [
    "df = pd.read_csv('venturebeat_results2.csv')\n",
    "df = df.astype(str)"
   ]
  },
  {
   "cell_type": "code",
   "execution_count": 3,
   "id": "f1fc5c38-7a07-4803-9af9-559b031a4940",
   "metadata": {},
   "outputs": [
    {
     "name": "stdout",
     "output_type": "stream",
     "text": [
      "Shape of the VentureBeat dataframe is: (2676, 4)\n"
     ]
    }
   ],
   "source": [
    "print('Shape of the VentureBeat dataframe is: {}'.format(df.shape))"
   ]
  },
  {
   "cell_type": "code",
   "execution_count": 4,
   "id": "f6fc60cb-c3e9-4572-8921-dd75939ea95a",
   "metadata": {},
   "outputs": [
    {
     "data": {
      "text/html": [
       "<div>\n",
       "<style scoped>\n",
       "    .dataframe tbody tr th:only-of-type {\n",
       "        vertical-align: middle;\n",
       "    }\n",
       "\n",
       "    .dataframe tbody tr th {\n",
       "        vertical-align: top;\n",
       "    }\n",
       "\n",
       "    .dataframe thead th {\n",
       "        text-align: right;\n",
       "    }\n",
       "</style>\n",
       "<table border=\"1\" class=\"dataframe\">\n",
       "  <thead>\n",
       "    <tr style=\"text-align: right;\">\n",
       "      <th></th>\n",
       "      <th>Date</th>\n",
       "      <th>Header</th>\n",
       "      <th>SubHeader</th>\n",
       "      <th>Abstract</th>\n",
       "    </tr>\n",
       "  </thead>\n",
       "  <tbody>\n",
       "    <tr>\n",
       "      <th>0</th>\n",
       "      <td>12/5/2021</td>\n",
       "      <td>Sense raises $50M to bolster recruitment effor...</td>\n",
       "      <td>Hear from CIOs, CTOs, and other C-level and se...</td>\n",
       "      <td>Recruiting is a top concern for enterprises in...</td>\n",
       "    </tr>\n",
       "    <tr>\n",
       "      <th>1</th>\n",
       "      <td>12/2/2021</td>\n",
       "      <td>AI-powered ecommerce platform Convious raises ...</td>\n",
       "      <td>Hear from CIOs, CTOs, and other C-level and se...</td>\n",
       "      <td>Convious , the Amsterdam-based company that of...</td>\n",
       "    </tr>\n",
       "    <tr>\n",
       "      <th>2</th>\n",
       "      <td>12/2/2021</td>\n",
       "      <td>Replai uses computer vision and data analysis ...</td>\n",
       "      <td>Hear from CIOs, CTOs, and other C-level and se...</td>\n",
       "      <td>Replai  automates analysis of  video ad  effec...</td>\n",
       "    </tr>\n",
       "    <tr>\n",
       "      <th>3</th>\n",
       "      <td>12/2/2021</td>\n",
       "      <td>Smartling lands $160M to help companies transl...</td>\n",
       "      <td>Hear from CIOs, CTOs, and other C-level and se...</td>\n",
       "      <td>As the pandemic drives businesses online, tran...</td>\n",
       "    </tr>\n",
       "    <tr>\n",
       "      <th>4</th>\n",
       "      <td>12/2/2021</td>\n",
       "      <td>Digital Insulin Management Company Hygieia Clo...</td>\n",
       "      <td>nan</td>\n",
       "      <td>LIVONIA, Mich.–(BUSINESS WIRE)–December 2, 202...</td>\n",
       "    </tr>\n",
       "  </tbody>\n",
       "</table>\n",
       "</div>"
      ],
      "text/plain": [
       "        Date                                             Header  \\\n",
       "0  12/5/2021  Sense raises $50M to bolster recruitment effor...   \n",
       "1  12/2/2021  AI-powered ecommerce platform Convious raises ...   \n",
       "2  12/2/2021  Replai uses computer vision and data analysis ...   \n",
       "3  12/2/2021  Smartling lands $160M to help companies transl...   \n",
       "4  12/2/2021  Digital Insulin Management Company Hygieia Clo...   \n",
       "\n",
       "                                           SubHeader  \\\n",
       "0  Hear from CIOs, CTOs, and other C-level and se...   \n",
       "1  Hear from CIOs, CTOs, and other C-level and se...   \n",
       "2  Hear from CIOs, CTOs, and other C-level and se...   \n",
       "3  Hear from CIOs, CTOs, and other C-level and se...   \n",
       "4                                                nan   \n",
       "\n",
       "                                            Abstract  \n",
       "0  Recruiting is a top concern for enterprises in...  \n",
       "1  Convious , the Amsterdam-based company that of...  \n",
       "2  Replai  automates analysis of  video ad  effec...  \n",
       "3  As the pandemic drives businesses online, tran...  \n",
       "4  LIVONIA, Mich.–(BUSINESS WIRE)–December 2, 202...  "
      ]
     },
     "execution_count": 4,
     "metadata": {},
     "output_type": "execute_result"
    }
   ],
   "source": [
    "df.head(5)"
   ]
  },
  {
   "cell_type": "code",
   "execution_count": 5,
   "id": "cbc9a4ad-4f0e-41c5-9a77-4ab4ad0bd270",
   "metadata": {},
   "outputs": [
    {
     "data": {
      "text/plain": [
       "Date         object\n",
       "Header       object\n",
       "SubHeader    object\n",
       "Abstract     object\n",
       "dtype: object"
      ]
     },
     "execution_count": 5,
     "metadata": {},
     "output_type": "execute_result"
    }
   ],
   "source": [
    "df.dtypes"
   ]
  },
  {
   "cell_type": "markdown",
   "id": "afe9c6b5-15c6-470d-8448-07848058c8ab",
   "metadata": {},
   "source": [
    "##### Some scraped data was formatted different, had text strings come in as Date variables\n",
    "* Function is_date will take in a df and ID what rows are dates and return the index of those that aren't\n",
    "* Function also returns the number of rows that are not dates - those to be dropped\n",
    "* *Criteria: the date column must be the first one in the df* "
   ]
  },
  {
   "cell_type": "code",
   "execution_count": 6,
   "id": "892bb047-f8cd-4d34-a7be-abac8fb91a15",
   "metadata": {},
   "outputs": [],
   "source": [
    "def is_date(data):\n",
    "    data = data.astype(str)\n",
    "    target = data.iloc[:,0].tolist()\n",
    "    to_drop = []\n",
    "    to_keep = []\n",
    "    # i = 0\n",
    "    for i in range(len(target)):\n",
    "        match = re.match(r'.*([2][0-9]{3})', target[i])\n",
    "        if match is None:\n",
    "            to_drop.append(i)\n",
    "            # i += 1\n",
    "        else:\n",
    "            to_keep.append(i)\n",
    "            # i += 1\n",
    "    print('{} items were not dates'.format(len(to_drop)))\n",
    "    print('{} items were dates'.format(len(to_keep)))\n",
    "    return to_drop\n"
   ]
  },
  {
   "cell_type": "code",
   "execution_count": 7,
   "id": "f3711851-1489-4752-b913-83bc51d666ac",
   "metadata": {},
   "outputs": [
    {
     "name": "stdout",
     "output_type": "stream",
     "text": [
      "4 items were not dates\n",
      "2672 items were dates\n"
     ]
    },
    {
     "data": {
      "text/plain": [
       "[110, 262, 356, 2603]"
      ]
     },
     "execution_count": 7,
     "metadata": {},
     "output_type": "execute_result"
    }
   ],
   "source": [
    "is_date(df)"
   ]
  },
  {
   "cell_type": "markdown",
   "id": "0abddaba-b764-48cd-91c8-c4c9032ef889",
   "metadata": {},
   "source": [
    "##### Filtering out instances where data was pulled incorrect\n",
    "##### df2 = df with invalid dates dropped"
   ]
  },
  {
   "cell_type": "code",
   "execution_count": 8,
   "id": "95474cea-bee6-4e4a-b6f6-0933088be726",
   "metadata": {},
   "outputs": [],
   "source": [
    "df2 = df[df['Date'].str.contains(r'.*([2][0-9]{3})')]\n",
    "df2.reset_index(drop=True, inplace=True)"
   ]
  },
  {
   "cell_type": "markdown",
   "id": "12d2dd71-d0b2-4cc9-abf4-9134c859e9d4",
   "metadata": {},
   "source": [
    "##### Confirm all invalid 'Dates' have been dropped"
   ]
  },
  {
   "cell_type": "code",
   "execution_count": 9,
   "id": "ffa1ecc8-2e66-43a3-841e-2066779f5f3d",
   "metadata": {},
   "outputs": [
    {
     "name": "stdout",
     "output_type": "stream",
     "text": [
      "0 items were not dates\n",
      "2672 items were dates\n"
     ]
    },
    {
     "data": {
      "text/plain": [
       "[]"
      ]
     },
     "execution_count": 9,
     "metadata": {},
     "output_type": "execute_result"
    }
   ],
   "source": [
    "is_date(df2)"
   ]
  },
  {
   "cell_type": "markdown",
   "id": "de6e7ebb-0494-4f66-ba9e-e2a98e4b2284",
   "metadata": {},
   "source": [
    "##### Filter through data column 'Header'; extract monetary values \n",
    "##### df2 now has additional column, Amount_Funded, which was extracted from header"
   ]
  },
  {
   "cell_type": "code",
   "execution_count": 10,
   "id": "c30f0067-411d-4f2d-a809-eeb38ddf64ed",
   "metadata": {},
   "outputs": [],
   "source": [
    "df2['Amount_Funded'] = df2.apply(lambda row: re.findall(r\"[$]\\d+\\s*\\.*\\-*\\d*\\s*\\w*\", row['Header']), axis=1)"
   ]
  },
  {
   "cell_type": "markdown",
   "id": "1e9d8919-179f-42f7-afe2-a4cc89913bf1",
   "metadata": {},
   "source": [
    "##### Drop instances where there is no funding extracted from header"
   ]
  },
  {
   "cell_type": "code",
   "execution_count": 11,
   "id": "d1db16e3-b067-47e5-ae76-90794382490c",
   "metadata": {},
   "outputs": [
    {
     "name": "stdout",
     "output_type": "stream",
     "text": [
      "1021 rows do not have funding info in the header. These will be dropped\n",
      "1651 rows remaining with funding info\n"
     ]
    }
   ],
   "source": [
    "empty_funding = []\n",
    "valid_funding = []\n",
    "for i in range(len(df2)):\n",
    "    if len(df2.Amount_Funded[i]) == 1:\n",
    "        valid_funding.append(i)\n",
    "    else:\n",
    "        empty_funding.append(i)\n",
    "print('{} rows do not have funding info in the header. These will be dropped' \n",
    "      '\\n{} rows remaining with funding info'.format(len(empty_funding),len(valid_funding)))"
   ]
  },
  {
   "cell_type": "markdown",
   "id": "3073f2c3-2ea7-4c4a-9ccc-3455a7abaeb2",
   "metadata": {},
   "source": [
    "##### df3 is new df, dropped instances where no funding was found "
   ]
  },
  {
   "cell_type": "code",
   "execution_count": 12,
   "id": "d136206d-29ef-491a-844a-44a4ec05e2f0",
   "metadata": {},
   "outputs": [],
   "source": [
    "df3 = df2.iloc[valid_funding]\n",
    "df3.reset_index(drop=True, inplace=True)"
   ]
  },
  {
   "cell_type": "code",
   "execution_count": 13,
   "id": "14d71845-4515-4d54-94fa-d5a95996fd42",
   "metadata": {},
   "outputs": [],
   "source": [
    "df3['Amount_Funded'] = df3['Amount_Funded'].str[0]"
   ]
  },
  {
   "cell_type": "markdown",
   "id": "f47de90f-5746-44ad-9195-f98ff15f800f",
   "metadata": {},
   "source": [
    "##### Money values extracted from the Header come in multiple forms\n",
    "* Need to create a function to return numeric values from text strings with varying syntaxes "
   ]
  },
  {
   "cell_type": "markdown",
   "id": "5379ca54-1103-43f0-aee4-cc13984fc416",
   "metadata": {},
   "source": [
    "##### Cell below IDs all types of suffixes we need to work with "
   ]
  },
  {
   "cell_type": "code",
   "execution_count": 14,
   "id": "74366421-c70b-4bf8-ab07-31e4dbfbdae0",
   "metadata": {},
   "outputs": [],
   "source": [
    "x = df3['Amount_Funded']\n",
    "l = x.tolist()\n",
    "\n",
    "pattern1 = '[$]\\d+\\.*\\d*\\ *\\-*\\ *\\d*'\n",
    "replace = ' ' \n",
    "\n",
    "suffix = []\n",
    "\n",
    "for item in l:\n",
    "    y = re.sub(pattern1, replace, item)\n",
    "    suffix.append(y)"
   ]
  },
  {
   "cell_type": "code",
   "execution_count": 15,
   "id": "9c2ceae8-c579-4190-a73d-41eadac238c7",
   "metadata": {},
   "outputs": [
    {
     "data": {
      "text/html": [
       "<div>\n",
       "<style scoped>\n",
       "    .dataframe tbody tr th:only-of-type {\n",
       "        vertical-align: middle;\n",
       "    }\n",
       "\n",
       "    .dataframe tbody tr th {\n",
       "        vertical-align: top;\n",
       "    }\n",
       "\n",
       "    .dataframe thead th {\n",
       "        text-align: right;\n",
       "    }\n",
       "</style>\n",
       "<table border=\"1\" class=\"dataframe\">\n",
       "  <thead>\n",
       "    <tr style=\"text-align: right;\">\n",
       "      <th></th>\n",
       "      <th>0</th>\n",
       "    </tr>\n",
       "    <tr>\n",
       "      <th>Suffix</th>\n",
       "      <th></th>\n",
       "    </tr>\n",
       "  </thead>\n",
       "  <tbody>\n",
       "    <tr>\n",
       "      <th>million</th>\n",
       "      <td>1127</td>\n",
       "    </tr>\n",
       "    <tr>\n",
       "      <th>M</th>\n",
       "      <td>411</td>\n",
       "    </tr>\n",
       "    <tr>\n",
       "      <th>Million</th>\n",
       "      <td>66</td>\n",
       "    </tr>\n",
       "    <tr>\n",
       "      <th>billion</th>\n",
       "      <td>27</td>\n",
       "    </tr>\n",
       "    <tr>\n",
       "      <th>B</th>\n",
       "      <td>10</td>\n",
       "    </tr>\n",
       "    <tr>\n",
       "      <th></th>\n",
       "      <td>4</td>\n",
       "    </tr>\n",
       "    <tr>\n",
       "      <th>K</th>\n",
       "      <td>2</td>\n",
       "    </tr>\n",
       "    <tr>\n",
       "      <th>MM</th>\n",
       "      <td>1</td>\n",
       "    </tr>\n",
       "    <tr>\n",
       "      <th>kit</th>\n",
       "      <td>1</td>\n",
       "    </tr>\n",
       "    <tr>\n",
       "      <th>m</th>\n",
       "      <td>1</td>\n",
       "    </tr>\n",
       "    <tr>\n",
       "      <th>per</th>\n",
       "      <td>1</td>\n",
       "    </tr>\n",
       "  </tbody>\n",
       "</table>\n",
       "</div>"
      ],
      "text/plain": [
       "             0\n",
       "Suffix        \n",
       " million  1127\n",
       " M         411\n",
       " Million    66\n",
       " billion    27\n",
       " B          10\n",
       "             4\n",
       " K           2\n",
       " MM          1\n",
       " kit         1\n",
       " m           1\n",
       " per         1"
      ]
     },
     "execution_count": 15,
     "metadata": {},
     "output_type": "execute_result"
    }
   ],
   "source": [
    "df_test_suffix = pd.DataFrame()\n",
    "df_test_suffix['Suffix'] = suffix \n",
    "df_test_suffix.value_counts().to_frame()"
   ]
  },
  {
   "cell_type": "markdown",
   "id": "b7002106-40ae-4af6-b0ad-101a11215f59",
   "metadata": {},
   "source": [
    "##### Need to include spaces, 'kit', 'per' and blanks in a seperate bucket - label as other to drop "
   ]
  },
  {
   "cell_type": "markdown",
   "id": "a776dedc-9960-42d0-8b6c-da98fd5c74f6",
   "metadata": {},
   "source": [
    "##### Now that we know all possible syntax variations, create function to take in any syntax and return numeric value "
   ]
  },
  {
   "cell_type": "code",
   "execution_count": 16,
   "id": "8ed9bf87-a497-41f8-a602-6bf9ba6203ce",
   "metadata": {},
   "outputs": [],
   "source": [
    "def dolladollabills(x):\n",
    "    l = x.tolist()\n",
    "    \n",
    "    thousand = ['k', 'K', 'Thousand', 'thousand']\n",
    "    million = ['m', 'M', 'Million', 'million' ]\n",
    "    billion = ['b', 'B', 'Billion', 'billion']\n",
    "    other = [' ','', 'MM', 'kit', 'per']\n",
    "    \n",
    "    K = 1000\n",
    "    M = 1000000\n",
    "    B = 1000000000\n",
    "    \n",
    "    pattern1 = '[$]\\d+\\.*\\d*\\ *\\-*\\ *\\d*'\n",
    "    replace = ' ' \n",
    "    pattern2 = '\\d+\\.*\\d*'\n",
    "    \n",
    "    numeric = []\n",
    "    for item in l:\n",
    "        x = re.findall(pattern2, item)\n",
    "        numeric.append(float(x[0]))\n",
    "\n",
    "    value = []\n",
    "    for item in l:\n",
    "        y = re.sub(pattern1, replace, item)\n",
    "\n",
    "        for obj in million:\n",
    "            if y.strip() == obj:\n",
    "                value.append(M)\n",
    "            else:\n",
    "                pass\n",
    "        \n",
    "        for obj in billion:\n",
    "            if y.strip() == obj:\n",
    "                value.append(B)\n",
    "            else:\n",
    "                pass\n",
    "        \n",
    "        for obj in thousand:\n",
    "            if y.strip() == obj:\n",
    "                value.append(K)\n",
    "            else:\n",
    "                pass\n",
    "        \n",
    "        for obj in other:\n",
    "            if y.strip() == obj:\n",
    "                value.append(0)\n",
    "            else:\n",
    "                pass\n",
    "                  \n",
    "    converted_funds = []\n",
    "    for i in range(len(l)):\n",
    "        converted_funds.append(Decimal(numeric[i] * value[i]))\n",
    "    return converted_funds #numeric, value \n"
   ]
  },
  {
   "cell_type": "code",
   "execution_count": 17,
   "id": "60a807ac-0202-4756-8b91-d31ffbd59663",
   "metadata": {},
   "outputs": [],
   "source": [
    "df3['Clean_Funding'] = dolladollabills(df3['Amount_Funded']) "
   ]
  },
  {
   "cell_type": "markdown",
   "id": "2de8a15e-1f71-4b30-a7f7-521e85aeae84",
   "metadata": {},
   "source": [
    "##### Change dtype of Date variable to DateTime type"
   ]
  },
  {
   "cell_type": "code",
   "execution_count": 18,
   "id": "f1878d73-0841-4b77-af1b-701a5922a836",
   "metadata": {},
   "outputs": [],
   "source": [
    "df3.Date = pd.to_datetime(df3['Date'])"
   ]
  },
  {
   "cell_type": "code",
   "execution_count": 19,
   "id": "e98d2f5d-d51a-448e-b4b9-d2c9056f8b2d",
   "metadata": {},
   "outputs": [],
   "source": [
    "df4 = df3[['Date','Header', 'Abstract', 'Clean_Funding']]"
   ]
  },
  {
   "cell_type": "code",
   "execution_count": 20,
   "id": "5025a53c-941a-485a-b2a3-0e7a7aed682a",
   "metadata": {},
   "outputs": [
    {
     "data": {
      "text/html": [
       "<div>\n",
       "<style scoped>\n",
       "    .dataframe tbody tr th:only-of-type {\n",
       "        vertical-align: middle;\n",
       "    }\n",
       "\n",
       "    .dataframe tbody tr th {\n",
       "        vertical-align: top;\n",
       "    }\n",
       "\n",
       "    .dataframe thead th {\n",
       "        text-align: right;\n",
       "    }\n",
       "</style>\n",
       "<table border=\"1\" class=\"dataframe\">\n",
       "  <thead>\n",
       "    <tr style=\"text-align: right;\">\n",
       "      <th></th>\n",
       "      <th>Date</th>\n",
       "      <th>Header</th>\n",
       "      <th>Abstract</th>\n",
       "      <th>Clean_Funding</th>\n",
       "    </tr>\n",
       "  </thead>\n",
       "  <tbody>\n",
       "    <tr>\n",
       "      <th>0</th>\n",
       "      <td>2021-12-05</td>\n",
       "      <td>Sense raises $50M to bolster recruitment effor...</td>\n",
       "      <td>Recruiting is a top concern for enterprises in...</td>\n",
       "      <td>50000000</td>\n",
       "    </tr>\n",
       "    <tr>\n",
       "      <th>1</th>\n",
       "      <td>2021-12-02</td>\n",
       "      <td>AI-powered ecommerce platform Convious raises ...</td>\n",
       "      <td>Convious , the Amsterdam-based company that of...</td>\n",
       "      <td>12000000</td>\n",
       "    </tr>\n",
       "    <tr>\n",
       "      <th>2</th>\n",
       "      <td>2021-12-02</td>\n",
       "      <td>Smartling lands $160M to help companies transl...</td>\n",
       "      <td>As the pandemic drives businesses online, tran...</td>\n",
       "      <td>160000000</td>\n",
       "    </tr>\n",
       "    <tr>\n",
       "      <th>3</th>\n",
       "      <td>2021-12-02</td>\n",
       "      <td>Digital Insulin Management Company Hygieia Clo...</td>\n",
       "      <td>LIVONIA, Mich.–(BUSINESS WIRE)–December 2, 202...</td>\n",
       "      <td>17000000</td>\n",
       "    </tr>\n",
       "    <tr>\n",
       "      <th>4</th>\n",
       "      <td>2021-12-01</td>\n",
       "      <td>CyCognito nabs $100M to fight cyberattacks wit...</td>\n",
       "      <td>CyCognito , a company developing bot technolog...</td>\n",
       "      <td>100000000</td>\n",
       "    </tr>\n",
       "  </tbody>\n",
       "</table>\n",
       "</div>"
      ],
      "text/plain": [
       "        Date                                             Header  \\\n",
       "0 2021-12-05  Sense raises $50M to bolster recruitment effor...   \n",
       "1 2021-12-02  AI-powered ecommerce platform Convious raises ...   \n",
       "2 2021-12-02  Smartling lands $160M to help companies transl...   \n",
       "3 2021-12-02  Digital Insulin Management Company Hygieia Clo...   \n",
       "4 2021-12-01  CyCognito nabs $100M to fight cyberattacks wit...   \n",
       "\n",
       "                                            Abstract Clean_Funding  \n",
       "0  Recruiting is a top concern for enterprises in...      50000000  \n",
       "1  Convious , the Amsterdam-based company that of...      12000000  \n",
       "2  As the pandemic drives businesses online, tran...     160000000  \n",
       "3  LIVONIA, Mich.–(BUSINESS WIRE)–December 2, 202...      17000000  \n",
       "4  CyCognito , a company developing bot technolog...     100000000  "
      ]
     },
     "execution_count": 20,
     "metadata": {},
     "output_type": "execute_result"
    }
   ],
   "source": [
    "df4.head()"
   ]
  },
  {
   "cell_type": "markdown",
   "id": "fd8b40e7-3d82-4e8b-89c0-92ae175bb00e",
   "metadata": {},
   "source": [
    "##### Create a function to extract the top 3 topics from the Abstract using TextRank from Spacy library "
   ]
  },
  {
   "cell_type": "code",
   "execution_count": 21,
   "id": "0972b913-39b8-457d-b402-d38eb270e017",
   "metadata": {},
   "outputs": [],
   "source": [
    "nlp = spacy.load(\"en_core_web_sm\")\n",
    "\n",
    "# add PyTextRank to the spaCy pipeline\n",
    "nlp.add_pipe(\"textrank\")\n",
    "def top_topics(text, max_items=3):\n",
    "\n",
    "    # load a spaCy model, depending on language, scale, etc.\n",
    "    doc = nlp(str(text))\n",
    "\n",
    "    # examine the top-ranked phrases in the document\n",
    "    top_ranked = []\n",
    "    count = 0\n",
    "    for phrase in doc._.phrases:\n",
    "        count += 1\n",
    "        if phrase.rank > 0 and count <= max_items:\n",
    "            top_ranked.append(phrase.text)\n",
    "        else:\n",
    "            break\n",
    "\n",
    "\n",
    "    return top_ranked"
   ]
  },
  {
   "cell_type": "code",
   "execution_count": 22,
   "id": "375bb593-e43e-463e-842f-d625803e5388",
   "metadata": {},
   "outputs": [],
   "source": [
    "df4['Topics'] = df3.apply(lambda row: top_topics(row['Abstract']),axis = 1)"
   ]
  },
  {
   "cell_type": "code",
   "execution_count": 23,
   "id": "a16a38a7-df77-4684-9c5b-6f9342c0160e",
   "metadata": {},
   "outputs": [
    {
     "name": "stdout",
     "output_type": "stream",
     "text": [
      "Total Amount in funding: $715,466,725,000.00\n",
      "Data ranges from 2009-12-21 to 2021-12-05\n"
     ]
    }
   ],
   "source": [
    "locale.setlocale(locale.LC_ALL, '')\n",
    "print('Total Amount in funding: {}'.format(locale.currency(df4.Clean_Funding.sum(), grouping=True)))\n",
    "print('Data ranges from {} to {}'.format(datetime.date(df4.Date.min()), datetime.date(df4.Date.max())))"
   ]
  },
  {
   "cell_type": "code",
   "execution_count": 24,
   "id": "a3502517-f413-40b9-8c72-4cb07cd5c8eb",
   "metadata": {},
   "outputs": [],
   "source": [
    "df4.reset_index(drop = False, inplace=True)"
   ]
  },
  {
   "cell_type": "code",
   "execution_count": 25,
   "id": "2fd1582e-69a5-498f-8be7-c6c436afab9b",
   "metadata": {},
   "outputs": [],
   "source": [
    "df5 = df4[['index','Header']]"
   ]
  },
  {
   "cell_type": "code",
   "execution_count": 26,
   "id": "ee4a3917-e91d-4fa8-be10-9a5385c2bd70",
   "metadata": {},
   "outputs": [
    {
     "data": {
      "text/html": [
       "<div>\n",
       "<style scoped>\n",
       "    .dataframe tbody tr th:only-of-type {\n",
       "        vertical-align: middle;\n",
       "    }\n",
       "\n",
       "    .dataframe tbody tr th {\n",
       "        vertical-align: top;\n",
       "    }\n",
       "\n",
       "    .dataframe thead th {\n",
       "        text-align: right;\n",
       "    }\n",
       "</style>\n",
       "<table border=\"1\" class=\"dataframe\">\n",
       "  <thead>\n",
       "    <tr style=\"text-align: right;\">\n",
       "      <th></th>\n",
       "      <th>index</th>\n",
       "      <th>Header</th>\n",
       "    </tr>\n",
       "  </thead>\n",
       "  <tbody>\n",
       "    <tr>\n",
       "      <th>0</th>\n",
       "      <td>0</td>\n",
       "      <td>Sense raises $50M to bolster recruitment effor...</td>\n",
       "    </tr>\n",
       "    <tr>\n",
       "      <th>1</th>\n",
       "      <td>1</td>\n",
       "      <td>AI-powered ecommerce platform Convious raises ...</td>\n",
       "    </tr>\n",
       "    <tr>\n",
       "      <th>2</th>\n",
       "      <td>2</td>\n",
       "      <td>Smartling lands $160M to help companies transl...</td>\n",
       "    </tr>\n",
       "    <tr>\n",
       "      <th>3</th>\n",
       "      <td>3</td>\n",
       "      <td>Digital Insulin Management Company Hygieia Clo...</td>\n",
       "    </tr>\n",
       "    <tr>\n",
       "      <th>4</th>\n",
       "      <td>4</td>\n",
       "      <td>CyCognito nabs $100M to fight cyberattacks wit...</td>\n",
       "    </tr>\n",
       "    <tr>\n",
       "      <th>...</th>\n",
       "      <td>...</td>\n",
       "      <td>...</td>\n",
       "    </tr>\n",
       "    <tr>\n",
       "      <th>1646</th>\n",
       "      <td>1646</td>\n",
       "      <td>A.I. research firm Vicarious raises $15M in it...</td>\n",
       "    </tr>\n",
       "    <tr>\n",
       "      <th>1647</th>\n",
       "      <td>1647</td>\n",
       "      <td>Online ad player Rocket Fuel gains $50M fundin...</td>\n",
       "    </tr>\n",
       "    <tr>\n",
       "      <th>1648</th>\n",
       "      <td>1648</td>\n",
       "      <td>Ad optimizer Rocket Fuel lifts off with $10M f...</td>\n",
       "    </tr>\n",
       "    <tr>\n",
       "      <th>1649</th>\n",
       "      <td>1649</td>\n",
       "      <td>Revised video game financing list: 115 game co...</td>\n",
       "    </tr>\n",
       "    <tr>\n",
       "      <th>1650</th>\n",
       "      <td>1650</td>\n",
       "      <td>Game startups raised $600.5 million in 2009, d...</td>\n",
       "    </tr>\n",
       "  </tbody>\n",
       "</table>\n",
       "<p>1651 rows × 2 columns</p>\n",
       "</div>"
      ],
      "text/plain": [
       "      index                                             Header\n",
       "0         0  Sense raises $50M to bolster recruitment effor...\n",
       "1         1  AI-powered ecommerce platform Convious raises ...\n",
       "2         2  Smartling lands $160M to help companies transl...\n",
       "3         3  Digital Insulin Management Company Hygieia Clo...\n",
       "4         4  CyCognito nabs $100M to fight cyberattacks wit...\n",
       "...     ...                                                ...\n",
       "1646   1646  A.I. research firm Vicarious raises $15M in it...\n",
       "1647   1647  Online ad player Rocket Fuel gains $50M fundin...\n",
       "1648   1648  Ad optimizer Rocket Fuel lifts off with $10M f...\n",
       "1649   1649  Revised video game financing list: 115 game co...\n",
       "1650   1650  Game startups raised $600.5 million in 2009, d...\n",
       "\n",
       "[1651 rows x 2 columns]"
      ]
     },
     "execution_count": 26,
     "metadata": {},
     "output_type": "execute_result"
    }
   ],
   "source": [
    "df5"
   ]
  },
  {
   "cell_type": "code",
   "execution_count": 27,
   "id": "13f685d2-01f5-49f4-9461-c940056799b4",
   "metadata": {},
   "outputs": [],
   "source": [
    "#df5.to_csv('VentureBeat-Processed.csv')"
   ]
  },
  {
   "cell_type": "code",
   "execution_count": null,
   "id": "d688d08e-73d0-4d00-9755-3d11a617ad5f",
   "metadata": {},
   "outputs": [],
   "source": []
  }
 ],
 "metadata": {
  "kernelspec": {
   "display_name": "203project",
   "language": "python",
   "name": "203project"
  },
  "language_info": {
   "codemirror_mode": {
    "name": "ipython",
    "version": 3
   },
   "file_extension": ".py",
   "mimetype": "text/x-python",
   "name": "python",
   "nbconvert_exporter": "python",
   "pygments_lexer": "ipython3",
   "version": "3.10.0"
  }
 },
 "nbformat": 4,
 "nbformat_minor": 5
}
