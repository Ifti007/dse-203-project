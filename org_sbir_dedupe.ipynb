{
 "cells": [
  {
   "cell_type": "markdown",
   "id": "54bb9109-370f-43bc-a291-299da54112d8",
   "metadata": {},
   "source": [
    "## SBIR Company Dedupe with Patent Organization Data"
   ]
  },
  {
   "cell_type": "code",
   "execution_count": 1,
   "id": "2aab8ab8-565e-42a4-b3a9-cbe421a042c9",
   "metadata": {},
   "outputs": [],
   "source": [
    "import pandas as pd\n",
    "import numpy as np \n",
    "import dedupe\n",
    "import os"
   ]
  },
  {
   "cell_type": "code",
   "execution_count": 2,
   "id": "ba58694e-26ef-4b3d-82ea-c70dc86d1c77",
   "metadata": {},
   "outputs": [],
   "source": [
    "df_patent_org = pd.read_csv('patent_org_2017.csv')"
   ]
  },
  {
   "cell_type": "code",
   "execution_count": 24,
   "id": "21154f41-18c5-4c7b-b10a-7ce92125534f",
   "metadata": {},
   "outputs": [
    {
     "name": "stderr",
     "output_type": "stream",
     "text": [
      "/Users/ifti/anaconda3/lib/python3.7/site-packages/IPython/core/interactiveshell.py:3166: DtypeWarning: Columns (10,35,36,37) have mixed types.Specify dtype option on import or set low_memory=False.\n",
      "  interactivity=interactivity, compiler=compiler, result=result)\n"
     ]
    }
   ],
   "source": [
    "cols = ['Date', 'Header', 'Abstract', 'Clean_Funding', 'Topics']\n",
    "df_sb = pd.read_csv('sbir_award_data.csv')"
   ]
  },
  {
   "cell_type": "code",
   "execution_count": 5,
   "id": "c034d966-aa59-4225-ab3c-2967776aec74",
   "metadata": {},
   "outputs": [
    {
     "data": {
      "text/plain": [
       "Index(['Company', 'Award Title', 'Agency', 'Branch', 'Phase', 'Program',\n",
       "       'Agency Tracking Number', 'Contract', 'Proposal Award Date',\n",
       "       'Contract End Date', 'Solicitation Number', 'Solicitation Year',\n",
       "       'Topic Code', 'Award Year', 'Award Amount', 'Duns', 'HUBZone Owned',\n",
       "       'Socially and Economically Disadvantaged', 'Women Owned',\n",
       "       'Number Employees', 'Company Website', 'Address1', 'Address2', 'City',\n",
       "       'State', 'Zip', 'Abstract', 'Contact Name', 'Contact Title',\n",
       "       'Contact Phone', 'Contact Email', 'PI Name', 'PI Title', 'PI Phone',\n",
       "       'PI Email', 'RI Name', 'RI POC Name', 'RI POC Phone'],\n",
       "      dtype='object')"
      ]
     },
     "execution_count": 5,
     "metadata": {},
     "output_type": "execute_result"
    }
   ],
   "source": [
    "df_sb.columns"
   ]
  },
  {
   "cell_type": "code",
   "execution_count": 6,
   "id": "bca341c1-4267-4b63-b495-a2a047aca91b",
   "metadata": {},
   "outputs": [
    {
     "data": {
      "text/html": [
       "<div>\n",
       "<style scoped>\n",
       "    .dataframe tbody tr th:only-of-type {\n",
       "        vertical-align: middle;\n",
       "    }\n",
       "\n",
       "    .dataframe tbody tr th {\n",
       "        vertical-align: top;\n",
       "    }\n",
       "\n",
       "    .dataframe thead th {\n",
       "        text-align: right;\n",
       "    }\n",
       "</style>\n",
       "<table border=\"1\" class=\"dataframe\">\n",
       "  <thead>\n",
       "    <tr style=\"text-align: right;\">\n",
       "      <th></th>\n",
       "      <th>assignee_id</th>\n",
       "      <th>organization</th>\n",
       "    </tr>\n",
       "  </thead>\n",
       "  <tbody>\n",
       "    <tr>\n",
       "      <th>0</th>\n",
       "      <td>3b86ee5d-49e0-444b-800a-67eb3c0b4f2c</td>\n",
       "      <td>ITSAUL PLANTS LLC</td>\n",
       "    </tr>\n",
       "    <tr>\n",
       "      <th>1</th>\n",
       "      <td>ed25dd8e-2465-47f2-b1e7-00d223089af4</td>\n",
       "      <td>Altman Plants</td>\n",
       "    </tr>\n",
       "    <tr>\n",
       "      <th>2</th>\n",
       "      <td>51a6da5b-4755-4e2f-a282-159552a45a42</td>\n",
       "      <td>Georgia State University Research Foundation, ...</td>\n",
       "    </tr>\n",
       "    <tr>\n",
       "      <th>3</th>\n",
       "      <td>37d3b9fd-1d06-4d7a-a5dd-1f9334bbd292</td>\n",
       "      <td>SYNGENTA PARTICIPATIONS AG</td>\n",
       "    </tr>\n",
       "    <tr>\n",
       "      <th>4</th>\n",
       "      <td>6cf8e9cb-e280-4ef2-a0fd-a371b7a33a12</td>\n",
       "      <td>Danziger “DAN” Flower Farm</td>\n",
       "    </tr>\n",
       "    <tr>\n",
       "      <th>...</th>\n",
       "      <td>...</td>\n",
       "      <td>...</td>\n",
       "    </tr>\n",
       "    <tr>\n",
       "      <th>45745</th>\n",
       "      <td>05d390a7-27aa-4758-8355-f53154d7df0f</td>\n",
       "      <td>lonis Pharmaceuticals, Inc.</td>\n",
       "    </tr>\n",
       "    <tr>\n",
       "      <th>45746</th>\n",
       "      <td>56d0d9a4-5315-4e34-97ea-d8afe96e6ac6</td>\n",
       "      <td>Aflnitl, Ltd.</td>\n",
       "    </tr>\n",
       "    <tr>\n",
       "      <th>45747</th>\n",
       "      <td>dd4fa4c6-2282-47d5-85f9-41994c3f9a33</td>\n",
       "      <td>ALGAE TO OMEGA HOLDINGS, INC.</td>\n",
       "    </tr>\n",
       "    <tr>\n",
       "      <th>45748</th>\n",
       "      <td>707b39e5-8ea2-4a1a-a0c5-1996442181d4</td>\n",
       "      <td>Panasonic Intellectual Property Mangement Co.,...</td>\n",
       "    </tr>\n",
       "    <tr>\n",
       "      <th>45749</th>\n",
       "      <td>89d890d6-9df4-444d-994f-9ba45cd52673</td>\n",
       "      <td>IMBERATEK, LLC</td>\n",
       "    </tr>\n",
       "  </tbody>\n",
       "</table>\n",
       "<p>45750 rows × 2 columns</p>\n",
       "</div>"
      ],
      "text/plain": [
       "                                assignee_id  \\\n",
       "0      3b86ee5d-49e0-444b-800a-67eb3c0b4f2c   \n",
       "1      ed25dd8e-2465-47f2-b1e7-00d223089af4   \n",
       "2      51a6da5b-4755-4e2f-a282-159552a45a42   \n",
       "3      37d3b9fd-1d06-4d7a-a5dd-1f9334bbd292   \n",
       "4      6cf8e9cb-e280-4ef2-a0fd-a371b7a33a12   \n",
       "...                                     ...   \n",
       "45745  05d390a7-27aa-4758-8355-f53154d7df0f   \n",
       "45746  56d0d9a4-5315-4e34-97ea-d8afe96e6ac6   \n",
       "45747  dd4fa4c6-2282-47d5-85f9-41994c3f9a33   \n",
       "45748  707b39e5-8ea2-4a1a-a0c5-1996442181d4   \n",
       "45749  89d890d6-9df4-444d-994f-9ba45cd52673   \n",
       "\n",
       "                                            organization  \n",
       "0                                      ITSAUL PLANTS LLC  \n",
       "1                                          Altman Plants  \n",
       "2      Georgia State University Research Foundation, ...  \n",
       "3                             SYNGENTA PARTICIPATIONS AG  \n",
       "4                             Danziger “DAN” Flower Farm  \n",
       "...                                                  ...  \n",
       "45745                        lonis Pharmaceuticals, Inc.  \n",
       "45746                                      Aflnitl, Ltd.  \n",
       "45747                      ALGAE TO OMEGA HOLDINGS, INC.  \n",
       "45748  Panasonic Intellectual Property Mangement Co.,...  \n",
       "45749                                     IMBERATEK, LLC  \n",
       "\n",
       "[45750 rows x 2 columns]"
      ]
     },
     "execution_count": 6,
     "metadata": {},
     "output_type": "execute_result"
    }
   ],
   "source": [
    "df_patent_org"
   ]
  },
  {
   "cell_type": "code",
   "execution_count": 7,
   "id": "621cd233-8485-4a34-a6eb-5579a351df45",
   "metadata": {},
   "outputs": [],
   "source": [
    "df_patent_org['Company'] = df_patent_org['organization']"
   ]
  },
  {
   "cell_type": "code",
   "execution_count": 25,
   "id": "6e121f32-d9ad-40aa-9a60-05c46a0311c7",
   "metadata": {},
   "outputs": [],
   "source": [
    "df_sb['Company'] = df_sb['Company'].astype(str)"
   ]
  },
  {
   "cell_type": "code",
   "execution_count": 14,
   "id": "1917817d-2fd1-4af9-ab92-5ad45e01983e",
   "metadata": {},
   "outputs": [],
   "source": [
    "data1_dict = df_patent_org.to_dict('index')\n",
    "data2_dict = df_sb.to_dict('index')"
   ]
  },
  {
   "cell_type": "code",
   "execution_count": 15,
   "id": "d90560af-6c8c-4bc6-8c1f-75115ea65b52",
   "metadata": {},
   "outputs": [
    {
     "name": "stderr",
     "output_type": "stream",
     "text": [
      "INFO:dedupe.canopy_index:Removing stop word  I\n",
      "INFO:dedupe.canopy_index:Removing stop word In\n",
      "INFO:dedupe.canopy_index:Removing stop word al\n",
      "INFO:dedupe.canopy_index:Removing stop word er\n",
      "INFO:dedupe.canopy_index:Removing stop word ic\n",
      "INFO:dedupe.canopy_index:Removing stop word nc\n",
      "INFO:dedupe.canopy_index:Removing stop word ra\n",
      "INFO:dedupe.canopy_index:Removing stop word st\n",
      "INFO:dedupe.canopy_index:Removing stop word e \n",
      "INFO:dedupe.canopy_index:Removing stop word l \n",
      "INFO:dedupe.canopy_index:Removing stop word ri\n",
      "INFO:dedupe.canopy_index:Removing stop word  L\n",
      "INFO:dedupe.canopy_index:Removing stop word EC\n",
      "INFO:dedupe.canopy_index:Removing stop word TE\n",
      "INFO:dedupe.canopy_index:Removing stop word ER\n",
      "INFO:dedupe.canopy_index:Removing stop word RA\n",
      "INFO:dedupe.canopy_index:Removing stop word AT\n",
      "INFO:dedupe.canopy_index:Removing stop word IN\n",
      "INFO:dedupe.canopy_index:Removing stop word NC\n",
      "INFO:dedupe.canopy_index:Removing stop word an\n",
      "INFO:dedupe.canopy_index:Removing stop word ce\n",
      "INFO:dedupe.canopy_index:Removing stop word en\n",
      "INFO:dedupe.canopy_index:Removing stop word io\n",
      "INFO:dedupe.canopy_index:Removing stop word on\n",
      "INFO:dedupe.canopy_index:Removing stop word ES\n",
      "INFO:dedupe.canopy_index:Removing stop word LC\n",
      "INFO:dedupe.canopy_index:Removing stop word NO\n",
      "INFO:dedupe.canopy_index:Removing stop word ON\n",
      "INFO:dedupe.canopy_index:Removing stop word S \n",
      "INFO:dedupe.canopy_index:Removing stop word TI\n",
      "INFO:dedupe.canopy_index:Removing stop word  C\n",
      "INFO:dedupe.canopy_index:Removing stop word E \n",
      "INFO:dedupe.canopy_index:Removing stop word OR\n",
      "INFO:dedupe.canopy_index:Removing stop word  T\n",
      "INFO:dedupe.canopy_index:Removing stop word ol\n",
      "INFO:dedupe.canopy_index:Removing stop word n \n",
      "INFO:dedupe.canopy_index:Removing stop word gi\n",
      "INFO:dedupe.canopy_index:Removing stop word  S\n",
      "INFO:dedupe.canopy_index:Removing stop word at\n",
      "INFO:dedupe.canopy_index:Removing stop word es\n",
      "INFO:dedupe.canopy_index:Removing stop word nt\n",
      "INFO:dedupe.canopy_index:Removing stop word lo\n",
      "INFO:dedupe.canopy_index:Removing stop word or\n",
      "INFO:dedupe.canopy_index:Removing stop word te\n",
      "INFO:dedupe.canopy_index:Removing stop word AL\n",
      "INFO:dedupe.canopy_index:Removing stop word rp\n",
      "INFO:dedupe.canopy_index:Removing stop word Te\n",
      "INFO:dedupe.canopy_index:Removing stop word ec\n",
      "INFO:dedupe.canopy_index:Removing stop word hn\n",
      "INFO:dedupe.canopy_index:Removing stop word og\n",
      "INFO:dedupe.canopy_index:Removing stop word CH\n",
      "INFO:dedupe.canopy_index:Removing stop word ar\n",
      "INFO:dedupe.canopy_index:Removing stop word  A\n",
      "INFO:dedupe.canopy_index:Removing stop word Inc\n",
      "INFO:dedupe.canopy_index:Removing stop word INC\n",
      "INFO:dedupe.canopy_index:Removing stop word LLC\n",
      "INFO:dedupe.canopy_index:Removing stop word no\n",
      "INFO:dedupe.canopy_index:Removing stop word s \n",
      "INFO:dedupe.canopy_index:Removing stop word ti\n",
      "INFO:dedupe.canopy_index:Removing stop word ro\n",
      "INFO:dedupe.canopy_index:Removing stop word IC\n",
      "INFO:dedupe.canopy_index:Removing stop word OL\n",
      "INFO:dedupe.canopy_index:Removing stop word IO\n",
      "INFO:dedupe.canopy_index:Removing stop word LL\n",
      "INFO:dedupe.canopy_index:Removing stop word CO\n",
      "INFO:dedupe.canopy_index:Removing stop word EN\n",
      "INFO:dedupe.canopy_index:Removing stop word Co\n",
      "INFO:dedupe.canopy_index:Removing stop word in\n",
      "INFO:dedupe.canopy_index:Removing stop word ie\n",
      "INFO:dedupe.canopy_index:Removing stop word ch\n",
      "INFO:dedupe.training:Final predicate set:\n",
      "INFO:dedupe.training:SimplePredicate: (fingerprint, Company)\n",
      "Company : American Lithium Energy Corporation\n",
      "\n",
      "Company : American Lithium Energy Corp.\n",
      "\n",
      "0/10 positive, 0/10 negative\n",
      "Do these records refer to the same thing?\n",
      "(y)es / (n)o / (u)nsure / (f)inished\n"
     ]
    },
    {
     "name": "stdout",
     "output_type": "stream",
     "text": [
      "starting active labeling...\n"
     ]
    },
    {
     "name": "stdin",
     "output_type": "stream",
     "text": [
      " y\n"
     ]
    },
    {
     "name": "stderr",
     "output_type": "stream",
     "text": [
      "Company : Cybernet Systems Corp.\n",
      "\n",
      "Company : Cybernet Systems Corporation\n",
      "\n",
      "1/10 positive, 0/10 negative\n",
      "Do these records refer to the same thing?\n",
      "(y)es / (n)o / (u)nsure / (f)inished / (p)revious\n"
     ]
    },
    {
     "name": "stdin",
     "output_type": "stream",
     "text": [
      " y\n"
     ]
    },
    {
     "name": "stderr",
     "output_type": "stream",
     "text": [
      "INFO:dedupe.training:Final predicate set:\n",
      "INFO:dedupe.training:SimplePredicate: (firstTwoTokensPredicate, Company)\n",
      "Company : Myriant Corporation\n",
      "\n",
      "Company : FOSTER-MILLER, INC.\n",
      "\n",
      "2/10 positive, 0/10 negative\n",
      "Do these records refer to the same thing?\n",
      "(y)es / (n)o / (u)nsure / (f)inished / (p)revious\n"
     ]
    },
    {
     "name": "stdin",
     "output_type": "stream",
     "text": [
      " n\n"
     ]
    },
    {
     "name": "stderr",
     "output_type": "stream",
     "text": [
      "Company : 1twoZ, LLC\n",
      "\n",
      "Company : 3TEX, Inc.\n",
      "\n",
      "2/10 positive, 1/10 negative\n",
      "Do these records refer to the same thing?\n",
      "(y)es / (n)o / (u)nsure / (f)inished / (p)revious\n"
     ]
    },
    {
     "name": "stdin",
     "output_type": "stream",
     "text": [
      " n\n"
     ]
    },
    {
     "name": "stderr",
     "output_type": "stream",
     "text": [
      "Company : United Silicone Carbide, Inc.\n",
      "\n",
      "Company : United Silicon Carbide, Inc.\n",
      "\n",
      "2/10 positive, 2/10 negative\n",
      "Do these records refer to the same thing?\n",
      "(y)es / (n)o / (u)nsure / (f)inished / (p)revious\n"
     ]
    },
    {
     "name": "stdin",
     "output_type": "stream",
     "text": [
      " y\n"
     ]
    },
    {
     "name": "stderr",
     "output_type": "stream",
     "text": [
      "Company : NEC CORPORATION\n",
      "\n",
      "Company : NEI CORPORATION\n",
      "\n",
      "3/10 positive, 2/10 negative\n",
      "Do these records refer to the same thing?\n",
      "(y)es / (n)o / (u)nsure / (f)inished / (p)revious\n"
     ]
    },
    {
     "name": "stdin",
     "output_type": "stream",
     "text": [
      " n\n"
     ]
    },
    {
     "name": "stderr",
     "output_type": "stream",
     "text": [
      "INFO:dedupe.training:Final predicate set:\n",
      "INFO:dedupe.training:SimplePredicate: (firstTwoTokensPredicate, Company)\n",
      "INFO:dedupe.training:LevenshteinSearchPredicate: (1, Company)\n",
      "Company : PRS Medical Technologies, Inc.\n",
      "\n",
      "Company : Kdl Medical Technologies, Inc.\n",
      "\n",
      "3/10 positive, 3/10 negative\n",
      "Do these records refer to the same thing?\n",
      "(y)es / (n)o / (u)nsure / (f)inished / (p)revious\n"
     ]
    },
    {
     "name": "stdin",
     "output_type": "stream",
     "text": [
      " n\n"
     ]
    },
    {
     "name": "stderr",
     "output_type": "stream",
     "text": [
      "Company : SC LABORATORIES, INC.\n",
      "\n",
      "Company : EIC LABORATORIES, INC.\n",
      "\n",
      "3/10 positive, 4/10 negative\n",
      "Do these records refer to the same thing?\n",
      "(y)es / (n)o / (u)nsure / (f)inished / (p)revious\n"
     ]
    },
    {
     "name": "stdin",
     "output_type": "stream",
     "text": [
      " n\n"
     ]
    },
    {
     "name": "stderr",
     "output_type": "stream",
     "text": [
      "Company : AMMO TECHNOLOGIES, INC.\n",
      "\n",
      "Company : EMAG TECHNOLOGIES, INC.\n",
      "\n",
      "3/10 positive, 5/10 negative\n",
      "Do these records refer to the same thing?\n",
      "(y)es / (n)o / (u)nsure / (f)inished / (p)revious\n"
     ]
    },
    {
     "name": "stdin",
     "output_type": "stream",
     "text": [
      " n\n"
     ]
    },
    {
     "name": "stderr",
     "output_type": "stream",
     "text": [
      "Company : Harris Environmental Systems, Inc.\n",
      "\n",
      "Company : Yankee Environmental Systems, Inc.\n",
      "\n",
      "3/10 positive, 6/10 negative\n",
      "Do these records refer to the same thing?\n",
      "(y)es / (n)o / (u)nsure / (f)inished / (p)revious\n"
     ]
    },
    {
     "name": "stdin",
     "output_type": "stream",
     "text": [
      " n\n"
     ]
    },
    {
     "name": "stderr",
     "output_type": "stream",
     "text": [
      "Company : Integrated Sensing Systems, Inc.\n",
      "\n",
      "Company : Integrated Sensing Systems Incorporated\n",
      "\n",
      "3/10 positive, 7/10 negative\n",
      "Do these records refer to the same thing?\n",
      "(y)es / (n)o / (u)nsure / (f)inished / (p)revious\n"
     ]
    },
    {
     "name": "stdin",
     "output_type": "stream",
     "text": [
      " y\n"
     ]
    },
    {
     "name": "stderr",
     "output_type": "stream",
     "text": [
      "Company : Rydberg Technologies Inc.\n",
      "\n",
      "Company : Rydberg Technologies LLC\n",
      "\n",
      "4/10 positive, 7/10 negative\n",
      "Do these records refer to the same thing?\n",
      "(y)es / (n)o / (u)nsure / (f)inished / (p)revious\n"
     ]
    },
    {
     "name": "stdin",
     "output_type": "stream",
     "text": [
      " y\n"
     ]
    },
    {
     "name": "stderr",
     "output_type": "stream",
     "text": [
      "Company : Advanced Materials Processing, Inc.\n",
      "\n",
      "Company : Advanced Materials Corp\n",
      "\n",
      "5/10 positive, 7/10 negative\n",
      "Do these records refer to the same thing?\n",
      "(y)es / (n)o / (u)nsure / (f)inished / (p)revious\n"
     ]
    },
    {
     "name": "stdin",
     "output_type": "stream",
     "text": [
      " y\n"
     ]
    },
    {
     "name": "stderr",
     "output_type": "stream",
     "text": [
      "Company : Core Scientific, Inc.\n",
      "\n",
      "Company : Gate Scientific, Inc. \n",
      "\n",
      "6/10 positive, 7/10 negative\n",
      "Do these records refer to the same thing?\n",
      "(y)es / (n)o / (u)nsure / (f)inished / (p)revious\n"
     ]
    },
    {
     "name": "stdin",
     "output_type": "stream",
     "text": [
      " n\n"
     ]
    },
    {
     "name": "stderr",
     "output_type": "stream",
     "text": [
      "Company : STEG TECHNOLOGY, INC.\n",
      "\n",
      "Company : SY TECHNOLOGY, INC.\n",
      "\n",
      "6/10 positive, 8/10 negative\n",
      "Do these records refer to the same thing?\n",
      "(y)es / (n)o / (u)nsure / (f)inished / (p)revious\n"
     ]
    },
    {
     "name": "stdin",
     "output_type": "stream",
     "text": [
      " n\n"
     ]
    },
    {
     "name": "stderr",
     "output_type": "stream",
     "text": [
      "Company : Research Development Foundation\n",
      "\n",
      "Company : Research Development Corporation\n",
      "\n",
      "6/10 positive, 9/10 negative\n",
      "Do these records refer to the same thing?\n",
      "(y)es / (n)o / (u)nsure / (f)inished / (p)revious\n"
     ]
    },
    {
     "name": "stdin",
     "output_type": "stream",
     "text": [
      " y\n"
     ]
    },
    {
     "name": "stderr",
     "output_type": "stream",
     "text": [
      "Company : Ordr Inc.\n",
      "\n",
      "Company : Ord Inc.\n",
      "\n",
      "7/10 positive, 9/10 negative\n",
      "Do these records refer to the same thing?\n",
      "(y)es / (n)o / (u)nsure / (f)inished / (p)revious\n"
     ]
    },
    {
     "name": "stdin",
     "output_type": "stream",
     "text": [
      " y\n"
     ]
    },
    {
     "name": "stderr",
     "output_type": "stream",
     "text": [
      "Company : Energy Research Institute Co., Ltd, Henan Academy of Sciences\n",
      "\n",
      "Company : Energy Research Company\n",
      "\n",
      "8/10 positive, 9/10 negative\n",
      "Do these records refer to the same thing?\n",
      "(y)es / (n)o / (u)nsure / (f)inished / (p)revious\n"
     ]
    },
    {
     "name": "stdin",
     "output_type": "stream",
     "text": [
      " n\n"
     ]
    },
    {
     "name": "stderr",
     "output_type": "stream",
     "text": [
      "Company : KIDDE TECHNOLOGIES, INC.\n",
      "\n",
      "Company : KUTTA TECHNOLOGIES, INC.\n",
      "\n",
      "8/10 positive, 10/10 negative\n",
      "Do these records refer to the same thing?\n",
      "(y)es / (n)o / (u)nsure / (f)inished / (p)revious\n"
     ]
    },
    {
     "name": "stdin",
     "output_type": "stream",
     "text": [
      " n\n"
     ]
    },
    {
     "name": "stderr",
     "output_type": "stream",
     "text": [
      "Company : Nanotek Instruments Group, LLC\n",
      "\n",
      "Company : Nanotek Instruments, Inc.\n",
      "\n",
      "8/10 positive, 11/10 negative\n",
      "Do these records refer to the same thing?\n",
      "(y)es / (n)o / (u)nsure / (f)inished / (p)revious\n"
     ]
    },
    {
     "name": "stdin",
     "output_type": "stream",
     "text": [
      " y\n"
     ]
    },
    {
     "name": "stderr",
     "output_type": "stream",
     "text": [
      "Company : Great Wall Semiconductor Corporation\n",
      "\n",
      "Company : Great Wall Systems\n",
      "\n",
      "9/10 positive, 11/10 negative\n",
      "Do these records refer to the same thing?\n",
      "(y)es / (n)o / (u)nsure / (f)inished / (p)revious\n"
     ]
    },
    {
     "name": "stdin",
     "output_type": "stream",
     "text": [
      " y\n"
     ]
    },
    {
     "name": "stderr",
     "output_type": "stream",
     "text": [
      "Company : New Dimension One Spas, Inc.\n",
      "\n",
      "Company : New Dimension Research\n",
      "\n",
      "10/10 positive, 11/10 negative\n",
      "Do these records refer to the same thing?\n",
      "(y)es / (n)o / (u)nsure / (f)inished / (p)revious\n"
     ]
    },
    {
     "name": "stdin",
     "output_type": "stream",
     "text": [
      " n\n"
     ]
    },
    {
     "name": "stderr",
     "output_type": "stream",
     "text": [
      "Company : PROTON ENERGY SYSTEMS, INC.\n",
      "\n",
      "Company : ITN ENERGY SYSTEMS, INC.\n",
      "\n",
      "10/10 positive, 12/10 negative\n",
      "Do these records refer to the same thing?\n",
      "(y)es / (n)o / (u)nsure / (f)inished / (p)revious\n"
     ]
    },
    {
     "name": "stdin",
     "output_type": "stream",
     "text": [
      " f\n"
     ]
    },
    {
     "name": "stderr",
     "output_type": "stream",
     "text": [
      "Finished labeling\n",
      "INFO:rlr.crossvalidation:using cross validation to find optimum alpha...\n",
      "INFO:rlr.crossvalidation:optimum alpha: 0.100000, score 0.13079668297139563\n",
      "INFO:dedupe.training:Final predicate set:\n",
      "INFO:dedupe.training:(SimplePredicate: (sameSevenCharStartPredicate, Company), SimplePredicate: (commonFourGram, Company), SimplePredicate: (commonTwoTokens, Company))\n",
      "INFO:dedupe.training:(SimplePredicate: (oneGramFingerprint, Company), TfidfNGramSearchPredicate: (0.2, Company), LevenshteinSearchPredicate: (2, Company))\n"
     ]
    }
   ],
   "source": [
    "output_file = 'data_matching_output.csv'\n",
    "settings_file = 'data_matching_learned_settings'\n",
    "training_file = 'data_matching_training.json'\n",
    "\n",
    "if os.path.exists(settings_file):\n",
    "    print('reading from', settings_file)\n",
    "    with open(settings_file, 'rb') as sf:\n",
    "        linker = dedupe.StaticRecordLink(sf)\n",
    "\n",
    "else:\n",
    "    # Define the fields the linker will pay attention to\n",
    "\n",
    "    fields = [\n",
    "        {'field': 'Company', 'type': 'String'}\n",
    "        # , {'field': 'Company', 'type': 'Text' , 'corpus': descriptions()}\n",
    "            ]\n",
    "\n",
    "    # Create a new linker object and pass our data model to it.\n",
    "    linker = dedupe.RecordLink(fields)\n",
    "\n",
    "    # If we have training data saved from a previous run of linker,\n",
    "    # look for it an load it in.\n",
    "    # __Note:__ if you want to train from scratch, delete the training_file\n",
    "\n",
    "  # Create a new linker object and pass our data model to it.\n",
    "    linker = dedupe.RecordLink(fields)\n",
    "\n",
    "    # If we have training data saved from a previous run of linker,\n",
    "    # look for it an load it in.\n",
    "    # __Note:__ if you want to train from scratch, delete the training_file\n",
    "    if os.path.exists(training_file):\n",
    "        print('reading labeled examples from ', training_file)\n",
    "        with open(training_file) as tf:\n",
    "            linker.prepare_training(data1_dict,\n",
    "                                    data2_dict,\n",
    "                                    training_file=tf,\n",
    "                                    sample_size=1500)\n",
    "    else:\n",
    "        linker.prepare_training(data1_dict, data2_dict, sample_size=1500)\n",
    "\n",
    "    # ## Active learning\n",
    "    # Dedupe will find the next pair of records\n",
    "    # it is least certain about and ask you to label them as matches\n",
    "    # or not.\n",
    "    # use 'y', 'n' and 'u' keys to flag duplicates\n",
    "    # press 'f' when you are finished\n",
    "    print('starting active labeling...')\n",
    "\n",
    "    dedupe.console_label(linker)\n",
    "\n",
    "    linker.train()\n",
    "\n",
    "    # When finished, save our training away to disk\n",
    "    with open(training_file, 'w') as tf:\n",
    "        linker.write_training(tf)\n",
    "\n",
    "    # Save our weights and predicates to disk.  If the settings file\n",
    "    # exists, we will skip all the training and learning next time we run\n",
    "    # this file.\n",
    "    with open(settings_file, 'wb') as sf:\n",
    "        linker.write_settings(sf)\n"
   ]
  },
  {
   "cell_type": "code",
   "execution_count": 16,
   "id": "40acce28-f228-4cc9-a488-7b3459d4b7d6",
   "metadata": {},
   "outputs": [
    {
     "name": "stdout",
     "output_type": "stream",
     "text": [
      "clustering...\n"
     ]
    },
    {
     "name": "stderr",
     "output_type": "stream",
     "text": [
      "INFO:dedupe.canopy_index:Removing stop word  I\n",
      "INFO:dedupe.canopy_index:Removing stop word In\n",
      "INFO:dedupe.canopy_index:Removing stop word nc\n",
      "INFO:dedupe.canopy_index:Removing stop word  L\n",
      "INFO:dedupe.canopy_index:Removing stop word EC\n",
      "INFO:dedupe.canopy_index:Removing stop word TE\n",
      "INFO:dedupe.canopy_index:Removing stop word LC\n",
      "INFO:dedupe.canopy_index:Removing stop word ch\n",
      "INFO:dedupe.canopy_index:Removing stop word h \n",
      "INFO:dedupe.canopy_index:Removing stop word st\n",
      "INFO:dedupe.canopy_index:Removing stop word ER\n",
      "INFO:dedupe.canopy_index:Removing stop word RA\n",
      "INFO:dedupe.canopy_index:Removing stop word ro\n",
      "INFO:dedupe.canopy_index:Removing stop word IN\n",
      "INFO:dedupe.canopy_index:Removing stop word AT\n",
      "INFO:dedupe.canopy_index:Removing stop word ES\n",
      "INFO:dedupe.canopy_index:Removing stop word NO\n",
      "INFO:dedupe.canopy_index:Removing stop word ON\n",
      "INFO:dedupe.canopy_index:Removing stop word S \n",
      "INFO:dedupe.canopy_index:Removing stop word TI\n",
      "INFO:dedupe.canopy_index:Removing stop word  C\n",
      "INFO:dedupe.canopy_index:Removing stop word E \n",
      "INFO:dedupe.canopy_index:Removing stop word OR\n",
      "INFO:dedupe.canopy_index:Removing stop word  M\n",
      "INFO:dedupe.canopy_index:Removing stop word al\n",
      "INFO:dedupe.canopy_index:Removing stop word ce\n",
      "INFO:dedupe.canopy_index:Removing stop word en\n",
      "INFO:dedupe.canopy_index:Removing stop word es\n",
      "INFO:dedupe.canopy_index:Removing stop word ic\n",
      "INFO:dedupe.canopy_index:Removing stop word l \n",
      "INFO:dedupe.canopy_index:Removing stop word ra\n",
      "INFO:dedupe.canopy_index:Removing stop word at\n",
      "INFO:dedupe.canopy_index:Removing stop word t \n",
      "INFO:dedupe.canopy_index:Removing stop word  T\n",
      "INFO:dedupe.canopy_index:Removing stop word ol\n",
      "INFO:dedupe.canopy_index:Removing stop word an\n",
      "INFO:dedupe.canopy_index:Removing stop word n \n",
      "INFO:dedupe.canopy_index:Removing stop word em\n",
      "INFO:dedupe.canopy_index:Removing stop word nt\n",
      "INFO:dedupe.canopy_index:Removing stop word on\n",
      "INFO:dedupe.canopy_index:Removing stop word s \n",
      "INFO:dedupe.canopy_index:Removing stop word ys\n",
      "INFO:dedupe.canopy_index:Removing stop word ri\n",
      "INFO:dedupe.canopy_index:Removing stop word Te\n",
      "INFO:dedupe.canopy_index:Removing stop word hn\n",
      "INFO:dedupe.canopy_index:Removing stop word lo\n",
      "INFO:dedupe.canopy_index:Removing stop word AL\n",
      "INFO:dedupe.canopy_index:Removing stop word CH\n",
      "INFO:dedupe.canopy_index:Removing stop word IC\n",
      "INFO:dedupe.canopy_index:Removing stop word OL\n",
      "INFO:dedupe.canopy_index:Removing stop word  E\n",
      "INFO:dedupe.canopy_index:Removing stop word e \n",
      "INFO:dedupe.canopy_index:Removing stop word cs\n",
      "INFO:dedupe.canopy_index:Removing stop word  A\n",
      "INFO:dedupe.canopy_index:Removing stop word r \n",
      "INFO:dedupe.canopy_index:Removing stop word in\n",
      "INFO:dedupe.canopy_index:Removing stop word N \n",
      "INFO:dedupe.canopy_index:Removing stop word or\n",
      "INFO:dedupe.canopy_index:Removing stop word rp\n",
      "INFO:dedupe.canopy_index:Removing stop word ed\n",
      "INFO:dedupe.canopy_index:Removing stop word y \n",
      "INFO:dedupe.canopy_index:Removing stop word IE\n",
      "INFO:dedupe.canopy_index:Removing stop word LO\n",
      "INFO:dedupe.canopy_index:Removing stop word  P\n",
      "INFO:dedupe.canopy_index:Removing stop word ar\n",
      "INFO:dedupe.canopy_index:Removing stop word ng\n",
      "INFO:dedupe.canopy_index:Removing stop word d \n",
      "INFO:dedupe.canopy_index:Removing stop word ns\n",
      "INFO:dedupe.blocking:10000, 11.7421422 seconds\n",
      "INFO:dedupe.blocking:20000, 24.9474962 seconds\n",
      "INFO:dedupe.blocking:30000, 37.0407812 seconds\n",
      "INFO:dedupe.blocking:40000, 49.5598942 seconds\n",
      "INFO:dedupe.blocking:10000, 0.9334602 seconds\n",
      "INFO:dedupe.blocking:20000, 1.8590032 seconds\n",
      "INFO:dedupe.blocking:30000, 2.7789982 seconds\n",
      "INFO:dedupe.blocking:40000, 3.6931962 seconds\n",
      "INFO:dedupe.blocking:50000, 4.6464522 seconds\n",
      "INFO:dedupe.blocking:60000, 5.5651472 seconds\n",
      "INFO:dedupe.blocking:70000, 6.4826812 seconds\n",
      "INFO:dedupe.blocking:80000, 7.3832422 seconds\n",
      "INFO:dedupe.blocking:90000, 8.3101252 seconds\n",
      "INFO:dedupe.blocking:100000, 9.2134142 seconds\n",
      "INFO:dedupe.blocking:110000, 10.1029232 seconds\n",
      "INFO:dedupe.blocking:120000, 11.0261582 seconds\n",
      "INFO:dedupe.blocking:130000, 11.9291092 seconds\n",
      "INFO:dedupe.blocking:140000, 12.8494032 seconds\n",
      "INFO:dedupe.blocking:150000, 13.7230072 seconds\n",
      "INFO:dedupe.blocking:160000, 14.6253472 seconds\n",
      "INFO:dedupe.blocking:170000, 15.5833282 seconds\n",
      "INFO:dedupe.blocking:180000, 16.4035772 seconds\n"
     ]
    },
    {
     "name": "stdout",
     "output_type": "stream",
     "text": [
      "# duplicate sets 1247\n",
      "{35071: {'Cluster ID': 85, 'Link Score': 0.65499824}, 42495: {'Cluster ID': 0, 'Link Score': 0.65499824}, 5375: {'Cluster ID': 1, 'Link Score': 0.65499824}, 118068: {'Cluster ID': 1, 'Link Score': 0.65499824}, 13310: {'Cluster ID': 2, 'Link Score': 0.65499824}, 43518: {'Cluster ID': 2, 'Link Score': 0.65499824}, 5117: {'Cluster ID': 3, 'Link Score': 0.65499824}, 2783: {'Cluster ID': 3, 'Link Score': 0.65499824}, 43772: {'Cluster ID': 4, 'Link Score': 0.65499824}, 5875: {'Cluster ID': 4, 'Link Score': 0.65499824}, 23292: {'Cluster ID': 5, 'Link Score': 0.65499824}, 150780: {'Cluster ID': 5, 'Link Score': 0.65499824}, 42235: {'Cluster ID': 6, 'Link Score': 0.65499824}, 24503: {'Cluster ID': 6, 'Link Score': 0.65499824}, 40187: {'Cluster ID': 7, 'Link Score': 0.65499824}, 29741: {'Cluster ID': 7, 'Link Score': 0.65499824}, 35067: {'Cluster ID': 8, 'Link Score': 0.65499824}, 78797: {'Cluster ID': 8, 'Link Score': 0.65499824}, 25339: {'Cluster ID': 9, 'Link Score': 0.65499824}, 760: {'Cluster ID': 9, 'Link Score': 0.65499824}, 9979: {'Cluster ID': 10, 'Link Score': 0.65499824}, 6296: {'Cluster ID': 10, 'Link Score': 0.65499824}, 8443: {'Cluster ID': 11, 'Link Score': 0.65499824}, 51708: {'Cluster ID': 11, 'Link Score': 0.65499824}, 15354: {'Cluster ID': 12, 'Link Score': 0.65499824}, 77038: {'Cluster ID': 12, 'Link Score': 0.65499824}, 7161: {'Cluster ID': 13, 'Link Score': 0.65499824}, 55723: {'Cluster ID': 13, 'Link Score': 0.65499824}, 505: {'Cluster ID': 14, 'Link Score': 0.65499824}, 168183: {'Cluster ID': 14, 'Link Score': 0.65499824}, 24824: {'Cluster ID': 15, 'Link Score': 0.65499824}, 37624: {'Cluster ID': 15, 'Link Score': 0.65499824}, 41206: {'Cluster ID': 16, 'Link Score': 0.65499824}, 83940: {'Cluster ID': 16, 'Link Score': 0.65499824}, 31734: {'Cluster ID': 17, 'Link Score': 0.65499824}, 18637: {'Cluster ID': 17, 'Link Score': 0.65499824}, 14582: {'Cluster ID': 18, 'Link Score': 0.65499824}, 46006: {'Cluster ID': 18, 'Link Score': 0.65499824}, 8694: {'Cluster ID': 19, 'Link Score': 0.65499824}, 132579: {'Cluster ID': 19, 'Link Score': 0.65499824}, 29429: {'Cluster ID': 20, 'Link Score': 0.65499824}, 30427: {'Cluster ID': 20, 'Link Score': 0.65499824}, 9204: {'Cluster ID': 21, 'Link Score': 0.65499824}, 39369: {'Cluster ID': 21, 'Link Score': 0.65499824}, 37618: {'Cluster ID': 22, 'Link Score': 0.65499824}, 14578: {'Cluster ID': 22, 'Link Score': 0.65499824}, 19186: {'Cluster ID': 23, 'Link Score': 0.65499824}, 33274: {'Cluster ID': 23, 'Link Score': 0.65499824}, 6386: {'Cluster ID': 24, 'Link Score': 0.65499824}, 55598: {'Cluster ID': 24, 'Link Score': 0.65499824}, 24305: {'Cluster ID': 25, 'Link Score': 0.65499824}, 23505: {'Cluster ID': 25, 'Link Score': 0.65499824}, 34800: {'Cluster ID': 26, 'Link Score': 0.65499824}, 19092: {'Cluster ID': 26, 'Link Score': 0.65499824}, 23534: {'Cluster ID': 27, 'Link Score': 0.65499824}, 71609: {'Cluster ID': 27, 'Link Score': 0.65499824}, 22254: {'Cluster ID': 28, 'Link Score': 0.65499824}, 30196: {'Cluster ID': 28, 'Link Score': 0.65499824}, 37357: {'Cluster ID': 29, 'Link Score': 0.65499824}, 5233: {'Cluster ID': 29, 'Link Score': 0.65499824}, 5357: {'Cluster ID': 30, 'Link Score': 0.65499824}, 51515: {'Cluster ID': 30, 'Link Score': 0.65499824}, 1005: {'Cluster ID': 31, 'Link Score': 0.65499824}, 27361: {'Cluster ID': 31, 'Link Score': 0.65499824}, 2028: {'Cluster ID': 32, 'Link Score': 0.65499824}, 39614: {'Cluster ID': 32, 'Link Score': 0.65499824}, 37867: {'Cluster ID': 33, 'Link Score': 0.65499824}, 33495: {'Cluster ID': 33, 'Link Score': 0.65499824}, 23019: {'Cluster ID': 34, 'Link Score': 0.65499824}, 73662: {'Cluster ID': 34, 'Link Score': 0.65499824}, 21227: {'Cluster ID': 35, 'Link Score': 0.65499824}, 102908: {'Cluster ID': 35, 'Link Score': 0.65499824}, 20714: {'Cluster ID': 36, 'Link Score': 0.65499824}, 8307: {'Cluster ID': 36, 'Link Score': 0.65499824}, 41961: {'Cluster ID': 37, 'Link Score': 0.65499824}, 13719: {'Cluster ID': 37, 'Link Score': 0.65499824}, 21225: {'Cluster ID': 38, 'Link Score': 0.65499824}, 5100: {'Cluster ID': 38, 'Link Score': 0.65499824}, 14825: {'Cluster ID': 39, 'Link Score': 0.65499824}, 16037: {'Cluster ID': 39, 'Link Score': 0.65499824}, 13033: {'Cluster ID': 40, 'Link Score': 0.65499824}, 38859: {'Cluster ID': 40, 'Link Score': 0.65499824}, 8937: {'Cluster ID': 41, 'Link Score': 0.65499824}, 118185: {'Cluster ID': 41, 'Link Score': 0.65499824}, 6889: {'Cluster ID': 42, 'Link Score': 0.65499824}, 3448: {'Cluster ID': 42, 'Link Score': 0.65499824}, 41192: {'Cluster ID': 43, 'Link Score': 0.65499824}, 92602: {'Cluster ID': 43, 'Link Score': 0.65499824}, 27112: {'Cluster ID': 44, 'Link Score': 0.65499824}, 48636: {'Cluster ID': 44, 'Link Score': 0.65499824}, 37863: {'Cluster ID': 45, 'Link Score': 0.65499824}, 18899: {'Cluster ID': 45, 'Link Score': 0.65499824}, 36071: {'Cluster ID': 46, 'Link Score': 0.65499824}, 50173: {'Cluster ID': 46, 'Link Score': 0.65499824}, 25063: {'Cluster ID': 47, 'Link Score': 0.65499824}, 14803: {'Cluster ID': 47, 'Link Score': 0.65499824}, 30694: {'Cluster ID': 48, 'Link Score': 0.65499824}, 21216: {'Cluster ID': 48, 'Link Score': 0.65499824}, 5862: {'Cluster ID': 49, 'Link Score': 0.65499824}, 53747: {'Cluster ID': 49, 'Link Score': 0.65499824}, 33508: {'Cluster ID': 50, 'Link Score': 0.65499824}, 482: {'Cluster ID': 50, 'Link Score': 0.65499824}, 32228: {'Cluster ID': 51, 'Link Score': 0.65499824}, 40959: {'Cluster ID': 51, 'Link Score': 0.65499824}, 4068: {'Cluster ID': 52, 'Link Score': 0.65499824}, 44085: {'Cluster ID': 52, 'Link Score': 0.65499824}, 25827: {'Cluster ID': 53, 'Link Score': 0.65499824}, 53635: {'Cluster ID': 53, 'Link Score': 0.65499824}, 3811: {'Cluster ID': 54, 'Link Score': 0.65499824}, 57017: {'Cluster ID': 54, 'Link Score': 0.65499824}, 26594: {'Cluster ID': 55, 'Link Score': 0.65499824}, 7883: {'Cluster ID': 55, 'Link Score': 0.65499824}, 24290: {'Cluster ID': 56, 'Link Score': 0.65499824}, 7395: {'Cluster ID': 56, 'Link Score': 0.65499824}, 4066: {'Cluster ID': 57, 'Link Score': 0.65499824}, 6751: {'Cluster ID': 57, 'Link Score': 0.65499824}, 38625: {'Cluster ID': 58, 'Link Score': 0.65499824}, 19191: {'Cluster ID': 1091, 'Link Score': 0.34062824}, 20193: {'Cluster ID': 59, 'Link Score': 0.65499824}, 32142: {'Cluster ID': 59, 'Link Score': 0.65499824}, 19169: {'Cluster ID': 60, 'Link Score': 0.65499824}, 20735: {'Cluster ID': 60, 'Link Score': 0.65499824}, 4577: {'Cluster ID': 61, 'Link Score': 0.65499824}, 86194: {'Cluster ID': 61, 'Link Score': 0.65499824}, 37856: {'Cluster ID': 62, 'Link Score': 0.65499824}, 49973: {'Cluster ID': 62, 'Link Score': 0.65499824}, 28896: {'Cluster ID': 63, 'Link Score': 0.65499824}, 46007: {'Cluster ID': 63, 'Link Score': 0.65499824}, 16608: {'Cluster ID': 64, 'Link Score': 0.65499824}, 78021: {'Cluster ID': 64, 'Link Score': 0.65499824}, 15840: {'Cluster ID': 65, 'Link Score': 0.65499824}, 174326: {'Cluster ID': 65, 'Link Score': 0.65499824}, 10720: {'Cluster ID': 66, 'Link Score': 0.65499824}, 93159: {'Cluster ID': 66, 'Link Score': 0.65499824}, 4832: {'Cluster ID': 67, 'Link Score': 0.65499824}, 58849: {'Cluster ID': 67, 'Link Score': 0.65499824}, 16607: {'Cluster ID': 68, 'Link Score': 0.65499824}, 62425: {'Cluster ID': 68, 'Link Score': 0.65499824}, 42717: {'Cluster ID': 69, 'Link Score': 0.65499824}, 6830: {'Cluster ID': 69, 'Link Score': 0.65499824}, 41436: {'Cluster ID': 70, 'Link Score': 0.65499824}, 24750: {'Cluster ID': 70, 'Link Score': 0.65499824}, 18908: {'Cluster ID': 71, 'Link Score': 0.65499824}, 57023: {'Cluster ID': 71, 'Link Score': 0.65499824}, 3036: {'Cluster ID': 72, 'Link Score': 0.65499824}, 64716: {'Cluster ID': 72, 'Link Score': 0.65499824}, 1244: {'Cluster ID': 73, 'Link Score': 0.65499824}, 95715: {'Cluster ID': 73, 'Link Score': 0.65499824}, 31451: {'Cluster ID': 74, 'Link Score': 0.65499824}, 60909: {'Cluster ID': 74, 'Link Score': 0.65499824}, 23259: {'Cluster ID': 75, 'Link Score': 0.65499824}, 167417: {'Cluster ID': 75, 'Link Score': 0.65499824}, 13531: {'Cluster ID': 76, 'Link Score': 0.65499824}, 132836: {'Cluster ID': 76, 'Link Score': 0.65499824}, 36058: {'Cluster ID': 77, 'Link Score': 0.65499824}, 36059: {'Cluster ID': 77, 'Link Score': 0.65499824}, 7642: {'Cluster ID': 78, 'Link Score': 0.65499824}, 36745: {'Cluster ID': 78, 'Link Score': 0.65499824}, 2010: {'Cluster ID': 79, 'Link Score': 0.65499824}, 42477: {'Cluster ID': 79, 'Link Score': 0.65499824}, 7128: {'Cluster ID': 80, 'Link Score': 0.65499824}, 14544: {'Cluster ID': 80, 'Link Score': 0.65499824}, 8919: {'Cluster ID': 81, 'Link Score': 0.65499824}, 82148: {'Cluster ID': 81, 'Link Score': 0.65499824}, 33238: {'Cluster ID': 82, 'Link Score': 0.65499824}, 76321: {'Cluster ID': 82, 'Link Score': 0.65499824}, 9942: {'Cluster ID': 83, 'Link Score': 0.65499824}, 48066: {'Cluster ID': 83, 'Link Score': 0.65499824}, 4309: {'Cluster ID': 84, 'Link Score': 0.65499824}, 40183: {'Cluster ID': 84, 'Link Score': 0.65499824}, 39636: {'Cluster ID': 85, 'Link Score': 0.65499824}, 37332: {'Cluster ID': 86, 'Link Score': 0.65499824}, 21657: {'Cluster ID': 86, 'Link Score': 0.65499824}, 31444: {'Cluster ID': 87, 'Link Score': 0.65499824}, 108250: {'Cluster ID': 87, 'Link Score': 0.65499824}, 45010: {'Cluster ID': 88, 'Link Score': 0.65499824}, 79346: {'Cluster ID': 88, 'Link Score': 0.65499824}, 7122: {'Cluster ID': 89, 'Link Score': 0.65499824}, 32511: {'Cluster ID': 89, 'Link Score': 0.65499824}, 1234: {'Cluster ID': 90, 'Link Score': 0.65499824}, 71031: {'Cluster ID': 90, 'Link Score': 0.65499824}, 14289: {'Cluster ID': 91, 'Link Score': 0.65499824}, 28031: {'Cluster ID': 91, 'Link Score': 0.65499824}, 5329: {'Cluster ID': 92, 'Link Score': 0.65499824}, 15021: {'Cluster ID': 92, 'Link Score': 0.65499824}, 36816: {'Cluster ID': 93, 'Link Score': 0.65499824}, 29555: {'Cluster ID': 93, 'Link Score': 0.65499824}, 17616: {'Cluster ID': 94, 'Link Score': 0.65499824}, 59029: {'Cluster ID': 94, 'Link Score': 0.65499824}, 8912: {'Cluster ID': 95, 'Link Score': 0.65499824}, 14514: {'Cluster ID': 95, 'Link Score': 0.65499824}, 20175: {'Cluster ID': 96, 'Link Score': 0.65499824}, 160213: {'Cluster ID': 96, 'Link Score': 0.65499824}, 1998: {'Cluster ID': 97, 'Link Score': 0.65499824}, 48639: {'Cluster ID': 97, 'Link Score': 0.65499824}, 38605: {'Cluster ID': 98, 'Link Score': 0.65499824}, 8782: {'Cluster ID': 98, 'Link Score': 0.65499824}, 1997: {'Cluster ID': 99, 'Link Score': 0.65499824}, 29682: {'Cluster ID': 99, 'Link Score': 0.65499824}, 22476: {'Cluster ID': 100, 'Link Score': 0.65499824}, 32509: {'Cluster ID': 100, 'Link Score': 0.65499824}, 6604: {'Cluster ID': 101, 'Link Score': 0.65499824}, 127971: {'Cluster ID': 101, 'Link Score': 0.65499824}, 29899: {'Cluster ID': 102, 'Link Score': 0.65499824}, 30198: {'Cluster ID': 102, 'Link Score': 0.65499824}, 28619: {'Cluster ID': 103, 'Link Score': 0.65499824}, 16148: {'Cluster ID': 103, 'Link Score': 0.65499824}, 21707: {'Cluster ID': 104, 'Link Score': 0.65499824}, 71935: {'Cluster ID': 104, 'Link Score': 0.65499824}, 19659: {'Cluster ID': 105, 'Link Score': 0.65499824}, 15448: {'Cluster ID': 105, 'Link Score': 0.65499824}, 16586: {'Cluster ID': 106, 'Link Score': 0.65499824}, 27805: {'Cluster ID': 106, 'Link Score': 0.65499824}, 1226: {'Cluster ID': 107, 'Link Score': 0.65499824}, 128932: {'Cluster ID': 107, 'Link Score': 0.65499824}, 34761: {'Cluster ID': 108, 'Link Score': 0.65499824}, 44532: {'Cluster ID': 108, 'Link Score': 0.65499824}, 24264: {'Cluster ID': 109, 'Link Score': 0.65499824}, 10443: {'Cluster ID': 109, 'Link Score': 0.65499824}, 41415: {'Cluster ID': 110, 'Link Score': 0.65499824}, 65770: {'Cluster ID': 110, 'Link Score': 0.65499824}, 36295: {'Cluster ID': 111, 'Link Score': 0.65499824}, 10659: {'Cluster ID': 111, 'Link Score': 0.65499824}, 34247: {'Cluster ID': 112, 'Link Score': 0.65499824}, 13723: {'Cluster ID': 112, 'Link Score': 0.65499824}, 6599: {'Cluster ID': 113, 'Link Score': 0.65499824}, 24785: {'Cluster ID': 113, 'Link Score': 0.65499824}, 38086: {'Cluster ID': 114, 'Link Score': 0.65499824}, 20166: {'Cluster ID': 114, 'Link Score': 0.65499824}, 36038: {'Cluster ID': 115, 'Link Score': 0.65499824}, 13311: {'Cluster ID': 115, 'Link Score': 0.65499824}, 32198: {'Cluster ID': 116, 'Link Score': 0.65499824}, 34811: {'Cluster ID': 116, 'Link Score': 0.65499824}, 24006: {'Cluster ID': 117, 'Link Score': 0.65499824}, 42844: {'Cluster ID': 117, 'Link Score': 0.65499824}, 14278: {'Cluster ID': 118, 'Link Score': 0.65499824}, 2682: {'Cluster ID': 118, 'Link Score': 0.65499824}, 35781: {'Cluster ID': 119, 'Link Score': 0.65499824}, 6537: {'Cluster ID': 119, 'Link Score': 0.65499824}, 24516: {'Cluster ID': 120, 'Link Score': 0.65499824}, 23796: {'Cluster ID': 120, 'Link Score': 0.65499824}, 24260: {'Cluster ID': 121, 'Link Score': 0.65499824}, 79860: {'Cluster ID': 121, 'Link Score': 0.65499824}, 20420: {'Cluster ID': 122, 'Link Score': 0.65499824}, 16075: {'Cluster ID': 122, 'Link Score': 0.65499824}, 20164: {'Cluster ID': 123, 'Link Score': 0.65499824}, 60888: {'Cluster ID': 123, 'Link Score': 0.65499824}, 13252: {'Cluster ID': 124, 'Link Score': 0.65499824}, 15084: {'Cluster ID': 124, 'Link Score': 0.65499824}, 1988: {'Cluster ID': 125, 'Link Score': 0.65499824}, 126694: {'Cluster ID': 125, 'Link Score': 0.65499824}, 39875: {'Cluster ID': 126, 'Link Score': 0.65499824}, 12254: {'Cluster ID': 624, 'Link Score': 0.61297876}, 33987: {'Cluster ID': 127, 'Link Score': 0.65499824}, 117743: {'Cluster ID': 127, 'Link Score': 0.65499824}, 450: {'Cluster ID': 128, 'Link Score': 0.65499824}, 182520: {'Cluster ID': 128, 'Link Score': 0.65499824}, 26561: {'Cluster ID': 129, 'Link Score': 0.65499824}, 87295: {'Cluster ID': 129, 'Link Score': 0.65499824}, 21697: {'Cluster ID': 130, 'Link Score': 0.65499824}, 18223: {'Cluster ID': 130, 'Link Score': 0.65499824}, 8129: {'Cluster ID': 131, 'Link Score': 0.65499824}, 28893: {'Cluster ID': 131, 'Link Score': 0.65499824}, 6081: {'Cluster ID': 132, 'Link Score': 0.65499824}, 56394: {'Cluster ID': 132, 'Link Score': 0.65499824}, 33216: {'Cluster ID': 133, 'Link Score': 0.65499824}, 15868: {'Cluster ID': 133, 'Link Score': 0.65499824}, 20416: {'Cluster ID': 134, 'Link Score': 0.65499824}, 10478: {'Cluster ID': 134, 'Link Score': 0.65499824}, 23999: {'Cluster ID': 135, 'Link Score': 0.65499824}, 25403: {'Cluster ID': 135, 'Link Score': 0.65499824}, 16575: {'Cluster ID': 136, 'Link Score': 0.65499824}, 50658: {'Cluster ID': 136, 'Link Score': 0.65499824}, 17598: {'Cluster ID': 137, 'Link Score': 0.65499824}, 80383: {'Cluster ID': 137, 'Link Score': 0.65499824}, 45245: {'Cluster ID': 138, 'Link Score': 0.65499824}, 42474: {'Cluster ID': 138, 'Link Score': 0.65499824}, 33725: {'Cluster ID': 139, 'Link Score': 0.65499824}, 74467: {'Cluster ID': 139, 'Link Score': 0.65499824}, 22461: {'Cluster ID': 140, 'Link Score': 0.65499824}, 54799: {'Cluster ID': 140, 'Link Score': 0.65499824}, 8125: {'Cluster ID': 141, 'Link Score': 0.65499824}, 153569: {'Cluster ID': 141, 'Link Score': 0.65499824}, 19132: {'Cluster ID': 142, 'Link Score': 0.65499824}, 15035: {'Cluster ID': 142, 'Link Score': 0.65499824}, 17340: {'Cluster ID': 143, 'Link Score': 0.65499824}, 61403: {'Cluster ID': 143, 'Link Score': 0.65499824}, 44731: {'Cluster ID': 144, 'Link Score': 0.65499824}, 61439: {'Cluster ID': 144, 'Link Score': 0.65499824}, 44475: {'Cluster ID': 145, 'Link Score': 0.65499824}, 33769: {'Cluster ID': 145, 'Link Score': 0.65499824}, 44219: {'Cluster ID': 146, 'Link Score': 0.65499824}, 88570: {'Cluster ID': 146, 'Link Score': 0.65499824}, 2235: {'Cluster ID': 147, 'Link Score': 0.65499824}, 23860: {'Cluster ID': 147, 'Link Score': 0.65499824}, 22970: {'Cluster ID': 148, 'Link Score': 0.65499824}, 73704: {'Cluster ID': 148, 'Link Score': 0.65499824}, 38585: {'Cluster ID': 149, 'Link Score': 0.65499824}, 7329: {'Cluster ID': 149, 'Link Score': 0.65499824}, 30137: {'Cluster ID': 150, 'Link Score': 0.65499824}, 69623: {'Cluster ID': 150, 'Link Score': 0.65499824}, 10681: {'Cluster ID': 151, 'Link Score': 0.65499824}, 232: {'Cluster ID': 151, 'Link Score': 0.65499824}, 2488: {'Cluster ID': 152, 'Link Score': 0.65499824}, 99310: {'Cluster ID': 152, 'Link Score': 0.65499824}, 30135: {'Cluster ID': 153, 'Link Score': 0.65499824}, 49401: {'Cluster ID': 153, 'Link Score': 0.65499824}, 44213: {'Cluster ID': 154, 'Link Score': 0.65499824}, 112083: {'Cluster ID': 154, 'Link Score': 0.65499824}, 19637: {'Cluster ID': 155, 'Link Score': 0.65499824}, 50796: {'Cluster ID': 155, 'Link Score': 0.65499824}, 30132: {'Cluster ID': 156, 'Link Score': 0.65499824}, 64750: {'Cluster ID': 156, 'Link Score': 0.65499824}, 14772: {'Cluster ID': 157, 'Link Score': 0.65499824}, 45048: {'Cluster ID': 157, 'Link Score': 0.65499824}, 10420: {'Cluster ID': 158, 'Link Score': 0.65499824}, 12467: {'Cluster ID': 158, 'Link Score': 0.65499824}, 26547: {'Cluster ID': 159, 'Link Score': 0.65499824}, 70616: {'Cluster ID': 159, 'Link Score': 0.65499824}, 30128: {'Cluster ID': 160, 'Link Score': 0.65499824}, 20935: {'Cluster ID': 160, 'Link Score': 0.65499824}, 33199: {'Cluster ID': 161, 'Link Score': 0.65499824}, 51883: {'Cluster ID': 161, 'Link Score': 0.65499824}, 30383: {'Cluster ID': 162, 'Link Score': 0.65499824}, 15064: {'Cluster ID': 162, 'Link Score': 0.65499824}, 28846: {'Cluster ID': 163, 'Link Score': 0.65499824}, 50611: {'Cluster ID': 163, 'Link Score': 0.65499824}, 9390: {'Cluster ID': 164, 'Link Score': 0.65499824}, 17093: {'Cluster ID': 164, 'Link Score': 0.65499824}, 36013: {'Cluster ID': 165, 'Link Score': 0.65499824}, 30207: {'Cluster ID': 165, 'Link Score': 0.65499824}, 30637: {'Cluster ID': 166, 'Link Score': 0.65499824}, 15234: {'Cluster ID': 166, 'Link Score': 0.65499824}, 17069: {'Cluster ID': 167, 'Link Score': 0.65499824}, 68548: {'Cluster ID': 167, 'Link Score': 0.65499824}, 28332: {'Cluster ID': 168, 'Link Score': 0.65499824}, 14266: {'Cluster ID': 168, 'Link Score': 0.65499824}, 15276: {'Cluster ID': 169, 'Link Score': 0.65499824}, 1103: {'Cluster ID': 169, 'Link Score': 0.65499824}, 12204: {'Cluster ID': 170, 'Link Score': 0.65499824}, 84223: {'Cluster ID': 170, 'Link Score': 0.65499824}, 2476: {'Cluster ID': 171, 'Link Score': 0.65499824}, 95640: {'Cluster ID': 171, 'Link Score': 0.65499824}, 5803: {'Cluster ID': 172, 'Link Score': 0.65499824}, 11263: {'Cluster ID': 172, 'Link Score': 0.65499824}, 32938: {'Cluster ID': 173, 'Link Score': 0.65499824}, 2842: {'Cluster ID': 173, 'Link Score': 0.65499824}, 5802: {'Cluster ID': 174, 'Link Score': 0.65499824}, 15327: {'Cluster ID': 174, 'Link Score': 0.65499824}, 39337: {'Cluster ID': 175, 'Link Score': 0.65499824}, 28639: {'Cluster ID': 175, 'Link Score': 0.65499824}, 9897: {'Cluster ID': 176, 'Link Score': 0.65499824}, 60374: {'Cluster ID': 176, 'Link Score': 0.65499824}, 2729: {'Cluster ID': 177, 'Link Score': 0.65499824}, 109823: {'Cluster ID': 177, 'Link Score': 0.65499824}, 37032: {'Cluster ID': 178, 'Link Score': 0.65499824}, 10124: {'Cluster ID': 178, 'Link Score': 0.65499824}, 7592: {'Cluster ID': 179, 'Link Score': 0.65499824}, 83961: {'Cluster ID': 179, 'Link Score': 0.65499824}, 24487: {'Cluster ID': 180, 'Link Score': 0.65499824}, 23563: {'Cluster ID': 180, 'Link Score': 0.65499824}, 12199: {'Cluster ID': 181, 'Link Score': 0.65499824}, 64474: {'Cluster ID': 181, 'Link Score': 0.65499824}, 11943: {'Cluster ID': 182, 'Link Score': 0.65499824}, 30630: {'Cluster ID': 182, 'Link Score': 0.65499824}, 45222: {'Cluster ID': 183, 'Link Score': 0.65499824}, 28079: {'Cluster ID': 183, 'Link Score': 0.65499824}, 21414: {'Cluster ID': 184, 'Link Score': 0.65499824}, 18174: {'Cluster ID': 184, 'Link Score': 0.65499824}, 7078: {'Cluster ID': 185, 'Link Score': 0.65499824}, 65686: {'Cluster ID': 185, 'Link Score': 0.65499824}, 29092: {'Cluster ID': 186, 'Link Score': 0.65499824}, 27107: {'Cluster ID': 186, 'Link Score': 0.65499824}, 24484: {'Cluster ID': 187, 'Link Score': 0.65499824}, 30628: {'Cluster ID': 187, 'Link Score': 0.65499824}, 8868: {'Cluster ID': 188, 'Link Score': 0.65499824}, 46835: {'Cluster ID': 188, 'Link Score': 0.65499824}, 25251: {'Cluster ID': 189, 'Link Score': 0.65499824}, 39360: {'Cluster ID': 189, 'Link Score': 0.65499824}, 15267: {'Cluster ID': 190, 'Link Score': 0.65499824}, 73727: {'Cluster ID': 190, 'Link Score': 0.65499824}, 163: {'Cluster ID': 191, 'Link Score': 0.65499824}, 93112: {'Cluster ID': 191, 'Link Score': 0.65499824}, 44194: {'Cluster ID': 192, 'Link Score': 0.65499824}, 12346: {'Cluster ID': 520, 'Link Score': 0.646783}, 17826: {'Cluster ID': 193, 'Link Score': 0.65499824}, 24239: {'Cluster ID': 193, 'Link Score': 0.65499824}, 16802: {'Cluster ID': 194, 'Link Score': 0.65499824}, 42991: {'Cluster ID': 194, 'Link Score': 0.65499824}, 22177: {'Cluster ID': 195, 'Link Score': 0.65499824}, 101182: {'Cluster ID': 195, 'Link Score': 0.65499824}, 5025: {'Cluster ID': 196, 'Link Score': 0.65499824}, 45822: {'Cluster ID': 196, 'Link Score': 0.65499824}, 37791: {'Cluster ID': 197, 'Link Score': 0.65499824}, 6749: {'Cluster ID': 197, 'Link Score': 0.65499824}, 12447: {'Cluster ID': 198, 'Link Score': 0.65499824}, 119: {'Cluster ID': 198, 'Link Score': 0.65499824}, 16542: {'Cluster ID': 199, 'Link Score': 0.65499824}, 48593: {'Cluster ID': 199, 'Link Score': 0.65499824}, 20637: {'Cluster ID': 200, 'Link Score': 0.65499824}, 24012: {'Cluster ID': 200, 'Link Score': 0.65499824}, 28060: {'Cluster ID': 201, 'Link Score': 0.65499824}, 32225: {'Cluster ID': 201, 'Link Score': 0.65499824}, 15516: {'Cluster ID': 202, 'Link Score': 0.65499824}, 160510: {'Cluster ID': 202, 'Link Score': 0.65499824}, 33179: {'Cluster ID': 203, 'Link Score': 0.65499824}, 75712: {'Cluster ID': 203, 'Link Score': 0.65499824}, 26267: {'Cluster ID': 204, 'Link Score': 0.65499824}, 662: {'Cluster ID': 204, 'Link Score': 0.65499824}, 4251: {'Cluster ID': 205, 'Link Score': 0.65499824}, 50175: {'Cluster ID': 205, 'Link Score': 0.65499824}, 44954: {'Cluster ID': 206, 'Link Score': 0.65499824}, 29396: {'Cluster ID': 206, 'Link Score': 0.65499824}, 22170: {'Cluster ID': 207, 'Link Score': 0.65499824}, 17389: {'Cluster ID': 207, 'Link Score': 0.65499824}, 14745: {'Cluster ID': 208, 'Link Score': 0.65499824}, 22696: {'Cluster ID': 208, 'Link Score': 0.65499824}, 14233: {'Cluster ID': 209, 'Link Score': 0.65499824}, 14768: {'Cluster ID': 209, 'Link Score': 0.65499824}, 13721: {'Cluster ID': 210, 'Link Score': 0.65499824}, 35583: {'Cluster ID': 210, 'Link Score': 0.65499824}, 12441: {'Cluster ID': 211, 'Link Score': 0.65499824}, 188104: {'Cluster ID': 211, 'Link Score': 0.65499824}, 38040: {'Cluster ID': 212, 'Link Score': 0.65499824}, 48852: {'Cluster ID': 212, 'Link Score': 0.65499824}, 18584: {'Cluster ID': 213, 'Link Score': 0.65499824}, 36298: {'Cluster ID': 213, 'Link Score': 0.65499824}, 9368: {'Cluster ID': 214, 'Link Score': 0.65499824}, 49273: {'Cluster ID': 214, 'Link Score': 0.65499824}, 25495: {'Cluster ID': 215, 'Link Score': 0.65499824}, 88442: {'Cluster ID': 215, 'Link Score': 0.65499824}, 4247: {'Cluster ID': 216, 'Link Score': 0.65499824}, 49386: {'Cluster ID': 216, 'Link Score': 0.65499824}, 32406: {'Cluster ID': 217, 'Link Score': 0.65499824}, 46042: {'Cluster ID': 217, 'Link Score': 0.65499824}, 4246: {'Cluster ID': 218, 'Link Score': 0.65499824}, 32170: {'Cluster ID': 218, 'Link Score': 0.65499824}, 1941: {'Cluster ID': 219, 'Link Score': 0.65499824}, 31419: {'Cluster ID': 219, 'Link Score': 0.65499824}, 8083: {'Cluster ID': 220, 'Link Score': 0.65499824}, 6801: {'Cluster ID': 220, 'Link Score': 0.65499824}, 147: {'Cluster ID': 221, 'Link Score': 0.65499824}, 163475: {'Cluster ID': 221, 'Link Score': 0.65499824}, 31634: {'Cluster ID': 222, 'Link Score': 0.65499824}, 39145: {'Cluster ID': 222, 'Link Score': 0.65499824}, 28560: {'Cluster ID': 223, 'Link Score': 0.65499824}, 58873: {'Cluster ID': 223, 'Link Score': 0.65499824}, 13712: {'Cluster ID': 224, 'Link Score': 0.65499824}, 4536: {'Cluster ID': 224, 'Link Score': 0.65499824}, 41871: {'Cluster ID': 225, 'Link Score': 0.65499824}, 69861: {'Cluster ID': 225, 'Link Score': 0.65499824}, 26255: {'Cluster ID': 226, 'Link Score': 0.65499824}, 2772: {'Cluster ID': 226, 'Link Score': 0.65499824}, 23183: {'Cluster ID': 227, 'Link Score': 0.65499824}, 74465: {'Cluster ID': 227, 'Link Score': 0.65499824}, 12175: {'Cluster ID': 228, 'Link Score': 0.65499824}, 70283: {'Cluster ID': 228, 'Link Score': 0.65499824}, 8591: {'Cluster ID': 229, 'Link Score': 0.65499824}, 69263: {'Cluster ID': 229, 'Link Score': 0.65499824}, 3727: {'Cluster ID': 766, 'Link Score': 0.5446886}, 19662: {'Cluster ID': 230, 'Link Score': 0.65499824}, 39822: {'Cluster ID': 231, 'Link Score': 0.65499824}, 9799: {'Cluster ID': 231, 'Link Score': 0.65499824}, 38542: {'Cluster ID': 232, 'Link Score': 0.65499824}, 36028: {'Cluster ID': 232, 'Link Score': 0.65499824}, 22669: {'Cluster ID': 233, 'Link Score': 0.65499824}, 83440: {'Cluster ID': 233, 'Link Score': 0.65499824}, 29834: {'Cluster ID': 234, 'Link Score': 0.65499824}, 5051: {'Cluster ID': 234, 'Link Score': 0.65499824}, 9609: {'Cluster ID': 235, 'Link Score': 0.65499824}, 30317: {'Cluster ID': 235, 'Link Score': 0.65499824}, 33160: {'Cluster ID': 236, 'Link Score': 0.65499824}, 19801: {'Cluster ID': 236, 'Link Score': 0.65499824}, 15240: {'Cluster ID': 237, 'Link Score': 0.65499824}, 13808: {'Cluster ID': 237, 'Link Score': 0.65499824}, 11400: {'Cluster ID': 238, 'Link Score': 0.65499824}, 174844: {'Cluster ID': 238, 'Link Score': 0.65499824}, 34951: {'Cluster ID': 239, 'Link Score': 0.65499824}, 1774: {'Cluster ID': 239, 'Link Score': 0.65499824}, 23431: {'Cluster ID': 240, 'Link Score': 0.65499824}, 16120: {'Cluster ID': 240, 'Link Score': 0.65499824}, 7559: {'Cluster ID': 241, 'Link Score': 0.65499824}, 88051: {'Cluster ID': 241, 'Link Score': 0.65499824}, 8580: {'Cluster ID': 242, 'Link Score': 0.65499824}, 84735: {'Cluster ID': 242, 'Link Score': 0.65499824}, 29058: {'Cluster ID': 243, 'Link Score': 0.65499824}, 1292: {'Cluster ID': 243, 'Link Score': 0.65499824}, 4225: {'Cluster ID': 244, 'Link Score': 0.65499824}, 78335: {'Cluster ID': 244, 'Link Score': 0.65499824}, 39040: {'Cluster ID': 245, 'Link Score': 0.65499824}, 78033: {'Cluster ID': 245, 'Link Score': 0.65499824}, 29056: {'Cluster ID': 246, 'Link Score': 0.65499824}, 73708: {'Cluster ID': 246, 'Link Score': 0.65499824}, 9856: {'Cluster ID': 247, 'Link Score': 0.65499824}, 75504: {'Cluster ID': 247, 'Link Score': 0.65499824}, 17791: {'Cluster ID': 248, 'Link Score': 0.65499824}, 60671: {'Cluster ID': 248, 'Link Score': 0.65499824}, 2943: {'Cluster ID': 249, 'Link Score': 0.65499824}, 123108: {'Cluster ID': 249, 'Link Score': 0.65499824}, 21629: {'Cluster ID': 250, 'Link Score': 0.65499824}, 7247: {'Cluster ID': 250, 'Link Score': 0.65499824}, 22908: {'Cluster ID': 251, 'Link Score': 0.65499824}, 8011: {'Cluster ID': 251, 'Link Score': 0.65499824}, 19836: {'Cluster ID': 252, 'Link Score': 0.65499824}, 9381: {'Cluster ID': 252, 'Link Score': 0.65499824}, 18812: {'Cluster ID': 253, 'Link Score': 0.65499824}, 3792: {'Cluster ID': 253, 'Link Score': 0.65499824}, 4220: {'Cluster ID': 254, 'Link Score': 0.65499824}, 24826: {'Cluster ID': 254, 'Link Score': 0.65499824}, 37499: {'Cluster ID': 255, 'Link Score': 0.65499824}, 51320: {'Cluster ID': 255, 'Link Score': 0.65499824}, 13177: {'Cluster ID': 486, 'Link Score': 0.65499824}, 187072: {'Cluster ID': 256, 'Link Score': 0.65499824}, 8825: {'Cluster ID': 257, 'Link Score': 0.65499824}, 46335: {'Cluster ID': 257, 'Link Score': 0.65499824}, 13688: {'Cluster ID': 258, 'Link Score': 0.65499824}, 118775: {'Cluster ID': 258, 'Link Score': 0.65499824}, 34679: {'Cluster ID': 259, 'Link Score': 0.65499824}, 167164: {'Cluster ID': 259, 'Link Score': 0.65499824}, 31607: {'Cluster ID': 260, 'Link Score': 0.65499824}, 93439: {'Cluster ID': 260, 'Link Score': 0.65499824}, 6263: {'Cluster ID': 261, 'Link Score': 0.65499824}, 144316: {'Cluster ID': 261, 'Link Score': 0.65499824}, 38262: {'Cluster ID': 262, 'Link Score': 0.65499824}, 62709: {'Cluster ID': 262, 'Link Score': 0.65499824}, 36213: {'Cluster ID': 263, 'Link Score': 0.65499824}, 110426: {'Cluster ID': 263, 'Link Score': 0.65499824}, 24692: {'Cluster ID': 264, 'Link Score': 0.65499824}, 18658: {'Cluster ID': 264, 'Link Score': 0.65499824}, 39282: {'Cluster ID': 265, 'Link Score': 0.65499824}, 4788: {'Cluster ID': 265, 'Link Score': 0.65499824}, 19570: {'Cluster ID': 266, 'Link Score': 0.65499824}, 130965: {'Cluster ID': 266, 'Link Score': 0.65499824}, 30320: {'Cluster ID': 267, 'Link Score': 0.65499824}, 36812: {'Cluster ID': 267, 'Link Score': 0.65499824}, 9072: {'Cluster ID': 268, 'Link Score': 0.65499824}, 37504: {'Cluster ID': 268, 'Link Score': 0.65499824}, 8560: {'Cluster ID': 269, 'Link Score': 0.65499824}, 105688: {'Cluster ID': 269, 'Link Score': 0.65499824}, 18287: {'Cluster ID': 270, 'Link Score': 0.65499824}, 62252: {'Cluster ID': 270, 'Link Score': 0.65499824}, 43118: {'Cluster ID': 271, 'Link Score': 0.65499824}, 61088: {'Cluster ID': 271, 'Link Score': 0.65499824}, 32110: {'Cluster ID': 272, 'Link Score': 0.65499824}, 11673: {'Cluster ID': 272, 'Link Score': 0.65499824}, 12654: {'Cluster ID': 273, 'Link Score': 0.65499824}, 15865: {'Cluster ID': 273, 'Link Score': 0.65499824}, 13933: {'Cluster ID': 274, 'Link Score': 0.65499824}, 28924: {'Cluster ID': 274, 'Link Score': 0.65499824}, 1133: {'Cluster ID': 275, 'Link Score': 0.65499824}, 54013: {'Cluster ID': 275, 'Link Score': 0.65499824}, 17515: {'Cluster ID': 276, 'Link Score': 0.65499824}, 114022: {'Cluster ID': 276, 'Link Score': 0.65499824}, 8043: {'Cluster ID': 277, 'Link Score': 0.65499824}, 118002: {'Cluster ID': 277, 'Link Score': 0.65499824}, 39018: {'Cluster ID': 545, 'Link Score': 0.6426422}, 15518: {'Cluster ID': 278, 'Link Score': 0.65499824}, 27498: {'Cluster ID': 279, 'Link Score': 0.65499824}, 3619: {'Cluster ID': 279, 'Link Score': 0.65499824}, 44649: {'Cluster ID': 280, 'Link Score': 0.65499824}, 11196: {'Cluster ID': 280, 'Link Score': 0.65499824}, 41319: {'Cluster ID': 281, 'Link Score': 0.65499824}, 34510: {'Cluster ID': 281, 'Link Score': 0.65499824}, 16231: {'Cluster ID': 282, 'Link Score': 0.65499824}, 53166: {'Cluster ID': 282, 'Link Score': 0.65499824}, 4199: {'Cluster ID': 283, 'Link Score': 0.65499824}, 22009: {'Cluster ID': 1070, 'Link Score': 0.35802826}, 26214: {'Cluster ID': 284, 'Link Score': 0.65499824}, 22013: {'Cluster ID': 284, 'Link Score': 0.65499824}, 15974: {'Cluster ID': 285, 'Link Score': 0.65499824}, 61356: {'Cluster ID': 285, 'Link Score': 0.65499824}, 14182: {'Cluster ID': 286, 'Link Score': 0.65499824}, 49387: {'Cluster ID': 286, 'Link Score': 0.65499824}, 44389: {'Cluster ID': 287, 'Link Score': 0.65499824}, 14322: {'Cluster ID': 287, 'Link Score': 0.65499824}, 32613: {'Cluster ID': 288, 'Link Score': 0.65499824}, 2215: {'Cluster ID': 288, 'Link Score': 0.65499824}, 16485: {'Cluster ID': 289, 'Link Score': 0.65499824}, 38109: {'Cluster ID': 289, 'Link Score': 0.65499824}, 40548: {'Cluster ID': 290, 'Link Score': 0.65499824}, 26013: {'Cluster ID': 290, 'Link Score': 0.65499824}, 10852: {'Cluster ID': 291, 'Link Score': 0.65499824}, 140753: {'Cluster ID': 291, 'Link Score': 0.65499824}, 611: {'Cluster ID': 292, 'Link Score': 0.65499824}, 4798: {'Cluster ID': 292, 'Link Score': 0.65499824}, 32354: {'Cluster ID': 293, 'Link Score': 0.65499824}, 57035: {'Cluster ID': 293, 'Link Score': 0.65499824}, 30818: {'Cluster ID': 294, 'Link Score': 0.65499824}, 6421: {'Cluster ID': 294, 'Link Score': 0.65499824}, 23138: {'Cluster ID': 295, 'Link Score': 0.65499824}, 42080: {'Cluster ID': 295, 'Link Score': 0.65499824}, 14690: {'Cluster ID': 296, 'Link Score': 0.65499824}, 17106: {'Cluster ID': 296, 'Link Score': 0.65499824}, 13154: {'Cluster ID': 297, 'Link Score': 0.65499824}, 24814: {'Cluster ID': 297, 'Link Score': 0.65499824}, 4194: {'Cluster ID': 298, 'Link Score': 0.65499824}, 36577: {'Cluster ID': 298, 'Link Score': 0.65499824}, 14944: {'Cluster ID': 299, 'Link Score': 0.65499824}, 26070: {'Cluster ID': 299, 'Link Score': 0.65499824}, 32351: {'Cluster ID': 300, 'Link Score': 0.65499824}, 171501: {'Cluster ID': 300, 'Link Score': 0.65499824}, 7263: {'Cluster ID': 301, 'Link Score': 0.65499824}, 38574: {'Cluster ID': 301, 'Link Score': 0.65499824}, 1119: {'Cluster ID': 302, 'Link Score': 0.65499824}, 134828: {'Cluster ID': 302, 'Link Score': 0.65499824}, 44638: {'Cluster ID': 303, 'Link Score': 0.65499824}, 4578: {'Cluster ID': 303, 'Link Score': 0.65499824}, 17246: {'Cluster ID': 304, 'Link Score': 0.65499824}, 123387: {'Cluster ID': 304, 'Link Score': 0.65499824}, 606: {'Cluster ID': 305, 'Link Score': 0.65499824}, 84211: {'Cluster ID': 305, 'Link Score': 0.65499824}, 2908: {'Cluster ID': 306, 'Link Score': 0.65499824}, 118147: {'Cluster ID': 306, 'Link Score': 0.65499824}, 604: {'Cluster ID': 307, 'Link Score': 0.65499824}, 38513: {'Cluster ID': 307, 'Link Score': 0.65499824}, 43867: {'Cluster ID': 308, 'Link Score': 0.65499824}, 86003: {'Cluster ID': 308, 'Link Score': 0.65499824}, 31835: {'Cluster ID': 309, 'Link Score': 0.65499824}, 74747: {'Cluster ID': 309, 'Link Score': 0.65499824}, 40026: {'Cluster ID': 310, 'Link Score': 0.65499824}, 89065: {'Cluster ID': 310, 'Link Score': 0.65499824}, 36698: {'Cluster ID': 311, 'Link Score': 0.65499824}, 129177: {'Cluster ID': 311, 'Link Score': 0.65499824}, 21337: {'Cluster ID': 312, 'Link Score': 0.65499824}, 11883: {'Cluster ID': 312, 'Link Score': 0.65499824}, 24408: {'Cluster ID': 313, 'Link Score': 0.65499824}, 87807: {'Cluster ID': 313, 'Link Score': 0.65499824}, 20312: {'Cluster ID': 314, 'Link Score': 0.65499824}, 4335: {'Cluster ID': 314, 'Link Score': 0.65499824}, 6232: {'Cluster ID': 315, 'Link Score': 0.65499824}, 155370: {'Cluster ID': 315, 'Link Score': 0.65499824}, 21078: {'Cluster ID': 316, 'Link Score': 0.65499824}, 40612: {'Cluster ID': 316, 'Link Score': 0.65499824}, 18262: {'Cluster ID': 317, 'Link Score': 0.65499824}, 2123: {'Cluster ID': 317, 'Link Score': 0.65499824}, 14934: {'Cluster ID': 318, 'Link Score': 0.65499824}, 17082: {'Cluster ID': 984, 'Link Score': 0.42052}, 34901: {'Cluster ID': 319, 'Link Score': 0.65499824}, 3327: {'Cluster ID': 319, 'Link Score': 0.65499824}, 29269: {'Cluster ID': 320, 'Link Score': 0.65499824}, 6118: {'Cluster ID': 320, 'Link Score': 0.65499824}, 42066: {'Cluster ID': 321, 'Link Score': 0.65499824}, 101368: {'Cluster ID': 321, 'Link Score': 0.65499824}, 35410: {'Cluster ID': 322, 'Link Score': 0.65499824}, 6269: {'Cluster ID': 322, 'Link Score': 0.65499824}, 8786: {'Cluster ID': 323, 'Link Score': 0.65499824}, 48106: {'Cluster ID': 323, 'Link Score': 0.65499824}, 40017: {'Cluster ID': 324, 'Link Score': 0.65499824}, 98301: {'Cluster ID': 324, 'Link Score': 0.65499824}, 34129: {'Cluster ID': 325, 'Link Score': 0.65499824}, 42168: {'Cluster ID': 325, 'Link Score': 0.65499824}, 15441: {'Cluster ID': 326, 'Link Score': 0.65499824}, 34274: {'Cluster ID': 326, 'Link Score': 0.65499824}, 12113: {'Cluster ID': 327, 'Link Score': 0.65499824}, 19777: {'Cluster ID': 327, 'Link Score': 0.65499824}, 38224: {'Cluster ID': 328, 'Link Score': 0.65499824}, 10220: {'Cluster ID': 328, 'Link Score': 0.65499824}, 1359: {'Cluster ID': 329, 'Link Score': 0.65499824}, 113621: {'Cluster ID': 329, 'Link Score': 0.65499824}, 29774: {'Cluster ID': 330, 'Link Score': 0.65499824}, 6316: {'Cluster ID': 330, 'Link Score': 0.65499824}, 27982: {'Cluster ID': 331, 'Link Score': 0.65499824}, 8956: {'Cluster ID': 331, 'Link Score': 0.65499824}, 19790: {'Cluster ID': 332, 'Link Score': 0.65499824}, 27813: {'Cluster ID': 332, 'Link Score': 0.65499824}, 38733: {'Cluster ID': 333, 'Link Score': 0.65499824}, 140232: {'Cluster ID': 333, 'Link Score': 0.65499824}, 845: {'Cluster ID': 334, 'Link Score': 0.65499824}, 75477: {'Cluster ID': 334, 'Link Score': 0.65499824}, 42316: {'Cluster ID': 335, 'Link Score': 0.65499824}, 41864: {'Cluster ID': 335, 'Link Score': 0.65499824}, 35147: {'Cluster ID': 336, 'Link Score': 0.65499824}, 2390: {'Cluster ID': 336, 'Link Score': 0.65499824}, 25674: {'Cluster ID': 337, 'Link Score': 0.65499824}, 1647: {'Cluster ID': 337, 'Link Score': 0.65499824}, 18250: {'Cluster ID': 338, 'Link Score': 0.65499824}, 28392: {'Cluster ID': 338, 'Link Score': 0.65499824}, 22089: {'Cluster ID': 339, 'Link Score': 0.65499824}, 48623: {'Cluster ID': 339, 'Link Score': 0.65499824}, 38984: {'Cluster ID': 340, 'Link Score': 0.65499824}, 27876: {'Cluster ID': 340, 'Link Score': 0.65499824}, 37448: {'Cluster ID': 341, 'Link Score': 0.65499824}, 17052: {'Cluster ID': 341, 'Link Score': 0.65499824}, 15432: {'Cluster ID': 342, 'Link Score': 0.65499824}, 67242: {'Cluster ID': 342, 'Link Score': 0.65499824}, 38983: {'Cluster ID': 343, 'Link Score': 0.65499824}, 1017: {'Cluster ID': 343, 'Link Score': 0.65499824}, 33607: {'Cluster ID': 344, 'Link Score': 0.65499824}, 73680: {'Cluster ID': 344, 'Link Score': 0.65499824}, 15175: {'Cluster ID': 345, 'Link Score': 0.65499824}, 52306: {'Cluster ID': 345, 'Link Score': 0.65499824}, 37958: {'Cluster ID': 346, 'Link Score': 0.65499824}, 119854: {'Cluster ID': 346, 'Link Score': 0.65499824}, 42308: {'Cluster ID': 347, 'Link Score': 0.65499824}, 105983: {'Cluster ID': 347, 'Link Score': 0.65499824}, 36164: {'Cluster ID': 348, 'Link Score': 0.65499824}, 54756: {'Cluster ID': 348, 'Link Score': 0.65499824}, 26436: {'Cluster ID': 349, 'Link Score': 0.65499824}, 181156: {'Cluster ID': 349, 'Link Score': 0.65499824}, 41795: {'Cluster ID': 350, 'Link Score': 0.65499824}, 21853: {'Cluster ID': 350, 'Link Score': 0.65499824}, 39235: {'Cluster ID': 351, 'Link Score': 0.65499824}, 68592: {'Cluster ID': 351, 'Link Score': 0.65499824}, 36675: {'Cluster ID': 352, 'Link Score': 0.65499824}, 3754: {'Cluster ID': 352, 'Link Score': 0.65499824}, 23363: {'Cluster ID': 353, 'Link Score': 0.65499824}, 14298: {'Cluster ID': 353, 'Link Score': 0.65499824}, 40514: {'Cluster ID': 354, 'Link Score': 0.65499824}, 74442: {'Cluster ID': 354, 'Link Score': 0.65499824}, 25922: {'Cluster ID': 355, 'Link Score': 0.65499824}, 28330: {'Cluster ID': 355, 'Link Score': 0.65499824}, 31553: {'Cluster ID': 356, 'Link Score': 0.65499824}, 21634: {'Cluster ID': 356, 'Link Score': 0.65499824}, 23105: {'Cluster ID': 357, 'Link Score': 0.65499824}, 57585: {'Cluster ID': 357, 'Link Score': 0.65499824}, 34879: {'Cluster ID': 358, 'Link Score': 0.65499824}, 18356: {'Cluster ID': 358, 'Link Score': 0.65499824}, 24383: {'Cluster ID': 359, 'Link Score': 0.65499824}, 91898: {'Cluster ID': 359, 'Link Score': 0.65499824}, 6463: {'Cluster ID': 360, 'Link Score': 0.65499824}, 73123: {'Cluster ID': 360, 'Link Score': 0.65499824}, 35902: {'Cluster ID': 361, 'Link Score': 0.65499824}, 7868: {'Cluster ID': 361, 'Link Score': 0.65499824}, 22333: {'Cluster ID': 362, 'Link Score': 0.65499824}, 4766: {'Cluster ID': 362, 'Link Score': 0.65499824}, 16445: {'Cluster ID': 363, 'Link Score': 0.65499824}, 124098: {'Cluster ID': 363, 'Link Score': 0.65499824}, 16956: {'Cluster ID': 364, 'Link Score': 0.65499824}, 71406: {'Cluster ID': 364, 'Link Score': 0.65499824}, 7996: {'Cluster ID': 365, 'Link Score': 0.65499824}, 29466: {'Cluster ID': 365, 'Link Score': 0.65499824}, 40507: {'Cluster ID': 366, 'Link Score': 0.65499824}, 26345: {'Cluster ID': 366, 'Link Score': 0.65499824}, 44857: {'Cluster ID': 367, 'Link Score': 0.65499824}, 33001: {'Cluster ID': 367, 'Link Score': 0.65499824}, 43577: {'Cluster ID': 368, 'Link Score': 0.65499824}, 9192: {'Cluster ID': 368, 'Link Score': 0.65499824}, 35129: {'Cluster ID': 369, 'Link Score': 0.65499824}, 7108: {'Cluster ID': 369, 'Link Score': 0.65499824}, 10809: {'Cluster ID': 370, 'Link Score': 0.65499824}, 60600: {'Cluster ID': 370, 'Link Score': 0.65499824}, 35383: {'Cluster ID': 371, 'Link Score': 0.65499824}, 69881: {'Cluster ID': 371, 'Link Score': 0.65499824}, 35127: {'Cluster ID': 372, 'Link Score': 0.65499824}, 128749: {'Cluster ID': 372, 'Link Score': 0.65499824}, 2871: {'Cluster ID': 373, 'Link Score': 0.65499824}, 29373: {'Cluster ID': 373, 'Link Score': 0.65499824}, 16438: {'Cluster ID': 374, 'Link Score': 0.65499824}, 32243: {'Cluster ID': 374, 'Link Score': 0.65499824}, 39221: {'Cluster ID': 375, 'Link Score': 0.65499824}, 36299: {'Cluster ID': 375, 'Link Score': 0.65499824}, 13364: {'Cluster ID': 376, 'Link Score': 0.65499824}, 17373: {'Cluster ID': 376, 'Link Score': 0.65499824}, 18483: {'Cluster ID': 377, 'Link Score': 0.65499824}, 38882: {'Cluster ID': 377, 'Link Score': 0.65499824}, 10035: {'Cluster ID': 378, 'Link Score': 0.65499824}, 71121: {'Cluster ID': 378, 'Link Score': 0.65499824}, 40498: {'Cluster ID': 379, 'Link Score': 0.65499824}, 47091: {'Cluster ID': 379, 'Link Score': 0.65499824}, 27698: {'Cluster ID': 380, 'Link Score': 0.65499824}, 36573: {'Cluster ID': 380, 'Link Score': 0.65499824}, 17202: {'Cluster ID': 381, 'Link Score': 0.65499824}, 97251: {'Cluster ID': 381, 'Link Score': 0.65499824}, 14386: {'Cluster ID': 382, 'Link Score': 0.65499824}, 31944: {'Cluster ID': 382, 'Link Score': 0.65499824}, 306: {'Cluster ID': 383, 'Link Score': 0.65499824}, 154092: {'Cluster ID': 383, 'Link Score': 0.65499824}, 40497: {'Cluster ID': 384, 'Link Score': 0.65499824}, 2480: {'Cluster ID': 384, 'Link Score': 0.65499824}, 39473: {'Cluster ID': 385, 'Link Score': 0.65499824}, 26714: {'Cluster ID': 385, 'Link Score': 0.65499824}, 27441: {'Cluster ID': 386, 'Link Score': 0.65499824}, 8184: {'Cluster ID': 386, 'Link Score': 0.65499824}, 9009: {'Cluster ID': 387, 'Link Score': 0.65499824}, 45874: {'Cluster ID': 387, 'Link Score': 0.65499824}, 4145: {'Cluster ID': 388, 'Link Score': 0.65499824}, 79261: {'Cluster ID': 388, 'Link Score': 0.65499824}, 9776: {'Cluster ID': 389, 'Link Score': 0.65499824}, 2770: {'Cluster ID': 389, 'Link Score': 0.65499824}, 25135: {'Cluster ID': 390, 'Link Score': 0.65499824}, 45811: {'Cluster ID': 390, 'Link Score': 0.65499824}, 16174: {'Cluster ID': 391, 'Link Score': 0.65499824}, 22751: {'Cluster ID': 391, 'Link Score': 0.65499824}, 22317: {'Cluster ID': 392, 'Link Score': 0.65499824}, 110271: {'Cluster ID': 392, 'Link Score': 0.65499824}, 45610: {'Cluster ID': 393, 'Link Score': 0.65499824}, 61639: {'Cluster ID': 393, 'Link Score': 0.65499824}, 10538: {'Cluster ID': 394, 'Link Score': 0.65499824}, 114662: {'Cluster ID': 394, 'Link Score': 0.65499824}, 7466: {'Cluster ID': 395, 'Link Score': 0.65499824}, 65930: {'Cluster ID': 395, 'Link Score': 0.65499824}, 31273: {'Cluster ID': 396, 'Link Score': 0.65499824}, 30031: {'Cluster ID': 396, 'Link Score': 0.65499824}, 26665: {'Cluster ID': 397, 'Link Score': 0.65499824}, 32469: {'Cluster ID': 397, 'Link Score': 0.65499824}, 25385: {'Cluster ID': 398, 'Link Score': 0.65499824}, 43753: {'Cluster ID': 398, 'Link Score': 0.65499824}, 5417: {'Cluster ID': 399, 'Link Score': 0.65499824}, 27376: {'Cluster ID': 399, 'Link Score': 0.65499824}, 42024: {'Cluster ID': 400, 'Link Score': 0.65499824}, 68015: {'Cluster ID': 400, 'Link Score': 0.65499824}, 36903: {'Cluster ID': 401, 'Link Score': 0.65499824}, 39372: {'Cluster ID': 401, 'Link Score': 0.65499824}, 42788: {'Cluster ID': 402, 'Link Score': 0.65499824}, 3421: {'Cluster ID': 402, 'Link Score': 0.65499824}, 36132: {'Cluster ID': 403, 'Link Score': 0.65499824}, 17141: {'Cluster ID': 403, 'Link Score': 0.65499824}, 43555: {'Cluster ID': 404, 'Link Score': 0.65499824}, 134396: {'Cluster ID': 404, 'Link Score': 0.65499824}, 35875: {'Cluster ID': 405, 'Link Score': 0.65499824}, 29193: {'Cluster ID': 405, 'Link Score': 0.65499824}, 13603: {'Cluster ID': 406, 'Link Score': 0.65499824}, 13414: {'Cluster ID': 406, 'Link Score': 0.65499824}, 12579: {'Cluster ID': 407, 'Link Score': 0.65499824}, 84121: {'Cluster ID': 407, 'Link Score': 0.65499824}, 9250: {'Cluster ID': 408, 'Link Score': 0.65499824}, 123645: {'Cluster ID': 408, 'Link Score': 0.65499824}, 24865: {'Cluster ID': 409, 'Link Score': 0.65499824}, 54757: {'Cluster ID': 409, 'Link Score': 0.65499824}, 18721: {'Cluster ID': 410, 'Link Score': 0.65499824}, 70143: {'Cluster ID': 410, 'Link Score': 0.65499824}, 9761: {'Cluster ID': 411, 'Link Score': 0.65499824}, 96205: {'Cluster ID': 411, 'Link Score': 0.65499824}, 28192: {'Cluster ID': 412, 'Link Score': 0.65499824}, 76797: {'Cluster ID': 412, 'Link Score': 0.65499824}, 13344: {'Cluster ID': 413, 'Link Score': 0.65499824}, 52699: {'Cluster ID': 413, 'Link Score': 0.65499824}, 7200: {'Cluster ID': 414, 'Link Score': 0.65499824}, 20969: {'Cluster ID': 414, 'Link Score': 0.65499824}, 24351: {'Cluster ID': 415, 'Link Score': 0.65499824}, 1495: {'Cluster ID': 415, 'Link Score': 0.65499824}, 41758: {'Cluster ID': 416, 'Link Score': 0.65499824}, 135921: {'Cluster ID': 416, 'Link Score': 0.65499824}, 39454: {'Cluster ID': 417, 'Link Score': 0.65499824}, 62975: {'Cluster ID': 417, 'Link Score': 0.65499824}, 36126: {'Cluster ID': 418, 'Link Score': 0.65499824}, 3392: {'Cluster ID': 418, 'Link Score': 0.65499824}, 11038: {'Cluster ID': 419, 'Link Score': 0.65499824}, 92842: {'Cluster ID': 419, 'Link Score': 0.65499824}, 3358: {'Cluster ID': 420, 'Link Score': 0.65499824}, 32255: {'Cluster ID': 420, 'Link Score': 0.65499824}, 41501: {'Cluster ID': 421, 'Link Score': 0.65499824}, 17786: {'Cluster ID': 421, 'Link Score': 0.65499824}, 33309: {'Cluster ID': 422, 'Link Score': 0.65499824}, 21077: {'Cluster ID': 422, 'Link Score': 0.65499824}, 17437: {'Cluster ID': 423, 'Link Score': 0.65499824}, 10998: {'Cluster ID': 423, 'Link Score': 0.65499824}, 9245: {'Cluster ID': 424, 'Link Score': 0.65499824}, 93420: {'Cluster ID': 424, 'Link Score': 0.65499824}, 28444: {'Cluster ID': 425, 'Link Score': 0.65499824}, 32999: {'Cluster ID': 425, 'Link Score': 0.65499824}, 26652: {'Cluster ID': 426, 'Link Score': 0.65499824}, 64755: {'Cluster ID': 426, 'Link Score': 0.65499824}, 2076: {'Cluster ID': 427, 'Link Score': 0.65499824}, 45958: {'Cluster ID': 427, 'Link Score': 0.65499824}, 796: {'Cluster ID': 428, 'Link Score': 0.65499824}, 115433: {'Cluster ID': 428, 'Link Score': 0.65499824}, 29979: {'Cluster ID': 429, 'Link Score': 0.65499824}, 10721: {'Cluster ID': 429, 'Link Score': 0.65499824}, 27931: {'Cluster ID': 430, 'Link Score': 0.65499824}, 7154: {'Cluster ID': 430, 'Link Score': 0.65499824}, 18715: {'Cluster ID': 431, 'Link Score': 0.65499824}, 14435: {'Cluster ID': 431, 'Link Score': 0.65499824}, 34074: {'Cluster ID': 432, 'Link Score': 0.65499824}, 93134: {'Cluster ID': 432, 'Link Score': 0.65499824}, 11801: {'Cluster ID': 433, 'Link Score': 0.65499824}, 99518: {'Cluster ID': 433, 'Link Score': 0.65499824}, 43032: {'Cluster ID': 434, 'Link Score': 0.65499824}, 34046: {'Cluster ID': 434, 'Link Score': 0.65499824}, 38680: {'Cluster ID': 435, 'Link Score': 0.65499824}, 71401: {'Cluster ID': 435, 'Link Score': 0.65499824}, 30744: {'Cluster ID': 436, 'Link Score': 0.65499824}, 64200: {'Cluster ID': 436, 'Link Score': 0.65499824}, 29976: {'Cluster ID': 437, 'Link Score': 0.65499824}, 28922: {'Cluster ID': 437, 'Link Score': 0.65499824}, 14360: {'Cluster ID': 438, 'Link Score': 0.65499824}, 121142: {'Cluster ID': 438, 'Link Score': 0.65499824}, 11031: {'Cluster ID': 439, 'Link Score': 0.65499824}, 100805: {'Cluster ID': 439, 'Link Score': 0.65499824}, 39958: {'Cluster ID': 440, 'Link Score': 0.65499824}, 142068: {'Cluster ID': 440, 'Link Score': 0.65499824}, 27414: {'Cluster ID': 441, 'Link Score': 0.65499824}, 93918: {'Cluster ID': 441, 'Link Score': 0.65499824}, 15638: {'Cluster ID': 442, 'Link Score': 0.65499824}, 41727: {'Cluster ID': 442, 'Link Score': 0.65499824}, 42005: {'Cluster ID': 443, 'Link Score': 0.65499824}, 33302: {'Cluster ID': 443, 'Link Score': 0.65499824}, 28436: {'Cluster ID': 444, 'Link Score': 0.65499824}, 56540: {'Cluster ID': 444, 'Link Score': 0.65499824}, 43539: {'Cluster ID': 445, 'Link Score': 0.65499824}, 5347: {'Cluster ID': 445, 'Link Score': 0.65499824}, 42771: {'Cluster ID': 446, 'Link Score': 0.65499824}, 4990: {'Cluster ID': 446, 'Link Score': 0.65499824}, 29971: {'Cluster ID': 447, 'Link Score': 0.65499824}, 134909: {'Cluster ID': 447, 'Link Score': 0.65499824}, 22547: {'Cluster ID': 448, 'Link Score': 0.65499824}, 37041: {'Cluster ID': 448, 'Link Score': 0.65499824}, 1043: {'Cluster ID': 449, 'Link Score': 0.65499824}, 80379: {'Cluster ID': 449, 'Link Score': 0.65499824}, 27410: {'Cluster ID': 450, 'Link Score': 0.65499824}, 90609: {'Cluster ID': 450, 'Link Score': 0.65499824}, 6418: {'Cluster ID': 451, 'Link Score': 0.65499824}, 161779: {'Cluster ID': 451, 'Link Score': 0.65499824}, 4370: {'Cluster ID': 452, 'Link Score': 0.65499824}, 95475: {'Cluster ID': 452, 'Link Score': 0.65499824}, 23313: {'Cluster ID': 453, 'Link Score': 0.65499824}, 153343: {'Cluster ID': 453, 'Link Score': 0.65499824}, 18705: {'Cluster ID': 454, 'Link Score': 0.65499824}, 26024: {'Cluster ID': 454, 'Link Score': 0.65499824}, 10513: {'Cluster ID': 455, 'Link Score': 0.65499824}, 10291: {'Cluster ID': 455, 'Link Score': 0.65499824}, 5648: {'Cluster ID': 456, 'Link Score': 0.65499824}, 8816: {'Cluster ID': 456, 'Link Score': 0.65499824}, 17423: {'Cluster ID': 457, 'Link Score': 0.65499824}, 12755: {'Cluster ID': 457, 'Link Score': 0.65499824}, 39694: {'Cluster ID': 458, 'Link Score': 0.65499824}, 43064: {'Cluster ID': 458, 'Link Score': 0.65499824}, 18190: {'Cluster ID': 459, 'Link Score': 0.65499824}, 20191: {'Cluster ID': 459, 'Link Score': 0.65499824}, 40461: {'Cluster ID': 460, 'Link Score': 0.65499824}, 52967: {'Cluster ID': 460, 'Link Score': 0.65499824}, 10765: {'Cluster ID': 461, 'Link Score': 0.65499824}, 36301: {'Cluster ID': 461, 'Link Score': 0.65499824}, 7181: {'Cluster ID': 462, 'Link Score': 0.65499824}, 98543: {'Cluster ID': 462, 'Link Score': 0.65499824}, 14092: {'Cluster ID': 463, 'Link Score': 0.65499824}, 12426: {'Cluster ID': 463, 'Link Score': 0.65499824}, 6924: {'Cluster ID': 464, 'Link Score': 0.65499824}, 52603: {'Cluster ID': 464, 'Link Score': 0.65499824}, 18698: {'Cluster ID': 465, 'Link Score': 0.65499824}, 22706: {'Cluster ID': 465, 'Link Score': 0.65499824}, 14090: {'Cluster ID': 466, 'Link Score': 0.65499824}, 1656: {'Cluster ID': 466, 'Link Score': 0.65499824}, 5386: {'Cluster ID': 467, 'Link Score': 0.65499824}, 51748: {'Cluster ID': 467, 'Link Score': 0.65499824}, 44297: {'Cluster ID': 468, 'Link Score': 0.65499824}, 2275: {'Cluster ID': 468, 'Link Score': 0.65499824}, 29705: {'Cluster ID': 469, 'Link Score': 0.65499824}, 6619: {'Cluster ID': 469, 'Link Score': 0.65499824}, 18441: {'Cluster ID': 470, 'Link Score': 0.65499824}, 160753: {'Cluster ID': 470, 'Link Score': 0.65499824}, 45063: {'Cluster ID': 471, 'Link Score': 0.65499824}, 151295: {'Cluster ID': 471, 'Link Score': 0.65499824}, 10758: {'Cluster ID': 472, 'Link Score': 0.65499824}, 2649: {'Cluster ID': 472, 'Link Score': 0.65499824}, 30725: {'Cluster ID': 473, 'Link Score': 0.65499824}, 5850: {'Cluster ID': 473, 'Link Score': 0.65499824}, 27141: {'Cluster ID': 474, 'Link Score': 0.65499824}, 9404: {'Cluster ID': 474, 'Link Score': 0.65499824}, 19717: {'Cluster ID': 475, 'Link Score': 0.65499824}, 36328: {'Cluster ID': 475, 'Link Score': 0.65499824}, 14085: {'Cluster ID': 476, 'Link Score': 0.65499824}, 40404: {'Cluster ID': 476, 'Link Score': 0.65499824}, 11013: {'Cluster ID': 477, 'Link Score': 0.65499824}, 27105: {'Cluster ID': 477, 'Link Score': 0.65499824}, 29700: {'Cluster ID': 478, 'Link Score': 0.65499824}, 134907: {'Cluster ID': 478, 'Link Score': 0.65499824}, 21764: {'Cluster ID': 479, 'Link Score': 0.65499824}, 47609: {'Cluster ID': 479, 'Link Score': 0.65499824}, 12804: {'Cluster ID': 480, 'Link Score': 0.65499824}, 159428: {'Cluster ID': 480, 'Link Score': 0.65499824}, 9476: {'Cluster ID': 481, 'Link Score': 0.65499824}, 56831: {'Cluster ID': 481, 'Link Score': 0.65499824}, 27650: {'Cluster ID': 482, 'Link Score': 0.65499824}, 69556: {'Cluster ID': 482, 'Link Score': 0.65499824}, 19970: {'Cluster ID': 483, 'Link Score': 0.65499824}, 39035: {'Cluster ID': 483, 'Link Score': 0.65499824}, 9474: {'Cluster ID': 484, 'Link Score': 0.65499824}, 177661: {'Cluster ID': 484, 'Link Score': 0.65499824}, 26369: {'Cluster ID': 485, 'Link Score': 0.65499824}, 4263: {'Cluster ID': 485, 'Link Score': 0.65499824}, 16129: {'Cluster ID': 486, 'Link Score': 0.65499824}, 6401: {'Cluster ID': 487, 'Link Score': 0.65499824}, 10305: {'Cluster ID': 487, 'Link Score': 0.65499824}, 13056: {'Cluster ID': 488, 'Link Score': 0.65499824}, 43771: {'Cluster ID': 488, 'Link Score': 0.65499824}, 41858: {'Cluster ID': 489, 'Link Score': 0.65105397}, 30079: {'Cluster ID': 489, 'Link Score': 0.65105397}, 9857: {'Cluster ID': 490, 'Link Score': 0.6507375}, 161022: {'Cluster ID': 490, 'Link Score': 0.6507375}, 10881: {'Cluster ID': 491, 'Link Score': 0.6504967}, 39130: {'Cluster ID': 491, 'Link Score': 0.6504967}, 32873: {'Cluster ID': 492, 'Link Score': 0.6503658}, 74223: {'Cluster ID': 492, 'Link Score': 0.6503658}, 43300: {'Cluster ID': 493, 'Link Score': 0.6502271}, 22014: {'Cluster ID': 493, 'Link Score': 0.6502271}, 25806: {'Cluster ID': 494, 'Link Score': 0.64992315}, 38068: {'Cluster ID': 494, 'Link Score': 0.64992315}, 41604: {'Cluster ID': 495, 'Link Score': 0.6497562}, 18892: {'Cluster ID': 495, 'Link Score': 0.6497562}, 16915: {'Cluster ID': 496, 'Link Score': 0.6497562}, 63979: {'Cluster ID': 496, 'Link Score': 0.6497562}, 37081: {'Cluster ID': 497, 'Link Score': 0.64938694}, 15334: {'Cluster ID': 497, 'Link Score': 0.64938694}, 15825: {'Cluster ID': 498, 'Link Score': 0.64938694}, 30240: {'Cluster ID': 498, 'Link Score': 0.64938694}, 32125: {'Cluster ID': 499, 'Link Score': 0.64938694}, 140073: {'Cluster ID': 499, 'Link Score': 0.64938694}, 14187: {'Cluster ID': 500, 'Link Score': 0.6489617}, 100607: {'Cluster ID': 500, 'Link Score': 0.6489617}, 33834: {'Cluster ID': 501, 'Link Score': 0.6489617}, 45175: {'Cluster ID': 501, 'Link Score': 0.6489617}, 21074: {'Cluster ID': 502, 'Link Score': 0.648724}, 132607: {'Cluster ID': 502, 'Link Score': 0.648724}, 31740: {'Cluster ID': 503, 'Link Score': 0.6484668}, 25759: {'Cluster ID': 503, 'Link Score': 0.6484668}, 13042: {'Cluster ID': 504, 'Link Score': 0.6484668}, 63348: {'Cluster ID': 504, 'Link Score': 0.6484668}, 44995: {'Cluster ID': 505, 'Link Score': 0.6484668}, 59903: {'Cluster ID': 505, 'Link Score': 0.6484668}, 27051: {'Cluster ID': 506, 'Link Score': 0.6484668}, 49400: {'Cluster ID': 506, 'Link Score': 0.6484668}, 28969: {'Cluster ID': 507, 'Link Score': 0.6484668}, 35581: {'Cluster ID': 507, 'Link Score': 0.6484668}, 39186: {'Cluster ID': 508, 'Link Score': 0.6484668}, 52939: {'Cluster ID': 508, 'Link Score': 0.6484668}, 14007: {'Cluster ID': 509, 'Link Score': 0.64818764}, 55280: {'Cluster ID': 509, 'Link Score': 0.64818764}, 8451: {'Cluster ID': 510, 'Link Score': 0.64818764}, 47413: {'Cluster ID': 510, 'Link Score': 0.64818764}, 24710: {'Cluster ID': 511, 'Link Score': 0.6478835}, 42737: {'Cluster ID': 511, 'Link Score': 0.6478835}, 35154: {'Cluster ID': 512, 'Link Score': 0.6478835}, 98303: {'Cluster ID': 512, 'Link Score': 0.6478835}, 17087: {'Cluster ID': 513, 'Link Score': 0.64755094}, 38553: {'Cluster ID': 513, 'Link Score': 0.64755094}, 24613: {'Cluster ID': 514, 'Link Score': 0.64755094}, 444: {'Cluster ID': 514, 'Link Score': 0.64755094}, 40353: {'Cluster ID': 515, 'Link Score': 0.6471858}, 17500: {'Cluster ID': 515, 'Link Score': 0.6471858}, 41015: {'Cluster ID': 516, 'Link Score': 0.6471858}, 43876: {'Cluster ID': 516, 'Link Score': 0.6471858}, 38186: {'Cluster ID': 517, 'Link Score': 0.6471858}, 18545: {'Cluster ID': 517, 'Link Score': 0.6471858}, 9222: {'Cluster ID': 518, 'Link Score': 0.6471858}, 62542: {'Cluster ID': 518, 'Link Score': 0.6471858}, 10944: {'Cluster ID': 519, 'Link Score': 0.646783}, 15510: {'Cluster ID': 519, 'Link Score': 0.646783}, 2077: {'Cluster ID': 520, 'Link Score': 0.646783}, 29224: {'Cluster ID': 521, 'Link Score': 0.646783}, 26284: {'Cluster ID': 521, 'Link Score': 0.646783}, 3587: {'Cluster ID': 522, 'Link Score': 0.646783}, 101373: {'Cluster ID': 522, 'Link Score': 0.646783}, 22255: {'Cluster ID': 523, 'Link Score': 0.6463364}, 80887: {'Cluster ID': 523, 'Link Score': 0.6463364}, 16613: {'Cluster ID': 524, 'Link Score': 0.6463364}, 175933: {'Cluster ID': 524, 'Link Score': 0.6463364}, 16086: {'Cluster ID': 525, 'Link Score': 0.6463364}, 59135: {'Cluster ID': 525, 'Link Score': 0.6463364}, 9235: {'Cluster ID': 526, 'Link Score': 0.6463364}, 94920: {'Cluster ID': 526, 'Link Score': 0.6463364}, 8303: {'Cluster ID': 527, 'Link Score': 0.6452081}, 55276: {'Cluster ID': 527, 'Link Score': 0.6452081}, 2507: {'Cluster ID': 528, 'Link Score': 0.6448371}, 53403: {'Cluster ID': 528, 'Link Score': 0.6448371}, 2537: {'Cluster ID': 529, 'Link Score': 0.6446485}, 71369: {'Cluster ID': 529, 'Link Score': 0.6446485}, 15379: {'Cluster ID': 530, 'Link Score': 0.6446485}, 73603: {'Cluster ID': 530, 'Link Score': 0.6446485}, 3236: {'Cluster ID': 531, 'Link Score': 0.64453983}, 146595: {'Cluster ID': 531, 'Link Score': 0.64453983}, 28630: {'Cluster ID': 532, 'Link Score': 0.6441703}, 48613: {'Cluster ID': 532, 'Link Score': 0.6441703}, 12378: {'Cluster ID': 533, 'Link Score': 0.6441703}, 138324: {'Cluster ID': 533, 'Link Score': 0.6441703}, 35564: {'Cluster ID': 534, 'Link Score': 0.6439296}, 19309: {'Cluster ID': 534, 'Link Score': 0.6439296}, 15059: {'Cluster ID': 535, 'Link Score': 0.6439296}, 114427: {'Cluster ID': 535, 'Link Score': 0.6439296}, 29871: {'Cluster ID': 536, 'Link Score': 0.6439296}, 38644: {'Cluster ID': 536, 'Link Score': 0.6439296}, 35909: {'Cluster ID': 537, 'Link Score': 0.6439296}, 2656: {'Cluster ID': 537, 'Link Score': 0.6439296}, 26386: {'Cluster ID': 538, 'Link Score': 0.6439296}, 18902: {'Cluster ID': 538, 'Link Score': 0.6439296}, 38318: {'Cluster ID': 539, 'Link Score': 0.64390475}, 28038: {'Cluster ID': 539, 'Link Score': 0.64390475}, 22309: {'Cluster ID': 540, 'Link Score': 0.6433469}, 32920: {'Cluster ID': 540, 'Link Score': 0.6433469}, 16592: {'Cluster ID': 541, 'Link Score': 0.64310336}, 23433: {'Cluster ID': 541, 'Link Score': 0.64310336}, 30076: {'Cluster ID': 542, 'Link Score': 0.64310336}, 25785: {'Cluster ID': 542, 'Link Score': 0.64310336}, 39770: {'Cluster ID': 543, 'Link Score': 0.64310336}, 3748: {'Cluster ID': 543, 'Link Score': 0.64310336}, 23605: {'Cluster ID': 1043, 'Link Score': 0.3738171}, 66521: {'Cluster ID': 544, 'Link Score': 0.642998}, 12417: {'Cluster ID': 545, 'Link Score': 0.6426422}, 20032: {'Cluster ID': 546, 'Link Score': 0.6426422}, 118176: {'Cluster ID': 546, 'Link Score': 0.6426422}, 2623: {'Cluster ID': 547, 'Link Score': 0.6421808}, 151455: {'Cluster ID': 547, 'Link Score': 0.6421808}, 35825: {'Cluster ID': 548, 'Link Score': 0.64214385}, 10481: {'Cluster ID': 548, 'Link Score': 0.64214385}, 1246: {'Cluster ID': 549, 'Link Score': 0.64214385}, 28418: {'Cluster ID': 549, 'Link Score': 0.64214385}, 33378: {'Cluster ID': 550, 'Link Score': 0.64214385}, 27784: {'Cluster ID': 550, 'Link Score': 0.64214385}, 23372: {'Cluster ID': 551, 'Link Score': 0.64214385}, 3299: {'Cluster ID': 551, 'Link Score': 0.64214385}, 8766: {'Cluster ID': 552, 'Link Score': 0.6420489}, 149582: {'Cluster ID': 552, 'Link Score': 0.6420489}, 33187: {'Cluster ID': 553, 'Link Score': 0.6416836}, 28671: {'Cluster ID': 553, 'Link Score': 0.6416836}, 25449: {'Cluster ID': 554, 'Link Score': 0.6416836}, 53315: {'Cluster ID': 554, 'Link Score': 0.6416836}, 12798: {'Cluster ID': 555, 'Link Score': 0.64125717}, 101812: {'Cluster ID': 555, 'Link Score': 0.64125717}, 7824: {'Cluster ID': 556, 'Link Score': 0.6411463}, 117229: {'Cluster ID': 556, 'Link Score': 0.6411463}, 8038: {'Cluster ID': 557, 'Link Score': 0.6411463}, 163527: {'Cluster ID': 557, 'Link Score': 0.6411463}, 6909: {'Cluster ID': 558, 'Link Score': 0.64101607}, 35642: {'Cluster ID': 558, 'Link Score': 0.64101607}, 24001: {'Cluster ID': 559, 'Link Score': 0.64101607}, 39131: {'Cluster ID': 559, 'Link Score': 0.64101607}, 44715: {'Cluster ID': 560, 'Link Score': 0.64101607}, 24521: {'Cluster ID': 560, 'Link Score': 0.64101607}, 8577: {'Cluster ID': 561, 'Link Score': 0.64101607}, 137444: {'Cluster ID': 561, 'Link Score': 0.64101607}, 23679: {'Cluster ID': 562, 'Link Score': 0.64101607}, 51650: {'Cluster ID': 562, 'Link Score': 0.64101607}, 14600: {'Cluster ID': 563, 'Link Score': 0.64101607}, 3024: {'Cluster ID': 563, 'Link Score': 0.64101607}, 23432: {'Cluster ID': 564, 'Link Score': 0.6406733}, 7300: {'Cluster ID': 564, 'Link Score': 0.6406733}, 8654: {'Cluster ID': 565, 'Link Score': 0.6405638}, 48978: {'Cluster ID': 565, 'Link Score': 0.6405638}, 29645: {'Cluster ID': 566, 'Link Score': 0.6405638}, 33343: {'Cluster ID': 566, 'Link Score': 0.6405638}, 33454: {'Cluster ID': 567, 'Link Score': 0.6405638}, 73956: {'Cluster ID': 567, 'Link Score': 0.6405638}, 24951: {'Cluster ID': 568, 'Link Score': 0.6399301}, 73724: {'Cluster ID': 568, 'Link Score': 0.6399301}, 39650: {'Cluster ID': 569, 'Link Score': 0.6396714}, 27130: {'Cluster ID': 569, 'Link Score': 0.6396714}, 43648: {'Cluster ID': 570, 'Link Score': 0.6396714}, 17608: {'Cluster ID': 570, 'Link Score': 0.6396714}, 38683: {'Cluster ID': 571, 'Link Score': 0.6396714}, 9206: {'Cluster ID': 571, 'Link Score': 0.6396714}, 24088: {'Cluster ID': 572, 'Link Score': 0.63923836}, 57333: {'Cluster ID': 572, 'Link Score': 0.63923836}, 38917: {'Cluster ID': 573, 'Link Score': 0.63923836}, 163791: {'Cluster ID': 573, 'Link Score': 0.63923836}, 13304: {'Cluster ID': 574, 'Link Score': 0.63848007}, 178881: {'Cluster ID': 574, 'Link Score': 0.63848007}, 8001: {'Cluster ID': 575, 'Link Score': 0.63848007}, 57879: {'Cluster ID': 575, 'Link Score': 0.63848007}, 22380: {'Cluster ID': 576, 'Link Score': 0.63825446}, 170784: {'Cluster ID': 576, 'Link Score': 0.63825446}, 6961: {'Cluster ID': 577, 'Link Score': 0.63825446}, 23547: {'Cluster ID': 577, 'Link Score': 0.63825446}, 21182: {'Cluster ID': 578, 'Link Score': 0.6380407}, 9294: {'Cluster ID': 578, 'Link Score': 0.6380407}, 33771: {'Cluster ID': 579, 'Link Score': 0.63764507}, 59335: {'Cluster ID': 579, 'Link Score': 0.63764507}, 31645: {'Cluster ID': 580, 'Link Score': 0.63672125}, 170900: {'Cluster ID': 580, 'Link Score': 0.63672125}, 38691: {'Cluster ID': 581, 'Link Score': 0.63672125}, 14846: {'Cluster ID': 581, 'Link Score': 0.63672125}, 7725: {'Cluster ID': 582, 'Link Score': 0.63582045}, 185028: {'Cluster ID': 582, 'Link Score': 0.63582045}, 23611: {'Cluster ID': 583, 'Link Score': 0.6356936}, 61386: {'Cluster ID': 583, 'Link Score': 0.6356936}, 1707: {'Cluster ID': 584, 'Link Score': 0.63549423}, 108173: {'Cluster ID': 584, 'Link Score': 0.63549423}, 16314: {'Cluster ID': 585, 'Link Score': 0.63459647}, 51910: {'Cluster ID': 585, 'Link Score': 0.63459647}, 19940: {'Cluster ID': 586, 'Link Score': 0.6345436}, 920: {'Cluster ID': 586, 'Link Score': 0.6345436}, 24341: {'Cluster ID': 587, 'Link Score': 0.6345436}, 77557: {'Cluster ID': 587, 'Link Score': 0.6345436}, 17421: {'Cluster ID': 588, 'Link Score': 0.6339253}, 186212: {'Cluster ID': 588, 'Link Score': 0.6339253}, 6907: {'Cluster ID': 589, 'Link Score': 0.6336346}, 158991: {'Cluster ID': 589, 'Link Score': 0.6336346}, 10709: {'Cluster ID': 590, 'Link Score': 0.6334579}, 151782: {'Cluster ID': 590, 'Link Score': 0.6334579}, 5777: {'Cluster ID': 591, 'Link Score': 0.6333849}, 139999: {'Cluster ID': 591, 'Link Score': 0.6333849}, 18590: {'Cluster ID': 592, 'Link Score': 0.63324803}, 45696: {'Cluster ID': 592, 'Link Score': 0.63324803}, 6275: {'Cluster ID': 593, 'Link Score': 0.63238883}, 170875: {'Cluster ID': 593, 'Link Score': 0.63238883}, 1255: {'Cluster ID': 594, 'Link Score': 0.6322425}, 45458: {'Cluster ID': 594, 'Link Score': 0.6322425}, 8672: {'Cluster ID': 595, 'Link Score': 0.6319642}, 90855: {'Cluster ID': 595, 'Link Score': 0.6319642}, 14089: {'Cluster ID': 596, 'Link Score': 0.63177735}, 2790: {'Cluster ID': 596, 'Link Score': 0.63177735}, 2364: {'Cluster ID': 597, 'Link Score': 0.6300936}, 163793: {'Cluster ID': 597, 'Link Score': 0.6300936}, 16700: {'Cluster ID': 598, 'Link Score': 0.6292777}, 162778: {'Cluster ID': 598, 'Link Score': 0.6292777}, 24630: {'Cluster ID': 599, 'Link Score': 0.62789255}, 130104: {'Cluster ID': 599, 'Link Score': 0.62789255}, 9951: {'Cluster ID': 600, 'Link Score': 0.6278436}, 154007: {'Cluster ID': 600, 'Link Score': 0.6278436}, 10173: {'Cluster ID': 601, 'Link Score': 0.6278436}, 57336: {'Cluster ID': 601, 'Link Score': 0.6278436}, 14802: {'Cluster ID': 602, 'Link Score': 0.6277204}, 162773: {'Cluster ID': 602, 'Link Score': 0.6277204}, 44344: {'Cluster ID': 603, 'Link Score': 0.62724054}, 188557: {'Cluster ID': 603, 'Link Score': 0.62724054}, 31997: {'Cluster ID': 604, 'Link Score': 0.626684}, 171775: {'Cluster ID': 604, 'Link Score': 0.626684}, 15552: {'Cluster ID': 605, 'Link Score': 0.62647486}, 54250: {'Cluster ID': 605, 'Link Score': 0.62647486}, 757: {'Cluster ID': 606, 'Link Score': 0.6262696}, 103651: {'Cluster ID': 606, 'Link Score': 0.6262696}, 25268: {'Cluster ID': 607, 'Link Score': 0.6260396}, 103558: {'Cluster ID': 607, 'Link Score': 0.6260396}, 4526: {'Cluster ID': 608, 'Link Score': 0.62562126}, 56012: {'Cluster ID': 608, 'Link Score': 0.62562126}, 11620: {'Cluster ID': 609, 'Link Score': 0.62562126}, 37050: {'Cluster ID': 609, 'Link Score': 0.62562126}, 15852: {'Cluster ID': 610, 'Link Score': 0.62475574}, 112014: {'Cluster ID': 610, 'Link Score': 0.62475574}, 24449: {'Cluster ID': 611, 'Link Score': 0.62475574}, 157855: {'Cluster ID': 611, 'Link Score': 0.62475574}, 24315: {'Cluster ID': 612, 'Link Score': 0.62375146}, 21447: {'Cluster ID': 612, 'Link Score': 0.62375146}, 13554: {'Cluster ID': 613, 'Link Score': 0.62317276}, 46333: {'Cluster ID': 613, 'Link Score': 0.62317276}, 4640: {'Cluster ID': 614, 'Link Score': 0.62204254}, 97334: {'Cluster ID': 614, 'Link Score': 0.62204254}, 31787: {'Cluster ID': 615, 'Link Score': 0.6217443}, 161159: {'Cluster ID': 615, 'Link Score': 0.6217443}, 4379: {'Cluster ID': 616, 'Link Score': 0.6209262}, 27009: {'Cluster ID': 616, 'Link Score': 0.6209262}, 37394: {'Cluster ID': 617, 'Link Score': 0.617841}, 155099: {'Cluster ID': 617, 'Link Score': 0.617841}, 40125: {'Cluster ID': 618, 'Link Score': 0.6165122}, 8002: {'Cluster ID': 618, 'Link Score': 0.6165122}, 3216: {'Cluster ID': 619, 'Link Score': 0.6163807}, 161517: {'Cluster ID': 619, 'Link Score': 0.6163807}, 4029: {'Cluster ID': 620, 'Link Score': 0.6152292}, 37841: {'Cluster ID': 620, 'Link Score': 0.6152292}, 17923: {'Cluster ID': 621, 'Link Score': 0.6152292}, 49407: {'Cluster ID': 621, 'Link Score': 0.6152292}, 18939: {'Cluster ID': 622, 'Link Score': 0.6138667}, 75991: {'Cluster ID': 622, 'Link Score': 0.6138667}, 38913: {'Cluster ID': 623, 'Link Score': 0.6130873}, 30965: {'Cluster ID': 623, 'Link Score': 0.6130873}, 121582: {'Cluster ID': 624, 'Link Score': 0.61297876}, 44407: {'Cluster ID': 625, 'Link Score': 0.61255115}, 74477: {'Cluster ID': 625, 'Link Score': 0.61255115}, 29163: {'Cluster ID': 626, 'Link Score': 0.6096512}, 81695: {'Cluster ID': 626, 'Link Score': 0.6096512}, 21311: {'Cluster ID': 627, 'Link Score': 0.609439}, 15816: {'Cluster ID': 627, 'Link Score': 0.609439}, 32626: {'Cluster ID': 628, 'Link Score': 0.60812324}, 3618: {'Cluster ID': 628, 'Link Score': 0.60812324}, 2635: {'Cluster ID': 629, 'Link Score': 0.6080479}, 189030: {'Cluster ID': 629, 'Link Score': 0.6080479}, 25988: {'Cluster ID': 630, 'Link Score': 0.6067294}, 85481: {'Cluster ID': 630, 'Link Score': 0.6067294}, 40621: {'Cluster ID': 631, 'Link Score': 0.6044767}, 40199: {'Cluster ID': 631, 'Link Score': 0.6044767}, 29271: {'Cluster ID': 632, 'Link Score': 0.6044767}, 66028: {'Cluster ID': 632, 'Link Score': 0.6044767}, 7952: {'Cluster ID': 633, 'Link Score': 0.6029502}, 15822: {'Cluster ID': 633, 'Link Score': 0.6029502}, 37615: {'Cluster ID': 634, 'Link Score': 0.6020043}, 1986: {'Cluster ID': 634, 'Link Score': 0.6020043}, 28040: {'Cluster ID': 635, 'Link Score': 0.6014218}, 173697: {'Cluster ID': 635, 'Link Score': 0.6014218}, 395: {'Cluster ID': 636, 'Link Score': 0.6003749}, 161756: {'Cluster ID': 636, 'Link Score': 0.6003749}, 400: {'Cluster ID': 637, 'Link Score': 0.6003201}, 59388: {'Cluster ID': 637, 'Link Score': 0.6003201}, 7507: {'Cluster ID': 638, 'Link Score': 0.6003201}, 44265: {'Cluster ID': 638, 'Link Score': 0.6003201}, 25123: {'Cluster ID': 639, 'Link Score': 0.6002177}, 20216: {'Cluster ID': 639, 'Link Score': 0.6002177}, 26736: {'Cluster ID': 640, 'Link Score': 0.598307}, 84960: {'Cluster ID': 640, 'Link Score': 0.598307}, 13026: {'Cluster ID': 641, 'Link Score': 0.59625894}, 139954: {'Cluster ID': 641, 'Link Score': 0.59625894}, 27052: {'Cluster ID': 642, 'Link Score': 0.59625894}, 26851: {'Cluster ID': 642, 'Link Score': 0.59625894}, 14243: {'Cluster ID': 643, 'Link Score': 0.59542215}, 103935: {'Cluster ID': 643, 'Link Score': 0.59542215}, 339: {'Cluster ID': 644, 'Link Score': 0.59528846}, 148734: {'Cluster ID': 644, 'Link Score': 0.59528846}, 20873: {'Cluster ID': 645, 'Link Score': 0.59405816}, 164318: {'Cluster ID': 645, 'Link Score': 0.59405816}, 6790: {'Cluster ID': 646, 'Link Score': 0.59405816}, 106490: {'Cluster ID': 646, 'Link Score': 0.59405816}, 42912: {'Cluster ID': 647, 'Link Score': 0.5926306}, 27135: {'Cluster ID': 647, 'Link Score': 0.5926306}, 11998: {'Cluster ID': 648, 'Link Score': 0.5916871}, 9433: {'Cluster ID': 648, 'Link Score': 0.5916871}, 29882: {'Cluster ID': 649, 'Link Score': 0.5916871}, 2936: {'Cluster ID': 649, 'Link Score': 0.5916871}, 32563: {'Cluster ID': 650, 'Link Score': 0.5916871}, 49249: {'Cluster ID': 650, 'Link Score': 0.5916871}, 32795: {'Cluster ID': 651, 'Link Score': 0.5916871}, 51425: {'Cluster ID': 651, 'Link Score': 0.5916871}, 25383: {'Cluster ID': 652, 'Link Score': 0.5912318}, 50409: {'Cluster ID': 652, 'Link Score': 0.5912318}, 12191: {'Cluster ID': 653, 'Link Score': 0.5895664}, 149733: {'Cluster ID': 653, 'Link Score': 0.5895664}, 24953: {'Cluster ID': 654, 'Link Score': 0.5892866}, 36880: {'Cluster ID': 654, 'Link Score': 0.5892866}, 33218: {'Cluster ID': 655, 'Link Score': 0.5891253}, 159136: {'Cluster ID': 655, 'Link Score': 0.5891253}, 2980: {'Cluster ID': 656, 'Link Score': 0.5891253}, 15542: {'Cluster ID': 656, 'Link Score': 0.5891253}, 8034: {'Cluster ID': 657, 'Link Score': 0.5891253}, 142847: {'Cluster ID': 657, 'Link Score': 0.5891253}, 17795: {'Cluster ID': 658, 'Link Score': 0.5890977}, 33002: {'Cluster ID': 658, 'Link Score': 0.5890977}, 33354: {'Cluster ID': 659, 'Link Score': 0.5890977}, 73722: {'Cluster ID': 659, 'Link Score': 0.5890977}, 26: {'Cluster ID': 660, 'Link Score': 0.58740157}, 184539: {'Cluster ID': 660, 'Link Score': 0.58740157}, 3309: {'Cluster ID': 661, 'Link Score': 0.5870645}, 146676: {'Cluster ID': 661, 'Link Score': 0.5870645}, 626: {'Cluster ID': 662, 'Link Score': 0.5870645}, 77549: {'Cluster ID': 662, 'Link Score': 0.5870645}, 5765: {'Cluster ID': 663, 'Link Score': 0.58634883}, 68681: {'Cluster ID': 663, 'Link Score': 0.58634883}, 7811: {'Cluster ID': 664, 'Link Score': 0.58634883}, 10746: {'Cluster ID': 664, 'Link Score': 0.58634883}, 44156: {'Cluster ID': 665, 'Link Score': 0.58634883}, 58382: {'Cluster ID': 665, 'Link Score': 0.58634883}, 44667: {'Cluster ID': 666, 'Link Score': 0.58634883}, 4531: {'Cluster ID': 666, 'Link Score': 0.58634883}, 25269: {'Cluster ID': 667, 'Link Score': 0.5861878}, 186601: {'Cluster ID': 667, 'Link Score': 0.5861878}, 824: {'Cluster ID': 668, 'Link Score': 0.5846446}, 75972: {'Cluster ID': 668, 'Link Score': 0.5846446}, 19786: {'Cluster ID': 669, 'Link Score': 0.584294}, 154091: {'Cluster ID': 669, 'Link Score': 0.584294}, 34501: {'Cluster ID': 670, 'Link Score': 0.5833299}, 12736: {'Cluster ID': 670, 'Link Score': 0.5833299}, 20165: {'Cluster ID': 671, 'Link Score': 0.5833299}, 34734: {'Cluster ID': 671, 'Link Score': 0.5833299}, 5563: {'Cluster ID': 672, 'Link Score': 0.5833299}, 61339: {'Cluster ID': 672, 'Link Score': 0.5833299}, 18087: {'Cluster ID': 673, 'Link Score': 0.5833299}, 24575: {'Cluster ID': 673, 'Link Score': 0.5833299}, 30075: {'Cluster ID': 674, 'Link Score': 0.5833299}, 1856: {'Cluster ID': 674, 'Link Score': 0.5833299}, 2683: {'Cluster ID': 675, 'Link Score': 0.5833299}, 53726: {'Cluster ID': 675, 'Link Score': 0.5833299}, 2427: {'Cluster ID': 676, 'Link Score': 0.5833299}, 13552: {'Cluster ID': 676, 'Link Score': 0.5833299}, 9019: {'Cluster ID': 677, 'Link Score': 0.5833299}, 38220: {'Cluster ID': 677, 'Link Score': 0.5833299}, 3630: {'Cluster ID': 678, 'Link Score': 0.5833299}, 55738: {'Cluster ID': 678, 'Link Score': 0.5833299}, 28179: {'Cluster ID': 679, 'Link Score': 0.5833299}, 2252: {'Cluster ID': 679, 'Link Score': 0.5833299}, 24845: {'Cluster ID': 680, 'Link Score': 0.5833299}, 39378: {'Cluster ID': 680, 'Link Score': 0.5833299}, 23810: {'Cluster ID': 681, 'Link Score': 0.5833299}, 9958: {'Cluster ID': 681, 'Link Score': 0.5833299}, 13057: {'Cluster ID': 682, 'Link Score': 0.5833299}, 77276: {'Cluster ID': 682, 'Link Score': 0.5833299}, 44804: {'Cluster ID': 683, 'Link Score': 0.5821392}, 92585: {'Cluster ID': 683, 'Link Score': 0.5821392}, 5103: {'Cluster ID': 684, 'Link Score': 0.5820473}, 22680: {'Cluster ID': 684, 'Link Score': 0.5820473}, 2473: {'Cluster ID': 685, 'Link Score': 0.580916}, 53963: {'Cluster ID': 685, 'Link Score': 0.580916}, 37850: {'Cluster ID': 686, 'Link Score': 0.58003557}, 1531: {'Cluster ID': 686, 'Link Score': 0.58003557}, 27351: {'Cluster ID': 687, 'Link Score': 0.58003557}, 178861: {'Cluster ID': 687, 'Link Score': 0.58003557}, 3780: {'Cluster ID': 688, 'Link Score': 0.58003557}, 78843: {'Cluster ID': 688, 'Link Score': 0.58003557}, 4464: {'Cluster ID': 689, 'Link Score': 0.58003557}, 13134: {'Cluster ID': 689, 'Link Score': 0.58003557}, 30307: {'Cluster ID': 690, 'Link Score': 0.58003557}, 127231: {'Cluster ID': 690, 'Link Score': 0.58003557}, 18488: {'Cluster ID': 691, 'Link Score': 0.58003557}, 54006: {'Cluster ID': 691, 'Link Score': 0.58003557}, 43812: {'Cluster ID': 692, 'Link Score': 0.58003557}, 55283: {'Cluster ID': 692, 'Link Score': 0.58003557}, 40160: {'Cluster ID': 693, 'Link Score': 0.57772195}, 3922: {'Cluster ID': 693, 'Link Score': 0.57772195}, 38783: {'Cluster ID': 694, 'Link Score': 0.57772195}, 38116: {'Cluster ID': 694, 'Link Score': 0.57772195}, 15939: {'Cluster ID': 695, 'Link Score': 0.57772195}, 3614: {'Cluster ID': 695, 'Link Score': 0.57772195}, 12703: {'Cluster ID': 696, 'Link Score': 0.57642657}, 22064: {'Cluster ID': 696, 'Link Score': 0.57642657}, 45439: {'Cluster ID': 697, 'Link Score': 0.57642657}, 18779: {'Cluster ID': 697, 'Link Score': 0.57642657}, 31852: {'Cluster ID': 698, 'Link Score': 0.57642657}, 125168: {'Cluster ID': 698, 'Link Score': 0.57642657}, 24172: {'Cluster ID': 699, 'Link Score': 0.57642657}, 181715: {'Cluster ID': 699, 'Link Score': 0.57642657}, 12592: {'Cluster ID': 700, 'Link Score': 0.57642657}, 101838: {'Cluster ID': 700, 'Link Score': 0.57642657}, 28028: {'Cluster ID': 701, 'Link Score': 0.5762371}, 44797: {'Cluster ID': 701, 'Link Score': 0.5762371}, 34514: {'Cluster ID': 702, 'Link Score': 0.5744898}, 15514: {'Cluster ID': 702, 'Link Score': 0.5744898}, 7784: {'Cluster ID': 703, 'Link Score': 0.5744209}, 138481: {'Cluster ID': 703, 'Link Score': 0.5744209}, 45064: {'Cluster ID': 704, 'Link Score': 0.5742428}, 23542: {'Cluster ID': 704, 'Link Score': 0.5742428}, 10207: {'Cluster ID': 705, 'Link Score': 0.57245606}, 8734: {'Cluster ID': 705, 'Link Score': 0.57245606}, 31939: {'Cluster ID': 706, 'Link Score': 0.57245606}, 15076: {'Cluster ID': 706, 'Link Score': 0.57245606}, 14778: {'Cluster ID': 707, 'Link Score': 0.57245606}, 52466: {'Cluster ID': 707, 'Link Score': 0.57245606}, 22331: {'Cluster ID': 708, 'Link Score': 0.57245606}, 62581: {'Cluster ID': 708, 'Link Score': 0.57245606}, 8225: {'Cluster ID': 709, 'Link Score': 0.57245606}, 162448: {'Cluster ID': 709, 'Link Score': 0.57245606}, 30977: {'Cluster ID': 710, 'Link Score': 0.5716465}, 179701: {'Cluster ID': 710, 'Link Score': 0.5716465}, 38085: {'Cluster ID': 711, 'Link Score': 0.57127064}, 13791: {'Cluster ID': 711, 'Link Score': 0.57127064}, 8820: {'Cluster ID': 712, 'Link Score': 0.57127064}, 59634: {'Cluster ID': 712, 'Link Score': 0.57127064}, 24975: {'Cluster ID': 713, 'Link Score': 0.56943184}, 41186: {'Cluster ID': 713, 'Link Score': 0.56943184}, 32132: {'Cluster ID': 714, 'Link Score': 0.56943184}, 6028: {'Cluster ID': 714, 'Link Score': 0.56943184}, 10326: {'Cluster ID': 715, 'Link Score': 0.56943184}, 27728: {'Cluster ID': 715, 'Link Score': 0.56943184}, 10409: {'Cluster ID': 716, 'Link Score': 0.56806755}, 50329: {'Cluster ID': 716, 'Link Score': 0.56806755}, 44197: {'Cluster ID': 717, 'Link Score': 0.56806755}, 13656: {'Cluster ID': 717, 'Link Score': 0.56806755}, 28830: {'Cluster ID': 718, 'Link Score': 0.56806755}, 58611: {'Cluster ID': 718, 'Link Score': 0.56806755}, 399: {'Cluster ID': 719, 'Link Score': 0.56806755}, 51120: {'Cluster ID': 719, 'Link Score': 0.56806755}, 26731: {'Cluster ID': 720, 'Link Score': 0.56806755}, 52455: {'Cluster ID': 720, 'Link Score': 0.56806755}, 34099: {'Cluster ID': 721, 'Link Score': 0.56806755}, 44663: {'Cluster ID': 721, 'Link Score': 0.56806755}, 35624: {'Cluster ID': 722, 'Link Score': 0.56806755}, 8904: {'Cluster ID': 722, 'Link Score': 0.56806755}, 36046: {'Cluster ID': 723, 'Link Score': 0.5678668}, 7037: {'Cluster ID': 723, 'Link Score': 0.5678668}, 14469: {'Cluster ID': 724, 'Link Score': 0.56711787}, 104445: {'Cluster ID': 724, 'Link Score': 0.56711787}, 856: {'Cluster ID': 725, 'Link Score': 0.56689733}, 97250: {'Cluster ID': 725, 'Link Score': 0.56689733}, 42667: {'Cluster ID': 726, 'Link Score': 0.56626314}, 10158: {'Cluster ID': 726, 'Link Score': 0.56626314}, 25642: {'Cluster ID': 727, 'Link Score': 0.56626314}, 11831: {'Cluster ID': 727, 'Link Score': 0.56626314}, 27462: {'Cluster ID': 728, 'Link Score': 0.5655736}, 147454: {'Cluster ID': 728, 'Link Score': 0.5655736}, 14083: {'Cluster ID': 729, 'Link Score': 0.56417793}, 75181: {'Cluster ID': 729, 'Link Score': 0.56417793}, 34801: {'Cluster ID': 730, 'Link Score': 0.56319207}, 72703: {'Cluster ID': 730, 'Link Score': 0.56319207}, 7751: {'Cluster ID': 731, 'Link Score': 0.56319207}, 72500: {'Cluster ID': 731, 'Link Score': 0.56319207}, 30239: {'Cluster ID': 732, 'Link Score': 0.56319207}, 98007: {'Cluster ID': 732, 'Link Score': 0.56319207}, 39445: {'Cluster ID': 733, 'Link Score': 0.56319207}, 42643: {'Cluster ID': 733, 'Link Score': 0.56319207}, 22012: {'Cluster ID': 734, 'Link Score': 0.56165904}, 8385: {'Cluster ID': 734, 'Link Score': 0.56165904}, 16580: {'Cluster ID': 735, 'Link Score': 0.56165904}, 178801: {'Cluster ID': 735, 'Link Score': 0.56165904}, 39839: {'Cluster ID': 736, 'Link Score': 0.56165904}, 26454: {'Cluster ID': 736, 'Link Score': 0.56165904}, 10391: {'Cluster ID': 737, 'Link Score': 0.56165904}, 22952: {'Cluster ID': 737, 'Link Score': 0.56165904}, 21139: {'Cluster ID': 738, 'Link Score': 0.56135553}, 135918: {'Cluster ID': 738, 'Link Score': 0.56135553}, 117: {'Cluster ID': 739, 'Link Score': 0.56135553}, 60830: {'Cluster ID': 739, 'Link Score': 0.56135553}, 7508: {'Cluster ID': 740, 'Link Score': 0.56135553}, 135933: {'Cluster ID': 740, 'Link Score': 0.56135553}, 36136: {'Cluster ID': 741, 'Link Score': 0.56135553}, 137056: {'Cluster ID': 741, 'Link Score': 0.56135553}, 36370: {'Cluster ID': 742, 'Link Score': 0.560677}, 78314: {'Cluster ID': 742, 'Link Score': 0.560677}, 7525: {'Cluster ID': 743, 'Link Score': 0.5601898}, 9504: {'Cluster ID': 743, 'Link Score': 0.5601898}, 16195: {'Cluster ID': 744, 'Link Score': 0.55811566}, 163603: {'Cluster ID': 744, 'Link Score': 0.55811566}, 41337: {'Cluster ID': 745, 'Link Score': 0.55774504}, 45558: {'Cluster ID': 745, 'Link Score': 0.55774504}, 33344: {'Cluster ID': 746, 'Link Score': 0.55774504}, 122265: {'Cluster ID': 746, 'Link Score': 0.55774504}, 24528: {'Cluster ID': 747, 'Link Score': 0.5576196}, 4077: {'Cluster ID': 747, 'Link Score': 0.5576196}, 30271: {'Cluster ID': 748, 'Link Score': 0.55655783}, 86327: {'Cluster ID': 748, 'Link Score': 0.55655783}, 6562: {'Cluster ID': 749, 'Link Score': 0.5547753}, 10744: {'Cluster ID': 749, 'Link Score': 0.5547753}, 16755: {'Cluster ID': 750, 'Link Score': 0.55162126}, 20178: {'Cluster ID': 750, 'Link Score': 0.55162126}, 13653: {'Cluster ID': 751, 'Link Score': 0.55162126}, 24825: {'Cluster ID': 751, 'Link Score': 0.55162126}, 26695: {'Cluster ID': 752, 'Link Score': 0.55162126}, 2964: {'Cluster ID': 752, 'Link Score': 0.55162126}, 45336: {'Cluster ID': 753, 'Link Score': 0.55162126}, 29664: {'Cluster ID': 753, 'Link Score': 0.55162126}, 20751: {'Cluster ID': 754, 'Link Score': 0.55087596}, 63709: {'Cluster ID': 754, 'Link Score': 0.55087596}, 21416: {'Cluster ID': 755, 'Link Score': 0.5491049}, 75714: {'Cluster ID': 755, 'Link Score': 0.5491049}, 6952: {'Cluster ID': 756, 'Link Score': 0.548015}, 186620: {'Cluster ID': 756, 'Link Score': 0.548015}, 17189: {'Cluster ID': 757, 'Link Score': 0.54766}, 36533: {'Cluster ID': 757, 'Link Score': 0.54766}, 45644: {'Cluster ID': 758, 'Link Score': 0.5474095}, 30973: {'Cluster ID': 758, 'Link Score': 0.5474095}, 28426: {'Cluster ID': 759, 'Link Score': 0.5474095}, 126789: {'Cluster ID': 759, 'Link Score': 0.5474095}, 3775: {'Cluster ID': 760, 'Link Score': 0.54596704}, 137737: {'Cluster ID': 760, 'Link Score': 0.54596704}, 34794: {'Cluster ID': 761, 'Link Score': 0.5446886}, 13547: {'Cluster ID': 761, 'Link Score': 0.5446886}, 30951: {'Cluster ID': 762, 'Link Score': 0.5446886}, 74413: {'Cluster ID': 762, 'Link Score': 0.5446886}, 4061: {'Cluster ID': 763, 'Link Score': 0.5446886}, 48376: {'Cluster ID': 763, 'Link Score': 0.5446886}, 10963: {'Cluster ID': 764, 'Link Score': 0.5446886}, 401: {'Cluster ID': 764, 'Link Score': 0.5446886}, 26663: {'Cluster ID': 765, 'Link Score': 0.5446886}, 28820: {'Cluster ID': 765, 'Link Score': 0.5446886}, 30734: {'Cluster ID': 766, 'Link Score': 0.5446886}, 22650: {'Cluster ID': 767, 'Link Score': 0.5445099}, 44537: {'Cluster ID': 767, 'Link Score': 0.5445099}, 32516: {'Cluster ID': 768, 'Link Score': 0.5445099}, 12163: {'Cluster ID': 768, 'Link Score': 0.5445099}, 2021: {'Cluster ID': 769, 'Link Score': 0.54284626}, 14496: {'Cluster ID': 769, 'Link Score': 0.54284626}, 7110: {'Cluster ID': 770, 'Link Score': 0.53967065}, 110332: {'Cluster ID': 770, 'Link Score': 0.53967065}, 23915: {'Cluster ID': 771, 'Link Score': 0.53967065}, 63690: {'Cluster ID': 771, 'Link Score': 0.53967065}, 43070: {'Cluster ID': 772, 'Link Score': 0.53967065}, 120273: {'Cluster ID': 772, 'Link Score': 0.53967065}, 30460: {'Cluster ID': 773, 'Link Score': 0.5396246}, 27633: {'Cluster ID': 773, 'Link Score': 0.5396246}, 36043: {'Cluster ID': 774, 'Link Score': 0.5378865}, 8653: {'Cluster ID': 774, 'Link Score': 0.5378865}, 41885: {'Cluster ID': 775, 'Link Score': 0.5378865}, 6920: {'Cluster ID': 775, 'Link Score': 0.5378865}, 44417: {'Cluster ID': 776, 'Link Score': 0.53733075}, 21127: {'Cluster ID': 776, 'Link Score': 0.53733075}, 40501: {'Cluster ID': 777, 'Link Score': 0.53733075}, 70630: {'Cluster ID': 777, 'Link Score': 0.53733075}, 37852: {'Cluster ID': 778, 'Link Score': 0.5367786}, 43695: {'Cluster ID': 778, 'Link Score': 0.5367786}, 39869: {'Cluster ID': 779, 'Link Score': 0.5367786}, 57140: {'Cluster ID': 779, 'Link Score': 0.5367786}, 43187: {'Cluster ID': 780, 'Link Score': 0.5367786}, 2806: {'Cluster ID': 780, 'Link Score': 0.5367786}, 25878: {'Cluster ID': 781, 'Link Score': 0.5367786}, 33625: {'Cluster ID': 781, 'Link Score': 0.5367786}, 2564: {'Cluster ID': 782, 'Link Score': 0.5367786}, 36612: {'Cluster ID': 782, 'Link Score': 0.5367786}, 37552: {'Cluster ID': 783, 'Link Score': 0.5354764}, 24916: {'Cluster ID': 783, 'Link Score': 0.5354764}, 13949: {'Cluster ID': 784, 'Link Score': 0.5354764}, 136378: {'Cluster ID': 784, 'Link Score': 0.5354764}, 34545: {'Cluster ID': 785, 'Link Score': 0.53343415}, 70654: {'Cluster ID': 785, 'Link Score': 0.53343415}, 20734: {'Cluster ID': 786, 'Link Score': 0.53261864}, 60408: {'Cluster ID': 786, 'Link Score': 0.53261864}, 26475: {'Cluster ID': 787, 'Link Score': 0.5325161}, 162775: {'Cluster ID': 787, 'Link Score': 0.5325161}, 23030: {'Cluster ID': 788, 'Link Score': 0.53247744}, 113868: {'Cluster ID': 788, 'Link Score': 0.53247744}, 5325: {'Cluster ID': 789, 'Link Score': 0.53247744}, 130500: {'Cluster ID': 789, 'Link Score': 0.53247744}, 10097: {'Cluster ID': 790, 'Link Score': 0.53247744}, 57341: {'Cluster ID': 790, 'Link Score': 0.53247744}, 31360: {'Cluster ID': 791, 'Link Score': 0.5323917}, 118773: {'Cluster ID': 791, 'Link Score': 0.5323917}, 43821: {'Cluster ID': 792, 'Link Score': 0.5291758}, 170717: {'Cluster ID': 792, 'Link Score': 0.5291758}, 12270: {'Cluster ID': 793, 'Link Score': 0.5289388}, 16820: {'Cluster ID': 793, 'Link Score': 0.5289388}, 20184: {'Cluster ID': 794, 'Link Score': 0.52767426}, 77782: {'Cluster ID': 794, 'Link Score': 0.52767426}, 39363: {'Cluster ID': 795, 'Link Score': 0.52767426}, 38573: {'Cluster ID': 795, 'Link Score': 0.52767426}, 10915: {'Cluster ID': 796, 'Link Score': 0.52767426}, 165631: {'Cluster ID': 796, 'Link Score': 0.52767426}, 35959: {'Cluster ID': 797, 'Link Score': 0.52767426}, 15263: {'Cluster ID': 797, 'Link Score': 0.52767426}, 40804: {'Cluster ID': 798, 'Link Score': 0.52767426}, 65672: {'Cluster ID': 798, 'Link Score': 0.52767426}, 23330: {'Cluster ID': 799, 'Link Score': 0.52767426}, 46674: {'Cluster ID': 799, 'Link Score': 0.52767426}, 33605: {'Cluster ID': 800, 'Link Score': 0.52760893}, 19282: {'Cluster ID': 800, 'Link Score': 0.52760893}, 3777: {'Cluster ID': 801, 'Link Score': 0.52655643}, 135917: {'Cluster ID': 801, 'Link Score': 0.52655643}, 33720: {'Cluster ID': 802, 'Link Score': 0.52655643}, 98744: {'Cluster ID': 802, 'Link Score': 0.52655643}, 26478: {'Cluster ID': 803, 'Link Score': 0.52655643}, 129165: {'Cluster ID': 803, 'Link Score': 0.52655643}, 32007: {'Cluster ID': 804, 'Link Score': 0.52655643}, 78583: {'Cluster ID': 804, 'Link Score': 0.52655643}, 20859: {'Cluster ID': 805, 'Link Score': 0.52573025}, 157866: {'Cluster ID': 805, 'Link Score': 0.52573025}, 14411: {'Cluster ID': 806, 'Link Score': 0.5242032}, 39342: {'Cluster ID': 806, 'Link Score': 0.5242032}, 14947: {'Cluster ID': 807, 'Link Score': 0.5233915}, 137472: {'Cluster ID': 807, 'Link Score': 0.5233915}, 21615: {'Cluster ID': 808, 'Link Score': 0.5216064}, 82647: {'Cluster ID': 808, 'Link Score': 0.5216064}, 23528: {'Cluster ID': 809, 'Link Score': 0.52085835}, 118709: {'Cluster ID': 809, 'Link Score': 0.52085835}, 36572: {'Cluster ID': 810, 'Link Score': 0.52085835}, 3800: {'Cluster ID': 810, 'Link Score': 0.52085835}, 12527: {'Cluster ID': 811, 'Link Score': 0.5202514}, 111341: {'Cluster ID': 811, 'Link Score': 0.5202514}, 43817: {'Cluster ID': 812, 'Link Score': 0.5202514}, 36585: {'Cluster ID': 877, 'Link Score': 0.48436803}, 23948: {'Cluster ID': 813, 'Link Score': 0.519837}, 11604: {'Cluster ID': 813, 'Link Score': 0.519837}, 36357: {'Cluster ID': 814, 'Link Score': 0.519837}, 70911: {'Cluster ID': 814, 'Link Score': 0.519837}, 8404: {'Cluster ID': 815, 'Link Score': 0.5197895}, 20185: {'Cluster ID': 815, 'Link Score': 0.5197895}, 22129: {'Cluster ID': 816, 'Link Score': 0.51878595}, 28082: {'Cluster ID': 816, 'Link Score': 0.51878595}, 10941: {'Cluster ID': 817, 'Link Score': 0.51817375}, 187092: {'Cluster ID': 817, 'Link Score': 0.51817375}, 10792: {'Cluster ID': 818, 'Link Score': 0.51810807}, 149997: {'Cluster ID': 818, 'Link Score': 0.51810807}, 40418: {'Cluster ID': 819, 'Link Score': 0.51709044}, 35057: {'Cluster ID': 819, 'Link Score': 0.51709044}, 38619: {'Cluster ID': 820, 'Link Score': 0.51709044}, 11763: {'Cluster ID': 820, 'Link Score': 0.51709044}, 41430: {'Cluster ID': 821, 'Link Score': 0.51709044}, 25588: {'Cluster ID': 821, 'Link Score': 0.51709044}, 22989: {'Cluster ID': 822, 'Link Score': 0.51709044}, 43634: {'Cluster ID': 822, 'Link Score': 0.51709044}, 11693: {'Cluster ID': 823, 'Link Score': 0.51709044}, 21565: {'Cluster ID': 823, 'Link Score': 0.51709044}, 30359: {'Cluster ID': 824, 'Link Score': 0.51709044}, 40143: {'Cluster ID': 824, 'Link Score': 0.51709044}, 10371: {'Cluster ID': 825, 'Link Score': 0.51709044}, 18278: {'Cluster ID': 825, 'Link Score': 0.51709044}, 26729: {'Cluster ID': 826, 'Link Score': 0.51709044}, 94809: {'Cluster ID': 826, 'Link Score': 0.51709044}, 8787: {'Cluster ID': 827, 'Link Score': 0.51709044}, 3882: {'Cluster ID': 827, 'Link Score': 0.51709044}, 4691: {'Cluster ID': 828, 'Link Score': 0.51709044}, 43011: {'Cluster ID': 828, 'Link Score': 0.51709044}, 33596: {'Cluster ID': 829, 'Link Score': 0.51709044}, 15857: {'Cluster ID': 829, 'Link Score': 0.51709044}, 12168: {'Cluster ID': 830, 'Link Score': 0.5164459}, 91386: {'Cluster ID': 830, 'Link Score': 0.5164459}, 24249: {'Cluster ID': 831, 'Link Score': 0.51610297}, 154541: {'Cluster ID': 831, 'Link Score': 0.51610297}, 15915: {'Cluster ID': 832, 'Link Score': 0.51451695}, 103557: {'Cluster ID': 832, 'Link Score': 0.51451695}, 1887: {'Cluster ID': 833, 'Link Score': 0.5143008}, 66419: {'Cluster ID': 833, 'Link Score': 0.5143008}, 12157: {'Cluster ID': 834, 'Link Score': 0.5140752}, 1412: {'Cluster ID': 834, 'Link Score': 0.5140752}, 32725: {'Cluster ID': 835, 'Link Score': 0.51352084}, 716: {'Cluster ID': 835, 'Link Score': 0.51352084}, 3513: {'Cluster ID': 836, 'Link Score': 0.5128669}, 143032: {'Cluster ID': 836, 'Link Score': 0.5128669}, 43093: {'Cluster ID': 837, 'Link Score': 0.5108531}, 50172: {'Cluster ID': 837, 'Link Score': 0.5108531}, 13565: {'Cluster ID': 838, 'Link Score': 0.50971377}, 118710: {'Cluster ID': 838, 'Link Score': 0.50971377}, 16994: {'Cluster ID': 839, 'Link Score': 0.50971377}, 116134: {'Cluster ID': 839, 'Link Score': 0.50971377}, 5743: {'Cluster ID': 840, 'Link Score': 0.5078167}, 161580: {'Cluster ID': 840, 'Link Score': 0.5078167}, 38872: {'Cluster ID': 841, 'Link Score': 0.50661176}, 27634: {'Cluster ID': 841, 'Link Score': 0.50661176}, 6535: {'Cluster ID': 842, 'Link Score': 0.5053207}, 16091: {'Cluster ID': 842, 'Link Score': 0.5053207}, 38608: {'Cluster ID': 843, 'Link Score': 0.50490195}, 174842: {'Cluster ID': 843, 'Link Score': 0.50490195}, 171: {'Cluster ID': 844, 'Link Score': 0.50490195}, 15338: {'Cluster ID': 844, 'Link Score': 0.50490195}, 44789: {'Cluster ID': 845, 'Link Score': 0.5046471}, 32730: {'Cluster ID': 845, 'Link Score': 0.5046471}, 35228: {'Cluster ID': 846, 'Link Score': 0.5046471}, 47864: {'Cluster ID': 846, 'Link Score': 0.5046471}, 45457: {'Cluster ID': 847, 'Link Score': 0.5046471}, 42946: {'Cluster ID': 847, 'Link Score': 0.5046471}, 26759: {'Cluster ID': 848, 'Link Score': 0.5046471}, 51323: {'Cluster ID': 848, 'Link Score': 0.5046471}, 15984: {'Cluster ID': 849, 'Link Score': 0.5046471}, 28837: {'Cluster ID': 849, 'Link Score': 0.5046471}, 33867: {'Cluster ID': 850, 'Link Score': 0.5046471}, 10002: {'Cluster ID': 850, 'Link Score': 0.5046471}, 21900: {'Cluster ID': 851, 'Link Score': 0.50435233}, 529: {'Cluster ID': 851, 'Link Score': 0.50435233}, 18728: {'Cluster ID': 852, 'Link Score': 0.50435233}, 141491: {'Cluster ID': 852, 'Link Score': 0.50435233}, 9652: {'Cluster ID': 853, 'Link Score': 0.5023121}, 185069: {'Cluster ID': 853, 'Link Score': 0.5023121}, 2223: {'Cluster ID': 854, 'Link Score': 0.50101066}, 168163: {'Cluster ID': 854, 'Link Score': 0.50101066}, 30710: {'Cluster ID': 855, 'Link Score': 0.50072646}, 8700: {'Cluster ID': 855, 'Link Score': 0.50072646}, 40710: {'Cluster ID': 856, 'Link Score': 0.49852484}, 87570: {'Cluster ID': 856, 'Link Score': 0.49852484}, 42186: {'Cluster ID': 857, 'Link Score': 0.49801797}, 17092: {'Cluster ID': 857, 'Link Score': 0.49801797}, 12991: {'Cluster ID': 858, 'Link Score': 0.49628225}, 180931: {'Cluster ID': 858, 'Link Score': 0.49628225}, 23429: {'Cluster ID': 859, 'Link Score': 0.49602398}, 169449: {'Cluster ID': 859, 'Link Score': 0.49602398}, 42596: {'Cluster ID': 860, 'Link Score': 0.49602398}, 80514: {'Cluster ID': 860, 'Link Score': 0.49602398}, 5922: {'Cluster ID': 861, 'Link Score': 0.49569625}, 168162: {'Cluster ID': 861, 'Link Score': 0.49569625}, 27313: {'Cluster ID': 862, 'Link Score': 0.49439597}, 180169: {'Cluster ID': 862, 'Link Score': 0.49439597}, 23806: {'Cluster ID': 863, 'Link Score': 0.4937}, 28019: {'Cluster ID': 863, 'Link Score': 0.4937}, 8995: {'Cluster ID': 864, 'Link Score': 0.4937}, 188598: {'Cluster ID': 864, 'Link Score': 0.4937}, 27237: {'Cluster ID': 865, 'Link Score': 0.49119404}, 62682: {'Cluster ID': 865, 'Link Score': 0.49119404}, 39663: {'Cluster ID': 866, 'Link Score': 0.48982733}, 326: {'Cluster ID': 1189, 'Link Score': 0.24151047}, 11419: {'Cluster ID': 867, 'Link Score': 0.48982733}, 23835: {'Cluster ID': 867, 'Link Score': 0.48982733}, 6554: {'Cluster ID': 868, 'Link Score': 0.48982733}, 32435: {'Cluster ID': 868, 'Link Score': 0.48982733}, 30579: {'Cluster ID': 869, 'Link Score': 0.48982733}, 42964: {'Cluster ID': 869, 'Link Score': 0.48982733}, 26927: {'Cluster ID': 870, 'Link Score': 0.48982733}, 134800: {'Cluster ID': 870, 'Link Score': 0.48982733}, 44065: {'Cluster ID': 871, 'Link Score': 0.48982733}, 23565: {'Cluster ID': 871, 'Link Score': 0.48982733}, 21671: {'Cluster ID': 872, 'Link Score': 0.48915973}, 93919: {'Cluster ID': 872, 'Link Score': 0.48915973}, 13879: {'Cluster ID': 873, 'Link Score': 0.48808497}, 34803: {'Cluster ID': 873, 'Link Score': 0.48808497}, 9561: {'Cluster ID': 874, 'Link Score': 0.4866742}, 8197: {'Cluster ID': 874, 'Link Score': 0.4866742}, 1764: {'Cluster ID': 875, 'Link Score': 0.48607317}, 37370: {'Cluster ID': 875, 'Link Score': 0.48607317}, 15593: {'Cluster ID': 876, 'Link Score': 0.48516864}, 148407: {'Cluster ID': 876, 'Link Score': 0.48516864}, 2311: {'Cluster ID': 877, 'Link Score': 0.48436803}, 30206: {'Cluster ID': 878, 'Link Score': 0.4826468}, 2835: {'Cluster ID': 878, 'Link Score': 0.4826468}, 10753: {'Cluster ID': 879, 'Link Score': 0.48155856}, 45174: {'Cluster ID': 879, 'Link Score': 0.48155856}, 23710: {'Cluster ID': 880, 'Link Score': 0.47881335}, 139716: {'Cluster ID': 880, 'Link Score': 0.47881335}, 23418: {'Cluster ID': 881, 'Link Score': 0.47760803}, 164744: {'Cluster ID': 881, 'Link Score': 0.47760803}, 12471: {'Cluster ID': 882, 'Link Score': 0.47735295}, 67203: {'Cluster ID': 882, 'Link Score': 0.47735295}, 23976: {'Cluster ID': 883, 'Link Score': 0.47615078}, 104955: {'Cluster ID': 883, 'Link Score': 0.47615078}, 12139: {'Cluster ID': 884, 'Link Score': 0.47615078}, 139415: {'Cluster ID': 884, 'Link Score': 0.47615078}, 30778: {'Cluster ID': 885, 'Link Score': 0.47599083}, 158420: {'Cluster ID': 885, 'Link Score': 0.47599083}, 10920: {'Cluster ID': 886, 'Link Score': 0.474852}, 55581: {'Cluster ID': 886, 'Link Score': 0.474852}, 3196: {'Cluster ID': 887, 'Link Score': 0.47324038}, 133375: {'Cluster ID': 887, 'Link Score': 0.47324038}, 12567: {'Cluster ID': 888, 'Link Score': 0.4723343}, 69607: {'Cluster ID': 888, 'Link Score': 0.4723343}, 7002: {'Cluster ID': 889, 'Link Score': 0.4719524}, 174721: {'Cluster ID': 889, 'Link Score': 0.4719524}, 728: {'Cluster ID': 890, 'Link Score': 0.47191393}, 33616: {'Cluster ID': 890, 'Link Score': 0.47191393}, 28111: {'Cluster ID': 891, 'Link Score': 0.47191393}, 149225: {'Cluster ID': 891, 'Link Score': 0.47191393}, 7089: {'Cluster ID': 892, 'Link Score': 0.47191393}, 22586: {'Cluster ID': 892, 'Link Score': 0.47191393}, 29069: {'Cluster ID': 893, 'Link Score': 0.47191393}, 40065: {'Cluster ID': 893, 'Link Score': 0.47191393}, 21859: {'Cluster ID': 894, 'Link Score': 0.47191393}, 58792: {'Cluster ID': 894, 'Link Score': 0.47191393}, 22877: {'Cluster ID': 895, 'Link Score': 0.47191393}, 118941: {'Cluster ID': 895, 'Link Score': 0.47191393}, 30770: {'Cluster ID': 896, 'Link Score': 0.47191393}, 124875: {'Cluster ID': 896, 'Link Score': 0.47191393}, 40737: {'Cluster ID': 897, 'Link Score': 0.47191393}, 129018: {'Cluster ID': 897, 'Link Score': 0.47191393}, 18435: {'Cluster ID': 898, 'Link Score': 0.4699817}, 43508: {'Cluster ID': 898, 'Link Score': 0.4699817}, 8852: {'Cluster ID': 899, 'Link Score': 0.46819243}, 180735: {'Cluster ID': 899, 'Link Score': 0.46819243}, 28696: {'Cluster ID': 900, 'Link Score': 0.46680838}, 174720: {'Cluster ID': 900, 'Link Score': 0.46680838}, 8471: {'Cluster ID': 901, 'Link Score': 0.4659904}, 24855: {'Cluster ID': 901, 'Link Score': 0.4659904}, 20752: {'Cluster ID': 902, 'Link Score': 0.4657762}, 142815: {'Cluster ID': 902, 'Link Score': 0.4657762}, 6563: {'Cluster ID': 903, 'Link Score': 0.46509084}, 60415: {'Cluster ID': 903, 'Link Score': 0.46509084}, 35315: {'Cluster ID': 904, 'Link Score': 0.4637419}, 41711: {'Cluster ID': 904, 'Link Score': 0.4637419}, 20049: {'Cluster ID': 905, 'Link Score': 0.46349213}, 7822: {'Cluster ID': 905, 'Link Score': 0.46349213}, 36354: {'Cluster ID': 906, 'Link Score': 0.46342078}, 9397: {'Cluster ID': 906, 'Link Score': 0.46342078}, 23765: {'Cluster ID': 907, 'Link Score': 0.46312892}, 176611: {'Cluster ID': 907, 'Link Score': 0.46312892}, 19661: {'Cluster ID': 908, 'Link Score': 0.46312892}, 94086: {'Cluster ID': 908, 'Link Score': 0.46312892}, 31285: {'Cluster ID': 909, 'Link Score': 0.46239346}, 62882: {'Cluster ID': 909, 'Link Score': 0.46239346}, 10914: {'Cluster ID': 910, 'Link Score': 0.46211457}, 35576: {'Cluster ID': 910, 'Link Score': 0.46211457}, 45020: {'Cluster ID': 911, 'Link Score': 0.4617713}, 81869: {'Cluster ID': 911, 'Link Score': 0.4617713}, 41444: {'Cluster ID': 912, 'Link Score': 0.46107695}, 155109: {'Cluster ID': 912, 'Link Score': 0.46107695}, 28642: {'Cluster ID': 913, 'Link Score': 0.4598616}, 159423: {'Cluster ID': 913, 'Link Score': 0.4598616}, 13169: {'Cluster ID': 914, 'Link Score': 0.45969832}, 183462: {'Cluster ID': 914, 'Link Score': 0.45969832}, 24712: {'Cluster ID': 915, 'Link Score': 0.4583791}, 63394: {'Cluster ID': 915, 'Link Score': 0.4583791}, 35246: {'Cluster ID': 916, 'Link Score': 0.4575907}, 14769: {'Cluster ID': 916, 'Link Score': 0.4575907}, 13704: {'Cluster ID': 917, 'Link Score': 0.4570055}, 183024: {'Cluster ID': 917, 'Link Score': 0.4570055}, 35100: {'Cluster ID': 918, 'Link Score': 0.45525068}, 175602: {'Cluster ID': 918, 'Link Score': 0.45525068}, 13433: {'Cluster ID': 919, 'Link Score': 0.45501247}, 28776: {'Cluster ID': 919, 'Link Score': 0.45501247}, 19813: {'Cluster ID': 920, 'Link Score': 0.45492518}, 177524: {'Cluster ID': 920, 'Link Score': 0.45492518}, 2321: {'Cluster ID': 921, 'Link Score': 0.45442963}, 13953: {'Cluster ID': 921, 'Link Score': 0.45442963}, 16781: {'Cluster ID': 922, 'Link Score': 0.45333758}, 86637: {'Cluster ID': 922, 'Link Score': 0.45333758}, 35324: {'Cluster ID': 923, 'Link Score': 0.45319927}, 181395: {'Cluster ID': 923, 'Link Score': 0.45319927}, 8714: {'Cluster ID': 924, 'Link Score': 0.45316303}, 75595: {'Cluster ID': 924, 'Link Score': 0.45316303}, 26196: {'Cluster ID': 925, 'Link Score': 0.45183423}, 154797: {'Cluster ID': 925, 'Link Score': 0.45183423}, 591: {'Cluster ID': 926, 'Link Score': 0.450999}, 182895: {'Cluster ID': 926, 'Link Score': 0.450999}, 2047: {'Cluster ID': 927, 'Link Score': 0.44989005}, 55899: {'Cluster ID': 927, 'Link Score': 0.44989005}, 40441: {'Cluster ID': 928, 'Link Score': 0.44989005}, 179430: {'Cluster ID': 928, 'Link Score': 0.44989005}, 21386: {'Cluster ID': 929, 'Link Score': 0.44989005}, 146681: {'Cluster ID': 929, 'Link Score': 0.44989005}, 37935: {'Cluster ID': 930, 'Link Score': 0.44989005}, 115449: {'Cluster ID': 930, 'Link Score': 0.44989005}, 41246: {'Cluster ID': 931, 'Link Score': 0.44989005}, 63738: {'Cluster ID': 931, 'Link Score': 0.44989005}, 18202: {'Cluster ID': 932, 'Link Score': 0.44989005}, 31999: {'Cluster ID': 932, 'Link Score': 0.44989005}, 22548: {'Cluster ID': 933, 'Link Score': 0.44985643}, 180729: {'Cluster ID': 933, 'Link Score': 0.44985643}, 18905: {'Cluster ID': 934, 'Link Score': 0.4488548}, 21239: {'Cluster ID': 934, 'Link Score': 0.4488548}, 26657: {'Cluster ID': 935, 'Link Score': 0.44853}, 154583: {'Cluster ID': 935, 'Link Score': 0.44853}, 34162: {'Cluster ID': 936, 'Link Score': 0.44845495}, 145110: {'Cluster ID': 936, 'Link Score': 0.44845495}, 20538: {'Cluster ID': 937, 'Link Score': 0.44811147}, 108277: {'Cluster ID': 937, 'Link Score': 0.44811147}, 19184: {'Cluster ID': 938, 'Link Score': 0.4479672}, 34557: {'Cluster ID': 938, 'Link Score': 0.4479672}, 30921: {'Cluster ID': 939, 'Link Score': 0.44720286}, 111189: {'Cluster ID': 939, 'Link Score': 0.44720286}, 4088: {'Cluster ID': 940, 'Link Score': 0.44715455}, 82641: {'Cluster ID': 940, 'Link Score': 0.44715455}, 36535: {'Cluster ID': 941, 'Link Score': 0.44687232}, 184224: {'Cluster ID': 941, 'Link Score': 0.44687232}, 4325: {'Cluster ID': 942, 'Link Score': 0.4463398}, 102589: {'Cluster ID': 942, 'Link Score': 0.4463398}, 10177: {'Cluster ID': 943, 'Link Score': 0.44556615}, 184963: {'Cluster ID': 943, 'Link Score': 0.44556615}, 12815: {'Cluster ID': 944, 'Link Score': 0.44525605}, 87286: {'Cluster ID': 944, 'Link Score': 0.44525605}, 27734: {'Cluster ID': 945, 'Link Score': 0.44358224}, 69591: {'Cluster ID': 945, 'Link Score': 0.44358224}, 32825: {'Cluster ID': 946, 'Link Score': 0.44358224}, 132997: {'Cluster ID': 946, 'Link Score': 0.44358224}, 39762: {'Cluster ID': 947, 'Link Score': 0.44255283}, 177150: {'Cluster ID': 947, 'Link Score': 0.44255283}, 11919: {'Cluster ID': 948, 'Link Score': 0.44139796}, 12408: {'Cluster ID': 948, 'Link Score': 0.44139796}, 10298: {'Cluster ID': 949, 'Link Score': 0.4409068}, 64077: {'Cluster ID': 949, 'Link Score': 0.4409068}, 42085: {'Cluster ID': 950, 'Link Score': 0.44083825}, 111092: {'Cluster ID': 950, 'Link Score': 0.44083825}, 28747: {'Cluster ID': 951, 'Link Score': 0.44071585}, 75738: {'Cluster ID': 951, 'Link Score': 0.44071585}, 4301: {'Cluster ID': 952, 'Link Score': 0.44060975}, 161190: {'Cluster ID': 952, 'Link Score': 0.44060975}, 11325: {'Cluster ID': 953, 'Link Score': 0.44060975}, 155355: {'Cluster ID': 953, 'Link Score': 0.44060975}, 2313: {'Cluster ID': 954, 'Link Score': 0.4393032}, 61402: {'Cluster ID': 954, 'Link Score': 0.4393032}, 3148: {'Cluster ID': 955, 'Link Score': 0.4384891}, 75942: {'Cluster ID': 955, 'Link Score': 0.4384891}, 19567: {'Cluster ID': 956, 'Link Score': 0.43809786}, 113919: {'Cluster ID': 956, 'Link Score': 0.43809786}, 35741: {'Cluster ID': 957, 'Link Score': 0.43743694}, 150268: {'Cluster ID': 957, 'Link Score': 0.43743694}, 19022: {'Cluster ID': 958, 'Link Score': 0.4369001}, 135920: {'Cluster ID': 958, 'Link Score': 0.4369001}, 20515: {'Cluster ID': 959, 'Link Score': 0.43681568}, 118512: {'Cluster ID': 959, 'Link Score': 0.43681568}, 38935: {'Cluster ID': 960, 'Link Score': 0.43645543}, 139283: {'Cluster ID': 960, 'Link Score': 0.43645543}, 10144: {'Cluster ID': 961, 'Link Score': 0.43621016}, 168623: {'Cluster ID': 961, 'Link Score': 0.43621016}, 18920: {'Cluster ID': 962, 'Link Score': 0.43442386}, 54229: {'Cluster ID': 962, 'Link Score': 0.43442386}, 34116: {'Cluster ID': 963, 'Link Score': 0.43442386}, 128885: {'Cluster ID': 963, 'Link Score': 0.43442386}, 37043: {'Cluster ID': 964, 'Link Score': 0.43387023}, 78079: {'Cluster ID': 964, 'Link Score': 0.43387023}, 20522: {'Cluster ID': 965, 'Link Score': 0.43338588}, 177776: {'Cluster ID': 965, 'Link Score': 0.43338588}, 3452: {'Cluster ID': 966, 'Link Score': 0.43290168}, 157932: {'Cluster ID': 966, 'Link Score': 0.43290168}, 20233: {'Cluster ID': 967, 'Link Score': 0.43290168}, 93490: {'Cluster ID': 967, 'Link Score': 0.43290168}, 24079: {'Cluster ID': 968, 'Link Score': 0.432141}, 187875: {'Cluster ID': 968, 'Link Score': 0.432141}, 39262: {'Cluster ID': 969, 'Link Score': 0.43097955}, 176002: {'Cluster ID': 969, 'Link Score': 0.43097955}, 37267: {'Cluster ID': 970, 'Link Score': 0.42916325}, 68595: {'Cluster ID': 970, 'Link Score': 0.42916325}, 41091: {'Cluster ID': 971, 'Link Score': 0.42886612}, 165070: {'Cluster ID': 971, 'Link Score': 0.42886612}, 38584: {'Cluster ID': 972, 'Link Score': 0.42880973}, 86678: {'Cluster ID': 972, 'Link Score': 0.42880973}, 14287: {'Cluster ID': 973, 'Link Score': 0.42767718}, 148899: {'Cluster ID': 973, 'Link Score': 0.42767718}, 33389: {'Cluster ID': 974, 'Link Score': 0.4261003}, 133318: {'Cluster ID': 974, 'Link Score': 0.4261003}, 1844: {'Cluster ID': 975, 'Link Score': 0.42553}, 176587: {'Cluster ID': 975, 'Link Score': 0.42553}, 23163: {'Cluster ID': 976, 'Link Score': 0.42531008}, 131479: {'Cluster ID': 976, 'Link Score': 0.42531008}, 6490: {'Cluster ID': 977, 'Link Score': 0.4247486}, 127671: {'Cluster ID': 977, 'Link Score': 0.4247486}, 1250: {'Cluster ID': 978, 'Link Score': 0.4239123}, 143569: {'Cluster ID': 978, 'Link Score': 0.4239123}, 43004: {'Cluster ID': 979, 'Link Score': 0.4227793}, 179354: {'Cluster ID': 979, 'Link Score': 0.4227793}, 29099: {'Cluster ID': 980, 'Link Score': 0.42262092}, 168777: {'Cluster ID': 980, 'Link Score': 0.42262092}, 22914: {'Cluster ID': 981, 'Link Score': 0.4216112}, 73951: {'Cluster ID': 981, 'Link Score': 0.4216112}, 25650: {'Cluster ID': 982, 'Link Score': 0.42100063}, 37847: {'Cluster ID': 982, 'Link Score': 0.42100063}, 9888: {'Cluster ID': 983, 'Link Score': 0.4207055}, 104501: {'Cluster ID': 983, 'Link Score': 0.4207055}, 39150: {'Cluster ID': 984, 'Link Score': 0.42052}, 43553: {'Cluster ID': 985, 'Link Score': 0.4195748}, 5883: {'Cluster ID': 985, 'Link Score': 0.4195748}, 12319: {'Cluster ID': 986, 'Link Score': 0.41922218}, 22765: {'Cluster ID': 986, 'Link Score': 0.41922218}, 36313: {'Cluster ID': 987, 'Link Score': 0.41911098}, 155389: {'Cluster ID': 987, 'Link Score': 0.41911098}, 34403: {'Cluster ID': 988, 'Link Score': 0.41885158}, 167886: {'Cluster ID': 988, 'Link Score': 0.41885158}, 35531: {'Cluster ID': 989, 'Link Score': 0.4187301}, 104500: {'Cluster ID': 989, 'Link Score': 0.4187301}, 37788: {'Cluster ID': 990, 'Link Score': 0.41699997}, 122876: {'Cluster ID': 990, 'Link Score': 0.41699997}, 42020: {'Cluster ID': 991, 'Link Score': 0.41699997}, 57785: {'Cluster ID': 991, 'Link Score': 0.41699997}, 18987: {'Cluster ID': 992, 'Link Score': 0.4165531}, 135672: {'Cluster ID': 992, 'Link Score': 0.4165531}, 15079: {'Cluster ID': 993, 'Link Score': 0.41585395}, 186268: {'Cluster ID': 993, 'Link Score': 0.41585395}, 33695: {'Cluster ID': 994, 'Link Score': 0.4158285}, 43758: {'Cluster ID': 994, 'Link Score': 0.4158285}, 45192: {'Cluster ID': 995, 'Link Score': 0.41507182}, 72284: {'Cluster ID': 995, 'Link Score': 0.41507182}, 31767: {'Cluster ID': 996, 'Link Score': 0.41480422}, 54265: {'Cluster ID': 996, 'Link Score': 0.41480422}, 40108: {'Cluster ID': 997, 'Link Score': 0.41422695}, 167752: {'Cluster ID': 997, 'Link Score': 0.41422695}, 35117: {'Cluster ID': 998, 'Link Score': 0.41422695}, 181857: {'Cluster ID': 998, 'Link Score': 0.41422695}, 31929: {'Cluster ID': 999, 'Link Score': 0.41397718}, 162535: {'Cluster ID': 999, 'Link Score': 0.41397718}, 24996: {'Cluster ID': 1000, 'Link Score': 0.4137076}, 112888: {'Cluster ID': 1000, 'Link Score': 0.4137076}, 2657: {'Cluster ID': 1001, 'Link Score': 0.4122136}, 90585: {'Cluster ID': 1001, 'Link Score': 0.4122136}, 14180: {'Cluster ID': 1002, 'Link Score': 0.41141745}, 54262: {'Cluster ID': 1002, 'Link Score': 0.41141745}, 31396: {'Cluster ID': 1003, 'Link Score': 0.41127905}, 58607: {'Cluster ID': 1003, 'Link Score': 0.41127905}, 5766: {'Cluster ID': 1004, 'Link Score': 0.41127905}, 105290: {'Cluster ID': 1004, 'Link Score': 0.41127905}, 29525: {'Cluster ID': 1005, 'Link Score': 0.41127905}, 38362: {'Cluster ID': 1005, 'Link Score': 0.41127905}, 31816: {'Cluster ID': 1006, 'Link Score': 0.41030362}, 39138: {'Cluster ID': 1006, 'Link Score': 0.41030362}, 36114: {'Cluster ID': 1007, 'Link Score': 0.40969408}, 62189: {'Cluster ID': 1007, 'Link Score': 0.40969408}, 1485: {'Cluster ID': 1008, 'Link Score': 0.40923044}, 26105: {'Cluster ID': 1008, 'Link Score': 0.40923044}, 45311: {'Cluster ID': 1009, 'Link Score': 0.40823755}, 27065: {'Cluster ID': 1009, 'Link Score': 0.40823755}, 22996: {'Cluster ID': 1010, 'Link Score': 0.40744376}, 62703: {'Cluster ID': 1010, 'Link Score': 0.40744376}, 29734: {'Cluster ID': 1011, 'Link Score': 0.40744376}, 118511: {'Cluster ID': 1011, 'Link Score': 0.40744376}, 14783: {'Cluster ID': 1012, 'Link Score': 0.4057444}, 31986: {'Cluster ID': 1012, 'Link Score': 0.4057444}, 17703: {'Cluster ID': 1013, 'Link Score': 0.40449965}, 136827: {'Cluster ID': 1013, 'Link Score': 0.40449965}, 34179: {'Cluster ID': 1014, 'Link Score': 0.40425086}, 108796: {'Cluster ID': 1014, 'Link Score': 0.40425086}, 4158: {'Cluster ID': 1015, 'Link Score': 0.40387774}, 102822: {'Cluster ID': 1015, 'Link Score': 0.40387774}, 3576: {'Cluster ID': 1016, 'Link Score': 0.40306196}, 58129: {'Cluster ID': 1016, 'Link Score': 0.40306196}, 41763: {'Cluster ID': 1017, 'Link Score': 0.4019528}, 134858: {'Cluster ID': 1017, 'Link Score': 0.4019528}, 4951: {'Cluster ID': 1018, 'Link Score': 0.4009034}, 114673: {'Cluster ID': 1018, 'Link Score': 0.4009034}, 29353: {'Cluster ID': 1019, 'Link Score': 0.40018788}, 121298: {'Cluster ID': 1019, 'Link Score': 0.40018788}, 25612: {'Cluster ID': 1020, 'Link Score': 0.39983222}, 38310: {'Cluster ID': 1020, 'Link Score': 0.39983222}, 34377: {'Cluster ID': 1021, 'Link Score': 0.39791703}, 45675: {'Cluster ID': 1021, 'Link Score': 0.39791703}, 27026: {'Cluster ID': 1022, 'Link Score': 0.39745805}, 76026: {'Cluster ID': 1022, 'Link Score': 0.39745805}, 20067: {'Cluster ID': 1023, 'Link Score': 0.39686722}, 133119: {'Cluster ID': 1023, 'Link Score': 0.39686722}, 13566: {'Cluster ID': 1024, 'Link Score': 0.39585543}, 150242: {'Cluster ID': 1024, 'Link Score': 0.39585543}, 13103: {'Cluster ID': 1025, 'Link Score': 0.39527738}, 134857: {'Cluster ID': 1025, 'Link Score': 0.39527738}, 8780: {'Cluster ID': 1026, 'Link Score': 0.39295954}, 124916: {'Cluster ID': 1026, 'Link Score': 0.39295954}, 7009: {'Cluster ID': 1027, 'Link Score': 0.39089158}, 31272: {'Cluster ID': 1027, 'Link Score': 0.39089158}, 19990: {'Cluster ID': 1028, 'Link Score': 0.39022103}, 6493: {'Cluster ID': 1028, 'Link Score': 0.39022103}, 10774: {'Cluster ID': 1029, 'Link Score': 0.38898033}, 82412: {'Cluster ID': 1029, 'Link Score': 0.38898033}, 42288: {'Cluster ID': 1030, 'Link Score': 0.38843486}, 101013: {'Cluster ID': 1030, 'Link Score': 0.38843486}, 7967: {'Cluster ID': 1031, 'Link Score': 0.38843486}, 187006: {'Cluster ID': 1031, 'Link Score': 0.38843486}, 22646: {'Cluster ID': 1032, 'Link Score': 0.38785762}, 20033: {'Cluster ID': 1032, 'Link Score': 0.38785762}, 34526: {'Cluster ID': 1033, 'Link Score': 0.38516805}, 184533: {'Cluster ID': 1033, 'Link Score': 0.38516805}, 17351: {'Cluster ID': 1034, 'Link Score': 0.38363242}, 95226: {'Cluster ID': 1034, 'Link Score': 0.38363242}, 3443: {'Cluster ID': 1035, 'Link Score': 0.38301525}, 184629: {'Cluster ID': 1035, 'Link Score': 0.38301525}, 33999: {'Cluster ID': 1036, 'Link Score': 0.38267016}, 171524: {'Cluster ID': 1036, 'Link Score': 0.38267016}, 31361: {'Cluster ID': 1037, 'Link Score': 0.38231802}, 153087: {'Cluster ID': 1037, 'Link Score': 0.38231802}, 38283: {'Cluster ID': 1038, 'Link Score': 0.3818566}, 107198: {'Cluster ID': 1038, 'Link Score': 0.3818566}, 17862: {'Cluster ID': 1039, 'Link Score': 0.38092503}, 106616: {'Cluster ID': 1039, 'Link Score': 0.38092503}, 7574: {'Cluster ID': 1040, 'Link Score': 0.37968248}, 170710: {'Cluster ID': 1040, 'Link Score': 0.37968248}, 7381: {'Cluster ID': 1041, 'Link Score': 0.37935272}, 39948: {'Cluster ID': 1041, 'Link Score': 0.37935272}, 42829: {'Cluster ID': 1042, 'Link Score': 0.37880856}, 7414: {'Cluster ID': 1042, 'Link Score': 0.37880856}, 9957: {'Cluster ID': 1043, 'Link Score': 0.3738171}, 4791: {'Cluster ID': 1044, 'Link Score': 0.37272573}, 92159: {'Cluster ID': 1044, 'Link Score': 0.37272573}, 2212: {'Cluster ID': 1045, 'Link Score': 0.37233722}, 128440: {'Cluster ID': 1045, 'Link Score': 0.37233722}, 30843: {'Cluster ID': 1046, 'Link Score': 0.3720371}, 124370: {'Cluster ID': 1046, 'Link Score': 0.3720371}, 16652: {'Cluster ID': 1047, 'Link Score': 0.3718385}, 75734: {'Cluster ID': 1047, 'Link Score': 0.3718385}, 4075: {'Cluster ID': 1048, 'Link Score': 0.37180427}, 184210: {'Cluster ID': 1048, 'Link Score': 0.37180427}, 34131: {'Cluster ID': 1049, 'Link Score': 0.37121674}, 3668: {'Cluster ID': 1049, 'Link Score': 0.37121674}, 20027: {'Cluster ID': 1050, 'Link Score': 0.37121674}, 175931: {'Cluster ID': 1050, 'Link Score': 0.37121674}, 41614: {'Cluster ID': 1051, 'Link Score': 0.3711008}, 110809: {'Cluster ID': 1051, 'Link Score': 0.3711008}, 13327: {'Cluster ID': 1052, 'Link Score': 0.3708781}, 187278: {'Cluster ID': 1052, 'Link Score': 0.3708781}, 16312: {'Cluster ID': 1053, 'Link Score': 0.37001657}, 54257: {'Cluster ID': 1053, 'Link Score': 0.37001657}, 3380: {'Cluster ID': 1054, 'Link Score': 0.36917418}, 95644: {'Cluster ID': 1054, 'Link Score': 0.36917418}, 25646: {'Cluster ID': 1055, 'Link Score': 0.36799908}, 83967: {'Cluster ID': 1055, 'Link Score': 0.36799908}, 272: {'Cluster ID': 1056, 'Link Score': 0.36611223}, 141284: {'Cluster ID': 1056, 'Link Score': 0.36611223}, 5810: {'Cluster ID': 1057, 'Link Score': 0.36539334}, 4773: {'Cluster ID': 1057, 'Link Score': 0.36539334}, 39803: {'Cluster ID': 1058, 'Link Score': 0.36539334}, 137684: {'Cluster ID': 1058, 'Link Score': 0.36539334}, 16464: {'Cluster ID': 1059, 'Link Score': 0.36539334}, 181497: {'Cluster ID': 1059, 'Link Score': 0.36539334}, 22707: {'Cluster ID': 1060, 'Link Score': 0.3645265}, 179697: {'Cluster ID': 1060, 'Link Score': 0.3645265}, 40564: {'Cluster ID': 1061, 'Link Score': 0.36426795}, 123374: {'Cluster ID': 1061, 'Link Score': 0.36426795}, 2831: {'Cluster ID': 1062, 'Link Score': 0.36426795}, 54221: {'Cluster ID': 1062, 'Link Score': 0.36426795}, 19936: {'Cluster ID': 1063, 'Link Score': 0.36371827}, 93135: {'Cluster ID': 1063, 'Link Score': 0.36371827}, 14313: {'Cluster ID': 1064, 'Link Score': 0.36369565}, 91360: {'Cluster ID': 1064, 'Link Score': 0.36369565}, 365: {'Cluster ID': 1065, 'Link Score': 0.36291727}, 67236: {'Cluster ID': 1065, 'Link Score': 0.36291727}, 43072: {'Cluster ID': 1066, 'Link Score': 0.36143136}, 8623: {'Cluster ID': 1066, 'Link Score': 0.36143136}, 45263: {'Cluster ID': 1067, 'Link Score': 0.35996142}, 48696: {'Cluster ID': 1067, 'Link Score': 0.35996142}, 37251: {'Cluster ID': 1068, 'Link Score': 0.3585617}, 37833: {'Cluster ID': 1068, 'Link Score': 0.3585617}, 12639: {'Cluster ID': 1069, 'Link Score': 0.3585617}, 34810: {'Cluster ID': 1069, 'Link Score': 0.3585617}, 111089: {'Cluster ID': 1070, 'Link Score': 0.35802826}, 32951: {'Cluster ID': 1071, 'Link Score': 0.3580042}, 64080: {'Cluster ID': 1071, 'Link Score': 0.3580042}, 35483: {'Cluster ID': 1072, 'Link Score': 0.35607535}, 38557: {'Cluster ID': 1072, 'Link Score': 0.35607535}, 30714: {'Cluster ID': 1073, 'Link Score': 0.35373816}, 118005: {'Cluster ID': 1073, 'Link Score': 0.35373816}, 41202: {'Cluster ID': 1074, 'Link Score': 0.35335448}, 180476: {'Cluster ID': 1074, 'Link Score': 0.35335448}, 10652: {'Cluster ID': 1075, 'Link Score': 0.3505641}, 108267: {'Cluster ID': 1075, 'Link Score': 0.3505641}, 10135: {'Cluster ID': 1076, 'Link Score': 0.34846643}, 118526: {'Cluster ID': 1076, 'Link Score': 0.34846643}, 4478: {'Cluster ID': 1077, 'Link Score': 0.3476226}, 49381: {'Cluster ID': 1077, 'Link Score': 0.3476226}, 30964: {'Cluster ID': 1078, 'Link Score': 0.34726533}, 1714: {'Cluster ID': 1078, 'Link Score': 0.34726533}, 19600: {'Cluster ID': 1079, 'Link Score': 0.3468421}, 131005: {'Cluster ID': 1079, 'Link Score': 0.3468421}, 20732: {'Cluster ID': 1080, 'Link Score': 0.34674463}, 180463: {'Cluster ID': 1080, 'Link Score': 0.34674463}, 771: {'Cluster ID': 1081, 'Link Score': 0.34591505}, 23604: {'Cluster ID': 1081, 'Link Score': 0.34591505}, 14786: {'Cluster ID': 1082, 'Link Score': 0.3449918}, 170439: {'Cluster ID': 1082, 'Link Score': 0.3449918}, 31543: {'Cluster ID': 1083, 'Link Score': 0.3447001}, 185073: {'Cluster ID': 1083, 'Link Score': 0.3447001}, 22225: {'Cluster ID': 1084, 'Link Score': 0.34454885}, 82842: {'Cluster ID': 1084, 'Link Score': 0.34454885}, 21524: {'Cluster ID': 1085, 'Link Score': 0.34389842}, 50448: {'Cluster ID': 1085, 'Link Score': 0.34389842}, 33575: {'Cluster ID': 1086, 'Link Score': 0.34367996}, 44051: {'Cluster ID': 1086, 'Link Score': 0.34367996}, 45533: {'Cluster ID': 1087, 'Link Score': 0.34355763}, 157876: {'Cluster ID': 1087, 'Link Score': 0.34355763}, 45576: {'Cluster ID': 1088, 'Link Score': 0.34354302}, 76537: {'Cluster ID': 1088, 'Link Score': 0.34354302}, 1926: {'Cluster ID': 1089, 'Link Score': 0.34353432}, 171434: {'Cluster ID': 1089, 'Link Score': 0.34353432}, 6931: {'Cluster ID': 1090, 'Link Score': 0.34293646}, 93898: {'Cluster ID': 1090, 'Link Score': 0.34293646}, 161815: {'Cluster ID': 1091, 'Link Score': 0.34062824}, 40347: {'Cluster ID': 1092, 'Link Score': 0.34062824}, 10887: {'Cluster ID': 1092, 'Link Score': 0.34062824}, 3221: {'Cluster ID': 1093, 'Link Score': 0.34062824}, 97731: {'Cluster ID': 1093, 'Link Score': 0.34062824}, 25473: {'Cluster ID': 1094, 'Link Score': 0.34062824}, 73960: {'Cluster ID': 1094, 'Link Score': 0.34062824}, 14399: {'Cluster ID': 1095, 'Link Score': 0.34062824}, 185183: {'Cluster ID': 1095, 'Link Score': 0.34062824}, 23871: {'Cluster ID': 1096, 'Link Score': 0.34024167}, 141273: {'Cluster ID': 1096, 'Link Score': 0.34024167}, 24349: {'Cluster ID': 1097, 'Link Score': 0.34024167}, 181558: {'Cluster ID': 1097, 'Link Score': 0.34024167}, 24995: {'Cluster ID': 1098, 'Link Score': 0.34017727}, 142060: {'Cluster ID': 1098, 'Link Score': 0.34017727}, 20916: {'Cluster ID': 1099, 'Link Score': 0.33972657}, 112855: {'Cluster ID': 1099, 'Link Score': 0.33972657}, 12710: {'Cluster ID': 1100, 'Link Score': 0.33956987}, 179203: {'Cluster ID': 1100, 'Link Score': 0.33956987}, 25911: {'Cluster ID': 1101, 'Link Score': 0.3379688}, 140307: {'Cluster ID': 1101, 'Link Score': 0.3379688}, 17404: {'Cluster ID': 1102, 'Link Score': 0.33763632}, 4349: {'Cluster ID': 1102, 'Link Score': 0.33763632}, 19760: {'Cluster ID': 1103, 'Link Score': 0.33754158}, 154002: {'Cluster ID': 1103, 'Link Score': 0.33754158}, 38959: {'Cluster ID': 1104, 'Link Score': 0.3372761}, 171795: {'Cluster ID': 1104, 'Link Score': 0.3372761}, 29867: {'Cluster ID': 1105, 'Link Score': 0.33664596}, 137973: {'Cluster ID': 1105, 'Link Score': 0.33664596}, 39090: {'Cluster ID': 1106, 'Link Score': 0.33577293}, 187508: {'Cluster ID': 1106, 'Link Score': 0.33577293}, 16959: {'Cluster ID': 1107, 'Link Score': 0.33564892}, 11262: {'Cluster ID': 1107, 'Link Score': 0.33564892}, 26189: {'Cluster ID': 1108, 'Link Score': 0.33416218}, 89142: {'Cluster ID': 1108, 'Link Score': 0.33416218}, 4837: {'Cluster ID': 1109, 'Link Score': 0.33370262}, 106186: {'Cluster ID': 1109, 'Link Score': 0.33370262}, 9073: {'Cluster ID': 1110, 'Link Score': 0.33344746}, 108280: {'Cluster ID': 1110, 'Link Score': 0.33344746}, 5825: {'Cluster ID': 1111, 'Link Score': 0.33340046}, 162706: {'Cluster ID': 1111, 'Link Score': 0.33340046}, 31288: {'Cluster ID': 1112, 'Link Score': 0.33331993}, 18222: {'Cluster ID': 1112, 'Link Score': 0.33331993}, 24604: {'Cluster ID': 1113, 'Link Score': 0.3324422}, 89343: {'Cluster ID': 1113, 'Link Score': 0.3324422}, 22850: {'Cluster ID': 1114, 'Link Score': 0.33011734}, 101625: {'Cluster ID': 1114, 'Link Score': 0.33011734}, 16770: {'Cluster ID': 1115, 'Link Score': 0.32925904}, 60355: {'Cluster ID': 1115, 'Link Score': 0.32925904}, 40556: {'Cluster ID': 1116, 'Link Score': 0.3274272}, 184453: {'Cluster ID': 1116, 'Link Score': 0.3274272}, 43192: {'Cluster ID': 1117, 'Link Score': 0.32434627}, 131244: {'Cluster ID': 1117, 'Link Score': 0.32434627}, 8288: {'Cluster ID': 1118, 'Link Score': 0.32260093}, 8948: {'Cluster ID': 1118, 'Link Score': 0.32260093}, 14400: {'Cluster ID': 1119, 'Link Score': 0.32239664}, 89497: {'Cluster ID': 1119, 'Link Score': 0.32239664}, 2976: {'Cluster ID': 1120, 'Link Score': 0.3177559}, 134879: {'Cluster ID': 1120, 'Link Score': 0.3177559}, 25100: {'Cluster ID': 1121, 'Link Score': 0.31562164}, 164085: {'Cluster ID': 1121, 'Link Score': 0.31562164}, 24683: {'Cluster ID': 1122, 'Link Score': 0.31131232}, 36848: {'Cluster ID': 1122, 'Link Score': 0.31131232}, 13066: {'Cluster ID': 1123, 'Link Score': 0.31131232}, 30649: {'Cluster ID': 1123, 'Link Score': 0.31131232}, 44515: {'Cluster ID': 1124, 'Link Score': 0.3108653}, 27292: {'Cluster ID': 1124, 'Link Score': 0.3108653}, 35618: {'Cluster ID': 1125, 'Link Score': 0.3108653}, 139468: {'Cluster ID': 1125, 'Link Score': 0.3108653}, 26952: {'Cluster ID': 1126, 'Link Score': 0.3095551}, 137536: {'Cluster ID': 1126, 'Link Score': 0.3095551}, 41094: {'Cluster ID': 1127, 'Link Score': 0.30933866}, 161539: {'Cluster ID': 1127, 'Link Score': 0.30933866}, 29470: {'Cluster ID': 1128, 'Link Score': 0.30843452}, 101569: {'Cluster ID': 1128, 'Link Score': 0.30843452}, 19804: {'Cluster ID': 1129, 'Link Score': 0.3083151}, 105197: {'Cluster ID': 1129, 'Link Score': 0.3083151}, 18433: {'Cluster ID': 1130, 'Link Score': 0.30828944}, 148284: {'Cluster ID': 1130, 'Link Score': 0.30828944}, 44695: {'Cluster ID': 1131, 'Link Score': 0.30243942}, 11275: {'Cluster ID': 1131, 'Link Score': 0.30243942}, 36198: {'Cluster ID': 1132, 'Link Score': 0.30126724}, 127734: {'Cluster ID': 1132, 'Link Score': 0.30126724}, 28801: {'Cluster ID': 1133, 'Link Score': 0.3006463}, 170440: {'Cluster ID': 1133, 'Link Score': 0.3006463}, 21117: {'Cluster ID': 1134, 'Link Score': 0.29957867}, 57296: {'Cluster ID': 1134, 'Link Score': 0.29957867}, 7976: {'Cluster ID': 1135, 'Link Score': 0.29955146}, 105746: {'Cluster ID': 1135, 'Link Score': 0.29955146}, 21908: {'Cluster ID': 1136, 'Link Score': 0.2983481}, 146830: {'Cluster ID': 1136, 'Link Score': 0.2983481}, 33494: {'Cluster ID': 1137, 'Link Score': 0.2980962}, 127117: {'Cluster ID': 1137, 'Link Score': 0.2980962}, 8664: {'Cluster ID': 1138, 'Link Score': 0.29507706}, 145549: {'Cluster ID': 1138, 'Link Score': 0.29507706}, 45365: {'Cluster ID': 1139, 'Link Score': 0.2947511}, 93916: {'Cluster ID': 1139, 'Link Score': 0.2947511}, 6522: {'Cluster ID': 1140, 'Link Score': 0.2945613}, 110808: {'Cluster ID': 1140, 'Link Score': 0.2945613}, 17418: {'Cluster ID': 1141, 'Link Score': 0.292262}, 144250: {'Cluster ID': 1141, 'Link Score': 0.292262}, 19549: {'Cluster ID': 1142, 'Link Score': 0.29153877}, 170593: {'Cluster ID': 1142, 'Link Score': 0.29153877}, 19978: {'Cluster ID': 1143, 'Link Score': 0.29110202}, 38911: {'Cluster ID': 1143, 'Link Score': 0.29110202}, 40140: {'Cluster ID': 1144, 'Link Score': 0.2899755}, 187977: {'Cluster ID': 1144, 'Link Score': 0.2899755}, 33434: {'Cluster ID': 1145, 'Link Score': 0.28990525}, 155821: {'Cluster ID': 1145, 'Link Score': 0.28990525}, 25196: {'Cluster ID': 1146, 'Link Score': 0.28713757}, 81122: {'Cluster ID': 1146, 'Link Score': 0.28713757}, 6793: {'Cluster ID': 1147, 'Link Score': 0.28626767}, 158173: {'Cluster ID': 1147, 'Link Score': 0.28626767}, 13385: {'Cluster ID': 1148, 'Link Score': 0.28626767}, 107754: {'Cluster ID': 1148, 'Link Score': 0.28626767}, 25874: {'Cluster ID': 1149, 'Link Score': 0.28614858}, 165119: {'Cluster ID': 1149, 'Link Score': 0.28614858}, 39925: {'Cluster ID': 1150, 'Link Score': 0.2849847}, 164846: {'Cluster ID': 1150, 'Link Score': 0.2849847}, 4628: {'Cluster ID': 1151, 'Link Score': 0.28389472}, 50421: {'Cluster ID': 1151, 'Link Score': 0.28389472}, 43405: {'Cluster ID': 1152, 'Link Score': 0.28373855}, 115687: {'Cluster ID': 1152, 'Link Score': 0.28373855}, 13157: {'Cluster ID': 1153, 'Link Score': 0.27893803}, 84368: {'Cluster ID': 1153, 'Link Score': 0.27893803}, 2256: {'Cluster ID': 1154, 'Link Score': 0.27837896}, 171018: {'Cluster ID': 1154, 'Link Score': 0.27837896}, 36152: {'Cluster ID': 1155, 'Link Score': 0.27835193}, 131414: {'Cluster ID': 1155, 'Link Score': 0.27835193}, 12409: {'Cluster ID': 1156, 'Link Score': 0.27729893}, 177889: {'Cluster ID': 1156, 'Link Score': 0.27729893}, 36294: {'Cluster ID': 1157, 'Link Score': 0.27517238}, 1648: {'Cluster ID': 1157, 'Link Score': 0.27517238}, 25116: {'Cluster ID': 1158, 'Link Score': 0.2742873}, 123614: {'Cluster ID': 1158, 'Link Score': 0.2742873}, 35083: {'Cluster ID': 1159, 'Link Score': 0.27425706}, 12814: {'Cluster ID': 1159, 'Link Score': 0.27425706}, 28634: {'Cluster ID': 1160, 'Link Score': 0.27346838}, 187204: {'Cluster ID': 1160, 'Link Score': 0.27346838}, 34451: {'Cluster ID': 1161, 'Link Score': 0.2728557}, 41983: {'Cluster ID': 1161, 'Link Score': 0.2728557}, 29850: {'Cluster ID': 1162, 'Link Score': 0.27202693}, 83682: {'Cluster ID': 1162, 'Link Score': 0.27202693}, 5496: {'Cluster ID': 1163, 'Link Score': 0.26988867}, 76279: {'Cluster ID': 1163, 'Link Score': 0.26988867}, 2979: {'Cluster ID': 1164, 'Link Score': 0.26803967}, 42862: {'Cluster ID': 1164, 'Link Score': 0.26803967}, 43380: {'Cluster ID': 1165, 'Link Score': 0.2661956}, 64494: {'Cluster ID': 1165, 'Link Score': 0.2661956}, 20597: {'Cluster ID': 1166, 'Link Score': 0.26578417}, 183026: {'Cluster ID': 1166, 'Link Score': 0.26578417}, 16375: {'Cluster ID': 1167, 'Link Score': 0.26281744}, 67071: {'Cluster ID': 1167, 'Link Score': 0.26281744}, 20887: {'Cluster ID': 1168, 'Link Score': 0.26199916}, 167874: {'Cluster ID': 1168, 'Link Score': 0.26199916}, 32865: {'Cluster ID': 1169, 'Link Score': 0.26131654}, 16911: {'Cluster ID': 1169, 'Link Score': 0.26131654}, 7254: {'Cluster ID': 1170, 'Link Score': 0.25989714}, 181383: {'Cluster ID': 1170, 'Link Score': 0.25989714}, 26088: {'Cluster ID': 1171, 'Link Score': 0.25871882}, 165628: {'Cluster ID': 1171, 'Link Score': 0.25871882}, 17857: {'Cluster ID': 1172, 'Link Score': 0.25828266}, 130599: {'Cluster ID': 1172, 'Link Score': 0.25828266}, 41797: {'Cluster ID': 1173, 'Link Score': 0.25783554}, 73947: {'Cluster ID': 1173, 'Link Score': 0.25783554}, 29587: {'Cluster ID': 1174, 'Link Score': 0.25735292}, 147425: {'Cluster ID': 1174, 'Link Score': 0.25735292}, 41009: {'Cluster ID': 1175, 'Link Score': 0.25505257}, 98014: {'Cluster ID': 1175, 'Link Score': 0.25505257}, 24796: {'Cluster ID': 1176, 'Link Score': 0.25272658}, 52436: {'Cluster ID': 1176, 'Link Score': 0.25272658}, 31684: {'Cluster ID': 1177, 'Link Score': 0.2520177}, 8950: {'Cluster ID': 1177, 'Link Score': 0.2520177}, 36367: {'Cluster ID': 1178, 'Link Score': 0.25184563}, 90615: {'Cluster ID': 1178, 'Link Score': 0.25184563}, 743: {'Cluster ID': 1179, 'Link Score': 0.2511033}, 183208: {'Cluster ID': 1179, 'Link Score': 0.2511033}, 35357: {'Cluster ID': 1180, 'Link Score': 0.25047565}, 3865: {'Cluster ID': 1180, 'Link Score': 0.25047565}, 35945: {'Cluster ID': 1181, 'Link Score': 0.24974634}, 132486: {'Cluster ID': 1181, 'Link Score': 0.24974634}, 14229: {'Cluster ID': 1182, 'Link Score': 0.24721965}, 38589: {'Cluster ID': 1182, 'Link Score': 0.24721965}, 23524: {'Cluster ID': 1183, 'Link Score': 0.2471844}, 30318: {'Cluster ID': 1183, 'Link Score': 0.2471844}, 1452: {'Cluster ID': 1184, 'Link Score': 0.24596353}, 164641: {'Cluster ID': 1184, 'Link Score': 0.24596353}, 37730: {'Cluster ID': 1185, 'Link Score': 0.24485256}, 31891: {'Cluster ID': 1185, 'Link Score': 0.24485256}, 4840: {'Cluster ID': 1186, 'Link Score': 0.24193867}, 141567: {'Cluster ID': 1186, 'Link Score': 0.24193867}, 22939: {'Cluster ID': 1187, 'Link Score': 0.24193867}, 18776: {'Cluster ID': 1187, 'Link Score': 0.24193867}, 43458: {'Cluster ID': 1188, 'Link Score': 0.24167767}, 136609: {'Cluster ID': 1188, 'Link Score': 0.24167767}, 82386: {'Cluster ID': 1189, 'Link Score': 0.24151047}, 15828: {'Cluster ID': 1190, 'Link Score': 0.24074711}, 50895: {'Cluster ID': 1190, 'Link Score': 0.24074711}, 32676: {'Cluster ID': 1191, 'Link Score': 0.24074711}, 3677: {'Cluster ID': 1191, 'Link Score': 0.24074711}, 12290: {'Cluster ID': 1192, 'Link Score': 0.24008687}, 10847: {'Cluster ID': 1192, 'Link Score': 0.24008687}, 34642: {'Cluster ID': 1193, 'Link Score': 0.23964737}, 117940: {'Cluster ID': 1193, 'Link Score': 0.23964737}, 38380: {'Cluster ID': 1194, 'Link Score': 0.2393772}, 54260: {'Cluster ID': 1194, 'Link Score': 0.2393772}, 38178: {'Cluster ID': 1195, 'Link Score': 0.2324592}, 87044: {'Cluster ID': 1195, 'Link Score': 0.2324592}, 41398: {'Cluster ID': 1196, 'Link Score': 0.23233664}, 50078: {'Cluster ID': 1196, 'Link Score': 0.23233664}, 27258: {'Cluster ID': 1197, 'Link Score': 0.23203123}, 110826: {'Cluster ID': 1197, 'Link Score': 0.23203123}, 12729: {'Cluster ID': 1198, 'Link Score': 0.23007901}, 114268: {'Cluster ID': 1198, 'Link Score': 0.23007901}, 43536: {'Cluster ID': 1199, 'Link Score': 0.22957568}, 82255: {'Cluster ID': 1199, 'Link Score': 0.22957568}, 13392: {'Cluster ID': 1200, 'Link Score': 0.2277337}, 89068: {'Cluster ID': 1200, 'Link Score': 0.2277337}, 7348: {'Cluster ID': 1201, 'Link Score': 0.22475132}, 43718: {'Cluster ID': 1201, 'Link Score': 0.22475132}, 18595: {'Cluster ID': 1202, 'Link Score': 0.22374704}, 33346: {'Cluster ID': 1202, 'Link Score': 0.22374704}, 45229: {'Cluster ID': 1203, 'Link Score': 0.22233291}, 108276: {'Cluster ID': 1203, 'Link Score': 0.22233291}, 2658: {'Cluster ID': 1204, 'Link Score': 0.22176516}, 174245: {'Cluster ID': 1204, 'Link Score': 0.22176516}, 12656: {'Cluster ID': 1205, 'Link Score': 0.22148165}, 29609: {'Cluster ID': 1205, 'Link Score': 0.22148165}, 4428: {'Cluster ID': 1206, 'Link Score': 0.21812327}, 36606: {'Cluster ID': 1206, 'Link Score': 0.21812327}, 39585: {'Cluster ID': 1207, 'Link Score': 0.21762168}, 136608: {'Cluster ID': 1207, 'Link Score': 0.21762168}, 21285: {'Cluster ID': 1208, 'Link Score': 0.21154727}, 33339: {'Cluster ID': 1208, 'Link Score': 0.21154727}, 13786: {'Cluster ID': 1209, 'Link Score': 0.21038316}, 128985: {'Cluster ID': 1209, 'Link Score': 0.21038316}, 22507: {'Cluster ID': 1210, 'Link Score': 0.201799}, 122885: {'Cluster ID': 1210, 'Link Score': 0.201799}, 21842: {'Cluster ID': 1211, 'Link Score': 0.201799}, 103188: {'Cluster ID': 1211, 'Link Score': 0.201799}, 28840: {'Cluster ID': 1212, 'Link Score': 0.20001867}, 54696: {'Cluster ID': 1212, 'Link Score': 0.20001867}, 5369: {'Cluster ID': 1213, 'Link Score': 0.19867459}, 121258: {'Cluster ID': 1213, 'Link Score': 0.19867459}, 34753: {'Cluster ID': 1214, 'Link Score': 0.19830602}, 80663: {'Cluster ID': 1214, 'Link Score': 0.19830602}, 33272: {'Cluster ID': 1215, 'Link Score': 0.19646607}, 164640: {'Cluster ID': 1215, 'Link Score': 0.19646607}, 25467: {'Cluster ID': 1216, 'Link Score': 0.19596358}, 101858: {'Cluster ID': 1216, 'Link Score': 0.19596358}, 16189: {'Cluster ID': 1217, 'Link Score': 0.19470075}, 32219: {'Cluster ID': 1217, 'Link Score': 0.19470075}, 44870: {'Cluster ID': 1218, 'Link Score': 0.19391099}, 79267: {'Cluster ID': 1218, 'Link Score': 0.19391099}, 3832: {'Cluster ID': 1219, 'Link Score': 0.1932676}, 109740: {'Cluster ID': 1219, 'Link Score': 0.1932676}, 33036: {'Cluster ID': 1220, 'Link Score': 0.1907632}, 36605: {'Cluster ID': 1220, 'Link Score': 0.1907632}, 35332: {'Cluster ID': 1221, 'Link Score': 0.18942073}, 105017: {'Cluster ID': 1221, 'Link Score': 0.18942073}, 26912: {'Cluster ID': 1222, 'Link Score': 0.18873699}, 35593: {'Cluster ID': 1222, 'Link Score': 0.18873699}, 22581: {'Cluster ID': 1223, 'Link Score': 0.18621156}, 32131: {'Cluster ID': 1223, 'Link Score': 0.18621156}, 12633: {'Cluster ID': 1224, 'Link Score': 0.18561783}, 174616: {'Cluster ID': 1224, 'Link Score': 0.18561783}, 45070: {'Cluster ID': 1225, 'Link Score': 0.18559168}, 51688: {'Cluster ID': 1225, 'Link Score': 0.18559168}, 7607: {'Cluster ID': 1226, 'Link Score': 0.18553326}, 36750: {'Cluster ID': 1226, 'Link Score': 0.18553326}, 5334: {'Cluster ID': 1227, 'Link Score': 0.18253127}, 89720: {'Cluster ID': 1227, 'Link Score': 0.18253127}, 7073: {'Cluster ID': 1228, 'Link Score': 0.18156591}, 36604: {'Cluster ID': 1228, 'Link Score': 0.18156591}, 22886: {'Cluster ID': 1229, 'Link Score': 0.18060344}, 184114: {'Cluster ID': 1229, 'Link Score': 0.18060344}, 41583: {'Cluster ID': 1230, 'Link Score': 0.17376073}, 81130: {'Cluster ID': 1230, 'Link Score': 0.17376073}, 33136: {'Cluster ID': 1231, 'Link Score': 0.1732407}, 156085: {'Cluster ID': 1231, 'Link Score': 0.1732407}, 43798: {'Cluster ID': 1232, 'Link Score': 0.16913109}, 1339: {'Cluster ID': 1232, 'Link Score': 0.16913109}, 7228: {'Cluster ID': 1233, 'Link Score': 0.1659857}, 2420: {'Cluster ID': 1233, 'Link Score': 0.1659857}, 19056: {'Cluster ID': 1234, 'Link Score': 0.16432141}, 29694: {'Cluster ID': 1234, 'Link Score': 0.16432141}, 6324: {'Cluster ID': 1235, 'Link Score': 0.16385867}, 105202: {'Cluster ID': 1235, 'Link Score': 0.16385867}, 38769: {'Cluster ID': 1236, 'Link Score': 0.16263843}, 11774: {'Cluster ID': 1236, 'Link Score': 0.16263843}, 8655: {'Cluster ID': 1237, 'Link Score': 0.1623492}, 30044: {'Cluster ID': 1237, 'Link Score': 0.1623492}, 43176: {'Cluster ID': 1238, 'Link Score': 0.16063857}, 101857: {'Cluster ID': 1238, 'Link Score': 0.16063857}, 5928: {'Cluster ID': 1239, 'Link Score': 0.1558014}, 171439: {'Cluster ID': 1239, 'Link Score': 0.1558014}, 41399: {'Cluster ID': 1240, 'Link Score': 0.15392151}, 111980: {'Cluster ID': 1240, 'Link Score': 0.15392151}, 45259: {'Cluster ID': 1241, 'Link Score': 0.15156199}, 105196: {'Cluster ID': 1241, 'Link Score': 0.15156199}, 27097: {'Cluster ID': 1242, 'Link Score': 0.13928862}, 7083: {'Cluster ID': 1242, 'Link Score': 0.13928862}, 34166: {'Cluster ID': 1243, 'Link Score': 0.13906755}, 101859: {'Cluster ID': 1243, 'Link Score': 0.13906755}, 4201: {'Cluster ID': 1244, 'Link Score': 0.12854692}, 56575: {'Cluster ID': 1244, 'Link Score': 0.12854692}, 43626: {'Cluster ID': 1245, 'Link Score': 0.09775776}, 36588: {'Cluster ID': 1245, 'Link Score': 0.09775776}, 12070: {'Cluster ID': 1246, 'Link Score': 0.05029437}, 133147: {'Cluster ID': 1246, 'Link Score': 0.05029437}}\n"
     ]
    }
   ],
   "source": [
    "# ## Blocking\n",
    "\n",
    "# ## Clustering\n",
    "\n",
    "# Find the threshold that will maximize a weighted average of our\n",
    "# precision and recall.  When we set the recall weight to 2, we are\n",
    "# saying we care twice as much about recall as we do precision.\n",
    "#\n",
    "# If we had more data, we would not pass in all the blocked data into\n",
    "# this function but a representative sample.\n",
    "\n",
    "print('clustering...')\n",
    "linked_records = linker.join(data1_dict, data2_dict, 0.0)\n",
    "\n",
    "print('# duplicate sets', len(linked_records))\n",
    "# ## Writing Results\n",
    "\n",
    "# Write our original data back out to a CSV with a new column called\n",
    "# 'Cluster ID' which indicates which records refer to each other.\n",
    "\n",
    "cluster_membership2 = {}\n",
    "for cluster_id, (cluster, score) in enumerate(linked_records):\n",
    "    for record_id in cluster:\n",
    "        cluster_membership2[record_id] = {'Cluster ID': cluster_id,\n",
    "                                         'Link Score': score}\n",
    "print(cluster_membership2)\n"
   ]
  },
  {
   "cell_type": "code",
   "execution_count": 17,
   "id": "97a91092-3fda-48db-addf-d6c881e3bc39",
   "metadata": {},
   "outputs": [
    {
     "data": {
      "text/plain": [
       "2482"
      ]
     },
     "execution_count": 17,
     "metadata": {},
     "output_type": "execute_result"
    }
   ],
   "source": [
    "len(cluster_membership2)"
   ]
  },
  {
   "cell_type": "code",
   "execution_count": 19,
   "id": "5ce20c2e-74ef-4d9c-b3a8-909db9eb1075",
   "metadata": {},
   "outputs": [],
   "source": [
    "cluster_d = {}\n",
    "i = 0\n",
    "for k, v in cluster_membership2.items():\n",
    "#     print(k,v['Cluster ID'])\n",
    "    cluster_id = v['Cluster ID']\n",
    "    keys = cluster_d.get(cluster_id, [])\n",
    "    keys.append(k)\n",
    "    cluster_d[cluster_id] = keys\n",
    "    i+=1\n",
    "    if i >=2000:\n",
    "        break\n",
    "# print(cluster_d)"
   ]
  },
  {
   "cell_type": "code",
   "execution_count": 27,
   "id": "d9ec3c2b-64c1-498d-b885-3827a2910865",
   "metadata": {},
   "outputs": [],
   "source": [
    "df_sb['assignee_id'] = \"\"\n",
    "df_sb['organization'] = \"\"\n",
    "for k, v in cluster_d.items():\n",
    "#     print(k)\n",
    "#     print(df_patent_org.iloc[v[0]]['assignee_id'])\n",
    "    try:\n",
    "        df_sb.at[v[1], 'assignee_id'] = df_patent_org.iloc[v[0]]['assignee_id']\n",
    "        df_sb.at[v[1], 'organization'] = df_patent_org.iloc[v[0]]['organization']\n",
    "    except:\n",
    "        pass\n"
   ]
  },
  {
   "cell_type": "code",
   "execution_count": 22,
   "id": "be0027d7-10b7-44f2-94f5-d5ee32826f69",
   "metadata": {},
   "outputs": [
    {
     "data": {
      "text/plain": [
       "Index(['Company', 'Award Title', 'Agency', 'Branch', 'Phase', 'Program',\n",
       "       'Agency Tracking Number', 'Contract', 'Proposal Award Date',\n",
       "       'Contract End Date', 'Solicitation Number', 'Solicitation Year',\n",
       "       'Topic Code', 'Award Year', 'Award Amount', 'Duns', 'HUBZone Owned',\n",
       "       'Socially and Economically Disadvantaged', 'Women Owned',\n",
       "       'Number Employees', 'Company Website', 'Address1', 'Address2', 'City',\n",
       "       'State', 'Zip', 'Abstract', 'Contact Name', 'Contact Title',\n",
       "       'Contact Phone', 'Contact Email', 'PI Name', 'PI Title', 'PI Phone',\n",
       "       'PI Email', 'RI Name', 'RI POC Name', 'RI POC Phone', 'assignee_id',\n",
       "       'organization'],\n",
       "      dtype='object')"
      ]
     },
     "execution_count": 22,
     "metadata": {},
     "output_type": "execute_result"
    }
   ],
   "source": [
    "df_sb.columns"
   ]
  },
  {
   "cell_type": "code",
   "execution_count": 32,
   "id": "0b8bb77d-5be5-4072-b631-990f10d91281",
   "metadata": {},
   "outputs": [],
   "source": [
    "# df_sb.dropna(inplace=True)\n",
    "df_sb_patent = df_sb[df_sb['assignee_id'] != \"\"]"
   ]
  },
  {
   "cell_type": "code",
   "execution_count": 34,
   "id": "6e619a12-a13e-4f3d-a5f5-b664cfd251aa",
   "metadata": {},
   "outputs": [
    {
     "data": {
      "text/html": [
       "<div>\n",
       "<style scoped>\n",
       "    .dataframe tbody tr th:only-of-type {\n",
       "        vertical-align: middle;\n",
       "    }\n",
       "\n",
       "    .dataframe tbody tr th {\n",
       "        vertical-align: top;\n",
       "    }\n",
       "\n",
       "    .dataframe thead th {\n",
       "        text-align: right;\n",
       "    }\n",
       "</style>\n",
       "<table border=\"1\" class=\"dataframe\">\n",
       "  <thead>\n",
       "    <tr style=\"text-align: right;\">\n",
       "      <th></th>\n",
       "      <th>Company</th>\n",
       "      <th>organization</th>\n",
       "      <th>assignee_id</th>\n",
       "      <th>Award Amount</th>\n",
       "      <th>Socially and Economically Disadvantaged</th>\n",
       "      <th>Women Owned</th>\n",
       "      <th>State</th>\n",
       "    </tr>\n",
       "  </thead>\n",
       "  <tbody>\n",
       "    <tr>\n",
       "      <th>119</th>\n",
       "      <td>Aura Intelligent Systems, Inc.</td>\n",
       "      <td>Aura Intelligent Systems, Inc.</td>\n",
       "      <td>b3b07262-1aa1-4cff-b14c-4ecbf9995a86</td>\n",
       "      <td>256,000</td>\n",
       "      <td>N</td>\n",
       "      <td>Y</td>\n",
       "      <td>MA</td>\n",
       "    </tr>\n",
       "    <tr>\n",
       "      <th>232</th>\n",
       "      <td>Chiral Photonics, Inc.</td>\n",
       "      <td>Chiral Photonics, Inc.</td>\n",
       "      <td>1255db6b-aa99-43bf-b63b-bb1f3f18b18f</td>\n",
       "      <td>1,125,745</td>\n",
       "      <td>N</td>\n",
       "      <td>N</td>\n",
       "      <td>NJ</td>\n",
       "    </tr>\n",
       "    <tr>\n",
       "      <th>401</th>\n",
       "      <td>Farad Power Inc</td>\n",
       "      <td>Farad Power, Inc</td>\n",
       "      <td>42cf33c3-6c26-4fa8-a326-e580c019ce46</td>\n",
       "      <td>132,383</td>\n",
       "      <td>N</td>\n",
       "      <td>N</td>\n",
       "      <td>CA</td>\n",
       "    </tr>\n",
       "    <tr>\n",
       "      <th>444</th>\n",
       "      <td>Gate Scientific, Inc.</td>\n",
       "      <td>Gate Scientific, Inc.</td>\n",
       "      <td>46bb2e8b-7bd4-45eb-862d-55d097e5d1fa</td>\n",
       "      <td>999,656</td>\n",
       "      <td>N</td>\n",
       "      <td>N</td>\n",
       "      <td>CA</td>\n",
       "    </tr>\n",
       "    <tr>\n",
       "      <th>482</th>\n",
       "      <td>H3D, Inc.</td>\n",
       "      <td>H3D, Inc.</td>\n",
       "      <td>203dee44-5faa-4bae-b2ab-b12e492e9177</td>\n",
       "      <td>200,000</td>\n",
       "      <td>N</td>\n",
       "      <td>N</td>\n",
       "      <td>MI</td>\n",
       "    </tr>\n",
       "    <tr>\n",
       "      <th>...</th>\n",
       "      <td>...</td>\n",
       "      <td>...</td>\n",
       "      <td>...</td>\n",
       "      <td>...</td>\n",
       "      <td>...</td>\n",
       "      <td>...</td>\n",
       "      <td>...</td>\n",
       "    </tr>\n",
       "    <tr>\n",
       "      <th>187875</th>\n",
       "      <td>Plasma Tech Corp.</td>\n",
       "      <td>Plasma Tech Holdings, LLC</td>\n",
       "      <td>ee79c702-d68d-48d7-86c1-f59744dd4afd</td>\n",
       "      <td>41,415</td>\n",
       "      <td>N</td>\n",
       "      <td>N</td>\n",
       "      <td>IL</td>\n",
       "    </tr>\n",
       "    <tr>\n",
       "      <th>188104</th>\n",
       "      <td>Synergetics, Inc.</td>\n",
       "      <td>Synergetics, Inc.</td>\n",
       "      <td>80c21baa-31ec-4bf9-ae87-962881913fcb</td>\n",
       "      <td>371,845</td>\n",
       "      <td>N</td>\n",
       "      <td>N</td>\n",
       "      <td>NC</td>\n",
       "    </tr>\n",
       "    <tr>\n",
       "      <th>188557</th>\n",
       "      <td>Environmental Protection</td>\n",
       "      <td>Environmental Protection Administration, R.O.C.</td>\n",
       "      <td>ab221a9c-1281-4a8e-ac7c-478f3dd18f73</td>\n",
       "      <td>50,000</td>\n",
       "      <td>N</td>\n",
       "      <td>N</td>\n",
       "      <td>CA</td>\n",
       "    </tr>\n",
       "    <tr>\n",
       "      <th>188598</th>\n",
       "      <td>General Technology Inc</td>\n",
       "      <td>Generalplus Technology Inc.</td>\n",
       "      <td>0de653f4-d162-4cfc-890b-503c9623e346</td>\n",
       "      <td>49,607</td>\n",
       "      <td>N</td>\n",
       "      <td>N</td>\n",
       "      <td>VA</td>\n",
       "    </tr>\n",
       "    <tr>\n",
       "      <th>189030</th>\n",
       "      <td>Virginia Transformer Corp.</td>\n",
       "      <td>Virginia Transformer Corporation</td>\n",
       "      <td>e5f7dc5f-2e62-46e2-8a82-d9e9f7a89137</td>\n",
       "      <td>41,000</td>\n",
       "      <td>N</td>\n",
       "      <td>N</td>\n",
       "      <td>VA</td>\n",
       "    </tr>\n",
       "  </tbody>\n",
       "</table>\n",
       "<p>992 rows × 7 columns</p>\n",
       "</div>"
      ],
      "text/plain": [
       "                               Company  \\\n",
       "119     Aura Intelligent Systems, Inc.   \n",
       "232             Chiral Photonics, Inc.   \n",
       "401                    Farad Power Inc   \n",
       "444             Gate Scientific, Inc.    \n",
       "482                          H3D, Inc.   \n",
       "...                                ...   \n",
       "187875               Plasma Tech Corp.   \n",
       "188104               Synergetics, Inc.   \n",
       "188557        Environmental Protection   \n",
       "188598          General Technology Inc   \n",
       "189030      Virginia Transformer Corp.   \n",
       "\n",
       "                                           organization  \\\n",
       "119                      Aura Intelligent Systems, Inc.   \n",
       "232                              Chiral Photonics, Inc.   \n",
       "401                                    Farad Power, Inc   \n",
       "444                               Gate Scientific, Inc.   \n",
       "482                                           H3D, Inc.   \n",
       "...                                                 ...   \n",
       "187875                        Plasma Tech Holdings, LLC   \n",
       "188104                                Synergetics, Inc.   \n",
       "188557  Environmental Protection Administration, R.O.C.   \n",
       "188598                      Generalplus Technology Inc.   \n",
       "189030                 Virginia Transformer Corporation   \n",
       "\n",
       "                                 assignee_id Award Amount  \\\n",
       "119     b3b07262-1aa1-4cff-b14c-4ecbf9995a86      256,000   \n",
       "232     1255db6b-aa99-43bf-b63b-bb1f3f18b18f    1,125,745   \n",
       "401     42cf33c3-6c26-4fa8-a326-e580c019ce46      132,383   \n",
       "444     46bb2e8b-7bd4-45eb-862d-55d097e5d1fa      999,656   \n",
       "482     203dee44-5faa-4bae-b2ab-b12e492e9177      200,000   \n",
       "...                                      ...          ...   \n",
       "187875  ee79c702-d68d-48d7-86c1-f59744dd4afd       41,415   \n",
       "188104  80c21baa-31ec-4bf9-ae87-962881913fcb      371,845   \n",
       "188557  ab221a9c-1281-4a8e-ac7c-478f3dd18f73       50,000   \n",
       "188598  0de653f4-d162-4cfc-890b-503c9623e346       49,607   \n",
       "189030  e5f7dc5f-2e62-46e2-8a82-d9e9f7a89137       41,000   \n",
       "\n",
       "       Socially and Economically Disadvantaged Women Owned State  \n",
       "119                                          N           Y    MA  \n",
       "232                                          N           N    NJ  \n",
       "401                                          N           N    CA  \n",
       "444                                          N           N    CA  \n",
       "482                                          N           N    MI  \n",
       "...                                        ...         ...   ...  \n",
       "187875                                       N           N    IL  \n",
       "188104                                       N           N    NC  \n",
       "188557                                       N           N    CA  \n",
       "188598                                       N           N    VA  \n",
       "189030                                       N           N    VA  \n",
       "\n",
       "[992 rows x 7 columns]"
      ]
     },
     "execution_count": 34,
     "metadata": {},
     "output_type": "execute_result"
    }
   ],
   "source": [
    "cols = ['Company','organization','assignee_id','Award Amount','Socially and Economically Disadvantaged', 'Women Owned','State']\n",
    "df_sb_patent[cols]"
   ]
  },
  {
   "cell_type": "code",
   "execution_count": 35,
   "id": "a2e2dd34-29c8-4d23-8ff6-1f5377f5b42c",
   "metadata": {},
   "outputs": [],
   "source": [
    "df_sb_patent.to_csv('df_sb_patent.csv', columns=cols, index=False)"
   ]
  }
 ],
 "metadata": {
  "kernelspec": {
   "display_name": "Python 3",
   "language": "python",
   "name": "python3"
  },
  "language_info": {
   "codemirror_mode": {
    "name": "ipython",
    "version": 3
   },
   "file_extension": ".py",
   "mimetype": "text/x-python",
   "name": "python",
   "nbconvert_exporter": "python",
   "pygments_lexer": "ipython3",
   "version": "3.7.0"
  }
 },
 "nbformat": 4,
 "nbformat_minor": 5
}
