{
 "cells": [
  {
   "cell_type": "markdown",
   "id": "54bb9109-370f-43bc-a291-299da54112d8",
   "metadata": {},
   "source": [
    "## Venture Beat Company Dedupe with Patent Organization"
   ]
  },
  {
   "cell_type": "code",
   "execution_count": 21,
   "id": "2aab8ab8-565e-42a4-b3a9-cbe421a042c9",
   "metadata": {},
   "outputs": [],
   "source": [
    "import pandas as pd\n",
    "import numpy as np \n",
    "import dedupe\n",
    "import os"
   ]
  },
  {
   "cell_type": "code",
   "execution_count": 30,
   "id": "ba58694e-26ef-4b3d-82ea-c70dc86d1c77",
   "metadata": {},
   "outputs": [],
   "source": [
    "df_patent_org = pd.read_csv('patent_org_2017.csv')"
   ]
  },
  {
   "cell_type": "code",
   "execution_count": 31,
   "id": "21154f41-18c5-4c7b-b10a-7ce92125534f",
   "metadata": {},
   "outputs": [],
   "source": [
    "df_vb = pd.read_csv('VentureBeat-Processed.csv', usecols=['Date', 'Header', 'Abstract', 'Clean_Funding', 'Topics'])"
   ]
  },
  {
   "cell_type": "code",
   "execution_count": 32,
   "id": "c034d966-aa59-4225-ab3c-2967776aec74",
   "metadata": {},
   "outputs": [
    {
     "data": {
      "text/html": [
       "<div>\n",
       "<style scoped>\n",
       "    .dataframe tbody tr th:only-of-type {\n",
       "        vertical-align: middle;\n",
       "    }\n",
       "\n",
       "    .dataframe tbody tr th {\n",
       "        vertical-align: top;\n",
       "    }\n",
       "\n",
       "    .dataframe thead th {\n",
       "        text-align: right;\n",
       "    }\n",
       "</style>\n",
       "<table border=\"1\" class=\"dataframe\">\n",
       "  <thead>\n",
       "    <tr style=\"text-align: right;\">\n",
       "      <th></th>\n",
       "      <th>Date</th>\n",
       "      <th>Header</th>\n",
       "      <th>Abstract</th>\n",
       "      <th>Clean_Funding</th>\n",
       "      <th>Topics</th>\n",
       "    </tr>\n",
       "  </thead>\n",
       "  <tbody>\n",
       "    <tr>\n",
       "      <th>0</th>\n",
       "      <td>2021-12-05</td>\n",
       "      <td>Sense raises $50M to bolster recruitment effor...</td>\n",
       "      <td>Recruiting is a top concern for enterprises in...</td>\n",
       "      <td>50000000.0</td>\n",
       "      <td>['job candidate', 'Candidates', 'candidates']</td>\n",
       "    </tr>\n",
       "    <tr>\n",
       "      <th>1</th>\n",
       "      <td>2021-12-02</td>\n",
       "      <td>AI-powered ecommerce platform Convious raises ...</td>\n",
       "      <td>Convious , the Amsterdam-based company that of...</td>\n",
       "      <td>12000000.0</td>\n",
       "      <td>['frictionless buying experience', 'historical...</td>\n",
       "    </tr>\n",
       "    <tr>\n",
       "      <th>2</th>\n",
       "      <td>2021-12-02</td>\n",
       "      <td>Smartling lands $160M to help companies transl...</td>\n",
       "      <td>As the pandemic drives businesses online, tran...</td>\n",
       "      <td>160000000.0</td>\n",
       "      <td>['updated translations', 'translation', 'human...</td>\n",
       "    </tr>\n",
       "    <tr>\n",
       "      <th>3</th>\n",
       "      <td>2021-12-02</td>\n",
       "      <td>Digital Insulin Management Company Hygieia Clo...</td>\n",
       "      <td>LIVONIA, Mich.–(BUSINESS WIRE)–December 2, 202...</td>\n",
       "      <td>17000000.0</td>\n",
       "      <td>['insulin management', 'insulin therapy', 'ins...</td>\n",
       "    </tr>\n",
       "    <tr>\n",
       "      <th>4</th>\n",
       "      <td>2021-12-01</td>\n",
       "      <td>CyCognito nabs $100M to fight cyberattacks wit...</td>\n",
       "      <td>CyCognito , a company developing bot technolog...</td>\n",
       "      <td>100000000.0</td>\n",
       "      <td>['LightSpeed Venture Partners', 'potential att...</td>\n",
       "    </tr>\n",
       "    <tr>\n",
       "      <th>...</th>\n",
       "      <td>...</td>\n",
       "      <td>...</td>\n",
       "      <td>...</td>\n",
       "      <td>...</td>\n",
       "      <td>...</td>\n",
       "    </tr>\n",
       "    <tr>\n",
       "      <th>1646</th>\n",
       "      <td>2012-08-21</td>\n",
       "      <td>A.I. research firm Vicarious raises $15M in it...</td>\n",
       "      <td>Vicarious  is building A.I. software based on ...</td>\n",
       "      <td>15000000.0</td>\n",
       "      <td>['-founder Dustin Moscovitz', 'GUI code', 'Vic...</td>\n",
       "    </tr>\n",
       "    <tr>\n",
       "      <th>1647</th>\n",
       "      <td>2012-06-28</td>\n",
       "      <td>Online ad player Rocket Fuel gains $50M fundin...</td>\n",
       "      <td>Rocket Fuel, a four-year-old  ad technology fi...</td>\n",
       "      <td>50000000.0</td>\n",
       "      <td>['Nokia Growth Capital', 'advertising opportun...</td>\n",
       "    </tr>\n",
       "    <tr>\n",
       "      <th>1648</th>\n",
       "      <td>2010-09-21</td>\n",
       "      <td>Ad optimizer Rocket Fuel lifts off with $10M f...</td>\n",
       "      <td>Rocket Fuel , a startup claiming to bring hone...</td>\n",
       "      <td>10000000.0</td>\n",
       "      <td>['Rocket Fuel', 'Nokia Growth Partners', 'ad o...</td>\n",
       "    </tr>\n",
       "    <tr>\n",
       "      <th>1649</th>\n",
       "      <td>2010-03-09</td>\n",
       "      <td>Revised video game financing list: 115 game co...</td>\n",
       "      <td>[Update: We’ve added our list with new funding...</td>\n",
       "      <td>663100000.0</td>\n",
       "      <td>['social games', 'iPhone games', 'game']</td>\n",
       "    </tr>\n",
       "    <tr>\n",
       "      <th>1650</th>\n",
       "      <td>2009-12-21</td>\n",
       "      <td>Game startups raised $600.5 million in 2009, d...</td>\n",
       "      <td>Game startups continued to score big investmen...</td>\n",
       "      <td>600500000.0</td>\n",
       "      <td>['social games', 'iPhone games', 'game']</td>\n",
       "    </tr>\n",
       "  </tbody>\n",
       "</table>\n",
       "<p>1651 rows × 5 columns</p>\n",
       "</div>"
      ],
      "text/plain": [
       "            Date                                             Header  \\\n",
       "0     2021-12-05  Sense raises $50M to bolster recruitment effor...   \n",
       "1     2021-12-02  AI-powered ecommerce platform Convious raises ...   \n",
       "2     2021-12-02  Smartling lands $160M to help companies transl...   \n",
       "3     2021-12-02  Digital Insulin Management Company Hygieia Clo...   \n",
       "4     2021-12-01  CyCognito nabs $100M to fight cyberattacks wit...   \n",
       "...          ...                                                ...   \n",
       "1646  2012-08-21  A.I. research firm Vicarious raises $15M in it...   \n",
       "1647  2012-06-28  Online ad player Rocket Fuel gains $50M fundin...   \n",
       "1648  2010-09-21  Ad optimizer Rocket Fuel lifts off with $10M f...   \n",
       "1649  2010-03-09  Revised video game financing list: 115 game co...   \n",
       "1650  2009-12-21  Game startups raised $600.5 million in 2009, d...   \n",
       "\n",
       "                                               Abstract  Clean_Funding  \\\n",
       "0     Recruiting is a top concern for enterprises in...     50000000.0   \n",
       "1     Convious , the Amsterdam-based company that of...     12000000.0   \n",
       "2     As the pandemic drives businesses online, tran...    160000000.0   \n",
       "3     LIVONIA, Mich.–(BUSINESS WIRE)–December 2, 202...     17000000.0   \n",
       "4     CyCognito , a company developing bot technolog...    100000000.0   \n",
       "...                                                 ...            ...   \n",
       "1646  Vicarious  is building A.I. software based on ...     15000000.0   \n",
       "1647  Rocket Fuel, a four-year-old  ad technology fi...     50000000.0   \n",
       "1648  Rocket Fuel , a startup claiming to bring hone...     10000000.0   \n",
       "1649  [Update: We’ve added our list with new funding...    663100000.0   \n",
       "1650  Game startups continued to score big investmen...    600500000.0   \n",
       "\n",
       "                                                 Topics  \n",
       "0         ['job candidate', 'Candidates', 'candidates']  \n",
       "1     ['frictionless buying experience', 'historical...  \n",
       "2     ['updated translations', 'translation', 'human...  \n",
       "3     ['insulin management', 'insulin therapy', 'ins...  \n",
       "4     ['LightSpeed Venture Partners', 'potential att...  \n",
       "...                                                 ...  \n",
       "1646  ['-founder Dustin Moscovitz', 'GUI code', 'Vic...  \n",
       "1647  ['Nokia Growth Capital', 'advertising opportun...  \n",
       "1648  ['Rocket Fuel', 'Nokia Growth Partners', 'ad o...  \n",
       "1649           ['social games', 'iPhone games', 'game']  \n",
       "1650           ['social games', 'iPhone games', 'game']  \n",
       "\n",
       "[1651 rows x 5 columns]"
      ]
     },
     "execution_count": 32,
     "metadata": {},
     "output_type": "execute_result"
    }
   ],
   "source": [
    "df_vb"
   ]
  },
  {
   "cell_type": "code",
   "execution_count": 33,
   "id": "bca341c1-4267-4b63-b495-a2a047aca91b",
   "metadata": {},
   "outputs": [
    {
     "data": {
      "text/html": [
       "<div>\n",
       "<style scoped>\n",
       "    .dataframe tbody tr th:only-of-type {\n",
       "        vertical-align: middle;\n",
       "    }\n",
       "\n",
       "    .dataframe tbody tr th {\n",
       "        vertical-align: top;\n",
       "    }\n",
       "\n",
       "    .dataframe thead th {\n",
       "        text-align: right;\n",
       "    }\n",
       "</style>\n",
       "<table border=\"1\" class=\"dataframe\">\n",
       "  <thead>\n",
       "    <tr style=\"text-align: right;\">\n",
       "      <th></th>\n",
       "      <th>assignee_id</th>\n",
       "      <th>organization</th>\n",
       "    </tr>\n",
       "  </thead>\n",
       "  <tbody>\n",
       "    <tr>\n",
       "      <th>0</th>\n",
       "      <td>3b86ee5d-49e0-444b-800a-67eb3c0b4f2c</td>\n",
       "      <td>ITSAUL PLANTS LLC</td>\n",
       "    </tr>\n",
       "    <tr>\n",
       "      <th>1</th>\n",
       "      <td>ed25dd8e-2465-47f2-b1e7-00d223089af4</td>\n",
       "      <td>Altman Plants</td>\n",
       "    </tr>\n",
       "    <tr>\n",
       "      <th>2</th>\n",
       "      <td>51a6da5b-4755-4e2f-a282-159552a45a42</td>\n",
       "      <td>Georgia State University Research Foundation, ...</td>\n",
       "    </tr>\n",
       "    <tr>\n",
       "      <th>3</th>\n",
       "      <td>37d3b9fd-1d06-4d7a-a5dd-1f9334bbd292</td>\n",
       "      <td>SYNGENTA PARTICIPATIONS AG</td>\n",
       "    </tr>\n",
       "    <tr>\n",
       "      <th>4</th>\n",
       "      <td>6cf8e9cb-e280-4ef2-a0fd-a371b7a33a12</td>\n",
       "      <td>Danziger “DAN” Flower Farm</td>\n",
       "    </tr>\n",
       "    <tr>\n",
       "      <th>...</th>\n",
       "      <td>...</td>\n",
       "      <td>...</td>\n",
       "    </tr>\n",
       "    <tr>\n",
       "      <th>45745</th>\n",
       "      <td>05d390a7-27aa-4758-8355-f53154d7df0f</td>\n",
       "      <td>lonis Pharmaceuticals, Inc.</td>\n",
       "    </tr>\n",
       "    <tr>\n",
       "      <th>45746</th>\n",
       "      <td>56d0d9a4-5315-4e34-97ea-d8afe96e6ac6</td>\n",
       "      <td>Aflnitl, Ltd.</td>\n",
       "    </tr>\n",
       "    <tr>\n",
       "      <th>45747</th>\n",
       "      <td>dd4fa4c6-2282-47d5-85f9-41994c3f9a33</td>\n",
       "      <td>ALGAE TO OMEGA HOLDINGS, INC.</td>\n",
       "    </tr>\n",
       "    <tr>\n",
       "      <th>45748</th>\n",
       "      <td>707b39e5-8ea2-4a1a-a0c5-1996442181d4</td>\n",
       "      <td>Panasonic Intellectual Property Mangement Co.,...</td>\n",
       "    </tr>\n",
       "    <tr>\n",
       "      <th>45749</th>\n",
       "      <td>89d890d6-9df4-444d-994f-9ba45cd52673</td>\n",
       "      <td>IMBERATEK, LLC</td>\n",
       "    </tr>\n",
       "  </tbody>\n",
       "</table>\n",
       "<p>45750 rows × 2 columns</p>\n",
       "</div>"
      ],
      "text/plain": [
       "                                assignee_id  \\\n",
       "0      3b86ee5d-49e0-444b-800a-67eb3c0b4f2c   \n",
       "1      ed25dd8e-2465-47f2-b1e7-00d223089af4   \n",
       "2      51a6da5b-4755-4e2f-a282-159552a45a42   \n",
       "3      37d3b9fd-1d06-4d7a-a5dd-1f9334bbd292   \n",
       "4      6cf8e9cb-e280-4ef2-a0fd-a371b7a33a12   \n",
       "...                                     ...   \n",
       "45745  05d390a7-27aa-4758-8355-f53154d7df0f   \n",
       "45746  56d0d9a4-5315-4e34-97ea-d8afe96e6ac6   \n",
       "45747  dd4fa4c6-2282-47d5-85f9-41994c3f9a33   \n",
       "45748  707b39e5-8ea2-4a1a-a0c5-1996442181d4   \n",
       "45749  89d890d6-9df4-444d-994f-9ba45cd52673   \n",
       "\n",
       "                                            organization  \n",
       "0                                      ITSAUL PLANTS LLC  \n",
       "1                                          Altman Plants  \n",
       "2      Georgia State University Research Foundation, ...  \n",
       "3                             SYNGENTA PARTICIPATIONS AG  \n",
       "4                             Danziger “DAN” Flower Farm  \n",
       "...                                                  ...  \n",
       "45745                        lonis Pharmaceuticals, Inc.  \n",
       "45746                                      Aflnitl, Ltd.  \n",
       "45747                      ALGAE TO OMEGA HOLDINGS, INC.  \n",
       "45748  Panasonic Intellectual Property Mangement Co.,...  \n",
       "45749                                     IMBERATEK, LLC  \n",
       "\n",
       "[45750 rows x 2 columns]"
      ]
     },
     "execution_count": 33,
     "metadata": {},
     "output_type": "execute_result"
    }
   ],
   "source": [
    "df_patent_org"
   ]
  },
  {
   "cell_type": "code",
   "execution_count": 34,
   "id": "621cd233-8485-4a34-a6eb-5579a351df45",
   "metadata": {},
   "outputs": [],
   "source": [
    "df_patent_org['Company'] = df_patent_org['organization']\n",
    "df_vb['Company'] = df_vb['Header']"
   ]
  },
  {
   "cell_type": "code",
   "execution_count": 35,
   "id": "1520b66a-8556-44fd-acf2-7dc733140f50",
   "metadata": {},
   "outputs": [
    {
     "data": {
      "text/html": [
       "<div>\n",
       "<style scoped>\n",
       "    .dataframe tbody tr th:only-of-type {\n",
       "        vertical-align: middle;\n",
       "    }\n",
       "\n",
       "    .dataframe tbody tr th {\n",
       "        vertical-align: top;\n",
       "    }\n",
       "\n",
       "    .dataframe thead th {\n",
       "        text-align: right;\n",
       "    }\n",
       "</style>\n",
       "<table border=\"1\" class=\"dataframe\">\n",
       "  <thead>\n",
       "    <tr style=\"text-align: right;\">\n",
       "      <th></th>\n",
       "      <th>Date</th>\n",
       "      <th>Header</th>\n",
       "      <th>Abstract</th>\n",
       "      <th>Clean_Funding</th>\n",
       "      <th>Topics</th>\n",
       "      <th>Company</th>\n",
       "    </tr>\n",
       "  </thead>\n",
       "  <tbody>\n",
       "    <tr>\n",
       "      <th>0</th>\n",
       "      <td>2021-12-05</td>\n",
       "      <td>Sense raises $50M to bolster recruitment effor...</td>\n",
       "      <td>Recruiting is a top concern for enterprises in...</td>\n",
       "      <td>50000000.0</td>\n",
       "      <td>['job candidate', 'Candidates', 'candidates']</td>\n",
       "      <td>Sense raises $50M to bolster recruitment effor...</td>\n",
       "    </tr>\n",
       "    <tr>\n",
       "      <th>1</th>\n",
       "      <td>2021-12-02</td>\n",
       "      <td>AI-powered ecommerce platform Convious raises ...</td>\n",
       "      <td>Convious , the Amsterdam-based company that of...</td>\n",
       "      <td>12000000.0</td>\n",
       "      <td>['frictionless buying experience', 'historical...</td>\n",
       "      <td>AI-powered ecommerce platform Convious raises ...</td>\n",
       "    </tr>\n",
       "    <tr>\n",
       "      <th>2</th>\n",
       "      <td>2021-12-02</td>\n",
       "      <td>Smartling lands $160M to help companies transl...</td>\n",
       "      <td>As the pandemic drives businesses online, tran...</td>\n",
       "      <td>160000000.0</td>\n",
       "      <td>['updated translations', 'translation', 'human...</td>\n",
       "      <td>Smartling lands $160M to help companies transl...</td>\n",
       "    </tr>\n",
       "    <tr>\n",
       "      <th>3</th>\n",
       "      <td>2021-12-02</td>\n",
       "      <td>Digital Insulin Management Company Hygieia Clo...</td>\n",
       "      <td>LIVONIA, Mich.–(BUSINESS WIRE)–December 2, 202...</td>\n",
       "      <td>17000000.0</td>\n",
       "      <td>['insulin management', 'insulin therapy', 'ins...</td>\n",
       "      <td>Digital Insulin Management Company Hygieia Clo...</td>\n",
       "    </tr>\n",
       "    <tr>\n",
       "      <th>4</th>\n",
       "      <td>2021-12-01</td>\n",
       "      <td>CyCognito nabs $100M to fight cyberattacks wit...</td>\n",
       "      <td>CyCognito , a company developing bot technolog...</td>\n",
       "      <td>100000000.0</td>\n",
       "      <td>['LightSpeed Venture Partners', 'potential att...</td>\n",
       "      <td>CyCognito nabs $100M to fight cyberattacks wit...</td>\n",
       "    </tr>\n",
       "    <tr>\n",
       "      <th>...</th>\n",
       "      <td>...</td>\n",
       "      <td>...</td>\n",
       "      <td>...</td>\n",
       "      <td>...</td>\n",
       "      <td>...</td>\n",
       "      <td>...</td>\n",
       "    </tr>\n",
       "    <tr>\n",
       "      <th>1646</th>\n",
       "      <td>2012-08-21</td>\n",
       "      <td>A.I. research firm Vicarious raises $15M in it...</td>\n",
       "      <td>Vicarious  is building A.I. software based on ...</td>\n",
       "      <td>15000000.0</td>\n",
       "      <td>['-founder Dustin Moscovitz', 'GUI code', 'Vic...</td>\n",
       "      <td>A.I. research firm Vicarious raises $15M in it...</td>\n",
       "    </tr>\n",
       "    <tr>\n",
       "      <th>1647</th>\n",
       "      <td>2012-06-28</td>\n",
       "      <td>Online ad player Rocket Fuel gains $50M fundin...</td>\n",
       "      <td>Rocket Fuel, a four-year-old  ad technology fi...</td>\n",
       "      <td>50000000.0</td>\n",
       "      <td>['Nokia Growth Capital', 'advertising opportun...</td>\n",
       "      <td>Online ad player Rocket Fuel gains $50M fundin...</td>\n",
       "    </tr>\n",
       "    <tr>\n",
       "      <th>1648</th>\n",
       "      <td>2010-09-21</td>\n",
       "      <td>Ad optimizer Rocket Fuel lifts off with $10M f...</td>\n",
       "      <td>Rocket Fuel , a startup claiming to bring hone...</td>\n",
       "      <td>10000000.0</td>\n",
       "      <td>['Rocket Fuel', 'Nokia Growth Partners', 'ad o...</td>\n",
       "      <td>Ad optimizer Rocket Fuel lifts off with $10M f...</td>\n",
       "    </tr>\n",
       "    <tr>\n",
       "      <th>1649</th>\n",
       "      <td>2010-03-09</td>\n",
       "      <td>Revised video game financing list: 115 game co...</td>\n",
       "      <td>[Update: We’ve added our list with new funding...</td>\n",
       "      <td>663100000.0</td>\n",
       "      <td>['social games', 'iPhone games', 'game']</td>\n",
       "      <td>Revised video game financing list: 115 game co...</td>\n",
       "    </tr>\n",
       "    <tr>\n",
       "      <th>1650</th>\n",
       "      <td>2009-12-21</td>\n",
       "      <td>Game startups raised $600.5 million in 2009, d...</td>\n",
       "      <td>Game startups continued to score big investmen...</td>\n",
       "      <td>600500000.0</td>\n",
       "      <td>['social games', 'iPhone games', 'game']</td>\n",
       "      <td>Game startups raised $600.5 million in 2009, d...</td>\n",
       "    </tr>\n",
       "  </tbody>\n",
       "</table>\n",
       "<p>1651 rows × 6 columns</p>\n",
       "</div>"
      ],
      "text/plain": [
       "            Date                                             Header  \\\n",
       "0     2021-12-05  Sense raises $50M to bolster recruitment effor...   \n",
       "1     2021-12-02  AI-powered ecommerce platform Convious raises ...   \n",
       "2     2021-12-02  Smartling lands $160M to help companies transl...   \n",
       "3     2021-12-02  Digital Insulin Management Company Hygieia Clo...   \n",
       "4     2021-12-01  CyCognito nabs $100M to fight cyberattacks wit...   \n",
       "...          ...                                                ...   \n",
       "1646  2012-08-21  A.I. research firm Vicarious raises $15M in it...   \n",
       "1647  2012-06-28  Online ad player Rocket Fuel gains $50M fundin...   \n",
       "1648  2010-09-21  Ad optimizer Rocket Fuel lifts off with $10M f...   \n",
       "1649  2010-03-09  Revised video game financing list: 115 game co...   \n",
       "1650  2009-12-21  Game startups raised $600.5 million in 2009, d...   \n",
       "\n",
       "                                               Abstract  Clean_Funding  \\\n",
       "0     Recruiting is a top concern for enterprises in...     50000000.0   \n",
       "1     Convious , the Amsterdam-based company that of...     12000000.0   \n",
       "2     As the pandemic drives businesses online, tran...    160000000.0   \n",
       "3     LIVONIA, Mich.–(BUSINESS WIRE)–December 2, 202...     17000000.0   \n",
       "4     CyCognito , a company developing bot technolog...    100000000.0   \n",
       "...                                                 ...            ...   \n",
       "1646  Vicarious  is building A.I. software based on ...     15000000.0   \n",
       "1647  Rocket Fuel, a four-year-old  ad technology fi...     50000000.0   \n",
       "1648  Rocket Fuel , a startup claiming to bring hone...     10000000.0   \n",
       "1649  [Update: We’ve added our list with new funding...    663100000.0   \n",
       "1650  Game startups continued to score big investmen...    600500000.0   \n",
       "\n",
       "                                                 Topics  \\\n",
       "0         ['job candidate', 'Candidates', 'candidates']   \n",
       "1     ['frictionless buying experience', 'historical...   \n",
       "2     ['updated translations', 'translation', 'human...   \n",
       "3     ['insulin management', 'insulin therapy', 'ins...   \n",
       "4     ['LightSpeed Venture Partners', 'potential att...   \n",
       "...                                                 ...   \n",
       "1646  ['-founder Dustin Moscovitz', 'GUI code', 'Vic...   \n",
       "1647  ['Nokia Growth Capital', 'advertising opportun...   \n",
       "1648  ['Rocket Fuel', 'Nokia Growth Partners', 'ad o...   \n",
       "1649           ['social games', 'iPhone games', 'game']   \n",
       "1650           ['social games', 'iPhone games', 'game']   \n",
       "\n",
       "                                                Company  \n",
       "0     Sense raises $50M to bolster recruitment effor...  \n",
       "1     AI-powered ecommerce platform Convious raises ...  \n",
       "2     Smartling lands $160M to help companies transl...  \n",
       "3     Digital Insulin Management Company Hygieia Clo...  \n",
       "4     CyCognito nabs $100M to fight cyberattacks wit...  \n",
       "...                                                 ...  \n",
       "1646  A.I. research firm Vicarious raises $15M in it...  \n",
       "1647  Online ad player Rocket Fuel gains $50M fundin...  \n",
       "1648  Ad optimizer Rocket Fuel lifts off with $10M f...  \n",
       "1649  Revised video game financing list: 115 game co...  \n",
       "1650  Game startups raised $600.5 million in 2009, d...  \n",
       "\n",
       "[1651 rows x 6 columns]"
      ]
     },
     "execution_count": 35,
     "metadata": {},
     "output_type": "execute_result"
    }
   ],
   "source": [
    "df_vb"
   ]
  },
  {
   "cell_type": "code",
   "execution_count": 36,
   "id": "1917817d-2fd1-4af9-ab92-5ad45e01983e",
   "metadata": {},
   "outputs": [],
   "source": [
    "data1_dict = df_patent_org.to_dict('index')\n",
    "data2_dict = df_vb.to_dict('index')"
   ]
  },
  {
   "cell_type": "code",
   "execution_count": 38,
   "id": "d90560af-6c8c-4bc6-8c1f-75115ea65b52",
   "metadata": {},
   "outputs": [
    {
     "name": "stderr",
     "output_type": "stream",
     "text": [
      "INFO:dedupe.canopy_index:Removing stop word  m\n",
      "INFO:dedupe.canopy_index:Removing stop word  r\n",
      "INFO:dedupe.canopy_index:Removing stop word  t\n",
      "INFO:dedupe.canopy_index:Removing stop word ai\n",
      "INFO:dedupe.canopy_index:Removing stop word es\n",
      "INFO:dedupe.canopy_index:Removing stop word il\n",
      "INFO:dedupe.canopy_index:Removing stop word io\n",
      "INFO:dedupe.canopy_index:Removing stop word li\n",
      "INFO:dedupe.canopy_index:Removing stop word mi\n",
      "INFO:dedupe.canopy_index:Removing stop word n \n",
      "INFO:dedupe.canopy_index:Removing stop word on\n",
      "INFO:dedupe.canopy_index:Removing stop word ra\n",
      "INFO:dedupe.canopy_index:Removing stop word s \n",
      "INFO:dedupe.canopy_index:Removing stop word to\n",
      "INFO:dedupe.canopy_index:Removing stop word raises\n",
      "INFO:dedupe.canopy_index:Removing stop word million\n",
      "INFO:dedupe.canopy_index:Removing stop word is\n",
      "INFO:dedupe.canopy_index:Removing stop word ll\n",
      "INFO:dedupe.canopy_index:Removing stop word se\n",
      "INFO:dedupe.training:Final predicate set:\n",
      "INFO:dedupe.training:SimplePredicate: (twoGramFingerprint, Company)\n",
      "Company : Starship Technologies OÜ\n",
      "\n",
      "Company : Starship Technologies raises $25 million to expand robot delivery services\n",
      "\n",
      "0/10 positive, 0/10 negative\n",
      "Do these records refer to the same thing?\n",
      "(y)es / (n)o / (u)nsure / (f)inished\n"
     ]
    },
    {
     "name": "stdout",
     "output_type": "stream",
     "text": [
      "starting active labeling...\n"
     ]
    },
    {
     "name": "stdin",
     "output_type": "stream",
     "text": [
      " y\n"
     ]
    },
    {
     "name": "stderr",
     "output_type": "stream",
     "text": [
      "Company : Sarcos Corp.\n",
      "\n",
      "Company : Sarcos Robotics raises $40 million to develop an exoskeleton for industrial applications\n",
      "\n",
      "1/10 positive, 0/10 negative\n",
      "Do these records refer to the same thing?\n",
      "(y)es / (n)o / (u)nsure / (f)inished / (p)revious\n"
     ]
    },
    {
     "name": "stdin",
     "output_type": "stream",
     "text": [
      " y\n"
     ]
    },
    {
     "name": "stderr",
     "output_type": "stream",
     "text": [
      "INFO:dedupe.training:Final predicate set:\n",
      "INFO:dedupe.training:SimplePredicate: (commonTwoTokens, Company)\n",
      "Company : Vulcan Inc.\n",
      "\n",
      "Company : Vulcan Cyber launches free vulnerability management service with $21M in new funding\n",
      "\n",
      "2/10 positive, 0/10 negative\n",
      "Do these records refer to the same thing?\n",
      "(y)es / (n)o / (u)nsure / (f)inished / (p)revious\n"
     ]
    },
    {
     "name": "stdin",
     "output_type": "stream",
     "text": [
      " y\n"
     ]
    },
    {
     "name": "stderr",
     "output_type": "stream",
     "text": [
      "INFO:dedupe.training:Final predicate set:\n",
      "INFO:dedupe.training:SimplePredicate: (firstTokenPredicate, Company)\n",
      "Company : Sinher Technology Inc.\n",
      "\n",
      "Company : Worximity Technology Inc. Secures $1.5 Million in Growth Financing From CIBC Innovation Banking\n",
      "\n",
      "3/10 positive, 0/10 negative\n",
      "Do these records refer to the same thing?\n",
      "(y)es / (n)o / (u)nsure / (f)inished / (p)revious\n"
     ]
    },
    {
     "name": "stdin",
     "output_type": "stream",
     "text": [
      " n\n"
     ]
    },
    {
     "name": "stderr",
     "output_type": "stream",
     "text": [
      "Company : NeuroSteer Ltd.\n",
      "\n",
      "Company : Neuron7.ai Emerges from Stealth Mode, Raises $4.2 Million in Seed Funding to Pioneer Industry-Focused Service Intelligence\n",
      "\n",
      "3/10 positive, 1/10 negative\n",
      "Do these records refer to the same thing?\n",
      "(y)es / (n)o / (u)nsure / (f)inished / (p)revious\n"
     ]
    },
    {
     "name": "stdin",
     "output_type": "stream",
     "text": [
      " n\n"
     ]
    },
    {
     "name": "stderr",
     "output_type": "stream",
     "text": [
      "Company : Converse Inc.\n",
      "\n",
      "Company : Conversica raises $31 million to grow its conversational AI sales assistant\n",
      "\n",
      "3/10 positive, 2/10 negative\n",
      "Do these records refer to the same thing?\n",
      "(y)es / (n)o / (u)nsure / (f)inished / (p)revious\n"
     ]
    },
    {
     "name": "stdin",
     "output_type": "stream",
     "text": [
      " y\n"
     ]
    },
    {
     "name": "stderr",
     "output_type": "stream",
     "text": [
      "Company : HKS, INC.\n",
      "\n",
      "Company : Notable Health Closes $13.5 Million Series A Financing to Expand Artificial Intelligence Powered Physician-Patient Interaction Platform\n",
      "\n",
      "4/10 positive, 2/10 negative\n",
      "Do these records refer to the same thing?\n",
      "(y)es / (n)o / (u)nsure / (f)inished / (p)revious\n"
     ]
    },
    {
     "name": "stdin",
     "output_type": "stream",
     "text": [
      " n\n"
     ]
    },
    {
     "name": "stderr",
     "output_type": "stream",
     "text": [
      "INFO:dedupe.training:Final predicate set:\n",
      "INFO:dedupe.training:SimplePredicate: (firstTokenPredicate, Company)\n",
      "INFO:dedupe.training:SimplePredicate: (sameSevenCharStartPredicate, Company)\n",
      "Company : ENDECE LLC\n",
      "\n",
      "Company : Teraki Completes $3M in Financing to Deliver AI and Edge Processing to Meet Exploding Data Analytics Demands of Automotive Industry\n",
      "\n",
      "4/10 positive, 3/10 negative\n",
      "Do these records refer to the same thing?\n",
      "(y)es / (n)o / (u)nsure / (f)inished / (p)revious\n"
     ]
    },
    {
     "name": "stdin",
     "output_type": "stream",
     "text": [
      " n\n"
     ]
    },
    {
     "name": "stderr",
     "output_type": "stream",
     "text": [
      "Company : Neurophyxia B.V.\n",
      "\n",
      "Company : Neurotechnology Startup NextMind Secures $4.6 Million to Bring Groundbreaking, Noninvasive, AI-Based, Neural Interface to the Mass Market\n",
      "\n",
      "4/10 positive, 4/10 negative\n",
      "Do these records refer to the same thing?\n",
      "(y)es / (n)o / (u)nsure / (f)inished / (p)revious\n"
     ]
    },
    {
     "name": "stdin",
     "output_type": "stream",
     "text": [
      " n\n"
     ]
    },
    {
     "name": "stderr",
     "output_type": "stream",
     "text": [
      "Company : CLIM8\n",
      "\n",
      "Company : RunwayML raises $8.5 million for its AI-powered media creation tools\n",
      "\n",
      "4/10 positive, 5/10 negative\n",
      "Do these records refer to the same thing?\n",
      "(y)es / (n)o / (u)nsure / (f)inished / (p)revious\n"
     ]
    },
    {
     "name": "stdin",
     "output_type": "stream",
     "text": [
      " n\n"
     ]
    },
    {
     "name": "stderr",
     "output_type": "stream",
     "text": [
      "Company : Deep Node, Inc.\n",
      "\n",
      "Company : Deep North, which uses AI to track people from camera footage, raises $16.7M\n",
      "\n",
      "4/10 positive, 6/10 negative\n",
      "Do these records refer to the same thing?\n",
      "(y)es / (n)o / (u)nsure / (f)inished / (p)revious\n"
     ]
    },
    {
     "name": "stdin",
     "output_type": "stream",
     "text": [
      " n\n"
     ]
    },
    {
     "name": "stderr",
     "output_type": "stream",
     "text": [
      "Company : Bidgely, Inc.\n",
      "\n",
      "Company : Bidgely Secures $26M in Financing to Accelerate Utilities’ Leading Role in the Clean Energy Future\n",
      "\n",
      "4/10 positive, 7/10 negative\n",
      "Do these records refer to the same thing?\n",
      "(y)es / (n)o / (u)nsure / (f)inished / (p)revious\n"
     ]
    },
    {
     "name": "stdin",
     "output_type": "stream",
     "text": [
      " y\n"
     ]
    },
    {
     "name": "stderr",
     "output_type": "stream",
     "text": [
      "Company : XM Cyber Ltd.\n",
      "\n",
      "Company : XM Cyber raises $17 million to simulate and remediate cyberattacks\n",
      "\n",
      "5/10 positive, 7/10 negative\n",
      "Do these records refer to the same thing?\n",
      "(y)es / (n)o / (u)nsure / (f)inished / (p)revious\n"
     ]
    },
    {
     "name": "stdin",
     "output_type": "stream",
     "text": [
      " y\n"
     ]
    },
    {
     "name": "stderr",
     "output_type": "stream",
     "text": [
      "Company : Matroid, Inc.\n",
      "\n",
      "Company : Matroid Completes $20 Million Series B Financing to Expand into Manufacturing and Industrial IOT\n",
      "\n",
      "6/10 positive, 7/10 negative\n",
      "Do these records refer to the same thing?\n",
      "(y)es / (n)o / (u)nsure / (f)inished / (p)revious\n"
     ]
    },
    {
     "name": "stdin",
     "output_type": "stream",
     "text": [
      " y\n"
     ]
    },
    {
     "name": "stderr",
     "output_type": "stream",
     "text": [
      "Company : Cogniac, Corp.\n",
      "\n",
      "Company : Cogniac raises $10 million for AI that spots visual changes for industrial and government uses\n",
      "\n",
      "7/10 positive, 7/10 negative\n",
      "Do these records refer to the same thing?\n",
      "(y)es / (n)o / (u)nsure / (f)inished / (p)revious\n"
     ]
    },
    {
     "name": "stdin",
     "output_type": "stream",
     "text": [
      " y\n"
     ]
    },
    {
     "name": "stderr",
     "output_type": "stream",
     "text": [
      "Company : Celect, Inc.\n",
      "\n",
      "Company : Celect raises $15 million to help stores predict sales with AI\n",
      "\n",
      "8/10 positive, 7/10 negative\n",
      "Do these records refer to the same thing?\n",
      "(y)es / (n)o / (u)nsure / (f)inished / (p)revious\n"
     ]
    },
    {
     "name": "stdin",
     "output_type": "stream",
     "text": [
      " y\n"
     ]
    },
    {
     "name": "stderr",
     "output_type": "stream",
     "text": [
      "Company : P2i Ltd\n",
      "\n",
      "Company : B2B targeted marketing platform Demandbase raises $65 million\n",
      "\n",
      "9/10 positive, 7/10 negative\n",
      "Do these records refer to the same thing?\n",
      "(y)es / (n)o / (u)nsure / (f)inished / (p)revious\n"
     ]
    },
    {
     "name": "stdin",
     "output_type": "stream",
     "text": [
      " n\n"
     ]
    },
    {
     "name": "stderr",
     "output_type": "stream",
     "text": [
      "Company : ONTRACKS\n",
      "\n",
      "Company : Jane.ai raises $8.4 million for an enterprise chatbot that can search through emails, files, and more\n",
      "\n",
      "9/10 positive, 8/10 negative\n",
      "Do these records refer to the same thing?\n",
      "(y)es / (n)o / (u)nsure / (f)inished / (p)revious\n"
     ]
    },
    {
     "name": "stdin",
     "output_type": "stream",
     "text": [
      " n\n"
     ]
    },
    {
     "name": "stderr",
     "output_type": "stream",
     "text": [
      "Company : Plaston AG\n",
      "\n",
      "Company : Planck Re lands $12 million to bring AI to the commercial insurance market\n",
      "\n",
      "9/10 positive, 9/10 negative\n",
      "Do these records refer to the same thing?\n",
      "(y)es / (n)o / (u)nsure / (f)inished / (p)revious\n"
     ]
    },
    {
     "name": "stdin",
     "output_type": "stream",
     "text": [
      " n\n"
     ]
    },
    {
     "name": "stderr",
     "output_type": "stream",
     "text": [
      "Company : Element 1 Corp.\n",
      "\n",
      "Company : Element AI raises $102 million to help companies use machine learning\n",
      "\n",
      "9/10 positive, 10/10 negative\n",
      "Do these records refer to the same thing?\n",
      "(y)es / (n)o / (u)nsure / (f)inished / (p)revious\n"
     ]
    },
    {
     "name": "stdin",
     "output_type": "stream",
     "text": [
      " n\n"
     ]
    },
    {
     "name": "stderr",
     "output_type": "stream",
     "text": [
      "Company : Deep Node, Inc.\n",
      "\n",
      "Company : Deep learning startup Neurala raises $14 million to build brains for drones, autonomous cars, and more\n",
      "\n",
      "9/10 positive, 11/10 negative\n",
      "Do these records refer to the same thing?\n",
      "(y)es / (n)o / (u)nsure / (f)inished / (p)revious\n"
     ]
    },
    {
     "name": "stdin",
     "output_type": "stream",
     "text": [
      " n\n"
     ]
    },
    {
     "name": "stderr",
     "output_type": "stream",
     "text": [
      "Company : Balbix, Inc.\n",
      "\n",
      "Company : Balbix raises $20 million for its AI security platform that predicts hacks and breaches\n",
      "\n",
      "9/10 positive, 12/10 negative\n",
      "Do these records refer to the same thing?\n",
      "(y)es / (n)o / (u)nsure / (f)inished / (p)revious\n"
     ]
    },
    {
     "name": "stdin",
     "output_type": "stream",
     "text": [
      " y\n"
     ]
    },
    {
     "name": "stderr",
     "output_type": "stream",
     "text": [
      "Company : Perimeter Solutions LP\n",
      "\n",
      "Company : Perimeter 81 Closes $4.5M Series A Extension Round to Further Accelerate Market Adoption of Cloud-Agnostic Network Security Offerings\n",
      "\n",
      "10/10 positive, 12/10 negative\n",
      "Do these records refer to the same thing?\n",
      "(y)es / (n)o / (u)nsure / (f)inished / (p)revious\n"
     ]
    },
    {
     "name": "stdin",
     "output_type": "stream",
     "text": [
      " y\n"
     ]
    },
    {
     "name": "stderr",
     "output_type": "stream",
     "text": [
      "Company : Element 1 Corp.\n",
      "\n",
      "Company : Element AI raises $151 million to bring AI to more enterprises\n",
      "\n",
      "11/10 positive, 12/10 negative\n",
      "Do these records refer to the same thing?\n",
      "(y)es / (n)o / (u)nsure / (f)inished / (p)revious\n"
     ]
    },
    {
     "name": "stdin",
     "output_type": "stream",
     "text": [
      " y\n"
     ]
    },
    {
     "name": "stderr",
     "output_type": "stream",
     "text": [
      "Company : Safe Text Ltd.\n",
      "\n",
      "Company : Safe Security raises $33M to manage and mitigate cyber risk\n",
      "\n",
      "12/10 positive, 12/10 negative\n",
      "Do these records refer to the same thing?\n",
      "(y)es / (n)o / (u)nsure / (f)inished / (p)revious\n"
     ]
    },
    {
     "name": "stdin",
     "output_type": "stream",
     "text": [
      " y\n"
     ]
    },
    {
     "name": "stderr",
     "output_type": "stream",
     "text": [
      "Company : Level Effect LLC\n",
      "\n",
      "Company : Level Home raises $71 million from Walmart to imbue locks with connected smarts\n",
      "\n",
      "13/10 positive, 12/10 negative\n",
      "Do these records refer to the same thing?\n",
      "(y)es / (n)o / (u)nsure / (f)inished / (p)revious\n"
     ]
    },
    {
     "name": "stdin",
     "output_type": "stream",
     "text": [
      " p\n"
     ]
    },
    {
     "name": "stderr",
     "output_type": "stream",
     "text": [
      "Company : Safe Text Ltd.\n",
      "\n",
      "Company : Safe Security raises $33M to manage and mitigate cyber risk\n",
      "\n",
      "12/10 positive, 12/10 negative\n",
      "Do these records refer to the same thing?\n",
      "(y)es / (n)o / (u)nsure / (f)inished\n"
     ]
    },
    {
     "name": "stdin",
     "output_type": "stream",
     "text": [
      " n\n"
     ]
    },
    {
     "name": "stderr",
     "output_type": "stream",
     "text": [
      "Company : Level Effect LLC\n",
      "\n",
      "Company : Level Home raises $71 million from Walmart to imbue locks with connected smarts\n",
      "\n",
      "12/10 positive, 13/10 negative\n",
      "Do these records refer to the same thing?\n",
      "(y)es / (n)o / (u)nsure / (f)inished / (p)revious\n"
     ]
    },
    {
     "name": "stdin",
     "output_type": "stream",
     "text": [
      " n\n"
     ]
    },
    {
     "name": "stderr",
     "output_type": "stream",
     "text": [
      "Company : Digital Doc LLC\n",
      "\n",
      "Company : Digital customer experience platform Airkit raises $40M\n",
      "\n",
      "12/10 positive, 14/10 negative\n",
      "Do these records refer to the same thing?\n",
      "(y)es / (n)o / (u)nsure / (f)inished / (p)revious\n"
     ]
    },
    {
     "name": "stdin",
     "output_type": "stream",
     "text": [
      " n\n"
     ]
    },
    {
     "name": "stderr",
     "output_type": "stream",
     "text": [
      "Company : Komodo Systems Inc.\n",
      "\n",
      "Company : Komodo raises $44 million and acquires Mavens to bring data-driven insights to life sciences\n",
      "\n",
      "12/10 positive, 15/10 negative\n",
      "Do these records refer to the same thing?\n",
      "(y)es / (n)o / (u)nsure / (f)inished / (p)revious\n"
     ]
    },
    {
     "name": "stdin",
     "output_type": "stream",
     "text": [
      " y\n"
     ]
    },
    {
     "name": "stderr",
     "output_type": "stream",
     "text": [
      "Company : New Medic Era AB\n",
      "\n",
      "Company : New Knowledge raises $11 million for cybersecurity to combat disinformation and fake news\n",
      "\n",
      "13/10 positive, 15/10 negative\n",
      "Do these records refer to the same thing?\n",
      "(y)es / (n)o / (u)nsure / (f)inished / (p)revious\n"
     ]
    },
    {
     "name": "stdin",
     "output_type": "stream",
     "text": [
      " n\n"
     ]
    },
    {
     "name": "stderr",
     "output_type": "stream",
     "text": [
      "Company : Element Six GmbH\n",
      "\n",
      "Company : Element AI raises $151 million to bring AI to more enterprises\n",
      "\n",
      "13/10 positive, 16/10 negative\n",
      "Do these records refer to the same thing?\n",
      "(y)es / (n)o / (u)nsure / (f)inished / (p)revious\n"
     ]
    },
    {
     "name": "stdin",
     "output_type": "stream",
     "text": [
      " n\n"
     ]
    },
    {
     "name": "stderr",
     "output_type": "stream",
     "text": [
      "Company : Amazon Technogies Inc.\n",
      "\n",
      "Company : Amazon, Microsoft, and Comcast back Tact.ai in $27 million funding round to expand its sales platform\n",
      "\n",
      "13/10 positive, 17/10 negative\n",
      "Do these records refer to the same thing?\n",
      "(y)es / (n)o / (u)nsure / (f)inished / (p)revious\n"
     ]
    },
    {
     "name": "stdin",
     "output_type": "stream",
     "text": [
      " n\n"
     ]
    },
    {
     "name": "stderr",
     "output_type": "stream",
     "text": [
      "Company : Converse Inc.\n",
      "\n",
      "Company : Conversational AI startup Cognigy nabs $44M\n",
      "\n",
      "13/10 positive, 18/10 negative\n",
      "Do these records refer to the same thing?\n",
      "(y)es / (n)o / (u)nsure / (f)inished / (p)revious\n"
     ]
    },
    {
     "name": "stdin",
     "output_type": "stream",
     "text": [
      " y\n"
     ]
    },
    {
     "name": "stderr",
     "output_type": "stream",
     "text": [
      "Company : Software Tree, LLC\n",
      "\n",
      "Company : Software supply chain management company Cloudsmith raises $15M\n",
      "\n",
      "14/10 positive, 18/10 negative\n",
      "Do these records refer to the same thing?\n",
      "(y)es / (n)o / (u)nsure / (f)inished / (p)revious\n"
     ]
    },
    {
     "name": "stdin",
     "output_type": "stream",
     "text": [
      " p\n"
     ]
    },
    {
     "name": "stderr",
     "output_type": "stream",
     "text": [
      "Company : Converse Inc.\n",
      "\n",
      "Company : Conversational AI startup Cognigy nabs $44M\n",
      "\n",
      "13/10 positive, 18/10 negative\n",
      "Do these records refer to the same thing?\n",
      "(y)es / (n)o / (u)nsure / (f)inished\n"
     ]
    },
    {
     "name": "stdin",
     "output_type": "stream",
     "text": [
      " n\n"
     ]
    },
    {
     "name": "stderr",
     "output_type": "stream",
     "text": [
      "Company : Software Tree, LLC\n",
      "\n",
      "Company : Software supply chain management company Cloudsmith raises $15M\n",
      "\n",
      "13/10 positive, 19/10 negative\n",
      "Do these records refer to the same thing?\n",
      "(y)es / (n)o / (u)nsure / (f)inished / (p)revious\n"
     ]
    },
    {
     "name": "stdin",
     "output_type": "stream",
     "text": [
      " n\n"
     ]
    },
    {
     "name": "stderr",
     "output_type": "stream",
     "text": [
      "Company : NS8, Inc.\n",
      "\n",
      "Company : NS8 raises $26 million to combat ecommerce fraud\n",
      "\n",
      "13/10 positive, 20/10 negative\n",
      "Do these records refer to the same thing?\n",
      "(y)es / (n)o / (u)nsure / (f)inished / (p)revious\n"
     ]
    },
    {
     "name": "stdin",
     "output_type": "stream",
     "text": [
      " y\n"
     ]
    },
    {
     "name": "stderr",
     "output_type": "stream",
     "text": [
      "Company : Heartland Farm Energy LLC\n",
      "\n",
      "Company : Heartland Tech Weekly: How Duo Security built a $2.35 billion company in Ann Arbor\n",
      "\n",
      "14/10 positive, 20/10 negative\n",
      "Do these records refer to the same thing?\n",
      "(y)es / (n)o / (u)nsure / (f)inished / (p)revious\n"
     ]
    },
    {
     "name": "stdin",
     "output_type": "stream",
     "text": [
      " n\n"
     ]
    },
    {
     "name": "stderr",
     "output_type": "stream",
     "text": [
      "Company : Flow International Corporation\n",
      "\n",
      "Company : Flow Secures $37MM in Series B Funding from New Enterprise Associates, American Express Ventures and Latitude Ventures to Expand Cross-Border E-Commerce\n",
      "\n",
      "14/10 positive, 21/10 negative\n",
      "Do these records refer to the same thing?\n",
      "(y)es / (n)o / (u)nsure / (f)inished / (p)revious\n"
     ]
    },
    {
     "name": "stdin",
     "output_type": "stream",
     "text": [
      " y\n"
     ]
    },
    {
     "name": "stderr",
     "output_type": "stream",
     "text": [
      "Company : Virtual Incision Corporation\n",
      "\n",
      "Company : Virtual Incision raises $20 million for mini surgical robots\n",
      "\n",
      "15/10 positive, 21/10 negative\n",
      "Do these records refer to the same thing?\n",
      "(y)es / (n)o / (u)nsure / (f)inished / (p)revious\n"
     ]
    },
    {
     "name": "stdin",
     "output_type": "stream",
     "text": [
      " y\n"
     ]
    },
    {
     "name": "stderr",
     "output_type": "stream",
     "text": [
      "Company : Industrial Revolution, Inc.\n",
      "\n",
      "Company : Industrial automation startup Fetch Robotics raises $46 million\n",
      "\n",
      "16/10 positive, 21/10 negative\n",
      "Do these records refer to the same thing?\n",
      "(y)es / (n)o / (u)nsure / (f)inished / (p)revious\n"
     ]
    },
    {
     "name": "stdin",
     "output_type": "stream",
     "text": [
      " n\n"
     ]
    },
    {
     "name": "stderr",
     "output_type": "stream",
     "text": [
      "Company : Honeywell Aerospace BV\n",
      "\n",
      "Company : Honeywell lays down $1.3 billion to drive AI and IoT into life sciences\n",
      "\n",
      "16/10 positive, 22/10 negative\n",
      "Do these records refer to the same thing?\n",
      "(y)es / (n)o / (u)nsure / (f)inished / (p)revious\n"
     ]
    },
    {
     "name": "stdin",
     "output_type": "stream",
     "text": [
      " y\n"
     ]
    },
    {
     "name": "stderr",
     "output_type": "stream",
     "text": [
      "Company : Automation Anywhere, Inc.\n",
      "\n",
      "Company : Automation Hero raises $14.5 million to help companies automate repetitive processes\n",
      "\n",
      "17/10 positive, 22/10 negative\n",
      "Do these records refer to the same thing?\n",
      "(y)es / (n)o / (u)nsure / (f)inished / (p)revious\n"
     ]
    },
    {
     "name": "stdin",
     "output_type": "stream",
     "text": [
      " n\n"
     ]
    },
    {
     "name": "stderr",
     "output_type": "stream",
     "text": [
      "Company : Bionic Power Inc.\n",
      "\n",
      "Company : Bionic raises $17 million for tech that automates app analytics\n",
      "\n",
      "17/10 positive, 23/10 negative\n",
      "Do these records refer to the same thing?\n",
      "(y)es / (n)o / (u)nsure / (f)inished / (p)revious\n"
     ]
    },
    {
     "name": "stdin",
     "output_type": "stream",
     "text": [
      " y\n"
     ]
    },
    {
     "name": "stderr",
     "output_type": "stream",
     "text": [
      "Company : Parallel Wireless, Inc.\n",
      "\n",
      "Company : Parallel Domain raises $11 million to generate synthetic data for AI model training\n",
      "\n",
      "18/10 positive, 23/10 negative\n",
      "Do these records refer to the same thing?\n",
      "(y)es / (n)o / (u)nsure / (f)inished / (p)revious\n"
     ]
    },
    {
     "name": "stdin",
     "output_type": "stream",
     "text": [
      " n\n"
     ]
    },
    {
     "name": "stderr",
     "output_type": "stream",
     "text": [
      "Company : Plume Design, Inc.\n",
      "\n",
      "Company : Plume raises $85 million to bring smarter Wi-Fi networks to more homes\n",
      "\n",
      "18/10 positive, 24/10 negative\n",
      "Do these records refer to the same thing?\n",
      "(y)es / (n)o / (u)nsure / (f)inished / (p)revious\n"
     ]
    },
    {
     "name": "stdin",
     "output_type": "stream",
     "text": [
      " y\n"
     ]
    },
    {
     "name": "stderr",
     "output_type": "stream",
     "text": [
      "Company : Smart Rain Systems, LLC\n",
      "\n",
      "Company : Smart ring startup Oura raises $28 million from Google’s Gradient Ventures, Square, and Forerunner Ventures\n",
      "\n",
      "19/10 positive, 24/10 negative\n",
      "Do these records refer to the same thing?\n",
      "(y)es / (n)o / (u)nsure / (f)inished / (p)revious\n"
     ]
    },
    {
     "name": "stdin",
     "output_type": "stream",
     "text": [
      " n\n"
     ]
    },
    {
     "name": "stderr",
     "output_type": "stream",
     "text": [
      "Company : FMC Corporation\n",
      "\n",
      "Company : FMC raises $20 million to mass-produce ferroelectric computer memory\n",
      "\n",
      "19/10 positive, 25/10 negative\n",
      "Do these records refer to the same thing?\n",
      "(y)es / (n)o / (u)nsure / (f)inished / (p)revious\n"
     ]
    },
    {
     "name": "stdin",
     "output_type": "stream",
     "text": [
      " y\n"
     ]
    },
    {
     "name": "stderr",
     "output_type": "stream",
     "text": [
      "Company : Precision Planting LLC\n",
      "\n",
      "Company : PrecisionHawk raises $32 million for drone management and analytics tools\n",
      "\n",
      "20/10 positive, 25/10 negative\n",
      "Do these records refer to the same thing?\n",
      "(y)es / (n)o / (u)nsure / (f)inished / (p)revious\n"
     ]
    },
    {
     "name": "stdin",
     "output_type": "stream",
     "text": [
      " n\n"
     ]
    },
    {
     "name": "stderr",
     "output_type": "stream",
     "text": [
      "Company : Directly Software, Inc.\n",
      "\n",
      "Company : Directly raises $20 million for customer service powered by the crowd and AI\n",
      "\n",
      "20/10 positive, 26/10 negative\n",
      "Do these records refer to the same thing?\n",
      "(y)es / (n)o / (u)nsure / (f)inished / (p)revious\n"
     ]
    },
    {
     "name": "stdin",
     "output_type": "stream",
     "text": [
      " y\n"
     ]
    },
    {
     "name": "stderr",
     "output_type": "stream",
     "text": [
      "Company : Control Module, Inc.\n",
      "\n",
      "Company : ControlUp raises $27 million to apply AI to remote machine monitoring\n",
      "\n",
      "21/10 positive, 26/10 negative\n",
      "Do these records refer to the same thing?\n",
      "(y)es / (n)o / (u)nsure / (f)inished / (p)revious\n"
     ]
    },
    {
     "name": "stdin",
     "output_type": "stream",
     "text": [
      " n\n"
     ]
    },
    {
     "name": "stderr",
     "output_type": "stream",
     "text": [
      "Company : Intellicheck, Inc.\n",
      "\n",
      "Company : Intellimize raises $8 million to optimize websites with AI\n",
      "\n",
      "21/10 positive, 27/10 negative\n",
      "Do these records refer to the same thing?\n",
      "(y)es / (n)o / (u)nsure / (f)inished / (p)revious\n"
     ]
    },
    {
     "name": "stdin",
     "output_type": "stream",
     "text": [
      " f\n"
     ]
    },
    {
     "name": "stderr",
     "output_type": "stream",
     "text": [
      "Finished labeling\n",
      "INFO:rlr.crossvalidation:using cross validation to find optimum alpha...\n",
      "INFO:rlr.crossvalidation:optimum alpha: 0.000010, score 0.25927989322370737\n",
      "INFO:dedupe.training:Final predicate set:\n",
      "INFO:dedupe.training:(SimplePredicate: (firstTokenPredicate, Company), SimplePredicate: (sameFiveCharStartPredicate, Company))\n",
      "INFO:dedupe.training:(SimplePredicate: (firstTokenPredicate, Company), SimplePredicate: (metaphoneToken, Company), TfidfTextSearchPredicate: (0.2, Company))\n",
      "INFO:dedupe.training:SimplePredicate: (sameSevenCharStartPredicate, Company)\n"
     ]
    }
   ],
   "source": [
    "output_file = 'data_matching_output.csv'\n",
    "settings_file = 'data_matching_learned_settings'\n",
    "training_file = 'data_matching_training.json'\n",
    "\n",
    "if os.path.exists(settings_file):\n",
    "    print('reading from', settings_file)\n",
    "    with open(settings_file, 'rb') as sf:\n",
    "        linker = dedupe.StaticRecordLink(sf)\n",
    "\n",
    "else:\n",
    "    # Define the fields the linker will pay attention to\n",
    "\n",
    "    fields = [\n",
    "        {'field': 'Company', 'type': 'String'}\n",
    "        # , {'field': 'Company', 'type': 'Text' , 'corpus': descriptions()}\n",
    "            ]\n",
    "\n",
    "    # Create a new linker object and pass our data model to it.\n",
    "    linker = dedupe.RecordLink(fields)\n",
    "\n",
    "    # If we have training data saved from a previous run of linker,\n",
    "    # look for it an load it in.\n",
    "    # __Note:__ if you want to train from scratch, delete the training_file\n",
    "\n",
    "  # Create a new linker object and pass our data model to it.\n",
    "    linker = dedupe.RecordLink(fields)\n",
    "\n",
    "    # If we have training data saved from a previous run of linker,\n",
    "    # look for it an load it in.\n",
    "    # __Note:__ if you want to train from scratch, delete the training_file\n",
    "    if os.path.exists(training_file):\n",
    "        print('reading labeled examples from ', training_file)\n",
    "        with open(training_file) as tf:\n",
    "            linker.prepare_training(data1_dict,\n",
    "                                    data2_dict,\n",
    "                                    training_file=tf,\n",
    "                                    sample_size=1500)\n",
    "    else:\n",
    "        linker.prepare_training(data1_dict, data2_dict, sample_size=1500)\n",
    "\n",
    "    # ## Active learning\n",
    "    # Dedupe will find the next pair of records\n",
    "    # it is least certain about and ask you to label them as matches\n",
    "    # or not.\n",
    "    # use 'y', 'n' and 'u' keys to flag duplicates\n",
    "    # press 'f' when you are finished\n",
    "    print('starting active labeling...')\n",
    "\n",
    "    dedupe.console_label(linker)\n",
    "\n",
    "    linker.train()\n",
    "\n",
    "    # When finished, save our training away to disk\n",
    "    with open(training_file, 'w') as tf:\n",
    "        linker.write_training(tf)\n",
    "\n",
    "    # Save our weights and predicates to disk.  If the settings file\n",
    "    # exists, we will skip all the training and learning next time we run\n",
    "    # this file.\n",
    "    with open(settings_file, 'wb') as sf:\n",
    "        linker.write_settings(sf)\n"
   ]
  },
  {
   "cell_type": "code",
   "execution_count": 39,
   "id": "40acce28-f228-4cc9-a488-7b3459d4b7d6",
   "metadata": {},
   "outputs": [
    {
     "name": "stderr",
     "output_type": "stream",
     "text": [
      "INFO:dedupe.canopy_index:Removing stop word raises\n",
      "INFO:dedupe.canopy_index:Removing stop word million\n"
     ]
    },
    {
     "name": "stdout",
     "output_type": "stream",
     "text": [
      "clustering...\n"
     ]
    },
    {
     "name": "stderr",
     "output_type": "stream",
     "text": [
      "INFO:dedupe.blocking:10000, 0.5169702 seconds\n",
      "INFO:dedupe.blocking:20000, 1.0227432 seconds\n",
      "INFO:dedupe.blocking:30000, 1.5233822 seconds\n",
      "INFO:dedupe.blocking:40000, 2.0291402 seconds\n"
     ]
    },
    {
     "name": "stdout",
     "output_type": "stream",
     "text": [
      "# duplicate sets 452\n",
      "{26024: {'Cluster ID': 0, 'Link Score': 0.75695825}, 934: {'Cluster ID': 0, 'Link Score': 0.75695825}, 38860: {'Cluster ID': 1, 'Link Score': 0.7562867}, 1125: {'Cluster ID': 1, 'Link Score': 0.7562867}, 14014: {'Cluster ID': 2, 'Link Score': 0.71988356}, 1433: {'Cluster ID': 2, 'Link Score': 0.71988356}, 10223: {'Cluster ID': 3, 'Link Score': 0.68798643}, 1098: {'Cluster ID': 3, 'Link Score': 0.68798643}, 17751: {'Cluster ID': 4, 'Link Score': 0.6791479}, 1056: {'Cluster ID': 4, 'Link Score': 0.6791479}, 32557: {'Cluster ID': 5, 'Link Score': 0.6779581}, 1434: {'Cluster ID': 5, 'Link Score': 0.6779581}, 16030: {'Cluster ID': 6, 'Link Score': 0.65874535}, 1076: {'Cluster ID': 6, 'Link Score': 0.65874535}, 201: {'Cluster ID': 7, 'Link Score': 0.65024376}, 1608: {'Cluster ID': 7, 'Link Score': 0.65024376}, 37289: {'Cluster ID': 8, 'Link Score': 0.6489092}, 531: {'Cluster ID': 8, 'Link Score': 0.6489092}, 16271: {'Cluster ID': 9, 'Link Score': 0.64171934}, 1616: {'Cluster ID': 9, 'Link Score': 0.64171934}, 32248: {'Cluster ID': 10, 'Link Score': 0.6396952}, 530: {'Cluster ID': 10, 'Link Score': 0.6396952}, 39780: {'Cluster ID': 11, 'Link Score': 0.6350913}, 578: {'Cluster ID': 11, 'Link Score': 0.6350913}, 9605: {'Cluster ID': 12, 'Link Score': 0.6280551}, 366: {'Cluster ID': 12, 'Link Score': 0.6280551}, 27968: {'Cluster ID': 13, 'Link Score': 0.6274204}, 1054: {'Cluster ID': 13, 'Link Score': 0.6274204}, 38607: {'Cluster ID': 14, 'Link Score': 0.62599516}, 792: {'Cluster ID': 14, 'Link Score': 0.62599516}, 36955: {'Cluster ID': 15, 'Link Score': 0.62498313}, 1008: {'Cluster ID': 15, 'Link Score': 0.62498313}, 29714: {'Cluster ID': 16, 'Link Score': 0.62498313}, 1153: {'Cluster ID': 16, 'Link Score': 0.62498313}, 4691: {'Cluster ID': 17, 'Link Score': 0.619625}, 77: {'Cluster ID': 17, 'Link Score': 0.619625}, 33831: {'Cluster ID': 18, 'Link Score': 0.6194957}, 602: {'Cluster ID': 18, 'Link Score': 0.6194957}, 20723: {'Cluster ID': 19, 'Link Score': 0.61903685}, 635: {'Cluster ID': 19, 'Link Score': 0.61903685}, 41453: {'Cluster ID': 20, 'Link Score': 0.61776924}, 621: {'Cluster ID': 20, 'Link Score': 0.61776924}, 18788: {'Cluster ID': 21, 'Link Score': 0.6168225}, 943: {'Cluster ID': 21, 'Link Score': 0.6168225}, 43604: {'Cluster ID': 22, 'Link Score': 0.6126703}, 1140: {'Cluster ID': 22, 'Link Score': 0.6126703}, 26605: {'Cluster ID': 23, 'Link Score': 0.61021256}, 1640: {'Cluster ID': 23, 'Link Score': 0.61021256}, 10079: {'Cluster ID': 24, 'Link Score': 0.609948}, 1427: {'Cluster ID': 24, 'Link Score': 0.609948}, 36687: {'Cluster ID': 25, 'Link Score': 0.60902447}, 775: {'Cluster ID': 25, 'Link Score': 0.60902447}, 28200: {'Cluster ID': 26, 'Link Score': 0.6083132}, 372: {'Cluster ID': 26, 'Link Score': 0.6083132}, 27759: {'Cluster ID': 27, 'Link Score': 0.60562605}, 1336: {'Cluster ID': 27, 'Link Score': 0.60562605}, 35080: {'Cluster ID': 28, 'Link Score': 0.6039786}, 1312: {'Cluster ID': 28, 'Link Score': 0.6039786}, 37057: {'Cluster ID': 29, 'Link Score': 0.60219115}, 1145: {'Cluster ID': 29, 'Link Score': 0.60219115}, 9629: {'Cluster ID': 30, 'Link Score': 0.60106736}, 1412: {'Cluster ID': 30, 'Link Score': 0.60106736}, 20426: {'Cluster ID': 31, 'Link Score': 0.59771067}, 20: {'Cluster ID': 31, 'Link Score': 0.59771067}, 28544: {'Cluster ID': 32, 'Link Score': 0.59771067}, 1532: {'Cluster ID': 32, 'Link Score': 0.59771067}, 10729: {'Cluster ID': 33, 'Link Score': 0.59517235}, 416: {'Cluster ID': 33, 'Link Score': 0.59517235}, 541: {'Cluster ID': 256, 'Link Score': 0.3120568}, 1281: {'Cluster ID': 34, 'Link Score': 0.5920667}, 8759: {'Cluster ID': 35, 'Link Score': 0.59097004}, 545: {'Cluster ID': 35, 'Link Score': 0.59097004}, 15343: {'Cluster ID': 36, 'Link Score': 0.5906403}, 1065: {'Cluster ID': 36, 'Link Score': 0.5906403}, 27361: {'Cluster ID': 37, 'Link Score': 0.5902767}, 1260: {'Cluster ID': 37, 'Link Score': 0.5902767}, 2797: {'Cluster ID': 38, 'Link Score': 0.5897337}, 927: {'Cluster ID': 38, 'Link Score': 0.5897337}, 39778: {'Cluster ID': 39, 'Link Score': 0.58875716}, 1560: {'Cluster ID': 39, 'Link Score': 0.58875716}, 15325: {'Cluster ID': 40, 'Link Score': 0.5885297}, 688: {'Cluster ID': 40, 'Link Score': 0.5885297}, 31629: {'Cluster ID': 41, 'Link Score': 0.5865439}, 641: {'Cluster ID': 41, 'Link Score': 0.5865439}, 17772: {'Cluster ID': 42, 'Link Score': 0.58467376}, 1413: {'Cluster ID': 42, 'Link Score': 0.58467376}, 9042: {'Cluster ID': 43, 'Link Score': 0.5835323}, 947: {'Cluster ID': 43, 'Link Score': 0.5835323}, 20528: {'Cluster ID': 44, 'Link Score': 0.58291954}, 198: {'Cluster ID': 44, 'Link Score': 0.58291954}, 21368: {'Cluster ID': 45, 'Link Score': 0.57904893}, 976: {'Cluster ID': 45, 'Link Score': 0.57904893}, 23819: {'Cluster ID': 46, 'Link Score': 0.57904893}, 727: {'Cluster ID': 46, 'Link Score': 0.57904893}, 25098: {'Cluster ID': 47, 'Link Score': 0.5769006}, 988: {'Cluster ID': 47, 'Link Score': 0.5769006}, 42978: {'Cluster ID': 48, 'Link Score': 0.57297343}, 856: {'Cluster ID': 48, 'Link Score': 0.57297343}, 11312: {'Cluster ID': 49, 'Link Score': 0.57086635}, 1603: {'Cluster ID': 49, 'Link Score': 0.57086635}, 24082: {'Cluster ID': 50, 'Link Score': 0.5689178}, 656: {'Cluster ID': 50, 'Link Score': 0.5689178}, 44655: {'Cluster ID': 51, 'Link Score': 0.56884307}, 1166: {'Cluster ID': 51, 'Link Score': 0.56884307}, 23401: {'Cluster ID': 52, 'Link Score': 0.5684951}, 1488: {'Cluster ID': 52, 'Link Score': 0.5684951}, 32524: {'Cluster ID': 53, 'Link Score': 0.5680269}, 1219: {'Cluster ID': 53, 'Link Score': 0.5680269}, 42726: {'Cluster ID': 54, 'Link Score': 0.5677734}, 944: {'Cluster ID': 54, 'Link Score': 0.5677734}, 9558: {'Cluster ID': 55, 'Link Score': 0.567687}, 1520: {'Cluster ID': 55, 'Link Score': 0.567687}, 41886: {'Cluster ID': 56, 'Link Score': 0.56683284}, 1540: {'Cluster ID': 56, 'Link Score': 0.56683284}, 27441: {'Cluster ID': 57, 'Link Score': 0.56662166}, 1465: {'Cluster ID': 57, 'Link Score': 0.56662166}, 12357: {'Cluster ID': 58, 'Link Score': 0.56565887}, 1591: {'Cluster ID': 58, 'Link Score': 0.56565887}, 38567: {'Cluster ID': 59, 'Link Score': 0.5640212}, 1053: {'Cluster ID': 59, 'Link Score': 0.5640212}, 27765: {'Cluster ID': 60, 'Link Score': 0.562996}, 120: {'Cluster ID': 60, 'Link Score': 0.562996}, 29276: {'Cluster ID': 61, 'Link Score': 0.56268007}, 809: {'Cluster ID': 61, 'Link Score': 0.56268007}, 207: {'Cluster ID': 322, 'Link Score': 0.24647672}, 1253: {'Cluster ID': 62, 'Link Score': 0.5618949}, 13235: {'Cluster ID': 63, 'Link Score': 0.56065065}, 1133: {'Cluster ID': 63, 'Link Score': 0.56065065}, 35463: {'Cluster ID': 64, 'Link Score': 0.56044424}, 769: {'Cluster ID': 64, 'Link Score': 0.56044424}, 37357: {'Cluster ID': 65, 'Link Score': 0.55963576}, 585: {'Cluster ID': 65, 'Link Score': 0.55963576}, 25589: {'Cluster ID': 66, 'Link Score': 0.55905056}, 699: {'Cluster ID': 66, 'Link Score': 0.55905056}, 11720: {'Cluster ID': 67, 'Link Score': 0.5587499}, 1362: {'Cluster ID': 67, 'Link Score': 0.5587499}, 43421: {'Cluster ID': 68, 'Link Score': 0.5587499}, 527: {'Cluster ID': 68, 'Link Score': 0.5587499}, 29383: {'Cluster ID': 69, 'Link Score': 0.5586389}, 735: {'Cluster ID': 69, 'Link Score': 0.5586389}, 23502: {'Cluster ID': 70, 'Link Score': 0.5564511}, 1562: {'Cluster ID': 70, 'Link Score': 0.5564511}, 20494: {'Cluster ID': 71, 'Link Score': 0.5540944}, 1173: {'Cluster ID': 71, 'Link Score': 0.5540944}, 35927: {'Cluster ID': 72, 'Link Score': 0.5535025}, 933: {'Cluster ID': 72, 'Link Score': 0.5535025}, 26210: {'Cluster ID': 73, 'Link Score': 0.55340165}, 1340: {'Cluster ID': 73, 'Link Score': 0.55340165}, 7557: {'Cluster ID': 74, 'Link Score': 0.5520055}, 806: {'Cluster ID': 74, 'Link Score': 0.5520055}, 19229: {'Cluster ID': 75, 'Link Score': 0.5515432}, 1374: {'Cluster ID': 75, 'Link Score': 0.5515432}, 7977: {'Cluster ID': 76, 'Link Score': 0.55109787}, 502: {'Cluster ID': 76, 'Link Score': 0.55109787}, 33264: {'Cluster ID': 77, 'Link Score': 0.5487363}, 1382: {'Cluster ID': 77, 'Link Score': 0.5487363}, 2606: {'Cluster ID': 78, 'Link Score': 0.5487363}, 1154: {'Cluster ID': 78, 'Link Score': 0.5487363}, 248: {'Cluster ID': 79, 'Link Score': 0.54778194}, 1424: {'Cluster ID': 79, 'Link Score': 0.54778194}, 12346: {'Cluster ID': 80, 'Link Score': 0.54765743}, 776: {'Cluster ID': 80, 'Link Score': 0.54765743}, 23827: {'Cluster ID': 81, 'Link Score': 0.5466681}, 195: {'Cluster ID': 81, 'Link Score': 0.5466681}, 42046: {'Cluster ID': 82, 'Link Score': 0.5442218}, 1124: {'Cluster ID': 82, 'Link Score': 0.5442218}, 14904: {'Cluster ID': 83, 'Link Score': 0.5423947}, 1267: {'Cluster ID': 83, 'Link Score': 0.5423947}, 11719: {'Cluster ID': 84, 'Link Score': 0.5416388}, 804: {'Cluster ID': 84, 'Link Score': 0.5416388}, 13239: {'Cluster ID': 85, 'Link Score': 0.5414144}, 1446: {'Cluster ID': 85, 'Link Score': 0.5414144}, 40441: {'Cluster ID': 86, 'Link Score': 0.5397001}, 1205: {'Cluster ID': 86, 'Link Score': 0.5397001}, 7984: {'Cluster ID': 87, 'Link Score': 0.5389352}, 1139: {'Cluster ID': 87, 'Link Score': 0.5389352}, 34774: {'Cluster ID': 88, 'Link Score': 0.5386689}, 1494: {'Cluster ID': 88, 'Link Score': 0.5386689}, 19278: {'Cluster ID': 89, 'Link Score': 0.53768826}, 1418: {'Cluster ID': 89, 'Link Score': 0.53768826}, 31195: {'Cluster ID': 90, 'Link Score': 0.5375417}, 799: {'Cluster ID': 90, 'Link Score': 0.5375417}, 37894: {'Cluster ID': 91, 'Link Score': 0.5330998}, 154: {'Cluster ID': 91, 'Link Score': 0.5330998}, 37052: {'Cluster ID': 92, 'Link Score': 0.5323324}, 385: {'Cluster ID': 92, 'Link Score': 0.5323324}, 11266: {'Cluster ID': 93, 'Link Score': 0.5311102}, 758: {'Cluster ID': 93, 'Link Score': 0.5311102}, 25164: {'Cluster ID': 94, 'Link Score': 0.5308416}, 1288: {'Cluster ID': 94, 'Link Score': 0.5308416}, 33861: {'Cluster ID': 95, 'Link Score': 0.52904207}, 986: {'Cluster ID': 95, 'Link Score': 0.52904207}, 24002: {'Cluster ID': 96, 'Link Score': 0.5277397}, 1514: {'Cluster ID': 96, 'Link Score': 0.5277397}, 28125: {'Cluster ID': 97, 'Link Score': 0.5268739}, 1228: {'Cluster ID': 97, 'Link Score': 0.5268739}, 23850: {'Cluster ID': 98, 'Link Score': 0.5238273}, 598: {'Cluster ID': 98, 'Link Score': 0.5238273}, 18250: {'Cluster ID': 99, 'Link Score': 0.5232956}, 1114: {'Cluster ID': 99, 'Link Score': 0.5232956}, 17051: {'Cluster ID': 100, 'Link Score': 0.52155507}, 917: {'Cluster ID': 100, 'Link Score': 0.52155507}, 43547: {'Cluster ID': 101, 'Link Score': 0.52155507}, 768: {'Cluster ID': 101, 'Link Score': 0.52155507}, 25947: {'Cluster ID': 102, 'Link Score': 0.5207378}, 1583: {'Cluster ID': 102, 'Link Score': 0.5207378}, 15377: {'Cluster ID': 103, 'Link Score': 0.5202563}, 3: {'Cluster ID': 103, 'Link Score': 0.5202563}, 28128: {'Cluster ID': 104, 'Link Score': 0.5199387}, 1289: {'Cluster ID': 104, 'Link Score': 0.5199387}, 24232: {'Cluster ID': 105, 'Link Score': 0.5181451}, 1159: {'Cluster ID': 105, 'Link Score': 0.5181451}, 24696: {'Cluster ID': 106, 'Link Score': 0.51736575}, 1546: {'Cluster ID': 106, 'Link Score': 0.51736575}, 32604: {'Cluster ID': 107, 'Link Score': 0.5166144}, 431: {'Cluster ID': 107, 'Link Score': 0.5166144}, 31369: {'Cluster ID': 108, 'Link Score': 0.5139921}, 950: {'Cluster ID': 108, 'Link Score': 0.5139921}, 20420: {'Cluster ID': 109, 'Link Score': 0.51352894}, 555: {'Cluster ID': 109, 'Link Score': 0.51352894}, 23838: {'Cluster ID': 110, 'Link Score': 0.51352894}, 517: {'Cluster ID': 110, 'Link Score': 0.51352894}, 6204: {'Cluster ID': 111, 'Link Score': 0.5129}, 367: {'Cluster ID': 111, 'Link Score': 0.5129}, 558: {'Cluster ID': 112, 'Link Score': 0.51276445}, 1119: {'Cluster ID': 112, 'Link Score': 0.51276445}, 34240: {'Cluster ID': 113, 'Link Score': 0.51119643}, 549: {'Cluster ID': 113, 'Link Score': 0.51119643}, 7502: {'Cluster ID': 114, 'Link Score': 0.5105584}, 1642: {'Cluster ID': 114, 'Link Score': 0.5105584}, 28979: {'Cluster ID': 115, 'Link Score': 0.5095016}, 1470: {'Cluster ID': 115, 'Link Score': 0.5095016}, 27752: {'Cluster ID': 116, 'Link Score': 0.50942373}, 518: {'Cluster ID': 116, 'Link Score': 0.50942373}, 28121: {'Cluster ID': 117, 'Link Score': 0.50578856}, 1537: {'Cluster ID': 117, 'Link Score': 0.50578856}, 19437: {'Cluster ID': 118, 'Link Score': 0.5053901}, 873: {'Cluster ID': 118, 'Link Score': 0.5053901}, 42996: {'Cluster ID': 119, 'Link Score': 0.50249016}, 1136: {'Cluster ID': 119, 'Link Score': 0.50249016}, 20552: {'Cluster ID': 120, 'Link Score': 0.50229394}, 657: {'Cluster ID': 120, 'Link Score': 0.50229394}, 9542: {'Cluster ID': 121, 'Link Score': 0.50143564}, 1639: {'Cluster ID': 121, 'Link Score': 0.50143564}, 20935: {'Cluster ID': 122, 'Link Score': 0.5013813}, 552: {'Cluster ID': 122, 'Link Score': 0.5013813}, 32094: {'Cluster ID': 123, 'Link Score': 0.5008355}, 805: {'Cluster ID': 123, 'Link Score': 0.5008355}, 12342: {'Cluster ID': 124, 'Link Score': 0.4981808}, 1584: {'Cluster ID': 124, 'Link Score': 0.4981808}, 15239: {'Cluster ID': 125, 'Link Score': 0.49698868}, 287: {'Cluster ID': 125, 'Link Score': 0.49698868}, 10119: {'Cluster ID': 126, 'Link Score': 0.4965974}, 68: {'Cluster ID': 126, 'Link Score': 0.4965974}, 43954: {'Cluster ID': 127, 'Link Score': 0.49616283}, 1440: {'Cluster ID': 127, 'Link Score': 0.49616283}, 35959: {'Cluster ID': 128, 'Link Score': 0.49447045}, 611: {'Cluster ID': 128, 'Link Score': 0.49447045}, 16595: {'Cluster ID': 129, 'Link Score': 0.49379027}, 695: {'Cluster ID': 129, 'Link Score': 0.49379027}, 4269: {'Cluster ID': 130, 'Link Score': 0.490831}, 498: {'Cluster ID': 130, 'Link Score': 0.490831}, 23363: {'Cluster ID': 131, 'Link Score': 0.49076074}, 680: {'Cluster ID': 131, 'Link Score': 0.49076074}, 36126: {'Cluster ID': 132, 'Link Score': 0.49076074}, 841: {'Cluster ID': 132, 'Link Score': 0.49076074}, 25234: {'Cluster ID': 133, 'Link Score': 0.4846754}, 1521: {'Cluster ID': 133, 'Link Score': 0.4846754}, 20526: {'Cluster ID': 134, 'Link Score': 0.48248413}, 868: {'Cluster ID': 134, 'Link Score': 0.48248413}, 27367: {'Cluster ID': 135, 'Link Score': 0.4741015}, 497: {'Cluster ID': 135, 'Link Score': 0.4741015}, 2609: {'Cluster ID': 136, 'Link Score': 0.47224817}, 1263: {'Cluster ID': 136, 'Link Score': 0.47224817}, 36417: {'Cluster ID': 137, 'Link Score': 0.47011524}, 1144: {'Cluster ID': 137, 'Link Score': 0.47011524}, 3468: {'Cluster ID': 138, 'Link Score': 0.46673793}, 380: {'Cluster ID': 138, 'Link Score': 0.46673793}, 24302: {'Cluster ID': 139, 'Link Score': 0.4663578}, 1283: {'Cluster ID': 139, 'Link Score': 0.4663578}, 32210: {'Cluster ID': 140, 'Link Score': 0.4662324}, 913: {'Cluster ID': 140, 'Link Score': 0.4662324}, 25079: {'Cluster ID': 141, 'Link Score': 0.4626909}, 1062: {'Cluster ID': 141, 'Link Score': 0.4626909}, 5472: {'Cluster ID': 142, 'Link Score': 0.46250135}, 1447: {'Cluster ID': 142, 'Link Score': 0.46250135}, 27813: {'Cluster ID': 143, 'Link Score': 0.46020466}, 889: {'Cluster ID': 143, 'Link Score': 0.46020466}, 24747: {'Cluster ID': 144, 'Link Score': 0.45973393}, 786: {'Cluster ID': 144, 'Link Score': 0.45973393}, 40062: {'Cluster ID': 145, 'Link Score': 0.4573372}, 1394: {'Cluster ID': 145, 'Link Score': 0.4573372}, 44510: {'Cluster ID': 146, 'Link Score': 0.45461208}, 400: {'Cluster ID': 146, 'Link Score': 0.45461208}, 29270: {'Cluster ID': 147, 'Link Score': 0.4541649}, 309: {'Cluster ID': 147, 'Link Score': 0.4541649}, 28160: {'Cluster ID': 148, 'Link Score': 0.45410925}, 1564: {'Cluster ID': 148, 'Link Score': 0.45410925}, 15999: {'Cluster ID': 149, 'Link Score': 0.45247194}, 339: {'Cluster ID': 149, 'Link Score': 0.45247194}, 37054: {'Cluster ID': 150, 'Link Score': 0.44833535}, 1507: {'Cluster ID': 150, 'Link Score': 0.44833535}, 5: {'Cluster ID': 253, 'Link Score': 0.31373665}, 1405: {'Cluster ID': 151, 'Link Score': 0.44388443}, 29303: {'Cluster ID': 152, 'Link Score': 0.4412727}, 1333: {'Cluster ID': 152, 'Link Score': 0.4412727}, 7648: {'Cluster ID': 153, 'Link Score': 0.44072428}, 642: {'Cluster ID': 153, 'Link Score': 0.44072428}, 25312: {'Cluster ID': 154, 'Link Score': 0.43789756}, 923: {'Cluster ID': 154, 'Link Score': 0.43789756}, 16533: {'Cluster ID': 155, 'Link Score': 0.4374211}, 203: {'Cluster ID': 373, 'Link Score': 0.17497222}, 21337: {'Cluster ID': 156, 'Link Score': 0.4374211}, 749: {'Cluster ID': 156, 'Link Score': 0.4374211}, 16391: {'Cluster ID': 157, 'Link Score': 0.43335354}, 1487: {'Cluster ID': 157, 'Link Score': 0.43335354}, 35079: {'Cluster ID': 158, 'Link Score': 0.43242544}, 751: {'Cluster ID': 158, 'Link Score': 0.43242544}, 45072: {'Cluster ID': 159, 'Link Score': 0.43175647}, 19: {'Cluster ID': 159, 'Link Score': 0.43175647}, 958: {'Cluster ID': 349, 'Link Score': 0.21088362}, 572: {'Cluster ID': 160, 'Link Score': 0.4311366}, 33751: {'Cluster ID': 161, 'Link Score': 0.42940828}, 113: {'Cluster ID': 161, 'Link Score': 0.42940828}, 21432: {'Cluster ID': 162, 'Link Score': 0.4270964}, 1121: {'Cluster ID': 162, 'Link Score': 0.4270964}, 36725: {'Cluster ID': 163, 'Link Score': 0.4267661}, 956: {'Cluster ID': 163, 'Link Score': 0.4267661}, 35118: {'Cluster ID': 164, 'Link Score': 0.4247479}, 1141: {'Cluster ID': 164, 'Link Score': 0.4247479}, 2154: {'Cluster ID': 165, 'Link Score': 0.4242484}, 596: {'Cluster ID': 165, 'Link Score': 0.4242484}, 17369: {'Cluster ID': 166, 'Link Score': 0.4227509}, 1157: {'Cluster ID': 166, 'Link Score': 0.4227509}, 2716: {'Cluster ID': 167, 'Link Score': 0.42221043}, 715: {'Cluster ID': 167, 'Link Score': 0.42221043}, 31634: {'Cluster ID': 168, 'Link Score': 0.42215225}, 1493: {'Cluster ID': 168, 'Link Score': 0.42215225}, 7960: {'Cluster ID': 169, 'Link Score': 0.42188194}, 1461: {'Cluster ID': 169, 'Link Score': 0.42188194}, 32652: {'Cluster ID': 170, 'Link Score': 0.4194678}, 1600: {'Cluster ID': 170, 'Link Score': 0.4194678}, 23417: {'Cluster ID': 171, 'Link Score': 0.41715994}, 215: {'Cluster ID': 171, 'Link Score': 0.41715994}, 41303: {'Cluster ID': 172, 'Link Score': 0.41577107}, 984: {'Cluster ID': 172, 'Link Score': 0.41577107}, 4469: {'Cluster ID': 173, 'Link Score': 0.41458875}, 1443: {'Cluster ID': 173, 'Link Score': 0.41458875}, 27056: {'Cluster ID': 174, 'Link Score': 0.41170815}, 1158: {'Cluster ID': 174, 'Link Score': 0.41170815}, 14745: {'Cluster ID': 175, 'Link Score': 0.4113479}, 615: {'Cluster ID': 175, 'Link Score': 0.4113479}, 21856: {'Cluster ID': 176, 'Link Score': 0.4095301}, 1348: {'Cluster ID': 176, 'Link Score': 0.4095301}, 13946: {'Cluster ID': 177, 'Link Score': 0.40926388}, 817: {'Cluster ID': 177, 'Link Score': 0.40926388}, 43049: {'Cluster ID': 178, 'Link Score': 0.40880316}, 1423: {'Cluster ID': 178, 'Link Score': 0.40880316}, 30813: {'Cluster ID': 179, 'Link Score': 0.40726164}, 1389: {'Cluster ID': 179, 'Link Score': 0.40726164}, 23784: {'Cluster ID': 180, 'Link Score': 0.40721595}, 556: {'Cluster ID': 180, 'Link Score': 0.40721595}, 13622: {'Cluster ID': 181, 'Link Score': 0.4063627}, 0: {'Cluster ID': 181, 'Link Score': 0.4063627}, 3689: {'Cluster ID': 182, 'Link Score': 0.40523013}, 1019: {'Cluster ID': 182, 'Link Score': 0.40523013}, 4762: {'Cluster ID': 183, 'Link Score': 0.40414447}, 812: {'Cluster ID': 183, 'Link Score': 0.40414447}, 30605: {'Cluster ID': 184, 'Link Score': 0.40356365}, 1526: {'Cluster ID': 184, 'Link Score': 0.40356365}, 16277: {'Cluster ID': 185, 'Link Score': 0.40326476}, 811: {'Cluster ID': 185, 'Link Score': 0.40326476}, 32262: {'Cluster ID': 186, 'Link Score': 0.40301794}, 490: {'Cluster ID': 186, 'Link Score': 0.40301794}, 40317: {'Cluster ID': 187, 'Link Score': 0.4024822}, 1436: {'Cluster ID': 187, 'Link Score': 0.4024822}, 4327: {'Cluster ID': 188, 'Link Score': 0.4017806}, 640: {'Cluster ID': 188, 'Link Score': 0.4017806}, 26582: {'Cluster ID': 189, 'Link Score': 0.3981095}, 311: {'Cluster ID': 189, 'Link Score': 0.3981095}, 60: {'Cluster ID': 190, 'Link Score': 0.3976495}, 1377: {'Cluster ID': 190, 'Link Score': 0.3976495}, 4667: {'Cluster ID': 191, 'Link Score': 0.3950598}, 1015: {'Cluster ID': 191, 'Link Score': 0.3950598}, 4881: {'Cluster ID': 192, 'Link Score': 0.39344242}, 1296: {'Cluster ID': 192, 'Link Score': 0.39344242}, 15882: {'Cluster ID': 193, 'Link Score': 0.39326856}, 1328: {'Cluster ID': 193, 'Link Score': 0.39326856}, 39718: {'Cluster ID': 194, 'Link Score': 0.39271817}, 1240: {'Cluster ID': 194, 'Link Score': 0.39271817}, 18265: {'Cluster ID': 195, 'Link Score': 0.39216742}, 532: {'Cluster ID': 195, 'Link Score': 0.39216742}, 5796: {'Cluster ID': 196, 'Link Score': 0.39211318}, 217: {'Cluster ID': 196, 'Link Score': 0.39211318}, 14944: {'Cluster ID': 197, 'Link Score': 0.3915842}, 1220: {'Cluster ID': 197, 'Link Score': 0.3915842}, 33481: {'Cluster ID': 198, 'Link Score': 0.39138228}, 1573: {'Cluster ID': 198, 'Link Score': 0.39138228}, 9123: {'Cluster ID': 199, 'Link Score': 0.388185}, 1302: {'Cluster ID': 199, 'Link Score': 0.388185}, 24294: {'Cluster ID': 200, 'Link Score': 0.38791087}, 998: {'Cluster ID': 200, 'Link Score': 0.38791087}, 36315: {'Cluster ID': 201, 'Link Score': 0.38762116}, 633: {'Cluster ID': 201, 'Link Score': 0.38762116}, 24268: {'Cluster ID': 202, 'Link Score': 0.38624611}, 49: {'Cluster ID': 202, 'Link Score': 0.38624611}, 29152: {'Cluster ID': 203, 'Link Score': 0.38620913}, 1222: {'Cluster ID': 203, 'Link Score': 0.38620913}, 32555: {'Cluster ID': 204, 'Link Score': 0.38599315}, 1422: {'Cluster ID': 204, 'Link Score': 0.38599315}, 20843: {'Cluster ID': 205, 'Link Score': 0.3850525}, 1070: {'Cluster ID': 205, 'Link Score': 0.3850525}, 5852: {'Cluster ID': 206, 'Link Score': 0.38443205}, 1057: {'Cluster ID': 206, 'Link Score': 0.38443205}, 8770: {'Cluster ID': 207, 'Link Score': 0.38323334}, 1601: {'Cluster ID': 207, 'Link Score': 0.38323334}, 25163: {'Cluster ID': 208, 'Link Score': 0.38297546}, 1432: {'Cluster ID': 208, 'Link Score': 0.38297546}, 36221: {'Cluster ID': 209, 'Link Score': 0.38140702}, 1297: {'Cluster ID': 209, 'Link Score': 0.38140702}, 12044: {'Cluster ID': 210, 'Link Score': 0.37475756}, 1634: {'Cluster ID': 210, 'Link Score': 0.37475756}, 42576: {'Cluster ID': 211, 'Link Score': 0.37298414}, 496: {'Cluster ID': 211, 'Link Score': 0.37298414}, 29257: {'Cluster ID': 212, 'Link Score': 0.37284324}, 1498: {'Cluster ID': 212, 'Link Score': 0.37284324}, 39388: {'Cluster ID': 213, 'Link Score': 0.37267593}, 1543: {'Cluster ID': 421, 'Link Score': 0.1118875}, 32511: {'Cluster ID': 214, 'Link Score': 0.37186903}, 1417: {'Cluster ID': 214, 'Link Score': 0.37186903}, 41443: {'Cluster ID': 215, 'Link Score': 0.3709859}, 54: {'Cluster ID': 215, 'Link Score': 0.3709859}, 14231: {'Cluster ID': 216, 'Link Score': 0.37004954}, 1243: {'Cluster ID': 216, 'Link Score': 0.37004954}, 21015: {'Cluster ID': 217, 'Link Score': 0.3692463}, 1272: {'Cluster ID': 217, 'Link Score': 0.3692463}, 31960: {'Cluster ID': 218, 'Link Score': 0.3692103}, 1184: {'Cluster ID': 218, 'Link Score': 0.3692103}, 31146: {'Cluster ID': 219, 'Link Score': 0.36853728}, 1384: {'Cluster ID': 219, 'Link Score': 0.36853728}, 3560: {'Cluster ID': 220, 'Link Score': 0.36820918}, 1528: {'Cluster ID': 220, 'Link Score': 0.36820918}, 40591: {'Cluster ID': 221, 'Link Score': 0.36820918}, 362: {'Cluster ID': 221, 'Link Score': 0.36820918}, 39398: {'Cluster ID': 222, 'Link Score': 0.36545682}, 1523: {'Cluster ID': 222, 'Link Score': 0.36545682}, 28184: {'Cluster ID': 223, 'Link Score': 0.36313987}, 137: {'Cluster ID': 223, 'Link Score': 0.36313987}, 31046: {'Cluster ID': 224, 'Link Score': 0.3611378}, 1555: {'Cluster ID': 224, 'Link Score': 0.3611378}, 21150: {'Cluster ID': 225, 'Link Score': 0.360922}, 847: {'Cluster ID': 225, 'Link Score': 0.360922}, 14994: {'Cluster ID': 226, 'Link Score': 0.35955712}, 925: {'Cluster ID': 226, 'Link Score': 0.35955712}, 45734: {'Cluster ID': 227, 'Link Score': 0.3570259}, 1162: {'Cluster ID': 227, 'Link Score': 0.3570259}, 34097: {'Cluster ID': 228, 'Link Score': 0.355313}, 237: {'Cluster ID': 228, 'Link Score': 0.355313}, 1304: {'Cluster ID': 230, 'Link Score': 0.35212955}, 1315: {'Cluster ID': 229, 'Link Score': 0.3529925}, 546: {'Cluster ID': 230, 'Link Score': 0.35212955}, 24238: {'Cluster ID': 231, 'Link Score': 0.34954646}, 1320: {'Cluster ID': 231, 'Link Score': 0.34954646}, 8645: {'Cluster ID': 232, 'Link Score': 0.3491427}, 365: {'Cluster ID': 232, 'Link Score': 0.3491427}, 21317: {'Cluster ID': 233, 'Link Score': 0.34864655}, 624: {'Cluster ID': 233, 'Link Score': 0.34864655}, 9491: {'Cluster ID': 234, 'Link Score': 0.34773037}, 1239: {'Cluster ID': 234, 'Link Score': 0.34773037}, 30774: {'Cluster ID': 235, 'Link Score': 0.34714794}, 1393: {'Cluster ID': 235, 'Link Score': 0.34714794}, 8907: {'Cluster ID': 236, 'Link Score': 0.34221107}, 150: {'Cluster ID': 236, 'Link Score': 0.34221107}, 18146: {'Cluster ID': 237, 'Link Score': 0.34205538}, 1196: {'Cluster ID': 237, 'Link Score': 0.34205538}, 23485: {'Cluster ID': 238, 'Link Score': 0.3391598}, 1156: {'Cluster ID': 238, 'Link Score': 0.3391598}, 3670: {'Cluster ID': 239, 'Link Score': 0.33679652}, 1324: {'Cluster ID': 239, 'Link Score': 0.33679652}, 27004: {'Cluster ID': 240, 'Link Score': 0.33320066}, 375: {'Cluster ID': 240, 'Link Score': 0.33320066}, 29858: {'Cluster ID': 241, 'Link Score': 0.33312753}, 1398: {'Cluster ID': 241, 'Link Score': 0.33312753}, 14145: {'Cluster ID': 242, 'Link Score': 0.33212674}, 514: {'Cluster ID': 242, 'Link Score': 0.33212674}, 30260: {'Cluster ID': 243, 'Link Score': 0.33169475}, 1386: {'Cluster ID': 243, 'Link Score': 0.33169475}, 12939: {'Cluster ID': 244, 'Link Score': 0.33133197}, 1503: {'Cluster ID': 244, 'Link Score': 0.33133197}, 28500: {'Cluster ID': 245, 'Link Score': 0.3309549}, 1198: {'Cluster ID': 245, 'Link Score': 0.3309549}, 17695: {'Cluster ID': 246, 'Link Score': 0.32800385}, 999: {'Cluster ID': 246, 'Link Score': 0.32800385}, 38577: {'Cluster ID': 247, 'Link Score': 0.32587785}, 1175: {'Cluster ID': 247, 'Link Score': 0.32587785}, 34780: {'Cluster ID': 248, 'Link Score': 0.32545716}, 1606: {'Cluster ID': 248, 'Link Score': 0.32545716}, 27672: {'Cluster ID': 249, 'Link Score': 0.32357222}, 1249: {'Cluster ID': 249, 'Link Score': 0.32357222}, 34257: {'Cluster ID': 250, 'Link Score': 0.32333037}, 1468: {'Cluster ID': 250, 'Link Score': 0.32333037}, 25475: {'Cluster ID': 251, 'Link Score': 0.32285705}, 859: {'Cluster ID': 251, 'Link Score': 0.32285705}, 25567: {'Cluster ID': 252, 'Link Score': 0.32194802}, 669: {'Cluster ID': 252, 'Link Score': 0.32194802}, 39493: {'Cluster ID': 253, 'Link Score': 0.31373665}, 18812: {'Cluster ID': 254, 'Link Score': 0.31363907}, 1612: {'Cluster ID': 254, 'Link Score': 0.31363907}, 13195: {'Cluster ID': 255, 'Link Score': 0.31345475}, 89: {'Cluster ID': 255, 'Link Score': 0.31345475}, 10610: {'Cluster ID': 256, 'Link Score': 0.3120568}, 8704: {'Cluster ID': 257, 'Link Score': 0.31187686}, 1353: {'Cluster ID': 257, 'Link Score': 0.31187686}, 22906: {'Cluster ID': 258, 'Link Score': 0.310676}, 864: {'Cluster ID': 258, 'Link Score': 0.310676}, 32940: {'Cluster ID': 259, 'Link Score': 0.30974045}, 98: {'Cluster ID': 259, 'Link Score': 0.30974045}, 13070: {'Cluster ID': 260, 'Link Score': 0.30949873}, 1265: {'Cluster ID': 260, 'Link Score': 0.30949873}, 38553: {'Cluster ID': 261, 'Link Score': 0.3086837}, 291: {'Cluster ID': 261, 'Link Score': 0.3086837}, 14778: {'Cluster ID': 262, 'Link Score': 0.3073351}, 1132: {'Cluster ID': 262, 'Link Score': 0.3073351}, 2749: {'Cluster ID': 263, 'Link Score': 0.3059096}, 1307: {'Cluster ID': 263, 'Link Score': 0.3059096}, 2789: {'Cluster ID': 264, 'Link Score': 0.30548602}, 835: {'Cluster ID': 264, 'Link Score': 0.30548602}, 41974: {'Cluster ID': 265, 'Link Score': 0.3044841}, 1376: {'Cluster ID': 265, 'Link Score': 0.3044841}, 7880: {'Cluster ID': 266, 'Link Score': 0.3030651}, 1610: {'Cluster ID': 266, 'Link Score': 0.3030651}, 21916: {'Cluster ID': 267, 'Link Score': 0.30291626}, 346: {'Cluster ID': 267, 'Link Score': 0.30291626}, 27633: {'Cluster ID': 268, 'Link Score': 0.3016032}, 1269: {'Cluster ID': 268, 'Link Score': 0.3016032}, 30672: {'Cluster ID': 269, 'Link Score': 0.29973495}, 1505: {'Cluster ID': 269, 'Link Score': 0.29973495}, 29429: {'Cluster ID': 270, 'Link Score': 0.29838106}, 957: {'Cluster ID': 270, 'Link Score': 0.29838106}, 9583: {'Cluster ID': 271, 'Link Score': 0.29800972}, 1128: {'Cluster ID': 271, 'Link Score': 0.29800972}, 10071: {'Cluster ID': 272, 'Link Score': 0.29706222}, 1262: {'Cluster ID': 272, 'Link Score': 0.29706222}, 30103: {'Cluster ID': 273, 'Link Score': 0.29645878}, 70: {'Cluster ID': 273, 'Link Score': 0.29645878}, 38585: {'Cluster ID': 274, 'Link Score': 0.29575023}, 1385: {'Cluster ID': 274, 'Link Score': 0.29575023}, 13169: {'Cluster ID': 275, 'Link Score': 0.29575023}, 1042: {'Cluster ID': 275, 'Link Score': 0.29575023}, 28635: {'Cluster ID': 276, 'Link Score': 0.29529336}, 606: {'Cluster ID': 276, 'Link Score': 0.29529336}, 13161: {'Cluster ID': 277, 'Link Score': 0.2949388}, 484: {'Cluster ID': 277, 'Link Score': 0.2949388}, 34037: {'Cluster ID': 278, 'Link Score': 0.2944024}, 1028: {'Cluster ID': 278, 'Link Score': 0.2944024}, 24859: {'Cluster ID': 279, 'Link Score': 0.29157454}, 235: {'Cluster ID': 279, 'Link Score': 0.29157454}, 5364: {'Cluster ID': 280, 'Link Score': 0.2901938}, 1233: {'Cluster ID': 280, 'Link Score': 0.2901938}, 22139: {'Cluster ID': 281, 'Link Score': 0.28963742}, 1391: {'Cluster ID': 281, 'Link Score': 0.28963742}, 1730: {'Cluster ID': 282, 'Link Score': 0.28846642}, 547: {'Cluster ID': 282, 'Link Score': 0.28846642}, 34492: {'Cluster ID': 283, 'Link Score': 0.28814295}, 537: {'Cluster ID': 283, 'Link Score': 0.28814295}, 3440: {'Cluster ID': 284, 'Link Score': 0.28796536}, 115: {'Cluster ID': 284, 'Link Score': 0.28796536}, 42624: {'Cluster ID': 285, 'Link Score': 0.28772375}, 364: {'Cluster ID': 285, 'Link Score': 0.28772375}, 23606: {'Cluster ID': 286, 'Link Score': 0.2847996}, 1172: {'Cluster ID': 286, 'Link Score': 0.2847996}, 30239: {'Cluster ID': 287, 'Link Score': 0.2845405}, 796: {'Cluster ID': 287, 'Link Score': 0.2845405}, 34772: {'Cluster ID': 288, 'Link Score': 0.2835152}, 1299: {'Cluster ID': 288, 'Link Score': 0.2835152}, 15819: {'Cluster ID': 289, 'Link Score': 0.2824471}, 1110: {'Cluster ID': 289, 'Link Score': 0.2824471}, 23369: {'Cluster ID': 290, 'Link Score': 0.28232652}, 1515: {'Cluster ID': 290, 'Link Score': 0.28232652}, 41302: {'Cluster ID': 291, 'Link Score': 0.28053203}, 1101: {'Cluster ID': 291, 'Link Score': 0.28053203}, 39892: {'Cluster ID': 292, 'Link Score': 0.27916676}, 648: {'Cluster ID': 292, 'Link Score': 0.27916676}, 32599: {'Cluster ID': 293, 'Link Score': 0.27915683}, 1025: {'Cluster ID': 293, 'Link Score': 0.27915683}, 29308: {'Cluster ID': 294, 'Link Score': 0.27772254}, 1633: {'Cluster ID': 294, 'Link Score': 0.27772254}, 27472: {'Cluster ID': 295, 'Link Score': 0.27722174}, 1364: {'Cluster ID': 295, 'Link Score': 0.27722174}, 38857: {'Cluster ID': 296, 'Link Score': 0.27527452}, 723: {'Cluster ID': 296, 'Link Score': 0.27527452}, 38272: {'Cluster ID': 297, 'Link Score': 0.27466726}, 1055: {'Cluster ID': 297, 'Link Score': 0.27466726}, 9104: {'Cluster ID': 298, 'Link Score': 0.2730878}, 565: {'Cluster ID': 298, 'Link Score': 0.2730878}, 43828: {'Cluster ID': 299, 'Link Score': 0.27030706}, 1213: {'Cluster ID': 299, 'Link Score': 0.27030706}, 9154: {'Cluster ID': 300, 'Link Score': 0.26969263}, 1624: {'Cluster ID': 300, 'Link Score': 0.26969263}, 45234: {'Cluster ID': 301, 'Link Score': 0.26797476}, 1544: {'Cluster ID': 301, 'Link Score': 0.26797476}, 2869: {'Cluster ID': 302, 'Link Score': 0.26763603}, 247: {'Cluster ID': 302, 'Link Score': 0.26763603}, 8098: {'Cluster ID': 303, 'Link Score': 0.26684335}, 1453: {'Cluster ID': 303, 'Link Score': 0.26684335}, 29481: {'Cluster ID': 304, 'Link Score': 0.26672366}, 1356: {'Cluster ID': 304, 'Link Score': 0.26672366}, 42393: {'Cluster ID': 305, 'Link Score': 0.262374}, 1478: {'Cluster ID': 305, 'Link Score': 0.262374}, 28332: {'Cluster ID': 306, 'Link Score': 0.26196828}, 1568: {'Cluster ID': 306, 'Link Score': 0.26196828}, 28560: {'Cluster ID': 307, 'Link Score': 0.25925723}, 1637: {'Cluster ID': 307, 'Link Score': 0.25925723}, 27265: {'Cluster ID': 308, 'Link Score': 0.25849694}, 1549: {'Cluster ID': 308, 'Link Score': 0.25849694}, 36585: {'Cluster ID': 309, 'Link Score': 0.25780472}, 200: {'Cluster ID': 309, 'Link Score': 0.25780472}, 35553: {'Cluster ID': 310, 'Link Score': 0.25642157}, 592: {'Cluster ID': 310, 'Link Score': 0.25642157}, 38097: {'Cluster ID': 311, 'Link Score': 0.25564358}, 1078: {'Cluster ID': 311, 'Link Score': 0.25564358}, 31372: {'Cluster ID': 312, 'Link Score': 0.25548747}, 1027: {'Cluster ID': 312, 'Link Score': 0.25548747}, 8816: {'Cluster ID': 313, 'Link Score': 0.25474954}, 650: {'Cluster ID': 313, 'Link Score': 0.25474954}, 4048: {'Cluster ID': 314, 'Link Score': 0.25320628}, 1231: {'Cluster ID': 314, 'Link Score': 0.25320628}, 41375: {'Cluster ID': 315, 'Link Score': 0.2528756}, 942: {'Cluster ID': 315, 'Link Score': 0.2528756}, 3621: {'Cluster ID': 316, 'Link Score': 0.2526945}, 949: {'Cluster ID': 316, 'Link Score': 0.2526945}, 35550: {'Cluster ID': 317, 'Link Score': 0.2523793}, 393: {'Cluster ID': 317, 'Link Score': 0.2523793}, 15998: {'Cluster ID': 318, 'Link Score': 0.25121543}, 347: {'Cluster ID': 318, 'Link Score': 0.25121543}, 11481: {'Cluster ID': 319, 'Link Score': 0.24952774}, 1264: {'Cluster ID': 319, 'Link Score': 0.24952774}, 6681: {'Cluster ID': 320, 'Link Score': 0.24727945}, 798: {'Cluster ID': 320, 'Link Score': 0.24727945}, 39776: {'Cluster ID': 321, 'Link Score': 0.24666713}, 979: {'Cluster ID': 321, 'Link Score': 0.24666713}, 44592: {'Cluster ID': 322, 'Link Score': 0.24647672}, 12505: {'Cluster ID': 323, 'Link Score': 0.24591932}, 1527: {'Cluster ID': 323, 'Link Score': 0.24591932}, 9633: {'Cluster ID': 324, 'Link Score': 0.24436249}, 1566: {'Cluster ID': 324, 'Link Score': 0.24436249}, 33111: {'Cluster ID': 325, 'Link Score': 0.2443277}, 1224: {'Cluster ID': 325, 'Link Score': 0.2443277}, 43328: {'Cluster ID': 326, 'Link Score': 0.24343416}, 560: {'Cluster ID': 326, 'Link Score': 0.24343416}, 36456: {'Cluster ID': 327, 'Link Score': 0.24339467}, 1409: {'Cluster ID': 327, 'Link Score': 0.24339467}, 18171: {'Cluster ID': 328, 'Link Score': 0.24290362}, 694: {'Cluster ID': 328, 'Link Score': 0.24290362}, 13245: {'Cluster ID': 329, 'Link Score': 0.24124727}, 33: {'Cluster ID': 329, 'Link Score': 0.24124727}, 36296: {'Cluster ID': 330, 'Link Score': 0.24088767}, 501: {'Cluster ID': 330, 'Link Score': 0.24088767}, 12345: {'Cluster ID': 331, 'Link Score': 0.23922618}, 175: {'Cluster ID': 331, 'Link Score': 0.23922618}, 4679: {'Cluster ID': 332, 'Link Score': 0.23858215}, 1217: {'Cluster ID': 332, 'Link Score': 0.23858215}, 24673: {'Cluster ID': 333, 'Link Score': 0.23475465}, 255: {'Cluster ID': 333, 'Link Score': 0.23475465}, 36459: {'Cluster ID': 334, 'Link Score': 0.23419817}, 396: {'Cluster ID': 334, 'Link Score': 0.23419817}, 41556: {'Cluster ID': 335, 'Link Score': 0.23405564}, 1214: {'Cluster ID': 335, 'Link Score': 0.23405564}, 4061: {'Cluster ID': 336, 'Link Score': 0.2316915}, 265: {'Cluster ID': 336, 'Link Score': 0.2316915}, 44135: {'Cluster ID': 337, 'Link Score': 0.23152275}, 1522: {'Cluster ID': 337, 'Link Score': 0.23152275}, 11678: {'Cluster ID': 338, 'Link Score': 0.22988099}, 1258: {'Cluster ID': 338, 'Link Score': 0.22988099}, 7525: {'Cluster ID': 339, 'Link Score': 0.22985137}, 1332: {'Cluster ID': 339, 'Link Score': 0.22985137}, 35479: {'Cluster ID': 340, 'Link Score': 0.22754307}, 411: {'Cluster ID': 340, 'Link Score': 0.22754307}, 15901: {'Cluster ID': 341, 'Link Score': 0.22386624}, 1180: {'Cluster ID': 341, 'Link Score': 0.22386624}, 34798: {'Cluster ID': 342, 'Link Score': 0.22303644}, 310: {'Cluster ID': 342, 'Link Score': 0.22303644}, 11902: {'Cluster ID': 343, 'Link Score': 0.22094321}, 292: {'Cluster ID': 343, 'Link Score': 0.22094321}, 35902: {'Cluster ID': 344, 'Link Score': 0.22068736}, 1169: {'Cluster ID': 344, 'Link Score': 0.22068736}, 5405: {'Cluster ID': 345, 'Link Score': 0.21710284}, 677: {'Cluster ID': 345, 'Link Score': 0.21710284}, 13749: {'Cluster ID': 346, 'Link Score': 0.21444681}, 48: {'Cluster ID': 346, 'Link Score': 0.21444681}, 36967: {'Cluster ID': 347, 'Link Score': 0.214129}, 191: {'Cluster ID': 347, 'Link Score': 0.214129}, 27355: {'Cluster ID': 348, 'Link Score': 0.2141155}, 1459: {'Cluster ID': 348, 'Link Score': 0.2141155}, 12361: {'Cluster ID': 349, 'Link Score': 0.21088362}, 13200: {'Cluster ID': 350, 'Link Score': 0.20804581}, 1556: {'Cluster ID': 350, 'Link Score': 0.20804581}, 21902: {'Cluster ID': 351, 'Link Score': 0.20714398}, 1024: {'Cluster ID': 351, 'Link Score': 0.20714398}, 35399: {'Cluster ID': 352, 'Link Score': 0.2066242}, 561: {'Cluster ID': 352, 'Link Score': 0.2066242}, 2804: {'Cluster ID': 353, 'Link Score': 0.20468014}, 733: {'Cluster ID': 353, 'Link Score': 0.20468014}, 31404: {'Cluster ID': 354, 'Link Score': 0.20274544}, 1512: {'Cluster ID': 354, 'Link Score': 0.20274544}, 24444: {'Cluster ID': 355, 'Link Score': 0.20170912}, 1524: {'Cluster ID': 355, 'Link Score': 0.20170912}, 35443: {'Cluster ID': 356, 'Link Score': 0.20026065}, 1301: {'Cluster ID': 356, 'Link Score': 0.20026065}, 23609: {'Cluster ID': 357, 'Link Score': 0.19909263}, 1107: {'Cluster ID': 357, 'Link Score': 0.19909263}, 14729: {'Cluster ID': 358, 'Link Score': 0.1985718}, 62: {'Cluster ID': 358, 'Link Score': 0.1985718}, 42675: {'Cluster ID': 359, 'Link Score': 0.1978906}, 746: {'Cluster ID': 359, 'Link Score': 0.1978906}, 15338: {'Cluster ID': 360, 'Link Score': 0.19588473}, 1295: {'Cluster ID': 360, 'Link Score': 0.19588473}, 40558: {'Cluster ID': 361, 'Link Score': 0.19472337}, 394: {'Cluster ID': 361, 'Link Score': 0.19472337}, 16750: {'Cluster ID': 362, 'Link Score': 0.19261242}, 1491: {'Cluster ID': 362, 'Link Score': 0.19261242}, 12665: {'Cluster ID': 363, 'Link Score': 0.19045365}, 1644: {'Cluster ID': 363, 'Link Score': 0.19045365}, 2836: {'Cluster ID': 364, 'Link Score': 0.1892572}, 132: {'Cluster ID': 364, 'Link Score': 0.1892572}, 43212: {'Cluster ID': 365, 'Link Score': 0.18821432}, 477: {'Cluster ID': 365, 'Link Score': 0.18821432}, 38877: {'Cluster ID': 366, 'Link Score': 0.18750256}, 281: {'Cluster ID': 366, 'Link Score': 0.18750256}, 6099: {'Cluster ID': 367, 'Link Score': 0.18007739}, 211: {'Cluster ID': 367, 'Link Score': 0.18007739}, 15279: {'Cluster ID': 368, 'Link Score': 0.17903797}, 1109: {'Cluster ID': 368, 'Link Score': 0.17903797}, 23813: {'Cluster ID': 369, 'Link Score': 0.1784075}, 813: {'Cluster ID': 369, 'Link Score': 0.1784075}, 25056: {'Cluster ID': 370, 'Link Score': 0.17734331}, 244: {'Cluster ID': 370, 'Link Score': 0.17734331}, 12241: {'Cluster ID': 371, 'Link Score': 0.17694978}, 937: {'Cluster ID': 371, 'Link Score': 0.17694978}, 32865: {'Cluster ID': 372, 'Link Score': 0.17584084}, 1635: {'Cluster ID': 372, 'Link Score': 0.17584084}, 1499: {'Cluster ID': 373, 'Link Score': 0.17497222}, 2553: {'Cluster ID': 374, 'Link Score': 0.17493962}, 455: {'Cluster ID': 374, 'Link Score': 0.17493962}, 7455: {'Cluster ID': 375, 'Link Score': 0.17254688}, 257: {'Cluster ID': 375, 'Link Score': 0.17254688}, 26227: {'Cluster ID': 376, 'Link Score': 0.1723983}, 69: {'Cluster ID': 376, 'Link Score': 0.1723983}, 27412: {'Cluster ID': 377, 'Link Score': 0.17137364}, 681: {'Cluster ID': 377, 'Link Score': 0.17137364}, 37460: {'Cluster ID': 378, 'Link Score': 0.17009017}, 1246: {'Cluster ID': 378, 'Link Score': 0.17009017}, 24788: {'Cluster ID': 379, 'Link Score': 0.16923483}, 221: {'Cluster ID': 379, 'Link Score': 0.16923483}, 35421: {'Cluster ID': 380, 'Link Score': 0.16817039}, 96: {'Cluster ID': 380, 'Link Score': 0.16817039}, 39467: {'Cluster ID': 381, 'Link Score': 0.16752023}, 413: {'Cluster ID': 381, 'Link Score': 0.16752023}, 9126: {'Cluster ID': 382, 'Link Score': 0.16664474}, 1563: {'Cluster ID': 382, 'Link Score': 0.16664474}, 5989: {'Cluster ID': 383, 'Link Score': 0.16537501}, 1607: {'Cluster ID': 383, 'Link Score': 0.16537501}, 29666: {'Cluster ID': 384, 'Link Score': 0.16507134}, 303: {'Cluster ID': 384, 'Link Score': 0.16507134}, 29015: {'Cluster ID': 385, 'Link Score': 0.16493955}, 422: {'Cluster ID': 385, 'Link Score': 0.16493955}, 11174: {'Cluster ID': 386, 'Link Score': 0.16487154}, 1519: {'Cluster ID': 386, 'Link Score': 0.16487154}, 32540: {'Cluster ID': 387, 'Link Score': 0.16331986}, 1251: {'Cluster ID': 387, 'Link Score': 0.16331986}, 2755: {'Cluster ID': 388, 'Link Score': 0.16149916}, 61: {'Cluster ID': 388, 'Link Score': 0.16149916}, 2301: {'Cluster ID': 389, 'Link Score': 0.16111702}, 1579: {'Cluster ID': 389, 'Link Score': 0.16111702}, 37267: {'Cluster ID': 390, 'Link Score': 0.16096883}, 613: {'Cluster ID': 390, 'Link Score': 0.16096883}, 17511: {'Cluster ID': 391, 'Link Score': 0.15920272}, 896: {'Cluster ID': 391, 'Link Score': 0.15920272}, 8082: {'Cluster ID': 392, 'Link Score': 0.15454951}, 12: {'Cluster ID': 392, 'Link Score': 0.15454951}, 38865: {'Cluster ID': 393, 'Link Score': 0.15453687}, 160: {'Cluster ID': 393, 'Link Score': 0.15453687}, 6008: {'Cluster ID': 394, 'Link Score': 0.1535956}, 1292: {'Cluster ID': 394, 'Link Score': 0.1535956}, 20575: {'Cluster ID': 395, 'Link Score': 0.15343082}, 147: {'Cluster ID': 395, 'Link Score': 0.15343082}, 39139: {'Cluster ID': 396, 'Link Score': 0.15284024}, 73: {'Cluster ID': 396, 'Link Score': 0.15284024}, 38752: {'Cluster ID': 397, 'Link Score': 0.1528237}, 64: {'Cluster ID': 397, 'Link Score': 0.1528237}, 7566: {'Cluster ID': 398, 'Link Score': 0.15168054}, 1061: {'Cluster ID': 398, 'Link Score': 0.15168054}, 5804: {'Cluster ID': 399, 'Link Score': 0.14981103}, 1118: {'Cluster ID': 399, 'Link Score': 0.14981103}, 36078: {'Cluster ID': 400, 'Link Score': 0.14973375}, 936: {'Cluster ID': 400, 'Link Score': 0.14973375}, 857: {'Cluster ID': 401, 'Link Score': 0.14933594}, 159: {'Cluster ID': 401, 'Link Score': 0.14933594}, 11986: {'Cluster ID': 402, 'Link Score': 0.14745599}, 1143: {'Cluster ID': 402, 'Link Score': 0.14745599}, 42976: {'Cluster ID': 403, 'Link Score': 0.14505586}, 315: {'Cluster ID': 403, 'Link Score': 0.14505586}, 1784: {'Cluster ID': 404, 'Link Score': 0.14396223}, 795: {'Cluster ID': 404, 'Link Score': 0.14396223}, 20895: {'Cluster ID': 405, 'Link Score': 0.14042032}, 1059: {'Cluster ID': 405, 'Link Score': 0.14042032}, 42407: {'Cluster ID': 406, 'Link Score': 0.1402814}, 1074: {'Cluster ID': 406, 'Link Score': 0.1402814}, 40691: {'Cluster ID': 407, 'Link Score': 0.13651317}, 1485: {'Cluster ID': 407, 'Link Score': 0.13651317}, 43893: {'Cluster ID': 408, 'Link Score': 0.13627805}, 1648: {'Cluster ID': 408, 'Link Score': 0.13627805}, 11694: {'Cluster ID': 409, 'Link Score': 0.1358881}, 1420: {'Cluster ID': 409, 'Link Score': 0.1358881}, 15007: {'Cluster ID': 410, 'Link Score': 0.13033362}, 1474: {'Cluster ID': 410, 'Link Score': 0.13033362}, 27023: {'Cluster ID': 411, 'Link Score': 0.12928692}, 649: {'Cluster ID': 411, 'Link Score': 0.12928692}, 37365: {'Cluster ID': 412, 'Link Score': 0.12763639}, 216: {'Cluster ID': 412, 'Link Score': 0.12763639}, 16347: {'Cluster ID': 413, 'Link Score': 0.12714511}, 1444: {'Cluster ID': 413, 'Link Score': 0.12714511}, 12703: {'Cluster ID': 414, 'Link Score': 0.124486685}, 869: {'Cluster ID': 414, 'Link Score': 0.124486685}, 32406: {'Cluster ID': 415, 'Link Score': 0.12387609}, 1064: {'Cluster ID': 415, 'Link Score': 0.12387609}, 45458: {'Cluster ID': 416, 'Link Score': 0.12177709}, 94: {'Cluster ID': 416, 'Link Score': 0.12177709}, 19268: {'Cluster ID': 417, 'Link Score': 0.120778725}, 1647: {'Cluster ID': 417, 'Link Score': 0.120778725}, 29865: {'Cluster ID': 418, 'Link Score': 0.12065597}, 1241: {'Cluster ID': 418, 'Link Score': 0.12065597}, 20149: {'Cluster ID': 419, 'Link Score': 0.11889562}, 931: {'Cluster ID': 419, 'Link Score': 0.11889562}, 11637: {'Cluster ID': 420, 'Link Score': 0.11831377}, 543: {'Cluster ID': 420, 'Link Score': 0.11831377}, 1586: {'Cluster ID': 421, 'Link Score': 0.1118875}, 22918: {'Cluster ID': 422, 'Link Score': 0.10989461}, 1215: {'Cluster ID': 422, 'Link Score': 0.10989461}, 23740: {'Cluster ID': 423, 'Link Score': 0.10766039}, 260: {'Cluster ID': 423, 'Link Score': 0.10766039}, 2454: {'Cluster ID': 424, 'Link Score': 0.10762955}, 1547: {'Cluster ID': 424, 'Link Score': 0.10762955}, 16586: {'Cluster ID': 425, 'Link Score': 0.10726798}, 482: {'Cluster ID': 425, 'Link Score': 0.10726798}, 27618: {'Cluster ID': 426, 'Link Score': 0.10447335}, 15: {'Cluster ID': 426, 'Link Score': 0.10447335}, 7121: {'Cluster ID': 427, 'Link Score': 0.1006122}, 1211: {'Cluster ID': 427, 'Link Score': 0.1006122}, 34467: {'Cluster ID': 428, 'Link Score': 0.09861417}, 1115: {'Cluster ID': 428, 'Link Score': 0.09861417}, 26118: {'Cluster ID': 429, 'Link Score': 0.09765758}, 1533: {'Cluster ID': 429, 'Link Score': 0.09765758}, 14767: {'Cluster ID': 430, 'Link Score': 0.09575599}, 176: {'Cluster ID': 430, 'Link Score': 0.09575599}, 23075: {'Cluster ID': 431, 'Link Score': 0.09531055}, 843: {'Cluster ID': 431, 'Link Score': 0.09531055}, 20547: {'Cluster ID': 432, 'Link Score': 0.09461756}, 863: {'Cluster ID': 432, 'Link Score': 0.09461756}, 29999: {'Cluster ID': 433, 'Link Score': 0.09304657}, 1511: {'Cluster ID': 433, 'Link Score': 0.09304657}, 32905: {'Cluster ID': 434, 'Link Score': 0.089351974}, 909: {'Cluster ID': 434, 'Link Score': 0.089351974}, 41519: {'Cluster ID': 435, 'Link Score': 0.08766818}, 288: {'Cluster ID': 435, 'Link Score': 0.08766818}, 24042: {'Cluster ID': 436, 'Link Score': 0.086381756}, 1305: {'Cluster ID': 436, 'Link Score': 0.086381756}, 11441: {'Cluster ID': 437, 'Link Score': 0.08608994}, 307: {'Cluster ID': 437, 'Link Score': 0.08608994}, 5191: {'Cluster ID': 438, 'Link Score': 0.08487143}, 243: {'Cluster ID': 438, 'Link Score': 0.08487143}, 5103: {'Cluster ID': 439, 'Link Score': 0.08315523}, 1339: {'Cluster ID': 439, 'Link Score': 0.08315523}, 25059: {'Cluster ID': 440, 'Link Score': 0.08042003}, 1002: {'Cluster ID': 440, 'Link Score': 0.08042003}, 41911: {'Cluster ID': 441, 'Link Score': 0.08027629}, 887: {'Cluster ID': 441, 'Link Score': 0.08027629}, 32311: {'Cluster ID': 442, 'Link Score': 0.07899726}, 1104: {'Cluster ID': 442, 'Link Score': 0.07899726}, 2364: {'Cluster ID': 443, 'Link Score': 0.068652175}, 236: {'Cluster ID': 443, 'Link Score': 0.068652175}, 45447: {'Cluster ID': 444, 'Link Score': 0.06767516}, 1279: {'Cluster ID': 444, 'Link Score': 0.06767516}, 40793: {'Cluster ID': 445, 'Link Score': 0.057514325}, 1137: {'Cluster ID': 445, 'Link Score': 0.057514325}, 20542: {'Cluster ID': 446, 'Link Score': 0.050646227}, 1548: {'Cluster ID': 446, 'Link Score': 0.050646227}, 3514: {'Cluster ID': 447, 'Link Score': 0.045665774}, 1330: {'Cluster ID': 447, 'Link Score': 0.045665774}, 18172: {'Cluster ID': 448, 'Link Score': 0.044464063}, 696: {'Cluster ID': 448, 'Link Score': 0.044464063}, 15320: {'Cluster ID': 449, 'Link Score': 0.03676751}, 118: {'Cluster ID': 449, 'Link Score': 0.03676751}, 41288: {'Cluster ID': 450, 'Link Score': 0.019652354}, 334: {'Cluster ID': 450, 'Link Score': 0.019652354}, 45601: {'Cluster ID': 451, 'Link Score': 0.01730145}, 822: {'Cluster ID': 451, 'Link Score': 0.01730145}}\n"
     ]
    }
   ],
   "source": [
    "# ## Blocking\n",
    "\n",
    "# ## Clustering\n",
    "\n",
    "# Find the threshold that will maximize a weighted average of our\n",
    "# precision and recall.  When we set the recall weight to 2, we are\n",
    "# saying we care twice as much about recall as we do precision.\n",
    "#\n",
    "# If we had more data, we would not pass in all the blocked data into\n",
    "# this function but a representative sample.\n",
    "\n",
    "print('clustering...')\n",
    "linked_records = linker.join(data1_dict, data2_dict, 0.0)\n",
    "\n",
    "print('# duplicate sets', len(linked_records))\n",
    "# ## Writing Results\n",
    "\n",
    "# Write our original data back out to a CSV with a new column called\n",
    "# 'Cluster ID' which indicates which records refer to each other.\n",
    "\n",
    "cluster_membership2 = {}\n",
    "for cluster_id, (cluster, score) in enumerate(linked_records):\n",
    "    for record_id in cluster:\n",
    "        cluster_membership2[record_id] = {'Cluster ID': cluster_id,\n",
    "                                         'Link Score': score}\n",
    "print(cluster_membership2)\n",
    "\n",
    "\n",
    "\n",
    "\n",
    "#     with open(output_file, 'w') as f:\n",
    "\n",
    "#         header_unwritten = True\n",
    "\n",
    "#         for fileno, filename in enumerate((left_file, right_file)):\n",
    "#             with open(filename) as f_input:\n",
    "#                 reader = csv.DictReader(f_input)\n",
    "\n",
    "#                 if header_unwritten:\n",
    "\n",
    "                #fieldnames = (['Cluster ID', 'Link Score', 'source file'] +\n",
    "   #                           reader.fieldnames)\n",
    "#\n",
    "#                     writer = csv.DictWriter(f, fieldnames=fieldnames)\n",
    "#                     writer.writeheader()\n",
    "\n",
    "#                     header_unwritten = False\n",
    "\n",
    "#                 for row_id, row in enumerate(reader):\n",
    "\n",
    "#                     record_id = filename + str(row_id)\n",
    "#                     cluster_details = cluster_membership.get(record_id, {})\n",
    "#                     row['source file'] = fileno\n",
    "#                     row.update(cluster_details)\n",
    "\n",
    "#                     writer.writerow(row)"
   ]
  },
  {
   "cell_type": "code",
   "execution_count": 40,
   "id": "97a91092-3fda-48db-addf-d6c881e3bc39",
   "metadata": {},
   "outputs": [
    {
     "data": {
      "text/plain": [
       "897"
      ]
     },
     "execution_count": 40,
     "metadata": {},
     "output_type": "execute_result"
    }
   ],
   "source": [
    "len(cluster_membership2)"
   ]
  },
  {
   "cell_type": "code",
   "execution_count": 94,
   "id": "5ce20c2e-74ef-4d9c-b3a8-909db9eb1075",
   "metadata": {},
   "outputs": [],
   "source": [
    "cluster_d = {}\n",
    "i = 0\n",
    "for k, v in cluster_membership2.items():\n",
    "#     print(k,v['Cluster ID'])\n",
    "    cluster_id = v['Cluster ID']\n",
    "    keys = cluster_d.get(cluster_id, [])\n",
    "    keys.append(k)\n",
    "    cluster_d[cluster_id] = keys\n",
    "    i+=1\n",
    "    if i >=1000:\n",
    "        break\n",
    "# print(cluster_d)"
   ]
  },
  {
   "cell_type": "code",
   "execution_count": 93,
   "id": "d9ec3c2b-64c1-498d-b885-3827a2910865",
   "metadata": {},
   "outputs": [],
   "source": [
    "df_vb['assignee_id'] = \"\"\n",
    "df_vb['organization'] = \"\"\n",
    "for k, v in cluster_d.items():\n",
    "#     print(k)\n",
    "#     print(df_patent_org.iloc[v[0]]['assignee_id'])\n",
    "    try:\n",
    "        df_vb.at[v[1], 'assignee_id'] = df_patent_org.iloc[v[0]]['assignee_id']\n",
    "        df_vb.at[v[1], 'organization'] = df_patent_org.iloc[v[0]]['organization']\n",
    "    except:\n",
    "        pass\n"
   ]
  },
  {
   "cell_type": "code",
   "execution_count": 91,
   "id": "0b8bb77d-5be5-4072-b631-990f10d91281",
   "metadata": {},
   "outputs": [],
   "source": [
    "df_vb.dropna(inplace=True)\n",
    "df_vb_patent = df_vb[df_vb['assignee_id'] != \"\"]"
   ]
  },
  {
   "cell_type": "code",
   "execution_count": 92,
   "id": "6e619a12-a13e-4f3d-a5f5-b664cfd251aa",
   "metadata": {},
   "outputs": [
    {
     "data": {
      "text/html": [
       "<div>\n",
       "<style scoped>\n",
       "    .dataframe tbody tr th:only-of-type {\n",
       "        vertical-align: middle;\n",
       "    }\n",
       "\n",
       "    .dataframe tbody tr th {\n",
       "        vertical-align: top;\n",
       "    }\n",
       "\n",
       "    .dataframe thead th {\n",
       "        text-align: right;\n",
       "    }\n",
       "</style>\n",
       "<table border=\"1\" class=\"dataframe\">\n",
       "  <thead>\n",
       "    <tr style=\"text-align: right;\">\n",
       "      <th></th>\n",
       "      <th>Date</th>\n",
       "      <th>Header</th>\n",
       "      <th>Abstract</th>\n",
       "      <th>Clean_Funding</th>\n",
       "      <th>Topics</th>\n",
       "      <th>Company</th>\n",
       "      <th>assignee_id</th>\n",
       "      <th>organization</th>\n",
       "    </tr>\n",
       "  </thead>\n",
       "  <tbody>\n",
       "    <tr>\n",
       "      <th>0</th>\n",
       "      <td>2021-12-05</td>\n",
       "      <td>Sense raises $50M to bolster recruitment effor...</td>\n",
       "      <td>Recruiting is a top concern for enterprises in...</td>\n",
       "      <td>50000000.0</td>\n",
       "      <td>['job candidate', 'Candidates', 'candidates']</td>\n",
       "      <td>Sense raises $50M to bolster recruitment effor...</td>\n",
       "      <td>b0c02ce9-3761-4171-a6ce-6b1e8c95fda2</td>\n",
       "      <td>Sensera Inc.</td>\n",
       "    </tr>\n",
       "    <tr>\n",
       "      <th>3</th>\n",
       "      <td>2021-12-02</td>\n",
       "      <td>Digital Insulin Management Company Hygieia Clo...</td>\n",
       "      <td>LIVONIA, Mich.–(BUSINESS WIRE)–December 2, 202...</td>\n",
       "      <td>17000000.0</td>\n",
       "      <td>['insulin management', 'insulin therapy', 'ins...</td>\n",
       "      <td>Digital Insulin Management Company Hygieia Clo...</td>\n",
       "      <td>c3795cf3-5530-4b77-9f57-1642a79b029b</td>\n",
       "      <td>Digital Doc LLC</td>\n",
       "    </tr>\n",
       "    <tr>\n",
       "      <th>12</th>\n",
       "      <td>2021-11-22</td>\n",
       "      <td>IoT anomaly detection startup Shield-IoT lands...</td>\n",
       "      <td>Shield-IoT , a provider of AI-driven security ...</td>\n",
       "      <td>7400000.0</td>\n",
       "      <td>['IoT networks', 'Solomon', 'Udi Solomon']</td>\n",
       "      <td>IoT anomaly detection startup Shield-IoT lands...</td>\n",
       "      <td>ef871799-fcda-4ccd-91a1-39cf473a811c</td>\n",
       "      <td>IoT Holdings, Inc.</td>\n",
       "    </tr>\n",
       "    <tr>\n",
       "      <th>15</th>\n",
       "      <td>2021-11-18</td>\n",
       "      <td>Engineering software startup nTopology lands $65M</td>\n",
       "      <td>NTopology , a company that develops software u...</td>\n",
       "      <td>65000000.0</td>\n",
       "      <td>['new product designs', 'different design soft...</td>\n",
       "      <td>Engineering software startup nTopology lands $65M</td>\n",
       "      <td>f00b159e-a652-4959-af9c-268737b4692b</td>\n",
       "      <td>Engineered Supply L.L.C.</td>\n",
       "    </tr>\n",
       "    <tr>\n",
       "      <th>19</th>\n",
       "      <td>2021-11-17</td>\n",
       "      <td>Stellar Cyber raises $38M to provide 360-degre...</td>\n",
       "      <td>Stellar Cyber, the innovator of Open XDR, has ...</td>\n",
       "      <td>38000000.0</td>\n",
       "      <td>['endpoint security solutions', 'better securi...</td>\n",
       "      <td>Stellar Cyber raises $38M to provide 360-degre...</td>\n",
       "      <td>5e528075-10a1-418a-ad7d-f8866e17cb2c</td>\n",
       "      <td>Stellar Biome Inc.</td>\n",
       "    </tr>\n",
       "    <tr>\n",
       "      <th>...</th>\n",
       "      <td>...</td>\n",
       "      <td>...</td>\n",
       "      <td>...</td>\n",
       "      <td>...</td>\n",
       "      <td>...</td>\n",
       "      <td>...</td>\n",
       "      <td>...</td>\n",
       "      <td>...</td>\n",
       "    </tr>\n",
       "    <tr>\n",
       "      <th>1640</th>\n",
       "      <td>2014-11-02</td>\n",
       "      <td>Jonathan Rothberg's Butterfly Network has rais...</td>\n",
       "      <td>Noted biosciences entrepreneur Jonathan Rothbe...</td>\n",
       "      <td>100000000.0</td>\n",
       "      <td>['4Combinator companies', 'Jonathan Rothberg',...</td>\n",
       "      <td>Jonathan Rothberg's Butterfly Network has rais...</td>\n",
       "      <td>d3c92046-a18b-4441-bd3f-f020e0a9b0cb</td>\n",
       "      <td>Jonathan LEVY</td>\n",
       "    </tr>\n",
       "    <tr>\n",
       "      <th>1642</th>\n",
       "      <td>2014-07-21</td>\n",
       "      <td>Mobile messaging platform Tango hires game pub...</td>\n",
       "      <td>Tango  wants everyone to know it is serious ab...</td>\n",
       "      <td>25000000.0</td>\n",
       "      <td>['Game developers', 'game developers', 'mobile...</td>\n",
       "      <td>Mobile messaging platform Tango hires game pub...</td>\n",
       "      <td>ce001d86-16e7-4fb6-8b53-191e60313d46</td>\n",
       "      <td>Mobile Tech, Inc.</td>\n",
       "    </tr>\n",
       "    <tr>\n",
       "      <th>1644</th>\n",
       "      <td>2013-06-20</td>\n",
       "      <td>Tempo AI secures $10M to advance its productiv...</td>\n",
       "      <td>Tempo AI , a startup focused on increasing pro...</td>\n",
       "      <td>10000000.0</td>\n",
       "      <td>['Eniac Ventures', 'Qualcomm Ventures', 'Horiz...</td>\n",
       "      <td>Tempo AI secures $10M to advance its productiv...</td>\n",
       "      <td>bd509861-c985-4fb1-a9f6-eed4bbee38fd</td>\n",
       "      <td>Tempo Manufacturing LLC</td>\n",
       "    </tr>\n",
       "    <tr>\n",
       "      <th>1647</th>\n",
       "      <td>2012-06-28</td>\n",
       "      <td>Online ad player Rocket Fuel gains $50M fundin...</td>\n",
       "      <td>Rocket Fuel, a four-year-old  ad technology fi...</td>\n",
       "      <td>50000000.0</td>\n",
       "      <td>['Nokia Growth Capital', 'advertising opportun...</td>\n",
       "      <td>Online ad player Rocket Fuel gains $50M fundin...</td>\n",
       "      <td>37a30269-4c5e-4b8e-b262-63421a6c2abe</td>\n",
       "      <td>Online Development, Inc.</td>\n",
       "    </tr>\n",
       "    <tr>\n",
       "      <th>1648</th>\n",
       "      <td>2010-09-21</td>\n",
       "      <td>Ad optimizer Rocket Fuel lifts off with $10M f...</td>\n",
       "      <td>Rocket Fuel , a startup claiming to bring hone...</td>\n",
       "      <td>10000000.0</td>\n",
       "      <td>['Rocket Fuel', 'Nokia Growth Partners', 'ad o...</td>\n",
       "      <td>Ad optimizer Rocket Fuel lifts off with $10M f...</td>\n",
       "      <td>7f47bb8b-c4f2-420b-a3e0-3775a31c4453</td>\n",
       "      <td>Ad Lightning, Inc.</td>\n",
       "    </tr>\n",
       "  </tbody>\n",
       "</table>\n",
       "<p>441 rows × 8 columns</p>\n",
       "</div>"
      ],
      "text/plain": [
       "            Date                                             Header  \\\n",
       "0     2021-12-05  Sense raises $50M to bolster recruitment effor...   \n",
       "3     2021-12-02  Digital Insulin Management Company Hygieia Clo...   \n",
       "12    2021-11-22  IoT anomaly detection startup Shield-IoT lands...   \n",
       "15    2021-11-18  Engineering software startup nTopology lands $65M   \n",
       "19    2021-11-17  Stellar Cyber raises $38M to provide 360-degre...   \n",
       "...          ...                                                ...   \n",
       "1640  2014-11-02  Jonathan Rothberg's Butterfly Network has rais...   \n",
       "1642  2014-07-21  Mobile messaging platform Tango hires game pub...   \n",
       "1644  2013-06-20  Tempo AI secures $10M to advance its productiv...   \n",
       "1647  2012-06-28  Online ad player Rocket Fuel gains $50M fundin...   \n",
       "1648  2010-09-21  Ad optimizer Rocket Fuel lifts off with $10M f...   \n",
       "\n",
       "                                               Abstract  Clean_Funding  \\\n",
       "0     Recruiting is a top concern for enterprises in...     50000000.0   \n",
       "3     LIVONIA, Mich.–(BUSINESS WIRE)–December 2, 202...     17000000.0   \n",
       "12    Shield-IoT , a provider of AI-driven security ...      7400000.0   \n",
       "15    NTopology , a company that develops software u...     65000000.0   \n",
       "19    Stellar Cyber, the innovator of Open XDR, has ...     38000000.0   \n",
       "...                                                 ...            ...   \n",
       "1640  Noted biosciences entrepreneur Jonathan Rothbe...    100000000.0   \n",
       "1642  Tango  wants everyone to know it is serious ab...     25000000.0   \n",
       "1644  Tempo AI , a startup focused on increasing pro...     10000000.0   \n",
       "1647  Rocket Fuel, a four-year-old  ad technology fi...     50000000.0   \n",
       "1648  Rocket Fuel , a startup claiming to bring hone...     10000000.0   \n",
       "\n",
       "                                                 Topics  \\\n",
       "0         ['job candidate', 'Candidates', 'candidates']   \n",
       "3     ['insulin management', 'insulin therapy', 'ins...   \n",
       "12           ['IoT networks', 'Solomon', 'Udi Solomon']   \n",
       "15    ['new product designs', 'different design soft...   \n",
       "19    ['endpoint security solutions', 'better securi...   \n",
       "...                                                 ...   \n",
       "1640  ['4Combinator companies', 'Jonathan Rothberg',...   \n",
       "1642  ['Game developers', 'game developers', 'mobile...   \n",
       "1644  ['Eniac Ventures', 'Qualcomm Ventures', 'Horiz...   \n",
       "1647  ['Nokia Growth Capital', 'advertising opportun...   \n",
       "1648  ['Rocket Fuel', 'Nokia Growth Partners', 'ad o...   \n",
       "\n",
       "                                                Company  \\\n",
       "0     Sense raises $50M to bolster recruitment effor...   \n",
       "3     Digital Insulin Management Company Hygieia Clo...   \n",
       "12    IoT anomaly detection startup Shield-IoT lands...   \n",
       "15    Engineering software startup nTopology lands $65M   \n",
       "19    Stellar Cyber raises $38M to provide 360-degre...   \n",
       "...                                                 ...   \n",
       "1640  Jonathan Rothberg's Butterfly Network has rais...   \n",
       "1642  Mobile messaging platform Tango hires game pub...   \n",
       "1644  Tempo AI secures $10M to advance its productiv...   \n",
       "1647  Online ad player Rocket Fuel gains $50M fundin...   \n",
       "1648  Ad optimizer Rocket Fuel lifts off with $10M f...   \n",
       "\n",
       "                               assignee_id              organization  \n",
       "0     b0c02ce9-3761-4171-a6ce-6b1e8c95fda2              Sensera Inc.  \n",
       "3     c3795cf3-5530-4b77-9f57-1642a79b029b           Digital Doc LLC  \n",
       "12    ef871799-fcda-4ccd-91a1-39cf473a811c        IoT Holdings, Inc.  \n",
       "15    f00b159e-a652-4959-af9c-268737b4692b  Engineered Supply L.L.C.  \n",
       "19    5e528075-10a1-418a-ad7d-f8866e17cb2c        Stellar Biome Inc.  \n",
       "...                                    ...                       ...  \n",
       "1640  d3c92046-a18b-4441-bd3f-f020e0a9b0cb             Jonathan LEVY  \n",
       "1642  ce001d86-16e7-4fb6-8b53-191e60313d46         Mobile Tech, Inc.  \n",
       "1644  bd509861-c985-4fb1-a9f6-eed4bbee38fd   Tempo Manufacturing LLC  \n",
       "1647  37a30269-4c5e-4b8e-b262-63421a6c2abe  Online Development, Inc.  \n",
       "1648  7f47bb8b-c4f2-420b-a3e0-3775a31c4453        Ad Lightning, Inc.  \n",
       "\n",
       "[441 rows x 8 columns]"
      ]
     },
     "execution_count": 92,
     "metadata": {},
     "output_type": "execute_result"
    }
   ],
   "source": [
    "df_vb_patent"
   ]
  },
  {
   "cell_type": "code",
   "execution_count": 95,
   "id": "a2e2dd34-29c8-4d23-8ff6-1f5377f5b42c",
   "metadata": {},
   "outputs": [],
   "source": [
    "df_vb_patent.to_csv('df_vb_patent.csv', index=False)"
   ]
  },
  {
   "cell_type": "code",
   "execution_count": 153,
   "id": "a028df99-5e02-4a6b-8715-ecebd5d1dc9d",
   "metadata": {},
   "outputs": [],
   "source": [
    " #pip install pandas-dedupe"
   ]
  },
  {
   "cell_type": "code",
   "execution_count": 154,
   "id": "fbd4c046-dbbf-43bb-a046-a8649542384a",
   "metadata": {},
   "outputs": [],
   "source": [
    "#import pandas_dedupe"
   ]
  },
  {
   "cell_type": "code",
   "execution_count": null,
   "id": "c9061733-5a6f-42d5-8f05-21731e207940",
   "metadata": {},
   "outputs": [],
   "source": [
    "\n",
    "# #initiate matching\n",
    "# df_final = pandas_dedupe.link_dataframes(data1[:1000], data2[:1000], ['Company'])\n",
    "\n",
    "# #send output to csv\n",
    "# df_final.to_csv('linkage_output.csv')"
   ]
  },
  {
   "cell_type": "code",
   "execution_count": null,
   "id": "946a674c-7952-40e8-aebb-d54b5fc8cbaa",
   "metadata": {},
   "outputs": [],
   "source": []
  },
  {
   "cell_type": "code",
   "execution_count": null,
   "id": "eb260446-8309-43a5-b06f-ba0683858d5d",
   "metadata": {},
   "outputs": [],
   "source": []
  }
 ],
 "metadata": {
  "kernelspec": {
   "display_name": "Python 3",
   "language": "python",
   "name": "python3"
  },
  "language_info": {
   "codemirror_mode": {
    "name": "ipython",
    "version": 3
   },
   "file_extension": ".py",
   "mimetype": "text/x-python",
   "name": "python",
   "nbconvert_exporter": "python",
   "pygments_lexer": "ipython3",
   "version": "3.7.0"
  }
 },
 "nbformat": 4,
 "nbformat_minor": 5
}
